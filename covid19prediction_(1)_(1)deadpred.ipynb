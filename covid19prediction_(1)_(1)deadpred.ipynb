{
  "nbformat": 4,
  "nbformat_minor": 0,
  "metadata": {
    "colab": {
      "name": "covid19prediction_(1)_(1)deadpred.ipynb",
      "provenance": [],
      "collapsed_sections": []
    },
    "kernelspec": {
      "name": "python3",
      "display_name": "Python 3"
    },
    "language_info": {
      "name": "python"
    }
  },
  "cells": [
    {
      "cell_type": "code",
      "metadata": {
        "colab": {
          "base_uri": "https://localhost:8080/"
        },
        "id": "ZkrBFDi18wvk",
        "outputId": "717d5427-cefb-45f9-bf77-62d327747c99"
      },
      "source": [
        "import warnings\n",
        "warnings.filterwarnings('ignore')\n",
        "import pandas as pd\n",
        "import matplotlib.pyplot as plt\n",
        "import seaborn as sns\n",
        "#!pip install plotly\n",
        "import plotly.express as px\n",
        "import plotly.graph_objects as go\n",
        "from plotly.subplots import make_subplots\n",
        "import numpy as np\n",
        "import datetime as dt\n",
        "from datetime import timedelta\n",
        "from sklearn.model_selection import GridSearchCV\n",
        "from sklearn.preprocessing import StandardScaler\n",
        "from sklearn.cluster import KMeans\n",
        "from sklearn.metrics import silhouette_score,silhouette_samples\n",
        "from sklearn.linear_model import LinearRegression,Ridge,Lasso\n",
        "from sklearn.svm import SVR\n",
        "from sklearn.metrics import mean_squared_error,r2_score\n",
        "import statsmodels.api as sm\n",
        "from statsmodels.tsa.api import Holt,SimpleExpSmoothing,ExponentialSmoothing\n",
        "from fbprophet import Prophet\n",
        "from sklearn.preprocessing import PolynomialFeatures\n",
        "from statsmodels.tsa.stattools import adfuller\n",
        "!pip install pmdarima\n",
        "!pip install pyramid\n",
        "from pmdarima import auto_arima\n",
        "std=StandardScaler()\n",
        "#pd.set_option('display.float_format', lambda x: '%.6f' % x)"
      ],
      "execution_count": 284,
      "outputs": [
        {
          "output_type": "stream",
          "name": "stdout",
          "text": [
            "Requirement already satisfied: pmdarima in /usr/local/lib/python3.7/dist-packages (1.8.3)\n",
            "Requirement already satisfied: joblib>=0.11 in /usr/local/lib/python3.7/dist-packages (from pmdarima) (1.0.1)\n",
            "Requirement already satisfied: scikit-learn>=0.22 in /usr/local/lib/python3.7/dist-packages (from pmdarima) (0.22.2.post1)\n",
            "Requirement already satisfied: pandas>=0.19 in /usr/local/lib/python3.7/dist-packages (from pmdarima) (1.1.5)\n",
            "Requirement already satisfied: Cython!=0.29.18,>=0.29 in /usr/local/lib/python3.7/dist-packages (from pmdarima) (0.29.24)\n",
            "Requirement already satisfied: statsmodels!=0.12.0,>=0.11 in /usr/local/lib/python3.7/dist-packages (from pmdarima) (0.13.0)\n",
            "Requirement already satisfied: setuptools!=50.0.0,>=38.6.0 in /usr/local/lib/python3.7/dist-packages (from pmdarima) (57.4.0)\n",
            "Requirement already satisfied: scipy>=1.3.2 in /usr/local/lib/python3.7/dist-packages (from pmdarima) (1.4.1)\n",
            "Requirement already satisfied: numpy>=1.19.3 in /usr/local/lib/python3.7/dist-packages (from pmdarima) (1.19.5)\n",
            "Requirement already satisfied: urllib3 in /usr/local/lib/python3.7/dist-packages (from pmdarima) (1.24.3)\n",
            "Requirement already satisfied: pytz>=2017.2 in /usr/local/lib/python3.7/dist-packages (from pandas>=0.19->pmdarima) (2018.9)\n",
            "Requirement already satisfied: python-dateutil>=2.7.3 in /usr/local/lib/python3.7/dist-packages (from pandas>=0.19->pmdarima) (2.8.2)\n",
            "Requirement already satisfied: six>=1.5 in /usr/local/lib/python3.7/dist-packages (from python-dateutil>=2.7.3->pandas>=0.19->pmdarima) (1.15.0)\n",
            "Requirement already satisfied: patsy>=0.5.2 in /usr/local/lib/python3.7/dist-packages (from statsmodels!=0.12.0,>=0.11->pmdarima) (0.5.2)\n",
            "Requirement already satisfied: pyramid in /usr/local/lib/python3.7/dist-packages (2.0)\n",
            "Requirement already satisfied: webob>=1.8.3 in /usr/local/lib/python3.7/dist-packages (from pyramid) (1.8.7)\n",
            "Requirement already satisfied: zope.deprecation>=3.5.0 in /usr/local/lib/python3.7/dist-packages (from pyramid) (4.4.0)\n",
            "Requirement already satisfied: zope.interface>=3.8.0 in /usr/local/lib/python3.7/dist-packages (from pyramid) (5.4.0)\n",
            "Requirement already satisfied: plaster in /usr/local/lib/python3.7/dist-packages (from pyramid) (1.0)\n",
            "Requirement already satisfied: translationstring>=0.4 in /usr/local/lib/python3.7/dist-packages (from pyramid) (1.4)\n",
            "Requirement already satisfied: plaster-pastedeploy in /usr/local/lib/python3.7/dist-packages (from pyramid) (0.7)\n",
            "Requirement already satisfied: hupper>=1.5 in /usr/local/lib/python3.7/dist-packages (from pyramid) (1.10.3)\n",
            "Requirement already satisfied: venusian>=1.0 in /usr/local/lib/python3.7/dist-packages (from pyramid) (3.0.0)\n",
            "Requirement already satisfied: setuptools in /usr/local/lib/python3.7/dist-packages (from pyramid) (57.4.0)\n",
            "Requirement already satisfied: PasteDeploy>=2.0 in /usr/local/lib/python3.7/dist-packages (from plaster-pastedeploy->pyramid) (2.1.1)\n"
          ]
        }
      ]
    },
    {
      "cell_type": "code",
      "metadata": {
        "colab": {
          "base_uri": "https://localhost:8080/",
          "height": 343
        },
        "id": "Ugtwm0Sy9qKl",
        "outputId": "ddca24dc-828e-4f2a-8001-35c72105c8e1"
      },
      "source": [
        "covid=pd.read_csv(\"/content/TAMILNADU (2).csv\")\n",
        "covid.head()"
      ],
      "execution_count": 285,
      "outputs": [
        {
          "output_type": "execute_result",
          "data": {
            "text/html": [
              "<div>\n",
              "<style scoped>\n",
              "    .dataframe tbody tr th:only-of-type {\n",
              "        vertical-align: middle;\n",
              "    }\n",
              "\n",
              "    .dataframe tbody tr th {\n",
              "        vertical-align: top;\n",
              "    }\n",
              "\n",
              "    .dataframe thead th {\n",
              "        text-align: right;\n",
              "    }\n",
              "</style>\n",
              "<table border=\"1\" class=\"dataframe\">\n",
              "  <thead>\n",
              "    <tr style=\"text-align: right;\">\n",
              "      <th></th>\n",
              "      <th>date</th>\n",
              "      <th>state</th>\n",
              "      <th>confirmed</th>\n",
              "      <th>new conf</th>\n",
              "      <th>% of infected</th>\n",
              "      <th>recovered</th>\n",
              "      <th>new rec</th>\n",
              "      <th>% of rec</th>\n",
              "      <th>dead</th>\n",
              "      <th>new dead</th>\n",
              "      <th>% of dead</th>\n",
              "      <th>other</th>\n",
              "      <th>tested</th>\n",
              "      <th>% of tested</th>\n",
              "      <th>first dose</th>\n",
              "      <th>second dose</th>\n",
              "      <th>% of first dose</th>\n",
              "      <th>% of second dose</th>\n",
              "    </tr>\n",
              "  </thead>\n",
              "  <tbody>\n",
              "    <tr>\n",
              "      <th>0</th>\n",
              "      <td>4/1/2021</td>\n",
              "      <td>Tamil Nadu</td>\n",
              "      <td>889490</td>\n",
              "      <td>2817</td>\n",
              "      <td>1.128794</td>\n",
              "      <td>859709</td>\n",
              "      <td>1634</td>\n",
              "      <td>96.651902</td>\n",
              "      <td>12738</td>\n",
              "      <td>19</td>\n",
              "      <td>1.432057</td>\n",
              "      <td>0</td>\n",
              "      <td>19681244</td>\n",
              "      <td>24.976198</td>\n",
              "      <td>2835444</td>\n",
              "      <td>279179</td>\n",
              "      <td>3.598279</td>\n",
              "      <td>0.354288</td>\n",
              "    </tr>\n",
              "    <tr>\n",
              "      <th>1</th>\n",
              "      <td>4/2/2021</td>\n",
              "      <td>Tamil Nadu</td>\n",
              "      <td>892780</td>\n",
              "      <td>3290</td>\n",
              "      <td>1.132970</td>\n",
              "      <td>861424</td>\n",
              "      <td>1715</td>\n",
              "      <td>96.487825</td>\n",
              "      <td>12750</td>\n",
              "      <td>12</td>\n",
              "      <td>1.428123</td>\n",
              "      <td>0</td>\n",
              "      <td>19767310</td>\n",
              "      <td>25.085419</td>\n",
              "      <td>2829190</td>\n",
              "      <td>272288</td>\n",
              "      <td>3.590343</td>\n",
              "      <td>0.345543</td>\n",
              "    </tr>\n",
              "    <tr>\n",
              "      <th>2</th>\n",
              "      <td>4/3/2021</td>\n",
              "      <td>Tamil Nadu</td>\n",
              "      <td>896226</td>\n",
              "      <td>3446</td>\n",
              "      <td>1.137343</td>\n",
              "      <td>863258</td>\n",
              "      <td>1834</td>\n",
              "      <td>96.321464</td>\n",
              "      <td>12764</td>\n",
              "      <td>14</td>\n",
              "      <td>1.424194</td>\n",
              "      <td>0</td>\n",
              "      <td>19849388</td>\n",
              "      <td>25.189579</td>\n",
              "      <td>2871776</td>\n",
              "      <td>279902</td>\n",
              "      <td>3.644386</td>\n",
              "      <td>0.355206</td>\n",
              "    </tr>\n",
              "    <tr>\n",
              "      <th>3</th>\n",
              "      <td>4/4/2021</td>\n",
              "      <td>Tamil Nadu</td>\n",
              "      <td>899807</td>\n",
              "      <td>3581</td>\n",
              "      <td>1.141887</td>\n",
              "      <td>865071</td>\n",
              "      <td>1813</td>\n",
              "      <td>96.139617</td>\n",
              "      <td>12778</td>\n",
              "      <td>14</td>\n",
              "      <td>1.420082</td>\n",
              "      <td>0</td>\n",
              "      <td>19932179</td>\n",
              "      <td>25.294643</td>\n",
              "      <td>2901208</td>\n",
              "      <td>285389</td>\n",
              "      <td>3.681736</td>\n",
              "      <td>0.362169</td>\n",
              "    </tr>\n",
              "    <tr>\n",
              "      <th>4</th>\n",
              "      <td>4/5/2021</td>\n",
              "      <td>Tamil Nadu</td>\n",
              "      <td>903479</td>\n",
              "      <td>3672</td>\n",
              "      <td>1.146547</td>\n",
              "      <td>866913</td>\n",
              "      <td>1842</td>\n",
              "      <td>95.952756</td>\n",
              "      <td>12789</td>\n",
              "      <td>11</td>\n",
              "      <td>1.415528</td>\n",
              "      <td>0</td>\n",
              "      <td>20012235</td>\n",
              "      <td>25.396237</td>\n",
              "      <td>2907580</td>\n",
              "      <td>298198</td>\n",
              "      <td>3.689822</td>\n",
              "      <td>0.378424</td>\n",
              "    </tr>\n",
              "  </tbody>\n",
              "</table>\n",
              "</div>"
            ],
            "text/plain": [
              "       date       state  ...  % of first dose  % of second dose\n",
              "0  4/1/2021  Tamil Nadu  ...         3.598279          0.354288\n",
              "1  4/2/2021  Tamil Nadu  ...         3.590343          0.345543\n",
              "2  4/3/2021  Tamil Nadu  ...         3.644386          0.355206\n",
              "3  4/4/2021  Tamil Nadu  ...         3.681736          0.362169\n",
              "4  4/5/2021  Tamil Nadu  ...         3.689822          0.378424\n",
              "\n",
              "[5 rows x 18 columns]"
            ]
          },
          "metadata": {},
          "execution_count": 285
        }
      ]
    },
    {
      "cell_type": "code",
      "metadata": {
        "colab": {
          "base_uri": "https://localhost:8080/"
        },
        "id": "ZsH7uM7o983V",
        "outputId": "d57b30a7-0c74-455c-95d8-88ee4e2c2cac"
      },
      "source": [
        "print(\"Size/Shape of the dataset: \",covid.shape)\n",
        "print(\"Checking for null values:\\n\",covid.isnull().sum())\n",
        "print(\"Checking Data-type of each column:\\n\",covid.dtypes)"
      ],
      "execution_count": 286,
      "outputs": [
        {
          "output_type": "stream",
          "name": "stdout",
          "text": [
            "Size/Shape of the dataset:  (183, 18)\n",
            "Checking for null values:\n",
            " date                0\n",
            "state               0\n",
            "confirmed           0\n",
            "new conf            0\n",
            "% of infected       0\n",
            "recovered           0\n",
            "new rec             0\n",
            "% of rec            0\n",
            "dead                0\n",
            "new dead            0\n",
            "% of dead           0\n",
            "other               0\n",
            "tested              0\n",
            "% of tested         0\n",
            "first dose          0\n",
            "second dose         0\n",
            "% of first dose     0\n",
            "% of second dose    0\n",
            "dtype: int64\n",
            "Checking Data-type of each column:\n",
            " date                 object\n",
            "state                object\n",
            "confirmed             int64\n",
            "new conf              int64\n",
            "% of infected       float64\n",
            "recovered             int64\n",
            "new rec               int64\n",
            "% of rec            float64\n",
            "dead                  int64\n",
            "new dead              int64\n",
            "% of dead           float64\n",
            "other                 int64\n",
            "tested                int64\n",
            "% of tested         float64\n",
            "first dose            int64\n",
            "second dose           int64\n",
            "% of first dose     float64\n",
            "% of second dose    float64\n",
            "dtype: object\n"
          ]
        }
      ]
    },
    {
      "cell_type": "code",
      "metadata": {
        "id": "sAbKnzI5-y8l"
      },
      "source": [
        "covid[\"date\"]=pd.to_datetime(covid[\"date\"])"
      ],
      "execution_count": 287,
      "outputs": []
    },
    {
      "cell_type": "code",
      "metadata": {
        "colab": {
          "base_uri": "https://localhost:8080/",
          "height": 450
        },
        "id": "7gWcYee2_ETU",
        "outputId": "68707117-cfcc-4268-c997-f09164e78967"
      },
      "source": [
        "grouped=covid.groupby([\"state\",\"date\"]).agg({\"confirmed\":'sum',\"recovered\":'sum',\"dead\":'sum'})\n",
        "grouped"
      ],
      "execution_count": 288,
      "outputs": [
        {
          "output_type": "execute_result",
          "data": {
            "text/html": [
              "<div>\n",
              "<style scoped>\n",
              "    .dataframe tbody tr th:only-of-type {\n",
              "        vertical-align: middle;\n",
              "    }\n",
              "\n",
              "    .dataframe tbody tr th {\n",
              "        vertical-align: top;\n",
              "    }\n",
              "\n",
              "    .dataframe thead th {\n",
              "        text-align: right;\n",
              "    }\n",
              "</style>\n",
              "<table border=\"1\" class=\"dataframe\">\n",
              "  <thead>\n",
              "    <tr style=\"text-align: right;\">\n",
              "      <th></th>\n",
              "      <th></th>\n",
              "      <th>confirmed</th>\n",
              "      <th>recovered</th>\n",
              "      <th>dead</th>\n",
              "    </tr>\n",
              "    <tr>\n",
              "      <th>state</th>\n",
              "      <th>date</th>\n",
              "      <th></th>\n",
              "      <th></th>\n",
              "      <th></th>\n",
              "    </tr>\n",
              "  </thead>\n",
              "  <tbody>\n",
              "    <tr>\n",
              "      <th rowspan=\"11\" valign=\"top\">Tamil Nadu</th>\n",
              "      <th>2021-04-01</th>\n",
              "      <td>889490</td>\n",
              "      <td>859709</td>\n",
              "      <td>12738</td>\n",
              "    </tr>\n",
              "    <tr>\n",
              "      <th>2021-04-02</th>\n",
              "      <td>892780</td>\n",
              "      <td>861424</td>\n",
              "      <td>12750</td>\n",
              "    </tr>\n",
              "    <tr>\n",
              "      <th>2021-04-03</th>\n",
              "      <td>896226</td>\n",
              "      <td>863258</td>\n",
              "      <td>12764</td>\n",
              "    </tr>\n",
              "    <tr>\n",
              "      <th>2021-04-04</th>\n",
              "      <td>899807</td>\n",
              "      <td>865071</td>\n",
              "      <td>12778</td>\n",
              "    </tr>\n",
              "    <tr>\n",
              "      <th>2021-04-05</th>\n",
              "      <td>903479</td>\n",
              "      <td>866913</td>\n",
              "      <td>12789</td>\n",
              "    </tr>\n",
              "    <tr>\n",
              "      <th>...</th>\n",
              "      <td>...</td>\n",
              "      <td>...</td>\n",
              "      <td>...</td>\n",
              "    </tr>\n",
              "    <tr>\n",
              "      <th>2021-09-26</th>\n",
              "      <td>2657266</td>\n",
              "      <td>2604491</td>\n",
              "      <td>35490</td>\n",
              "    </tr>\n",
              "    <tr>\n",
              "      <th>2021-09-27</th>\n",
              "      <td>2658923</td>\n",
              "      <td>2606153</td>\n",
              "      <td>35509</td>\n",
              "    </tr>\n",
              "    <tr>\n",
              "      <th>2021-09-28</th>\n",
              "      <td>2660553</td>\n",
              "      <td>2607796</td>\n",
              "      <td>35526</td>\n",
              "    </tr>\n",
              "    <tr>\n",
              "      <th>2021-09-29</th>\n",
              "      <td>2662177</td>\n",
              "      <td>2609435</td>\n",
              "      <td>35550</td>\n",
              "    </tr>\n",
              "    <tr>\n",
              "      <th>2021-09-30</th>\n",
              "      <td>2663789</td>\n",
              "      <td>2611061</td>\n",
              "      <td>35578</td>\n",
              "    </tr>\n",
              "  </tbody>\n",
              "</table>\n",
              "<p>183 rows × 3 columns</p>\n",
              "</div>"
            ],
            "text/plain": [
              "                       confirmed  recovered   dead\n",
              "state      date                                   \n",
              "Tamil Nadu 2021-04-01     889490     859709  12738\n",
              "           2021-04-02     892780     861424  12750\n",
              "           2021-04-03     896226     863258  12764\n",
              "           2021-04-04     899807     865071  12778\n",
              "           2021-04-05     903479     866913  12789\n",
              "...                          ...        ...    ...\n",
              "           2021-09-26    2657266    2604491  35490\n",
              "           2021-09-27    2658923    2606153  35509\n",
              "           2021-09-28    2660553    2607796  35526\n",
              "           2021-09-29    2662177    2609435  35550\n",
              "           2021-09-30    2663789    2611061  35578\n",
              "\n",
              "[183 rows x 3 columns]"
            ]
          },
          "metadata": {},
          "execution_count": 288
        }
      ]
    },
    {
      "cell_type": "code",
      "metadata": {
        "colab": {
          "base_uri": "https://localhost:8080/",
          "height": 450
        },
        "id": "EIopBKl5_Znl",
        "outputId": "b08fbac4-60fb-450e-db93-c796feb99594"
      },
      "source": [
        "grouped[\"Active Cases\"]=grouped[\"confirmed\"]-grouped[\"recovered\"]-grouped[\"dead\"]\n",
        "grouped[\"log_confirmed\"]=np.log(grouped[\"confirmed\"])\n",
        "grouped[\"log_active\"]=np.log(grouped[\"Active Cases\"])\n",
        "grouped"
      ],
      "execution_count": 289,
      "outputs": [
        {
          "output_type": "execute_result",
          "data": {
            "text/html": [
              "<div>\n",
              "<style scoped>\n",
              "    .dataframe tbody tr th:only-of-type {\n",
              "        vertical-align: middle;\n",
              "    }\n",
              "\n",
              "    .dataframe tbody tr th {\n",
              "        vertical-align: top;\n",
              "    }\n",
              "\n",
              "    .dataframe thead th {\n",
              "        text-align: right;\n",
              "    }\n",
              "</style>\n",
              "<table border=\"1\" class=\"dataframe\">\n",
              "  <thead>\n",
              "    <tr style=\"text-align: right;\">\n",
              "      <th></th>\n",
              "      <th></th>\n",
              "      <th>confirmed</th>\n",
              "      <th>recovered</th>\n",
              "      <th>dead</th>\n",
              "      <th>Active Cases</th>\n",
              "      <th>log_confirmed</th>\n",
              "      <th>log_active</th>\n",
              "    </tr>\n",
              "    <tr>\n",
              "      <th>state</th>\n",
              "      <th>date</th>\n",
              "      <th></th>\n",
              "      <th></th>\n",
              "      <th></th>\n",
              "      <th></th>\n",
              "      <th></th>\n",
              "      <th></th>\n",
              "    </tr>\n",
              "  </thead>\n",
              "  <tbody>\n",
              "    <tr>\n",
              "      <th rowspan=\"11\" valign=\"top\">Tamil Nadu</th>\n",
              "      <th>2021-04-01</th>\n",
              "      <td>889490</td>\n",
              "      <td>859709</td>\n",
              "      <td>12738</td>\n",
              "      <td>17043</td>\n",
              "      <td>13.698404</td>\n",
              "      <td>9.743495</td>\n",
              "    </tr>\n",
              "    <tr>\n",
              "      <th>2021-04-02</th>\n",
              "      <td>892780</td>\n",
              "      <td>861424</td>\n",
              "      <td>12750</td>\n",
              "      <td>18606</td>\n",
              "      <td>13.702095</td>\n",
              "      <td>9.831239</td>\n",
              "    </tr>\n",
              "    <tr>\n",
              "      <th>2021-04-03</th>\n",
              "      <td>896226</td>\n",
              "      <td>863258</td>\n",
              "      <td>12764</td>\n",
              "      <td>20204</td>\n",
              "      <td>13.705948</td>\n",
              "      <td>9.913636</td>\n",
              "    </tr>\n",
              "    <tr>\n",
              "      <th>2021-04-04</th>\n",
              "      <td>899807</td>\n",
              "      <td>865071</td>\n",
              "      <td>12778</td>\n",
              "      <td>21958</td>\n",
              "      <td>13.709936</td>\n",
              "      <td>9.996887</td>\n",
              "    </tr>\n",
              "    <tr>\n",
              "      <th>2021-04-05</th>\n",
              "      <td>903479</td>\n",
              "      <td>866913</td>\n",
              "      <td>12789</td>\n",
              "      <td>23777</td>\n",
              "      <td>13.714008</td>\n",
              "      <td>10.076474</td>\n",
              "    </tr>\n",
              "    <tr>\n",
              "      <th>...</th>\n",
              "      <td>...</td>\n",
              "      <td>...</td>\n",
              "      <td>...</td>\n",
              "      <td>...</td>\n",
              "      <td>...</td>\n",
              "      <td>...</td>\n",
              "    </tr>\n",
              "    <tr>\n",
              "      <th>2021-09-26</th>\n",
              "      <td>2657266</td>\n",
              "      <td>2604491</td>\n",
              "      <td>35490</td>\n",
              "      <td>17285</td>\n",
              "      <td>14.792808</td>\n",
              "      <td>9.757594</td>\n",
              "    </tr>\n",
              "    <tr>\n",
              "      <th>2021-09-27</th>\n",
              "      <td>2658923</td>\n",
              "      <td>2606153</td>\n",
              "      <td>35509</td>\n",
              "      <td>17261</td>\n",
              "      <td>14.793432</td>\n",
              "      <td>9.756205</td>\n",
              "    </tr>\n",
              "    <tr>\n",
              "      <th>2021-09-28</th>\n",
              "      <td>2660553</td>\n",
              "      <td>2607796</td>\n",
              "      <td>35526</td>\n",
              "      <td>17231</td>\n",
              "      <td>14.794045</td>\n",
              "      <td>9.754465</td>\n",
              "    </tr>\n",
              "    <tr>\n",
              "      <th>2021-09-29</th>\n",
              "      <td>2662177</td>\n",
              "      <td>2609435</td>\n",
              "      <td>35550</td>\n",
              "      <td>17192</td>\n",
              "      <td>14.794655</td>\n",
              "      <td>9.752199</td>\n",
              "    </tr>\n",
              "    <tr>\n",
              "      <th>2021-09-30</th>\n",
              "      <td>2663789</td>\n",
              "      <td>2611061</td>\n",
              "      <td>35578</td>\n",
              "      <td>17150</td>\n",
              "      <td>14.795260</td>\n",
              "      <td>9.749753</td>\n",
              "    </tr>\n",
              "  </tbody>\n",
              "</table>\n",
              "<p>183 rows × 6 columns</p>\n",
              "</div>"
            ],
            "text/plain": [
              "                       confirmed  recovered  ...  log_confirmed  log_active\n",
              "state      date                              ...                           \n",
              "Tamil Nadu 2021-04-01     889490     859709  ...      13.698404    9.743495\n",
              "           2021-04-02     892780     861424  ...      13.702095    9.831239\n",
              "           2021-04-03     896226     863258  ...      13.705948    9.913636\n",
              "           2021-04-04     899807     865071  ...      13.709936    9.996887\n",
              "           2021-04-05     903479     866913  ...      13.714008   10.076474\n",
              "...                          ...        ...  ...            ...         ...\n",
              "           2021-09-26    2657266    2604491  ...      14.792808    9.757594\n",
              "           2021-09-27    2658923    2606153  ...      14.793432    9.756205\n",
              "           2021-09-28    2660553    2607796  ...      14.794045    9.754465\n",
              "           2021-09-29    2662177    2609435  ...      14.794655    9.752199\n",
              "           2021-09-30    2663789    2611061  ...      14.795260    9.749753\n",
              "\n",
              "[183 rows x 6 columns]"
            ]
          },
          "metadata": {},
          "execution_count": 289
        }
      ]
    },
    {
      "cell_type": "code",
      "metadata": {
        "colab": {
          "base_uri": "https://localhost:8080/",
          "height": 450
        },
        "id": "jHtwoJW5_yb_",
        "outputId": "5c972bf4-e417-4260-d634-6c5beef9a954"
      },
      "source": [
        "#Grouping different types of cases as per the date\n",
        "datewise=covid.groupby([\"date\"]).agg({\"confirmed\":'sum',\"recovered\":'sum',\"dead\":'sum'})\n",
        "datewise[\"Days Since\"]=datewise.index-datewise.index.min()\n",
        "datewise"
      ],
      "execution_count": 290,
      "outputs": [
        {
          "output_type": "execute_result",
          "data": {
            "text/html": [
              "<div>\n",
              "<style scoped>\n",
              "    .dataframe tbody tr th:only-of-type {\n",
              "        vertical-align: middle;\n",
              "    }\n",
              "\n",
              "    .dataframe tbody tr th {\n",
              "        vertical-align: top;\n",
              "    }\n",
              "\n",
              "    .dataframe thead th {\n",
              "        text-align: right;\n",
              "    }\n",
              "</style>\n",
              "<table border=\"1\" class=\"dataframe\">\n",
              "  <thead>\n",
              "    <tr style=\"text-align: right;\">\n",
              "      <th></th>\n",
              "      <th>confirmed</th>\n",
              "      <th>recovered</th>\n",
              "      <th>dead</th>\n",
              "      <th>Days Since</th>\n",
              "    </tr>\n",
              "    <tr>\n",
              "      <th>date</th>\n",
              "      <th></th>\n",
              "      <th></th>\n",
              "      <th></th>\n",
              "      <th></th>\n",
              "    </tr>\n",
              "  </thead>\n",
              "  <tbody>\n",
              "    <tr>\n",
              "      <th>2021-04-01</th>\n",
              "      <td>889490</td>\n",
              "      <td>859709</td>\n",
              "      <td>12738</td>\n",
              "      <td>0 days</td>\n",
              "    </tr>\n",
              "    <tr>\n",
              "      <th>2021-04-02</th>\n",
              "      <td>892780</td>\n",
              "      <td>861424</td>\n",
              "      <td>12750</td>\n",
              "      <td>1 days</td>\n",
              "    </tr>\n",
              "    <tr>\n",
              "      <th>2021-04-03</th>\n",
              "      <td>896226</td>\n",
              "      <td>863258</td>\n",
              "      <td>12764</td>\n",
              "      <td>2 days</td>\n",
              "    </tr>\n",
              "    <tr>\n",
              "      <th>2021-04-04</th>\n",
              "      <td>899807</td>\n",
              "      <td>865071</td>\n",
              "      <td>12778</td>\n",
              "      <td>3 days</td>\n",
              "    </tr>\n",
              "    <tr>\n",
              "      <th>2021-04-05</th>\n",
              "      <td>903479</td>\n",
              "      <td>866913</td>\n",
              "      <td>12789</td>\n",
              "      <td>4 days</td>\n",
              "    </tr>\n",
              "    <tr>\n",
              "      <th>...</th>\n",
              "      <td>...</td>\n",
              "      <td>...</td>\n",
              "      <td>...</td>\n",
              "      <td>...</td>\n",
              "    </tr>\n",
              "    <tr>\n",
              "      <th>2021-09-26</th>\n",
              "      <td>2657266</td>\n",
              "      <td>2604491</td>\n",
              "      <td>35490</td>\n",
              "      <td>178 days</td>\n",
              "    </tr>\n",
              "    <tr>\n",
              "      <th>2021-09-27</th>\n",
              "      <td>2658923</td>\n",
              "      <td>2606153</td>\n",
              "      <td>35509</td>\n",
              "      <td>179 days</td>\n",
              "    </tr>\n",
              "    <tr>\n",
              "      <th>2021-09-28</th>\n",
              "      <td>2660553</td>\n",
              "      <td>2607796</td>\n",
              "      <td>35526</td>\n",
              "      <td>180 days</td>\n",
              "    </tr>\n",
              "    <tr>\n",
              "      <th>2021-09-29</th>\n",
              "      <td>2662177</td>\n",
              "      <td>2609435</td>\n",
              "      <td>35550</td>\n",
              "      <td>181 days</td>\n",
              "    </tr>\n",
              "    <tr>\n",
              "      <th>2021-09-30</th>\n",
              "      <td>2663789</td>\n",
              "      <td>2611061</td>\n",
              "      <td>35578</td>\n",
              "      <td>182 days</td>\n",
              "    </tr>\n",
              "  </tbody>\n",
              "</table>\n",
              "<p>183 rows × 4 columns</p>\n",
              "</div>"
            ],
            "text/plain": [
              "            confirmed  recovered   dead Days Since\n",
              "date                                              \n",
              "2021-04-01     889490     859709  12738     0 days\n",
              "2021-04-02     892780     861424  12750     1 days\n",
              "2021-04-03     896226     863258  12764     2 days\n",
              "2021-04-04     899807     865071  12778     3 days\n",
              "2021-04-05     903479     866913  12789     4 days\n",
              "...               ...        ...    ...        ...\n",
              "2021-09-26    2657266    2604491  35490   178 days\n",
              "2021-09-27    2658923    2606153  35509   179 days\n",
              "2021-09-28    2660553    2607796  35526   180 days\n",
              "2021-09-29    2662177    2609435  35550   181 days\n",
              "2021-09-30    2663789    2611061  35578   182 days\n",
              "\n",
              "[183 rows x 4 columns]"
            ]
          },
          "metadata": {},
          "execution_count": 290
        }
      ]
    },
    {
      "cell_type": "code",
      "metadata": {
        "colab": {
          "base_uri": "https://localhost:8080/",
          "height": 542
        },
        "id": "rDw1qYfNBuR1",
        "outputId": "6e9d00c0-6629-4bca-b2cc-d25b28495c96"
      },
      "source": [
        "fig=px.bar(x=datewise.index,y=datewise[\"dead\"])\n",
        "fig.update_layout(title=\"Distribution of Number of dead Cases\",\n",
        "                  xaxis_title=\"Date\",yaxis_title=\"Number of deaths\",)\n",
        "fig.show()"
      ],
      "execution_count": 291,
      "outputs": [
        {
          "output_type": "display_data",
          "data": {
            "text/html": [
              "<html>\n",
              "<head><meta charset=\"utf-8\" /></head>\n",
              "<body>\n",
              "    <div>\n",
              "            <script src=\"https://cdnjs.cloudflare.com/ajax/libs/mathjax/2.7.5/MathJax.js?config=TeX-AMS-MML_SVG\"></script><script type=\"text/javascript\">if (window.MathJax) {MathJax.Hub.Config({SVG: {font: \"STIX-Web\"}});}</script>\n",
              "                <script type=\"text/javascript\">window.PlotlyConfig = {MathJaxConfig: 'local'};</script>\n",
              "        <script src=\"https://cdn.plot.ly/plotly-latest.min.js\"></script>    \n",
              "            <div id=\"d55b993c-df90-4989-b4de-dee678fb30bc\" class=\"plotly-graph-div\" style=\"height:525px; width:100%;\"></div>\n",
              "            <script type=\"text/javascript\">\n",
              "                \n",
              "                    window.PLOTLYENV=window.PLOTLYENV || {};\n",
              "                    \n",
              "                if (document.getElementById(\"d55b993c-df90-4989-b4de-dee678fb30bc\")) {\n",
              "                    Plotly.newPlot(\n",
              "                        'd55b993c-df90-4989-b4de-dee678fb30bc',\n",
              "                        [{\"alignmentgroup\": \"True\", \"hoverlabel\": {\"namelength\": 0}, \"hovertemplate\": \"x=%{x}<br>y=%{y}\", \"legendgroup\": \"\", \"marker\": {\"color\": \"#636efa\"}, \"name\": \"\", \"offsetgroup\": \"\", \"orientation\": \"v\", \"showlegend\": false, \"textposition\": \"auto\", \"type\": \"bar\", \"x\": [\"2021-04-01T00:00:00\", \"2021-04-02T00:00:00\", \"2021-04-03T00:00:00\", \"2021-04-04T00:00:00\", \"2021-04-05T00:00:00\", \"2021-04-06T00:00:00\", \"2021-04-07T00:00:00\", \"2021-04-08T00:00:00\", \"2021-04-09T00:00:00\", \"2021-04-10T00:00:00\", \"2021-04-11T00:00:00\", \"2021-04-12T00:00:00\", \"2021-04-13T00:00:00\", \"2021-04-14T00:00:00\", \"2021-04-15T00:00:00\", \"2021-04-16T00:00:00\", \"2021-04-17T00:00:00\", \"2021-04-18T00:00:00\", \"2021-04-19T00:00:00\", \"2021-04-20T00:00:00\", \"2021-04-21T00:00:00\", \"2021-04-22T00:00:00\", \"2021-04-23T00:00:00\", \"2021-04-24T00:00:00\", \"2021-04-25T00:00:00\", \"2021-04-26T00:00:00\", \"2021-04-27T00:00:00\", \"2021-04-28T00:00:00\", \"2021-04-29T00:00:00\", \"2021-04-30T00:00:00\", \"2021-05-01T00:00:00\", \"2021-05-02T00:00:00\", \"2021-05-03T00:00:00\", \"2021-05-04T00:00:00\", \"2021-05-05T00:00:00\", \"2021-05-06T00:00:00\", \"2021-05-07T00:00:00\", \"2021-05-08T00:00:00\", \"2021-05-09T00:00:00\", \"2021-05-10T00:00:00\", \"2021-05-11T00:00:00\", \"2021-05-12T00:00:00\", \"2021-05-13T00:00:00\", \"2021-05-14T00:00:00\", \"2021-05-15T00:00:00\", \"2021-05-16T00:00:00\", \"2021-05-17T00:00:00\", \"2021-05-18T00:00:00\", \"2021-05-19T00:00:00\", \"2021-05-20T00:00:00\", \"2021-05-21T00:00:00\", \"2021-05-22T00:00:00\", \"2021-05-23T00:00:00\", \"2021-05-24T00:00:00\", \"2021-05-25T00:00:00\", \"2021-05-26T00:00:00\", \"2021-05-27T00:00:00\", \"2021-05-28T00:00:00\", \"2021-05-29T00:00:00\", \"2021-05-30T00:00:00\", \"2021-05-31T00:00:00\", \"2021-06-01T00:00:00\", \"2021-06-02T00:00:00\", \"2021-06-03T00:00:00\", \"2021-06-04T00:00:00\", \"2021-06-05T00:00:00\", \"2021-06-06T00:00:00\", \"2021-06-07T00:00:00\", \"2021-06-08T00:00:00\", \"2021-06-09T00:00:00\", \"2021-06-10T00:00:00\", \"2021-06-11T00:00:00\", \"2021-06-12T00:00:00\", \"2021-06-13T00:00:00\", \"2021-06-14T00:00:00\", \"2021-06-15T00:00:00\", \"2021-06-16T00:00:00\", \"2021-06-17T00:00:00\", \"2021-06-18T00:00:00\", \"2021-06-19T00:00:00\", \"2021-06-20T00:00:00\", \"2021-06-21T00:00:00\", \"2021-06-22T00:00:00\", \"2021-06-23T00:00:00\", \"2021-06-24T00:00:00\", \"2021-06-25T00:00:00\", \"2021-06-26T00:00:00\", \"2021-06-27T00:00:00\", \"2021-06-28T00:00:00\", \"2021-06-29T00:00:00\", \"2021-06-30T00:00:00\", \"2021-07-01T00:00:00\", \"2021-07-02T00:00:00\", \"2021-07-03T00:00:00\", \"2021-07-04T00:00:00\", \"2021-07-05T00:00:00\", \"2021-07-06T00:00:00\", \"2021-07-07T00:00:00\", \"2021-07-08T00:00:00\", \"2021-07-09T00:00:00\", \"2021-07-10T00:00:00\", \"2021-07-11T00:00:00\", \"2021-07-12T00:00:00\", \"2021-07-13T00:00:00\", \"2021-07-14T00:00:00\", \"2021-07-15T00:00:00\", \"2021-07-16T00:00:00\", \"2021-07-17T00:00:00\", \"2021-07-18T00:00:00\", \"2021-07-19T00:00:00\", \"2021-07-20T00:00:00\", \"2021-07-21T00:00:00\", \"2021-07-22T00:00:00\", \"2021-07-23T00:00:00\", \"2021-07-24T00:00:00\", \"2021-07-25T00:00:00\", \"2021-07-26T00:00:00\", \"2021-07-27T00:00:00\", \"2021-07-28T00:00:00\", \"2021-07-29T00:00:00\", \"2021-07-30T00:00:00\", \"2021-07-31T00:00:00\", \"2021-08-01T00:00:00\", \"2021-08-02T00:00:00\", \"2021-08-03T00:00:00\", \"2021-08-04T00:00:00\", \"2021-08-05T00:00:00\", \"2021-08-06T00:00:00\", \"2021-08-07T00:00:00\", \"2021-08-08T00:00:00\", \"2021-08-09T00:00:00\", \"2021-08-10T00:00:00\", \"2021-08-11T00:00:00\", \"2021-08-12T00:00:00\", \"2021-08-13T00:00:00\", \"2021-08-14T00:00:00\", \"2021-08-15T00:00:00\", \"2021-08-16T00:00:00\", \"2021-08-17T00:00:00\", \"2021-08-18T00:00:00\", \"2021-08-19T00:00:00\", \"2021-08-20T00:00:00\", \"2021-08-21T00:00:00\", \"2021-08-22T00:00:00\", \"2021-08-23T00:00:00\", \"2021-08-24T00:00:00\", \"2021-08-25T00:00:00\", \"2021-08-26T00:00:00\", \"2021-08-27T00:00:00\", \"2021-08-28T00:00:00\", \"2021-08-29T00:00:00\", \"2021-08-30T00:00:00\", \"2021-08-31T00:00:00\", \"2021-09-01T00:00:00\", \"2021-09-02T00:00:00\", \"2021-09-03T00:00:00\", \"2021-09-04T00:00:00\", \"2021-09-05T00:00:00\", \"2021-09-06T00:00:00\", \"2021-09-07T00:00:00\", \"2021-09-08T00:00:00\", \"2021-09-09T00:00:00\", \"2021-09-10T00:00:00\", \"2021-09-11T00:00:00\", \"2021-09-12T00:00:00\", \"2021-09-13T00:00:00\", \"2021-09-14T00:00:00\", \"2021-09-15T00:00:00\", \"2021-09-16T00:00:00\", \"2021-09-17T00:00:00\", \"2021-09-18T00:00:00\", \"2021-09-19T00:00:00\", \"2021-09-20T00:00:00\", \"2021-09-21T00:00:00\", \"2021-09-22T00:00:00\", \"2021-09-23T00:00:00\", \"2021-09-24T00:00:00\", \"2021-09-25T00:00:00\", \"2021-09-26T00:00:00\", \"2021-09-27T00:00:00\", \"2021-09-28T00:00:00\", \"2021-09-29T00:00:00\", \"2021-09-30T00:00:00\"], \"xaxis\": \"x\", \"y\": [12738, 12750, 12764, 12778, 12789, 12804, 12821, 12840, 12863, 12886, 12908, 12927, 12945, 12970, 12999, 13032, 13071, 13113, 13157, 13205, 13258, 13317, 13395, 13475, 13557, 13651, 13728, 13826, 13933, 14046, 14193, 14346, 14468, 14612, 14779, 14974, 15171, 15412, 15648, 15880, 16178, 16471, 16768, 17056, 17359, 17670, 18005, 18369, 18734, 19131, 19598, 20046, 20468, 20872, 21340, 21815, 22289, 22775, 23261, 23754, 24232, 24722, 25205, 25665, 26128, 26571, 27005, 27356, 27765, 28170, 28528, 28906, 29280, 29547, 29801, 30068, 30338, 30548, 30835, 31015, 31197, 31386, 31580, 31746, 31901, 32051, 32199, 32290, 32388, 32506, 32619, 32721, 32818, 32933, 33005, 33059, 33132, 33196, 33253, 33322, 33371, 33418, 33454, 33502, 33557, 33606, 33652, 33695, 33724, 33752, 33782, 33809, 33838, 33862, 33889, 33911, 33937, 33966, 33995, 34023, 34050, 34076, 34102, 34130, 34159, 34197, 34230, 34260, 34289, 34317, 34340, 34367, 34395, 34428, 34462, 34496, 34519, 34547, 34579, 34610, 34639, 34663, 34686, 34709, 34734, 34761, 34788, 34814, 34835, 34856, 34878, 34899, 34921, 34941, 34961, 34980, 35000, 35018, 35036, 35055, 35073, 35094, 35119, 35146, 35168, 35190, 35217, 35246, 35271, 35288, 35310, 35337, 35360, 35379, 35400, 35427, 35454, 35476, 35490, 35509, 35526, 35550, 35578], \"yaxis\": \"y\"}],\n",
              "                        {\"barmode\": \"relative\", \"legend\": {\"tracegroupgap\": 0}, \"margin\": {\"t\": 60}, \"template\": {\"data\": {\"bar\": [{\"error_x\": {\"color\": \"#2a3f5f\"}, \"error_y\": {\"color\": \"#2a3f5f\"}, \"marker\": {\"line\": {\"color\": \"#E5ECF6\", \"width\": 0.5}}, \"type\": \"bar\"}], \"barpolar\": [{\"marker\": {\"line\": {\"color\": \"#E5ECF6\", \"width\": 0.5}}, \"type\": \"barpolar\"}], \"carpet\": [{\"aaxis\": {\"endlinecolor\": \"#2a3f5f\", \"gridcolor\": \"white\", \"linecolor\": \"white\", \"minorgridcolor\": \"white\", \"startlinecolor\": \"#2a3f5f\"}, \"baxis\": {\"endlinecolor\": \"#2a3f5f\", \"gridcolor\": \"white\", \"linecolor\": \"white\", \"minorgridcolor\": \"white\", \"startlinecolor\": \"#2a3f5f\"}, \"type\": \"carpet\"}], \"choropleth\": [{\"colorbar\": {\"outlinewidth\": 0, \"ticks\": \"\"}, \"type\": \"choropleth\"}], \"contour\": [{\"colorbar\": {\"outlinewidth\": 0, \"ticks\": \"\"}, \"colorscale\": [[0.0, \"#0d0887\"], [0.1111111111111111, \"#46039f\"], [0.2222222222222222, \"#7201a8\"], [0.3333333333333333, \"#9c179e\"], [0.4444444444444444, \"#bd3786\"], [0.5555555555555556, \"#d8576b\"], [0.6666666666666666, \"#ed7953\"], [0.7777777777777778, \"#fb9f3a\"], [0.8888888888888888, \"#fdca26\"], [1.0, \"#f0f921\"]], \"type\": \"contour\"}], \"contourcarpet\": [{\"colorbar\": {\"outlinewidth\": 0, \"ticks\": \"\"}, \"type\": \"contourcarpet\"}], \"heatmap\": [{\"colorbar\": {\"outlinewidth\": 0, \"ticks\": \"\"}, \"colorscale\": [[0.0, \"#0d0887\"], [0.1111111111111111, \"#46039f\"], [0.2222222222222222, \"#7201a8\"], [0.3333333333333333, \"#9c179e\"], [0.4444444444444444, \"#bd3786\"], [0.5555555555555556, \"#d8576b\"], [0.6666666666666666, \"#ed7953\"], [0.7777777777777778, \"#fb9f3a\"], [0.8888888888888888, \"#fdca26\"], [1.0, \"#f0f921\"]], \"type\": \"heatmap\"}], \"heatmapgl\": [{\"colorbar\": {\"outlinewidth\": 0, \"ticks\": \"\"}, \"colorscale\": [[0.0, \"#0d0887\"], [0.1111111111111111, \"#46039f\"], [0.2222222222222222, \"#7201a8\"], [0.3333333333333333, \"#9c179e\"], [0.4444444444444444, \"#bd3786\"], [0.5555555555555556, \"#d8576b\"], [0.6666666666666666, \"#ed7953\"], [0.7777777777777778, \"#fb9f3a\"], [0.8888888888888888, \"#fdca26\"], [1.0, \"#f0f921\"]], \"type\": \"heatmapgl\"}], \"histogram\": [{\"marker\": {\"colorbar\": {\"outlinewidth\": 0, \"ticks\": \"\"}}, \"type\": \"histogram\"}], \"histogram2d\": [{\"colorbar\": {\"outlinewidth\": 0, \"ticks\": \"\"}, \"colorscale\": [[0.0, \"#0d0887\"], [0.1111111111111111, \"#46039f\"], [0.2222222222222222, \"#7201a8\"], [0.3333333333333333, \"#9c179e\"], [0.4444444444444444, \"#bd3786\"], [0.5555555555555556, \"#d8576b\"], [0.6666666666666666, \"#ed7953\"], [0.7777777777777778, \"#fb9f3a\"], [0.8888888888888888, \"#fdca26\"], [1.0, \"#f0f921\"]], \"type\": \"histogram2d\"}], \"histogram2dcontour\": [{\"colorbar\": {\"outlinewidth\": 0, \"ticks\": \"\"}, \"colorscale\": [[0.0, \"#0d0887\"], [0.1111111111111111, \"#46039f\"], [0.2222222222222222, \"#7201a8\"], [0.3333333333333333, \"#9c179e\"], [0.4444444444444444, \"#bd3786\"], [0.5555555555555556, \"#d8576b\"], [0.6666666666666666, \"#ed7953\"], [0.7777777777777778, \"#fb9f3a\"], [0.8888888888888888, \"#fdca26\"], [1.0, \"#f0f921\"]], \"type\": \"histogram2dcontour\"}], \"mesh3d\": [{\"colorbar\": {\"outlinewidth\": 0, \"ticks\": \"\"}, \"type\": \"mesh3d\"}], \"parcoords\": [{\"line\": {\"colorbar\": {\"outlinewidth\": 0, \"ticks\": \"\"}}, \"type\": \"parcoords\"}], \"pie\": [{\"automargin\": true, \"type\": \"pie\"}], \"scatter\": [{\"marker\": {\"colorbar\": {\"outlinewidth\": 0, \"ticks\": \"\"}}, \"type\": \"scatter\"}], \"scatter3d\": [{\"line\": {\"colorbar\": {\"outlinewidth\": 0, \"ticks\": \"\"}}, \"marker\": {\"colorbar\": {\"outlinewidth\": 0, \"ticks\": \"\"}}, \"type\": \"scatter3d\"}], \"scattercarpet\": [{\"marker\": {\"colorbar\": {\"outlinewidth\": 0, \"ticks\": \"\"}}, \"type\": \"scattercarpet\"}], \"scattergeo\": [{\"marker\": {\"colorbar\": {\"outlinewidth\": 0, \"ticks\": \"\"}}, \"type\": \"scattergeo\"}], \"scattergl\": [{\"marker\": {\"colorbar\": {\"outlinewidth\": 0, \"ticks\": \"\"}}, \"type\": \"scattergl\"}], \"scattermapbox\": [{\"marker\": {\"colorbar\": {\"outlinewidth\": 0, \"ticks\": \"\"}}, \"type\": \"scattermapbox\"}], \"scatterpolar\": [{\"marker\": {\"colorbar\": {\"outlinewidth\": 0, \"ticks\": \"\"}}, \"type\": \"scatterpolar\"}], \"scatterpolargl\": [{\"marker\": {\"colorbar\": {\"outlinewidth\": 0, \"ticks\": \"\"}}, \"type\": \"scatterpolargl\"}], \"scatterternary\": [{\"marker\": {\"colorbar\": {\"outlinewidth\": 0, \"ticks\": \"\"}}, \"type\": \"scatterternary\"}], \"surface\": [{\"colorbar\": {\"outlinewidth\": 0, \"ticks\": \"\"}, \"colorscale\": [[0.0, \"#0d0887\"], [0.1111111111111111, \"#46039f\"], [0.2222222222222222, \"#7201a8\"], [0.3333333333333333, \"#9c179e\"], [0.4444444444444444, \"#bd3786\"], [0.5555555555555556, \"#d8576b\"], [0.6666666666666666, \"#ed7953\"], [0.7777777777777778, \"#fb9f3a\"], [0.8888888888888888, \"#fdca26\"], [1.0, \"#f0f921\"]], \"type\": \"surface\"}], \"table\": [{\"cells\": {\"fill\": {\"color\": \"#EBF0F8\"}, \"line\": {\"color\": \"white\"}}, \"header\": {\"fill\": {\"color\": \"#C8D4E3\"}, \"line\": {\"color\": \"white\"}}, \"type\": \"table\"}]}, \"layout\": {\"annotationdefaults\": {\"arrowcolor\": \"#2a3f5f\", \"arrowhead\": 0, \"arrowwidth\": 1}, \"coloraxis\": {\"colorbar\": {\"outlinewidth\": 0, \"ticks\": \"\"}}, \"colorscale\": {\"diverging\": [[0, \"#8e0152\"], [0.1, \"#c51b7d\"], [0.2, \"#de77ae\"], [0.3, \"#f1b6da\"], [0.4, \"#fde0ef\"], [0.5, \"#f7f7f7\"], [0.6, \"#e6f5d0\"], [0.7, \"#b8e186\"], [0.8, \"#7fbc41\"], [0.9, \"#4d9221\"], [1, \"#276419\"]], \"sequential\": [[0.0, \"#0d0887\"], [0.1111111111111111, \"#46039f\"], [0.2222222222222222, \"#7201a8\"], [0.3333333333333333, \"#9c179e\"], [0.4444444444444444, \"#bd3786\"], [0.5555555555555556, \"#d8576b\"], [0.6666666666666666, \"#ed7953\"], [0.7777777777777778, \"#fb9f3a\"], [0.8888888888888888, \"#fdca26\"], [1.0, \"#f0f921\"]], \"sequentialminus\": [[0.0, \"#0d0887\"], [0.1111111111111111, \"#46039f\"], [0.2222222222222222, \"#7201a8\"], [0.3333333333333333, \"#9c179e\"], [0.4444444444444444, \"#bd3786\"], [0.5555555555555556, \"#d8576b\"], [0.6666666666666666, \"#ed7953\"], [0.7777777777777778, \"#fb9f3a\"], [0.8888888888888888, \"#fdca26\"], [1.0, \"#f0f921\"]]}, \"colorway\": [\"#636efa\", \"#EF553B\", \"#00cc96\", \"#ab63fa\", \"#FFA15A\", \"#19d3f3\", \"#FF6692\", \"#B6E880\", \"#FF97FF\", \"#FECB52\"], \"font\": {\"color\": \"#2a3f5f\"}, \"geo\": {\"bgcolor\": \"white\", \"lakecolor\": \"white\", \"landcolor\": \"#E5ECF6\", \"showlakes\": true, \"showland\": true, \"subunitcolor\": \"white\"}, \"hoverlabel\": {\"align\": \"left\"}, \"hovermode\": \"closest\", \"mapbox\": {\"style\": \"light\"}, \"paper_bgcolor\": \"white\", \"plot_bgcolor\": \"#E5ECF6\", \"polar\": {\"angularaxis\": {\"gridcolor\": \"white\", \"linecolor\": \"white\", \"ticks\": \"\"}, \"bgcolor\": \"#E5ECF6\", \"radialaxis\": {\"gridcolor\": \"white\", \"linecolor\": \"white\", \"ticks\": \"\"}}, \"scene\": {\"xaxis\": {\"backgroundcolor\": \"#E5ECF6\", \"gridcolor\": \"white\", \"gridwidth\": 2, \"linecolor\": \"white\", \"showbackground\": true, \"ticks\": \"\", \"zerolinecolor\": \"white\"}, \"yaxis\": {\"backgroundcolor\": \"#E5ECF6\", \"gridcolor\": \"white\", \"gridwidth\": 2, \"linecolor\": \"white\", \"showbackground\": true, \"ticks\": \"\", \"zerolinecolor\": \"white\"}, \"zaxis\": {\"backgroundcolor\": \"#E5ECF6\", \"gridcolor\": \"white\", \"gridwidth\": 2, \"linecolor\": \"white\", \"showbackground\": true, \"ticks\": \"\", \"zerolinecolor\": \"white\"}}, \"shapedefaults\": {\"line\": {\"color\": \"#2a3f5f\"}}, \"ternary\": {\"aaxis\": {\"gridcolor\": \"white\", \"linecolor\": \"white\", \"ticks\": \"\"}, \"baxis\": {\"gridcolor\": \"white\", \"linecolor\": \"white\", \"ticks\": \"\"}, \"bgcolor\": \"#E5ECF6\", \"caxis\": {\"gridcolor\": \"white\", \"linecolor\": \"white\", \"ticks\": \"\"}}, \"title\": {\"x\": 0.05}, \"xaxis\": {\"automargin\": true, \"gridcolor\": \"white\", \"linecolor\": \"white\", \"ticks\": \"\", \"title\": {\"standoff\": 15}, \"zerolinecolor\": \"white\", \"zerolinewidth\": 2}, \"yaxis\": {\"automargin\": true, \"gridcolor\": \"white\", \"linecolor\": \"white\", \"ticks\": \"\", \"title\": {\"standoff\": 15}, \"zerolinecolor\": \"white\", \"zerolinewidth\": 2}}}, \"title\": {\"text\": \"Distribution of Number of dead Cases\"}, \"xaxis\": {\"anchor\": \"y\", \"domain\": [0.0, 1.0], \"title\": {\"text\": \"Date\"}}, \"yaxis\": {\"anchor\": \"x\", \"domain\": [0.0, 1.0], \"title\": {\"text\": \"Number of deaths\"}}},\n",
              "                        {\"responsive\": true}\n",
              "                    ).then(function(){\n",
              "                            \n",
              "var gd = document.getElementById('d55b993c-df90-4989-b4de-dee678fb30bc');\n",
              "var x = new MutationObserver(function (mutations, observer) {{\n",
              "        var display = window.getComputedStyle(gd).display;\n",
              "        if (!display || display === 'none') {{\n",
              "            console.log([gd, 'removed!']);\n",
              "            Plotly.purge(gd);\n",
              "            observer.disconnect();\n",
              "        }}\n",
              "}});\n",
              "\n",
              "// Listen for the removal of the full notebook cells\n",
              "var notebookContainer = gd.closest('#notebook-container');\n",
              "if (notebookContainer) {{\n",
              "    x.observe(notebookContainer, {childList: true});\n",
              "}}\n",
              "\n",
              "// Listen for the clearing of the current output cell\n",
              "var outputEl = gd.closest('.output');\n",
              "if (outputEl) {{\n",
              "    x.observe(outputEl, {childList: true});\n",
              "}}\n",
              "\n",
              "                        })\n",
              "                };\n",
              "                \n",
              "            </script>\n",
              "        </div>\n",
              "</body>\n",
              "</html>"
            ]
          },
          "metadata": {}
        }
      ]
    },
    {
      "cell_type": "code",
      "metadata": {
        "colab": {
          "base_uri": "https://localhost:8080/",
          "height": 542
        },
        "id": "4SNtcwG8EdPm",
        "outputId": "c0220dfc-867c-45b5-9b46-b1e3ce7641af"
      },
      "source": [
        "datewise[\"WeekOfYear\"]=datewise.index.weekofyear\n",
        "\n",
        "week_num=[]\n",
        "weekwise_confirmed=[]\n",
        "weekwise_recovered=[]\n",
        "weekwise_deaths=[]\n",
        "w=1\n",
        "for i in list(datewise[\"WeekOfYear\"].unique()):\n",
        "    weekwise_confirmed.append(datewise[datewise[\"WeekOfYear\"]==i][\"confirmed\"].iloc[-1])\n",
        "    weekwise_recovered.append(datewise[datewise[\"WeekOfYear\"]==i][\"recovered\"].iloc[-1])\n",
        "    weekwise_deaths.append(datewise[datewise[\"WeekOfYear\"]==i][\"dead\"].iloc[-1])\n",
        "    week_num.append(w)\n",
        "    w=w+1\n",
        "\n",
        "fig=go.Figure()\n",
        "fig.add_trace(go.Scatter(x=week_num, y=weekwise_confirmed,\n",
        "                    mode='lines+markers',\n",
        "                    name='Weekly Growth of Confirmed Cases'))\n",
        "fig.add_trace(go.Scatter(x=week_num, y=weekwise_recovered,\n",
        "                    mode='lines+markers',\n",
        "                    name='Weekly Growth of Recovered Cases'))\n",
        "fig.add_trace(go.Scatter(x=week_num, y=weekwise_deaths,\n",
        "                    mode='lines+markers',\n",
        "                    name='Weekly Growth of Death Cases'))\n",
        "fig.update_layout(title=\"Weekly Growth of different types of Cases in Tamil Nadu\",\n",
        "                 xaxis_title=\"Week Number\",yaxis_title=\"Number of Cases\",legend=dict(x=0,y=1,traceorder=\"normal\"))\n",
        "fig.show()"
      ],
      "execution_count": 292,
      "outputs": [
        {
          "output_type": "display_data",
          "data": {
            "text/html": [
              "<html>\n",
              "<head><meta charset=\"utf-8\" /></head>\n",
              "<body>\n",
              "    <div>\n",
              "            <script src=\"https://cdnjs.cloudflare.com/ajax/libs/mathjax/2.7.5/MathJax.js?config=TeX-AMS-MML_SVG\"></script><script type=\"text/javascript\">if (window.MathJax) {MathJax.Hub.Config({SVG: {font: \"STIX-Web\"}});}</script>\n",
              "                <script type=\"text/javascript\">window.PlotlyConfig = {MathJaxConfig: 'local'};</script>\n",
              "        <script src=\"https://cdn.plot.ly/plotly-latest.min.js\"></script>    \n",
              "            <div id=\"95847e70-5693-4f54-a4df-5e55372b81f3\" class=\"plotly-graph-div\" style=\"height:525px; width:100%;\"></div>\n",
              "            <script type=\"text/javascript\">\n",
              "                \n",
              "                    window.PLOTLYENV=window.PLOTLYENV || {};\n",
              "                    \n",
              "                if (document.getElementById(\"95847e70-5693-4f54-a4df-5e55372b81f3\")) {\n",
              "                    Plotly.newPlot(\n",
              "                        '95847e70-5693-4f54-a4df-5e55372b81f3',\n",
              "                        [{\"mode\": \"lines+markers\", \"name\": \"Weekly Growth of Confirmed Cases\", \"type\": \"scatter\", \"x\": [1, 2, 3, 4, 5, 6, 7, 8, 9, 10, 11, 12, 13, 14, 15, 16, 17, 18, 19, 20, 21, 22, 23, 24, 25, 26, 27], \"y\": [899807, 933434, 991451, 1081988, 1207112, 1380259, 1598216, 1842344, 2068580, 2237233, 2353721, 2422497, 2465874, 2496287, 2518786, 2535402, 2548497, 2561587, 2575308, 2588781, 2600885, 2611837, 2622678, 2633839, 2645380, 2657266, 2663789]}, {\"mode\": \"lines+markers\", \"name\": \"Weekly Growth of Recovered Cases\", \"type\": \"scatter\", \"x\": [1, 2, 3, 4, 5, 6, 7, 8, 9, 10, 11, 12, 13, 14, 15, 16, 17, 18, 19, 20, 21, 22, 23, 24, 25, 26, 27], \"y\": [865071, 878571, 907947, 963251, 1072322, 1220064, 1361204, 1527733, 1739280, 1965939, 2174247, 2321928, 2390783, 2427988, 2453061, 2473781, 2491222, 2506961, 2520584, 2533804, 2547005, 2559637, 2571378, 2582198, 2593074, 2604491, 2611061]}, {\"mode\": \"lines+markers\", \"name\": \"Weekly Growth of Death Cases\", \"type\": \"scatter\", \"x\": [1, 2, 3, 4, 5, 6, 7, 8, 9, 10, 11, 12, 13, 14, 15, 16, 17, 18, 19, 20, 21, 22, 23, 24, 25, 26, 27], \"y\": [12778, 12908, 13113, 13557, 14346, 15648, 17670, 20468, 23754, 27005, 29547, 31197, 32290, 33005, 33418, 33724, 33911, 34102, 34317, 34519, 34709, 34878, 35018, 35168, 35337, 35490, 35578]}],\n",
              "                        {\"legend\": {\"traceorder\": \"normal\", \"x\": 0, \"y\": 1}, \"template\": {\"data\": {\"bar\": [{\"error_x\": {\"color\": \"#2a3f5f\"}, \"error_y\": {\"color\": \"#2a3f5f\"}, \"marker\": {\"line\": {\"color\": \"#E5ECF6\", \"width\": 0.5}}, \"type\": \"bar\"}], \"barpolar\": [{\"marker\": {\"line\": {\"color\": \"#E5ECF6\", \"width\": 0.5}}, \"type\": \"barpolar\"}], \"carpet\": [{\"aaxis\": {\"endlinecolor\": \"#2a3f5f\", \"gridcolor\": \"white\", \"linecolor\": \"white\", \"minorgridcolor\": \"white\", \"startlinecolor\": \"#2a3f5f\"}, \"baxis\": {\"endlinecolor\": \"#2a3f5f\", \"gridcolor\": \"white\", \"linecolor\": \"white\", \"minorgridcolor\": \"white\", \"startlinecolor\": \"#2a3f5f\"}, \"type\": \"carpet\"}], \"choropleth\": [{\"colorbar\": {\"outlinewidth\": 0, \"ticks\": \"\"}, \"type\": \"choropleth\"}], \"contour\": [{\"colorbar\": {\"outlinewidth\": 0, \"ticks\": \"\"}, \"colorscale\": [[0.0, \"#0d0887\"], [0.1111111111111111, \"#46039f\"], [0.2222222222222222, \"#7201a8\"], [0.3333333333333333, \"#9c179e\"], [0.4444444444444444, \"#bd3786\"], [0.5555555555555556, \"#d8576b\"], [0.6666666666666666, \"#ed7953\"], [0.7777777777777778, \"#fb9f3a\"], [0.8888888888888888, \"#fdca26\"], [1.0, \"#f0f921\"]], \"type\": \"contour\"}], \"contourcarpet\": [{\"colorbar\": {\"outlinewidth\": 0, \"ticks\": \"\"}, \"type\": \"contourcarpet\"}], \"heatmap\": [{\"colorbar\": {\"outlinewidth\": 0, \"ticks\": \"\"}, \"colorscale\": [[0.0, \"#0d0887\"], [0.1111111111111111, \"#46039f\"], [0.2222222222222222, \"#7201a8\"], [0.3333333333333333, \"#9c179e\"], [0.4444444444444444, \"#bd3786\"], [0.5555555555555556, \"#d8576b\"], [0.6666666666666666, \"#ed7953\"], [0.7777777777777778, \"#fb9f3a\"], [0.8888888888888888, \"#fdca26\"], [1.0, \"#f0f921\"]], \"type\": \"heatmap\"}], \"heatmapgl\": [{\"colorbar\": {\"outlinewidth\": 0, \"ticks\": \"\"}, \"colorscale\": [[0.0, \"#0d0887\"], [0.1111111111111111, \"#46039f\"], [0.2222222222222222, \"#7201a8\"], [0.3333333333333333, \"#9c179e\"], [0.4444444444444444, \"#bd3786\"], [0.5555555555555556, \"#d8576b\"], [0.6666666666666666, \"#ed7953\"], [0.7777777777777778, \"#fb9f3a\"], [0.8888888888888888, \"#fdca26\"], [1.0, \"#f0f921\"]], \"type\": \"heatmapgl\"}], \"histogram\": [{\"marker\": {\"colorbar\": {\"outlinewidth\": 0, \"ticks\": \"\"}}, \"type\": \"histogram\"}], \"histogram2d\": [{\"colorbar\": {\"outlinewidth\": 0, \"ticks\": \"\"}, \"colorscale\": [[0.0, \"#0d0887\"], [0.1111111111111111, \"#46039f\"], [0.2222222222222222, \"#7201a8\"], [0.3333333333333333, \"#9c179e\"], [0.4444444444444444, \"#bd3786\"], [0.5555555555555556, \"#d8576b\"], [0.6666666666666666, \"#ed7953\"], [0.7777777777777778, \"#fb9f3a\"], [0.8888888888888888, \"#fdca26\"], [1.0, \"#f0f921\"]], \"type\": \"histogram2d\"}], \"histogram2dcontour\": [{\"colorbar\": {\"outlinewidth\": 0, \"ticks\": \"\"}, \"colorscale\": [[0.0, \"#0d0887\"], [0.1111111111111111, \"#46039f\"], [0.2222222222222222, \"#7201a8\"], [0.3333333333333333, \"#9c179e\"], [0.4444444444444444, \"#bd3786\"], [0.5555555555555556, \"#d8576b\"], [0.6666666666666666, \"#ed7953\"], [0.7777777777777778, \"#fb9f3a\"], [0.8888888888888888, \"#fdca26\"], [1.0, \"#f0f921\"]], \"type\": \"histogram2dcontour\"}], \"mesh3d\": [{\"colorbar\": {\"outlinewidth\": 0, \"ticks\": \"\"}, \"type\": \"mesh3d\"}], \"parcoords\": [{\"line\": {\"colorbar\": {\"outlinewidth\": 0, \"ticks\": \"\"}}, \"type\": \"parcoords\"}], \"pie\": [{\"automargin\": true, \"type\": \"pie\"}], \"scatter\": [{\"marker\": {\"colorbar\": {\"outlinewidth\": 0, \"ticks\": \"\"}}, \"type\": \"scatter\"}], \"scatter3d\": [{\"line\": {\"colorbar\": {\"outlinewidth\": 0, \"ticks\": \"\"}}, \"marker\": {\"colorbar\": {\"outlinewidth\": 0, \"ticks\": \"\"}}, \"type\": \"scatter3d\"}], \"scattercarpet\": [{\"marker\": {\"colorbar\": {\"outlinewidth\": 0, \"ticks\": \"\"}}, \"type\": \"scattercarpet\"}], \"scattergeo\": [{\"marker\": {\"colorbar\": {\"outlinewidth\": 0, \"ticks\": \"\"}}, \"type\": \"scattergeo\"}], \"scattergl\": [{\"marker\": {\"colorbar\": {\"outlinewidth\": 0, \"ticks\": \"\"}}, \"type\": \"scattergl\"}], \"scattermapbox\": [{\"marker\": {\"colorbar\": {\"outlinewidth\": 0, \"ticks\": \"\"}}, \"type\": \"scattermapbox\"}], \"scatterpolar\": [{\"marker\": {\"colorbar\": {\"outlinewidth\": 0, \"ticks\": \"\"}}, \"type\": \"scatterpolar\"}], \"scatterpolargl\": [{\"marker\": {\"colorbar\": {\"outlinewidth\": 0, \"ticks\": \"\"}}, \"type\": \"scatterpolargl\"}], \"scatterternary\": [{\"marker\": {\"colorbar\": {\"outlinewidth\": 0, \"ticks\": \"\"}}, \"type\": \"scatterternary\"}], \"surface\": [{\"colorbar\": {\"outlinewidth\": 0, \"ticks\": \"\"}, \"colorscale\": [[0.0, \"#0d0887\"], [0.1111111111111111, \"#46039f\"], [0.2222222222222222, \"#7201a8\"], [0.3333333333333333, \"#9c179e\"], [0.4444444444444444, \"#bd3786\"], [0.5555555555555556, \"#d8576b\"], [0.6666666666666666, \"#ed7953\"], [0.7777777777777778, \"#fb9f3a\"], [0.8888888888888888, \"#fdca26\"], [1.0, \"#f0f921\"]], \"type\": \"surface\"}], \"table\": [{\"cells\": {\"fill\": {\"color\": \"#EBF0F8\"}, \"line\": {\"color\": \"white\"}}, \"header\": {\"fill\": {\"color\": \"#C8D4E3\"}, \"line\": {\"color\": \"white\"}}, \"type\": \"table\"}]}, \"layout\": {\"annotationdefaults\": {\"arrowcolor\": \"#2a3f5f\", \"arrowhead\": 0, \"arrowwidth\": 1}, \"coloraxis\": {\"colorbar\": {\"outlinewidth\": 0, \"ticks\": \"\"}}, \"colorscale\": {\"diverging\": [[0, \"#8e0152\"], [0.1, \"#c51b7d\"], [0.2, \"#de77ae\"], [0.3, \"#f1b6da\"], [0.4, \"#fde0ef\"], [0.5, \"#f7f7f7\"], [0.6, \"#e6f5d0\"], [0.7, \"#b8e186\"], [0.8, \"#7fbc41\"], [0.9, \"#4d9221\"], [1, \"#276419\"]], \"sequential\": [[0.0, \"#0d0887\"], [0.1111111111111111, \"#46039f\"], [0.2222222222222222, \"#7201a8\"], [0.3333333333333333, \"#9c179e\"], [0.4444444444444444, \"#bd3786\"], [0.5555555555555556, \"#d8576b\"], [0.6666666666666666, \"#ed7953\"], [0.7777777777777778, \"#fb9f3a\"], [0.8888888888888888, \"#fdca26\"], [1.0, \"#f0f921\"]], \"sequentialminus\": [[0.0, \"#0d0887\"], [0.1111111111111111, \"#46039f\"], [0.2222222222222222, \"#7201a8\"], [0.3333333333333333, \"#9c179e\"], [0.4444444444444444, \"#bd3786\"], [0.5555555555555556, \"#d8576b\"], [0.6666666666666666, \"#ed7953\"], [0.7777777777777778, \"#fb9f3a\"], [0.8888888888888888, \"#fdca26\"], [1.0, \"#f0f921\"]]}, \"colorway\": [\"#636efa\", \"#EF553B\", \"#00cc96\", \"#ab63fa\", \"#FFA15A\", \"#19d3f3\", \"#FF6692\", \"#B6E880\", \"#FF97FF\", \"#FECB52\"], \"font\": {\"color\": \"#2a3f5f\"}, \"geo\": {\"bgcolor\": \"white\", \"lakecolor\": \"white\", \"landcolor\": \"#E5ECF6\", \"showlakes\": true, \"showland\": true, \"subunitcolor\": \"white\"}, \"hoverlabel\": {\"align\": \"left\"}, \"hovermode\": \"closest\", \"mapbox\": {\"style\": \"light\"}, \"paper_bgcolor\": \"white\", \"plot_bgcolor\": \"#E5ECF6\", \"polar\": {\"angularaxis\": {\"gridcolor\": \"white\", \"linecolor\": \"white\", \"ticks\": \"\"}, \"bgcolor\": \"#E5ECF6\", \"radialaxis\": {\"gridcolor\": \"white\", \"linecolor\": \"white\", \"ticks\": \"\"}}, \"scene\": {\"xaxis\": {\"backgroundcolor\": \"#E5ECF6\", \"gridcolor\": \"white\", \"gridwidth\": 2, \"linecolor\": \"white\", \"showbackground\": true, \"ticks\": \"\", \"zerolinecolor\": \"white\"}, \"yaxis\": {\"backgroundcolor\": \"#E5ECF6\", \"gridcolor\": \"white\", \"gridwidth\": 2, \"linecolor\": \"white\", \"showbackground\": true, \"ticks\": \"\", \"zerolinecolor\": \"white\"}, \"zaxis\": {\"backgroundcolor\": \"#E5ECF6\", \"gridcolor\": \"white\", \"gridwidth\": 2, \"linecolor\": \"white\", \"showbackground\": true, \"ticks\": \"\", \"zerolinecolor\": \"white\"}}, \"shapedefaults\": {\"line\": {\"color\": \"#2a3f5f\"}}, \"ternary\": {\"aaxis\": {\"gridcolor\": \"white\", \"linecolor\": \"white\", \"ticks\": \"\"}, \"baxis\": {\"gridcolor\": \"white\", \"linecolor\": \"white\", \"ticks\": \"\"}, \"bgcolor\": \"#E5ECF6\", \"caxis\": {\"gridcolor\": \"white\", \"linecolor\": \"white\", \"ticks\": \"\"}}, \"title\": {\"x\": 0.05}, \"xaxis\": {\"automargin\": true, \"gridcolor\": \"white\", \"linecolor\": \"white\", \"ticks\": \"\", \"title\": {\"standoff\": 15}, \"zerolinecolor\": \"white\", \"zerolinewidth\": 2}, \"yaxis\": {\"automargin\": true, \"gridcolor\": \"white\", \"linecolor\": \"white\", \"ticks\": \"\", \"title\": {\"standoff\": 15}, \"zerolinecolor\": \"white\", \"zerolinewidth\": 2}}}, \"title\": {\"text\": \"Weekly Growth of different types of Cases in Tamil Nadu\"}, \"xaxis\": {\"title\": {\"text\": \"Week Number\"}}, \"yaxis\": {\"title\": {\"text\": \"Number of Cases\"}}},\n",
              "                        {\"responsive\": true}\n",
              "                    ).then(function(){\n",
              "                            \n",
              "var gd = document.getElementById('95847e70-5693-4f54-a4df-5e55372b81f3');\n",
              "var x = new MutationObserver(function (mutations, observer) {{\n",
              "        var display = window.getComputedStyle(gd).display;\n",
              "        if (!display || display === 'none') {{\n",
              "            console.log([gd, 'removed!']);\n",
              "            Plotly.purge(gd);\n",
              "            observer.disconnect();\n",
              "        }}\n",
              "}});\n",
              "\n",
              "// Listen for the removal of the full notebook cells\n",
              "var notebookContainer = gd.closest('#notebook-container');\n",
              "if (notebookContainer) {{\n",
              "    x.observe(notebookContainer, {childList: true});\n",
              "}}\n",
              "\n",
              "// Listen for the clearing of the current output cell\n",
              "var outputEl = gd.closest('.output');\n",
              "if (outputEl) {{\n",
              "    x.observe(outputEl, {childList: true});\n",
              "}}\n",
              "\n",
              "                        })\n",
              "                };\n",
              "                \n",
              "            </script>\n",
              "        </div>\n",
              "</body>\n",
              "</html>"
            ]
          },
          "metadata": {}
        }
      ]
    },
    {
      "cell_type": "markdown",
      "metadata": {
        "id": "GTQ_B69JFjaO"
      },
      "source": [
        "GROWTH RATE OF TAMIL NADU\n"
      ]
    },
    {
      "cell_type": "code",
      "metadata": {
        "colab": {
          "base_uri": "https://localhost:8080/",
          "height": 542
        },
        "id": "Qx6kgTZiFefX",
        "outputId": "56687d00-0a49-4db8-a52f-daffc654965b"
      },
      "source": [
        "fig=go.Figure()\n",
        "fig.add_trace(go.Scatter(x=datewise.index, y=datewise[\"confirmed\"],\n",
        "                    mode='lines+markers',\n",
        "                    name='Confirmed Cases'))\n",
        "fig.add_trace(go.Scatter(x=datewise.index, y=datewise[\"recovered\"],\n",
        "                    mode='lines+markers',\n",
        "                    name='Recovered Cases'))\n",
        "fig.add_trace(go.Scatter(x=datewise.index, y=datewise[\"dead\"],\n",
        "                    mode='lines+markers',\n",
        "                    name='Death Cases'))\n",
        "fig.update_layout(title=\"Growth of different types of cases\",\n",
        "                 xaxis_title=\"Date\",yaxis_title=\"Number of Cases\",legend=dict(x=0,y=1,traceorder=\"normal\"))\n",
        "fig.show()"
      ],
      "execution_count": 293,
      "outputs": [
        {
          "output_type": "display_data",
          "data": {
            "text/html": [
              "<html>\n",
              "<head><meta charset=\"utf-8\" /></head>\n",
              "<body>\n",
              "    <div>\n",
              "            <script src=\"https://cdnjs.cloudflare.com/ajax/libs/mathjax/2.7.5/MathJax.js?config=TeX-AMS-MML_SVG\"></script><script type=\"text/javascript\">if (window.MathJax) {MathJax.Hub.Config({SVG: {font: \"STIX-Web\"}});}</script>\n",
              "                <script type=\"text/javascript\">window.PlotlyConfig = {MathJaxConfig: 'local'};</script>\n",
              "        <script src=\"https://cdn.plot.ly/plotly-latest.min.js\"></script>    \n",
              "            <div id=\"c5b722b9-7290-484a-af78-29ec6ba9dfbf\" class=\"plotly-graph-div\" style=\"height:525px; width:100%;\"></div>\n",
              "            <script type=\"text/javascript\">\n",
              "                \n",
              "                    window.PLOTLYENV=window.PLOTLYENV || {};\n",
              "                    \n",
              "                if (document.getElementById(\"c5b722b9-7290-484a-af78-29ec6ba9dfbf\")) {\n",
              "                    Plotly.newPlot(\n",
              "                        'c5b722b9-7290-484a-af78-29ec6ba9dfbf',\n",
              "                        [{\"mode\": \"lines+markers\", \"name\": \"Confirmed Cases\", \"type\": \"scatter\", \"x\": [\"2021-04-01T00:00:00\", \"2021-04-02T00:00:00\", \"2021-04-03T00:00:00\", \"2021-04-04T00:00:00\", \"2021-04-05T00:00:00\", \"2021-04-06T00:00:00\", \"2021-04-07T00:00:00\", \"2021-04-08T00:00:00\", \"2021-04-09T00:00:00\", \"2021-04-10T00:00:00\", \"2021-04-11T00:00:00\", \"2021-04-12T00:00:00\", \"2021-04-13T00:00:00\", \"2021-04-14T00:00:00\", \"2021-04-15T00:00:00\", \"2021-04-16T00:00:00\", \"2021-04-17T00:00:00\", \"2021-04-18T00:00:00\", \"2021-04-19T00:00:00\", \"2021-04-20T00:00:00\", \"2021-04-21T00:00:00\", \"2021-04-22T00:00:00\", \"2021-04-23T00:00:00\", \"2021-04-24T00:00:00\", \"2021-04-25T00:00:00\", \"2021-04-26T00:00:00\", \"2021-04-27T00:00:00\", \"2021-04-28T00:00:00\", \"2021-04-29T00:00:00\", \"2021-04-30T00:00:00\", \"2021-05-01T00:00:00\", \"2021-05-02T00:00:00\", \"2021-05-03T00:00:00\", \"2021-05-04T00:00:00\", \"2021-05-05T00:00:00\", \"2021-05-06T00:00:00\", \"2021-05-07T00:00:00\", \"2021-05-08T00:00:00\", \"2021-05-09T00:00:00\", \"2021-05-10T00:00:00\", \"2021-05-11T00:00:00\", \"2021-05-12T00:00:00\", \"2021-05-13T00:00:00\", \"2021-05-14T00:00:00\", \"2021-05-15T00:00:00\", \"2021-05-16T00:00:00\", \"2021-05-17T00:00:00\", \"2021-05-18T00:00:00\", \"2021-05-19T00:00:00\", \"2021-05-20T00:00:00\", \"2021-05-21T00:00:00\", \"2021-05-22T00:00:00\", \"2021-05-23T00:00:00\", \"2021-05-24T00:00:00\", \"2021-05-25T00:00:00\", \"2021-05-26T00:00:00\", \"2021-05-27T00:00:00\", \"2021-05-28T00:00:00\", \"2021-05-29T00:00:00\", \"2021-05-30T00:00:00\", \"2021-05-31T00:00:00\", \"2021-06-01T00:00:00\", \"2021-06-02T00:00:00\", \"2021-06-03T00:00:00\", \"2021-06-04T00:00:00\", \"2021-06-05T00:00:00\", \"2021-06-06T00:00:00\", \"2021-06-07T00:00:00\", \"2021-06-08T00:00:00\", \"2021-06-09T00:00:00\", \"2021-06-10T00:00:00\", \"2021-06-11T00:00:00\", \"2021-06-12T00:00:00\", \"2021-06-13T00:00:00\", \"2021-06-14T00:00:00\", \"2021-06-15T00:00:00\", \"2021-06-16T00:00:00\", \"2021-06-17T00:00:00\", \"2021-06-18T00:00:00\", \"2021-06-19T00:00:00\", \"2021-06-20T00:00:00\", \"2021-06-21T00:00:00\", \"2021-06-22T00:00:00\", \"2021-06-23T00:00:00\", \"2021-06-24T00:00:00\", \"2021-06-25T00:00:00\", \"2021-06-26T00:00:00\", \"2021-06-27T00:00:00\", \"2021-06-28T00:00:00\", \"2021-06-29T00:00:00\", \"2021-06-30T00:00:00\", \"2021-07-01T00:00:00\", \"2021-07-02T00:00:00\", \"2021-07-03T00:00:00\", \"2021-07-04T00:00:00\", \"2021-07-05T00:00:00\", \"2021-07-06T00:00:00\", \"2021-07-07T00:00:00\", \"2021-07-08T00:00:00\", \"2021-07-09T00:00:00\", \"2021-07-10T00:00:00\", \"2021-07-11T00:00:00\", \"2021-07-12T00:00:00\", \"2021-07-13T00:00:00\", \"2021-07-14T00:00:00\", \"2021-07-15T00:00:00\", \"2021-07-16T00:00:00\", \"2021-07-17T00:00:00\", \"2021-07-18T00:00:00\", \"2021-07-19T00:00:00\", \"2021-07-20T00:00:00\", \"2021-07-21T00:00:00\", \"2021-07-22T00:00:00\", \"2021-07-23T00:00:00\", \"2021-07-24T00:00:00\", \"2021-07-25T00:00:00\", \"2021-07-26T00:00:00\", \"2021-07-27T00:00:00\", \"2021-07-28T00:00:00\", \"2021-07-29T00:00:00\", \"2021-07-30T00:00:00\", \"2021-07-31T00:00:00\", \"2021-08-01T00:00:00\", \"2021-08-02T00:00:00\", \"2021-08-03T00:00:00\", \"2021-08-04T00:00:00\", \"2021-08-05T00:00:00\", \"2021-08-06T00:00:00\", \"2021-08-07T00:00:00\", \"2021-08-08T00:00:00\", \"2021-08-09T00:00:00\", \"2021-08-10T00:00:00\", \"2021-08-11T00:00:00\", \"2021-08-12T00:00:00\", \"2021-08-13T00:00:00\", \"2021-08-14T00:00:00\", \"2021-08-15T00:00:00\", \"2021-08-16T00:00:00\", \"2021-08-17T00:00:00\", \"2021-08-18T00:00:00\", \"2021-08-19T00:00:00\", \"2021-08-20T00:00:00\", \"2021-08-21T00:00:00\", \"2021-08-22T00:00:00\", \"2021-08-23T00:00:00\", \"2021-08-24T00:00:00\", \"2021-08-25T00:00:00\", \"2021-08-26T00:00:00\", \"2021-08-27T00:00:00\", \"2021-08-28T00:00:00\", \"2021-08-29T00:00:00\", \"2021-08-30T00:00:00\", \"2021-08-31T00:00:00\", \"2021-09-01T00:00:00\", \"2021-09-02T00:00:00\", \"2021-09-03T00:00:00\", \"2021-09-04T00:00:00\", \"2021-09-05T00:00:00\", \"2021-09-06T00:00:00\", \"2021-09-07T00:00:00\", \"2021-09-08T00:00:00\", \"2021-09-09T00:00:00\", \"2021-09-10T00:00:00\", \"2021-09-11T00:00:00\", \"2021-09-12T00:00:00\", \"2021-09-13T00:00:00\", \"2021-09-14T00:00:00\", \"2021-09-15T00:00:00\", \"2021-09-16T00:00:00\", \"2021-09-17T00:00:00\", \"2021-09-18T00:00:00\", \"2021-09-19T00:00:00\", \"2021-09-20T00:00:00\", \"2021-09-21T00:00:00\", \"2021-09-22T00:00:00\", \"2021-09-23T00:00:00\", \"2021-09-24T00:00:00\", \"2021-09-25T00:00:00\", \"2021-09-26T00:00:00\", \"2021-09-27T00:00:00\", \"2021-09-28T00:00:00\", \"2021-09-29T00:00:00\", \"2021-09-30T00:00:00\"], \"y\": [889490, 892780, 896226, 899807, 903479, 907124, 911110, 915386, 920827, 926816, 933434, 940145, 947129, 954948, 962935, 971384, 980728, 991451, 1002392, 1013378, 1025059, 1037711, 1051487, 1066329, 1081988, 1097672, 1113502, 1130167, 1148064, 1166756, 1186344, 1207112, 1228064, 1249292, 1272602, 1297500, 1323965, 1351362, 1380259, 1409237, 1438509, 1468864, 1499485, 1531377, 1565035, 1598216, 1631291, 1664350, 1699225, 1734804, 1770988, 1806861, 1842344, 1877211, 1911496, 1945260, 1978621, 2009700, 2039716, 2068580, 2096516, 2123029, 2148346, 2172751, 2195402, 2216812, 2237233, 2256681, 2274704, 2292025, 2308838, 2324597, 2339705, 2353721, 2366493, 2378298, 2388746, 2397864, 2406497, 2414680, 2422497, 2429924, 2436819, 2443415, 2449577, 2455332, 2460747, 2465874, 2470678, 2475190, 2479696, 2484177, 2488407, 2492420, 2496287, 2500002, 2503481, 2506848, 2510059, 2513098, 2516011, 2518786, 2521438, 2523943, 2526401, 2528806, 2531118, 2533323, 2535402, 2537373, 2539277, 2541168, 2543040, 2544870, 2546689, 2548497, 2550282, 2552049, 2553805, 2555664, 2557611, 2559597, 2561587, 2563544, 2565452, 2567401, 2569398, 2571383, 2573352, 2575308, 2577237, 2579130, 2581094, 2583036, 2584969, 2586885, 2588781, 2590632, 2592436, 2594233, 2595935, 2597603, 2599255, 2600885, 2602489, 2604074, 2605647, 2607206, 2608748, 2610299, 2611837, 2613360, 2614872, 2616381, 2617943, 2619511, 2621086, 2622678, 2624234, 2625778, 2627365, 2628961, 2630592, 2632231, 2633839, 2635419, 2637010, 2638668, 2640361, 2642030, 2643683, 2645380, 2647041, 2648688, 2650370, 2652115, 2653848, 2655572, 2657266, 2658923, 2660553, 2662177, 2663789]}, {\"mode\": \"lines+markers\", \"name\": \"Recovered Cases\", \"type\": \"scatter\", \"x\": [\"2021-04-01T00:00:00\", \"2021-04-02T00:00:00\", \"2021-04-03T00:00:00\", \"2021-04-04T00:00:00\", \"2021-04-05T00:00:00\", \"2021-04-06T00:00:00\", \"2021-04-07T00:00:00\", \"2021-04-08T00:00:00\", \"2021-04-09T00:00:00\", \"2021-04-10T00:00:00\", \"2021-04-11T00:00:00\", \"2021-04-12T00:00:00\", \"2021-04-13T00:00:00\", \"2021-04-14T00:00:00\", \"2021-04-15T00:00:00\", \"2021-04-16T00:00:00\", \"2021-04-17T00:00:00\", \"2021-04-18T00:00:00\", \"2021-04-19T00:00:00\", \"2021-04-20T00:00:00\", \"2021-04-21T00:00:00\", \"2021-04-22T00:00:00\", \"2021-04-23T00:00:00\", \"2021-04-24T00:00:00\", \"2021-04-25T00:00:00\", \"2021-04-26T00:00:00\", \"2021-04-27T00:00:00\", \"2021-04-28T00:00:00\", \"2021-04-29T00:00:00\", \"2021-04-30T00:00:00\", \"2021-05-01T00:00:00\", \"2021-05-02T00:00:00\", \"2021-05-03T00:00:00\", \"2021-05-04T00:00:00\", \"2021-05-05T00:00:00\", \"2021-05-06T00:00:00\", \"2021-05-07T00:00:00\", \"2021-05-08T00:00:00\", \"2021-05-09T00:00:00\", \"2021-05-10T00:00:00\", \"2021-05-11T00:00:00\", \"2021-05-12T00:00:00\", \"2021-05-13T00:00:00\", \"2021-05-14T00:00:00\", \"2021-05-15T00:00:00\", \"2021-05-16T00:00:00\", \"2021-05-17T00:00:00\", \"2021-05-18T00:00:00\", \"2021-05-19T00:00:00\", \"2021-05-20T00:00:00\", \"2021-05-21T00:00:00\", \"2021-05-22T00:00:00\", \"2021-05-23T00:00:00\", \"2021-05-24T00:00:00\", \"2021-05-25T00:00:00\", \"2021-05-26T00:00:00\", \"2021-05-27T00:00:00\", \"2021-05-28T00:00:00\", \"2021-05-29T00:00:00\", \"2021-05-30T00:00:00\", \"2021-05-31T00:00:00\", \"2021-06-01T00:00:00\", \"2021-06-02T00:00:00\", \"2021-06-03T00:00:00\", \"2021-06-04T00:00:00\", \"2021-06-05T00:00:00\", \"2021-06-06T00:00:00\", \"2021-06-07T00:00:00\", \"2021-06-08T00:00:00\", \"2021-06-09T00:00:00\", \"2021-06-10T00:00:00\", \"2021-06-11T00:00:00\", \"2021-06-12T00:00:00\", \"2021-06-13T00:00:00\", \"2021-06-14T00:00:00\", \"2021-06-15T00:00:00\", \"2021-06-16T00:00:00\", \"2021-06-17T00:00:00\", \"2021-06-18T00:00:00\", \"2021-06-19T00:00:00\", \"2021-06-20T00:00:00\", \"2021-06-21T00:00:00\", \"2021-06-22T00:00:00\", \"2021-06-23T00:00:00\", \"2021-06-24T00:00:00\", \"2021-06-25T00:00:00\", \"2021-06-26T00:00:00\", \"2021-06-27T00:00:00\", \"2021-06-28T00:00:00\", \"2021-06-29T00:00:00\", \"2021-06-30T00:00:00\", \"2021-07-01T00:00:00\", \"2021-07-02T00:00:00\", \"2021-07-03T00:00:00\", \"2021-07-04T00:00:00\", \"2021-07-05T00:00:00\", \"2021-07-06T00:00:00\", \"2021-07-07T00:00:00\", \"2021-07-08T00:00:00\", \"2021-07-09T00:00:00\", \"2021-07-10T00:00:00\", \"2021-07-11T00:00:00\", \"2021-07-12T00:00:00\", \"2021-07-13T00:00:00\", \"2021-07-14T00:00:00\", \"2021-07-15T00:00:00\", \"2021-07-16T00:00:00\", \"2021-07-17T00:00:00\", \"2021-07-18T00:00:00\", \"2021-07-19T00:00:00\", \"2021-07-20T00:00:00\", \"2021-07-21T00:00:00\", \"2021-07-22T00:00:00\", \"2021-07-23T00:00:00\", \"2021-07-24T00:00:00\", \"2021-07-25T00:00:00\", \"2021-07-26T00:00:00\", \"2021-07-27T00:00:00\", \"2021-07-28T00:00:00\", \"2021-07-29T00:00:00\", \"2021-07-30T00:00:00\", \"2021-07-31T00:00:00\", \"2021-08-01T00:00:00\", \"2021-08-02T00:00:00\", \"2021-08-03T00:00:00\", \"2021-08-04T00:00:00\", \"2021-08-05T00:00:00\", \"2021-08-06T00:00:00\", \"2021-08-07T00:00:00\", \"2021-08-08T00:00:00\", \"2021-08-09T00:00:00\", \"2021-08-10T00:00:00\", \"2021-08-11T00:00:00\", \"2021-08-12T00:00:00\", \"2021-08-13T00:00:00\", \"2021-08-14T00:00:00\", \"2021-08-15T00:00:00\", \"2021-08-16T00:00:00\", \"2021-08-17T00:00:00\", \"2021-08-18T00:00:00\", \"2021-08-19T00:00:00\", \"2021-08-20T00:00:00\", \"2021-08-21T00:00:00\", \"2021-08-22T00:00:00\", \"2021-08-23T00:00:00\", \"2021-08-24T00:00:00\", \"2021-08-25T00:00:00\", \"2021-08-26T00:00:00\", \"2021-08-27T00:00:00\", \"2021-08-28T00:00:00\", \"2021-08-29T00:00:00\", \"2021-08-30T00:00:00\", \"2021-08-31T00:00:00\", \"2021-09-01T00:00:00\", \"2021-09-02T00:00:00\", \"2021-09-03T00:00:00\", \"2021-09-04T00:00:00\", \"2021-09-05T00:00:00\", \"2021-09-06T00:00:00\", \"2021-09-07T00:00:00\", \"2021-09-08T00:00:00\", \"2021-09-09T00:00:00\", \"2021-09-10T00:00:00\", \"2021-09-11T00:00:00\", \"2021-09-12T00:00:00\", \"2021-09-13T00:00:00\", \"2021-09-14T00:00:00\", \"2021-09-15T00:00:00\", \"2021-09-16T00:00:00\", \"2021-09-17T00:00:00\", \"2021-09-18T00:00:00\", \"2021-09-19T00:00:00\", \"2021-09-20T00:00:00\", \"2021-09-21T00:00:00\", \"2021-09-22T00:00:00\", \"2021-09-23T00:00:00\", \"2021-09-24T00:00:00\", \"2021-09-25T00:00:00\", \"2021-09-26T00:00:00\", \"2021-09-27T00:00:00\", \"2021-09-28T00:00:00\", \"2021-09-29T00:00:00\", \"2021-09-30T00:00:00\"], \"y\": [859709, 861424, 863258, 865071, 866913, 868722, 870546, 872415, 874305, 876257, 878571, 880910, 884199, 887663, 891839, 896759, 902022, 907947, 914119, 920369, 927440, 934966, 943044, 952186, 963251, 976876, 990919, 1006033, 1021575, 1037582, 1054746, 1072322, 1090338, 1109450, 1129512, 1151058, 1173439, 1196549, 1220064, 1240968, 1260150, 1279658, 1298945, 1318982, 1339887, 1361204, 1381690, 1403052, 1426915, 1452283, 1476761, 1502537, 1527733, 1554759, 1583504, 1613221, 1643284, 1674539, 1706298, 1739280, 1770503, 1802176, 1834439, 1866660, 1900306, 1932778, 1965939, 1997299, 2028344, 2059597, 2091646, 2120889, 2148352, 2174247, 2199808, 2223015, 2244073, 2266793, 2286653, 2304885, 2321928, 2337209, 2348353, 2358785, 2367831, 2375963, 2383624, 2390783, 2397336, 2403349, 2408886, 2413930, 2418882, 2423606, 2427988, 2432017, 2435872, 2439576, 2443141, 2446552, 2449873, 2453061, 2456165, 2459223, 2462244, 2465250, 2468236, 2471038, 2473781, 2476339, 2478778, 2481201, 2483676, 2486192, 2488775, 2491222, 2493583, 2495895, 2498289, 2500434, 2502627, 2504805, 2506961, 2509029, 2511076, 2513087, 2515030, 2516938, 2518777, 2520584, 2522470, 2524400, 2526317, 2528209, 2530096, 2531962, 2533804, 2535715, 2537632, 2539540, 2541432, 2543319, 2545178, 2547005, 2548868, 2550710, 2552507, 2554323, 2556116, 2557884, 2559637, 2561376, 2563101, 2564820, 2566504, 2568161, 2569771, 2571378, 2572942, 2574518, 2576112, 2577646, 2579169, 2580686, 2582198, 2583707, 2585244, 2586786, 2588334, 2589899, 2591480, 2593074, 2594697, 2596316, 2597943, 2599567, 2601198, 2602833, 2604491, 2606153, 2607796, 2609435, 2611061]}, {\"mode\": \"lines+markers\", \"name\": \"Death Cases\", \"type\": \"scatter\", \"x\": [\"2021-04-01T00:00:00\", \"2021-04-02T00:00:00\", \"2021-04-03T00:00:00\", \"2021-04-04T00:00:00\", \"2021-04-05T00:00:00\", \"2021-04-06T00:00:00\", \"2021-04-07T00:00:00\", \"2021-04-08T00:00:00\", \"2021-04-09T00:00:00\", \"2021-04-10T00:00:00\", \"2021-04-11T00:00:00\", \"2021-04-12T00:00:00\", \"2021-04-13T00:00:00\", \"2021-04-14T00:00:00\", \"2021-04-15T00:00:00\", \"2021-04-16T00:00:00\", \"2021-04-17T00:00:00\", \"2021-04-18T00:00:00\", \"2021-04-19T00:00:00\", \"2021-04-20T00:00:00\", \"2021-04-21T00:00:00\", \"2021-04-22T00:00:00\", \"2021-04-23T00:00:00\", \"2021-04-24T00:00:00\", \"2021-04-25T00:00:00\", \"2021-04-26T00:00:00\", \"2021-04-27T00:00:00\", \"2021-04-28T00:00:00\", \"2021-04-29T00:00:00\", \"2021-04-30T00:00:00\", \"2021-05-01T00:00:00\", \"2021-05-02T00:00:00\", \"2021-05-03T00:00:00\", \"2021-05-04T00:00:00\", \"2021-05-05T00:00:00\", \"2021-05-06T00:00:00\", \"2021-05-07T00:00:00\", \"2021-05-08T00:00:00\", \"2021-05-09T00:00:00\", \"2021-05-10T00:00:00\", \"2021-05-11T00:00:00\", \"2021-05-12T00:00:00\", \"2021-05-13T00:00:00\", \"2021-05-14T00:00:00\", \"2021-05-15T00:00:00\", \"2021-05-16T00:00:00\", \"2021-05-17T00:00:00\", \"2021-05-18T00:00:00\", \"2021-05-19T00:00:00\", \"2021-05-20T00:00:00\", \"2021-05-21T00:00:00\", \"2021-05-22T00:00:00\", \"2021-05-23T00:00:00\", \"2021-05-24T00:00:00\", \"2021-05-25T00:00:00\", \"2021-05-26T00:00:00\", \"2021-05-27T00:00:00\", \"2021-05-28T00:00:00\", \"2021-05-29T00:00:00\", \"2021-05-30T00:00:00\", \"2021-05-31T00:00:00\", \"2021-06-01T00:00:00\", \"2021-06-02T00:00:00\", \"2021-06-03T00:00:00\", \"2021-06-04T00:00:00\", \"2021-06-05T00:00:00\", \"2021-06-06T00:00:00\", \"2021-06-07T00:00:00\", \"2021-06-08T00:00:00\", \"2021-06-09T00:00:00\", \"2021-06-10T00:00:00\", \"2021-06-11T00:00:00\", \"2021-06-12T00:00:00\", \"2021-06-13T00:00:00\", \"2021-06-14T00:00:00\", \"2021-06-15T00:00:00\", \"2021-06-16T00:00:00\", \"2021-06-17T00:00:00\", \"2021-06-18T00:00:00\", \"2021-06-19T00:00:00\", \"2021-06-20T00:00:00\", \"2021-06-21T00:00:00\", \"2021-06-22T00:00:00\", \"2021-06-23T00:00:00\", \"2021-06-24T00:00:00\", \"2021-06-25T00:00:00\", \"2021-06-26T00:00:00\", \"2021-06-27T00:00:00\", \"2021-06-28T00:00:00\", \"2021-06-29T00:00:00\", \"2021-06-30T00:00:00\", \"2021-07-01T00:00:00\", \"2021-07-02T00:00:00\", \"2021-07-03T00:00:00\", \"2021-07-04T00:00:00\", \"2021-07-05T00:00:00\", \"2021-07-06T00:00:00\", \"2021-07-07T00:00:00\", \"2021-07-08T00:00:00\", \"2021-07-09T00:00:00\", \"2021-07-10T00:00:00\", \"2021-07-11T00:00:00\", \"2021-07-12T00:00:00\", \"2021-07-13T00:00:00\", \"2021-07-14T00:00:00\", \"2021-07-15T00:00:00\", \"2021-07-16T00:00:00\", \"2021-07-17T00:00:00\", \"2021-07-18T00:00:00\", \"2021-07-19T00:00:00\", \"2021-07-20T00:00:00\", \"2021-07-21T00:00:00\", \"2021-07-22T00:00:00\", \"2021-07-23T00:00:00\", \"2021-07-24T00:00:00\", \"2021-07-25T00:00:00\", \"2021-07-26T00:00:00\", \"2021-07-27T00:00:00\", \"2021-07-28T00:00:00\", \"2021-07-29T00:00:00\", \"2021-07-30T00:00:00\", \"2021-07-31T00:00:00\", \"2021-08-01T00:00:00\", \"2021-08-02T00:00:00\", \"2021-08-03T00:00:00\", \"2021-08-04T00:00:00\", \"2021-08-05T00:00:00\", \"2021-08-06T00:00:00\", \"2021-08-07T00:00:00\", \"2021-08-08T00:00:00\", \"2021-08-09T00:00:00\", \"2021-08-10T00:00:00\", \"2021-08-11T00:00:00\", \"2021-08-12T00:00:00\", \"2021-08-13T00:00:00\", \"2021-08-14T00:00:00\", \"2021-08-15T00:00:00\", \"2021-08-16T00:00:00\", \"2021-08-17T00:00:00\", \"2021-08-18T00:00:00\", \"2021-08-19T00:00:00\", \"2021-08-20T00:00:00\", \"2021-08-21T00:00:00\", \"2021-08-22T00:00:00\", \"2021-08-23T00:00:00\", \"2021-08-24T00:00:00\", \"2021-08-25T00:00:00\", \"2021-08-26T00:00:00\", \"2021-08-27T00:00:00\", \"2021-08-28T00:00:00\", \"2021-08-29T00:00:00\", \"2021-08-30T00:00:00\", \"2021-08-31T00:00:00\", \"2021-09-01T00:00:00\", \"2021-09-02T00:00:00\", \"2021-09-03T00:00:00\", \"2021-09-04T00:00:00\", \"2021-09-05T00:00:00\", \"2021-09-06T00:00:00\", \"2021-09-07T00:00:00\", \"2021-09-08T00:00:00\", \"2021-09-09T00:00:00\", \"2021-09-10T00:00:00\", \"2021-09-11T00:00:00\", \"2021-09-12T00:00:00\", \"2021-09-13T00:00:00\", \"2021-09-14T00:00:00\", \"2021-09-15T00:00:00\", \"2021-09-16T00:00:00\", \"2021-09-17T00:00:00\", \"2021-09-18T00:00:00\", \"2021-09-19T00:00:00\", \"2021-09-20T00:00:00\", \"2021-09-21T00:00:00\", \"2021-09-22T00:00:00\", \"2021-09-23T00:00:00\", \"2021-09-24T00:00:00\", \"2021-09-25T00:00:00\", \"2021-09-26T00:00:00\", \"2021-09-27T00:00:00\", \"2021-09-28T00:00:00\", \"2021-09-29T00:00:00\", \"2021-09-30T00:00:00\"], \"y\": [12738, 12750, 12764, 12778, 12789, 12804, 12821, 12840, 12863, 12886, 12908, 12927, 12945, 12970, 12999, 13032, 13071, 13113, 13157, 13205, 13258, 13317, 13395, 13475, 13557, 13651, 13728, 13826, 13933, 14046, 14193, 14346, 14468, 14612, 14779, 14974, 15171, 15412, 15648, 15880, 16178, 16471, 16768, 17056, 17359, 17670, 18005, 18369, 18734, 19131, 19598, 20046, 20468, 20872, 21340, 21815, 22289, 22775, 23261, 23754, 24232, 24722, 25205, 25665, 26128, 26571, 27005, 27356, 27765, 28170, 28528, 28906, 29280, 29547, 29801, 30068, 30338, 30548, 30835, 31015, 31197, 31386, 31580, 31746, 31901, 32051, 32199, 32290, 32388, 32506, 32619, 32721, 32818, 32933, 33005, 33059, 33132, 33196, 33253, 33322, 33371, 33418, 33454, 33502, 33557, 33606, 33652, 33695, 33724, 33752, 33782, 33809, 33838, 33862, 33889, 33911, 33937, 33966, 33995, 34023, 34050, 34076, 34102, 34130, 34159, 34197, 34230, 34260, 34289, 34317, 34340, 34367, 34395, 34428, 34462, 34496, 34519, 34547, 34579, 34610, 34639, 34663, 34686, 34709, 34734, 34761, 34788, 34814, 34835, 34856, 34878, 34899, 34921, 34941, 34961, 34980, 35000, 35018, 35036, 35055, 35073, 35094, 35119, 35146, 35168, 35190, 35217, 35246, 35271, 35288, 35310, 35337, 35360, 35379, 35400, 35427, 35454, 35476, 35490, 35509, 35526, 35550, 35578]}],\n",
              "                        {\"legend\": {\"traceorder\": \"normal\", \"x\": 0, \"y\": 1}, \"template\": {\"data\": {\"bar\": [{\"error_x\": {\"color\": \"#2a3f5f\"}, \"error_y\": {\"color\": \"#2a3f5f\"}, \"marker\": {\"line\": {\"color\": \"#E5ECF6\", \"width\": 0.5}}, \"type\": \"bar\"}], \"barpolar\": [{\"marker\": {\"line\": {\"color\": \"#E5ECF6\", \"width\": 0.5}}, \"type\": \"barpolar\"}], \"carpet\": [{\"aaxis\": {\"endlinecolor\": \"#2a3f5f\", \"gridcolor\": \"white\", \"linecolor\": \"white\", \"minorgridcolor\": \"white\", \"startlinecolor\": \"#2a3f5f\"}, \"baxis\": {\"endlinecolor\": \"#2a3f5f\", \"gridcolor\": \"white\", \"linecolor\": \"white\", \"minorgridcolor\": \"white\", \"startlinecolor\": \"#2a3f5f\"}, \"type\": \"carpet\"}], \"choropleth\": [{\"colorbar\": {\"outlinewidth\": 0, \"ticks\": \"\"}, \"type\": \"choropleth\"}], \"contour\": [{\"colorbar\": {\"outlinewidth\": 0, \"ticks\": \"\"}, \"colorscale\": [[0.0, \"#0d0887\"], [0.1111111111111111, \"#46039f\"], [0.2222222222222222, \"#7201a8\"], [0.3333333333333333, \"#9c179e\"], [0.4444444444444444, \"#bd3786\"], [0.5555555555555556, \"#d8576b\"], [0.6666666666666666, \"#ed7953\"], [0.7777777777777778, \"#fb9f3a\"], [0.8888888888888888, \"#fdca26\"], [1.0, \"#f0f921\"]], \"type\": \"contour\"}], \"contourcarpet\": [{\"colorbar\": {\"outlinewidth\": 0, \"ticks\": \"\"}, \"type\": \"contourcarpet\"}], \"heatmap\": [{\"colorbar\": {\"outlinewidth\": 0, \"ticks\": \"\"}, \"colorscale\": [[0.0, \"#0d0887\"], [0.1111111111111111, \"#46039f\"], [0.2222222222222222, \"#7201a8\"], [0.3333333333333333, \"#9c179e\"], [0.4444444444444444, \"#bd3786\"], [0.5555555555555556, \"#d8576b\"], [0.6666666666666666, \"#ed7953\"], [0.7777777777777778, \"#fb9f3a\"], [0.8888888888888888, \"#fdca26\"], [1.0, \"#f0f921\"]], \"type\": \"heatmap\"}], \"heatmapgl\": [{\"colorbar\": {\"outlinewidth\": 0, \"ticks\": \"\"}, \"colorscale\": [[0.0, \"#0d0887\"], [0.1111111111111111, \"#46039f\"], [0.2222222222222222, \"#7201a8\"], [0.3333333333333333, \"#9c179e\"], [0.4444444444444444, \"#bd3786\"], [0.5555555555555556, \"#d8576b\"], [0.6666666666666666, \"#ed7953\"], [0.7777777777777778, \"#fb9f3a\"], [0.8888888888888888, \"#fdca26\"], [1.0, \"#f0f921\"]], \"type\": \"heatmapgl\"}], \"histogram\": [{\"marker\": {\"colorbar\": {\"outlinewidth\": 0, \"ticks\": \"\"}}, \"type\": \"histogram\"}], \"histogram2d\": [{\"colorbar\": {\"outlinewidth\": 0, \"ticks\": \"\"}, \"colorscale\": [[0.0, \"#0d0887\"], [0.1111111111111111, \"#46039f\"], [0.2222222222222222, \"#7201a8\"], [0.3333333333333333, \"#9c179e\"], [0.4444444444444444, \"#bd3786\"], [0.5555555555555556, \"#d8576b\"], [0.6666666666666666, \"#ed7953\"], [0.7777777777777778, \"#fb9f3a\"], [0.8888888888888888, \"#fdca26\"], [1.0, \"#f0f921\"]], \"type\": \"histogram2d\"}], \"histogram2dcontour\": [{\"colorbar\": {\"outlinewidth\": 0, \"ticks\": \"\"}, \"colorscale\": [[0.0, \"#0d0887\"], [0.1111111111111111, \"#46039f\"], [0.2222222222222222, \"#7201a8\"], [0.3333333333333333, \"#9c179e\"], [0.4444444444444444, \"#bd3786\"], [0.5555555555555556, \"#d8576b\"], [0.6666666666666666, \"#ed7953\"], [0.7777777777777778, \"#fb9f3a\"], [0.8888888888888888, \"#fdca26\"], [1.0, \"#f0f921\"]], \"type\": \"histogram2dcontour\"}], \"mesh3d\": [{\"colorbar\": {\"outlinewidth\": 0, \"ticks\": \"\"}, \"type\": \"mesh3d\"}], \"parcoords\": [{\"line\": {\"colorbar\": {\"outlinewidth\": 0, \"ticks\": \"\"}}, \"type\": \"parcoords\"}], \"pie\": [{\"automargin\": true, \"type\": \"pie\"}], \"scatter\": [{\"marker\": {\"colorbar\": {\"outlinewidth\": 0, \"ticks\": \"\"}}, \"type\": \"scatter\"}], \"scatter3d\": [{\"line\": {\"colorbar\": {\"outlinewidth\": 0, \"ticks\": \"\"}}, \"marker\": {\"colorbar\": {\"outlinewidth\": 0, \"ticks\": \"\"}}, \"type\": \"scatter3d\"}], \"scattercarpet\": [{\"marker\": {\"colorbar\": {\"outlinewidth\": 0, \"ticks\": \"\"}}, \"type\": \"scattercarpet\"}], \"scattergeo\": [{\"marker\": {\"colorbar\": {\"outlinewidth\": 0, \"ticks\": \"\"}}, \"type\": \"scattergeo\"}], \"scattergl\": [{\"marker\": {\"colorbar\": {\"outlinewidth\": 0, \"ticks\": \"\"}}, \"type\": \"scattergl\"}], \"scattermapbox\": [{\"marker\": {\"colorbar\": {\"outlinewidth\": 0, \"ticks\": \"\"}}, \"type\": \"scattermapbox\"}], \"scatterpolar\": [{\"marker\": {\"colorbar\": {\"outlinewidth\": 0, \"ticks\": \"\"}}, \"type\": \"scatterpolar\"}], \"scatterpolargl\": [{\"marker\": {\"colorbar\": {\"outlinewidth\": 0, \"ticks\": \"\"}}, \"type\": \"scatterpolargl\"}], \"scatterternary\": [{\"marker\": {\"colorbar\": {\"outlinewidth\": 0, \"ticks\": \"\"}}, \"type\": \"scatterternary\"}], \"surface\": [{\"colorbar\": {\"outlinewidth\": 0, \"ticks\": \"\"}, \"colorscale\": [[0.0, \"#0d0887\"], [0.1111111111111111, \"#46039f\"], [0.2222222222222222, \"#7201a8\"], [0.3333333333333333, \"#9c179e\"], [0.4444444444444444, \"#bd3786\"], [0.5555555555555556, \"#d8576b\"], [0.6666666666666666, \"#ed7953\"], [0.7777777777777778, \"#fb9f3a\"], [0.8888888888888888, \"#fdca26\"], [1.0, \"#f0f921\"]], \"type\": \"surface\"}], \"table\": [{\"cells\": {\"fill\": {\"color\": \"#EBF0F8\"}, \"line\": {\"color\": \"white\"}}, \"header\": {\"fill\": {\"color\": \"#C8D4E3\"}, \"line\": {\"color\": \"white\"}}, \"type\": \"table\"}]}, \"layout\": {\"annotationdefaults\": {\"arrowcolor\": \"#2a3f5f\", \"arrowhead\": 0, \"arrowwidth\": 1}, \"coloraxis\": {\"colorbar\": {\"outlinewidth\": 0, \"ticks\": \"\"}}, \"colorscale\": {\"diverging\": [[0, \"#8e0152\"], [0.1, \"#c51b7d\"], [0.2, \"#de77ae\"], [0.3, \"#f1b6da\"], [0.4, \"#fde0ef\"], [0.5, \"#f7f7f7\"], [0.6, \"#e6f5d0\"], [0.7, \"#b8e186\"], [0.8, \"#7fbc41\"], [0.9, \"#4d9221\"], [1, \"#276419\"]], \"sequential\": [[0.0, \"#0d0887\"], [0.1111111111111111, \"#46039f\"], [0.2222222222222222, \"#7201a8\"], [0.3333333333333333, \"#9c179e\"], [0.4444444444444444, \"#bd3786\"], [0.5555555555555556, \"#d8576b\"], [0.6666666666666666, \"#ed7953\"], [0.7777777777777778, \"#fb9f3a\"], [0.8888888888888888, \"#fdca26\"], [1.0, \"#f0f921\"]], \"sequentialminus\": [[0.0, \"#0d0887\"], [0.1111111111111111, \"#46039f\"], [0.2222222222222222, \"#7201a8\"], [0.3333333333333333, \"#9c179e\"], [0.4444444444444444, \"#bd3786\"], [0.5555555555555556, \"#d8576b\"], [0.6666666666666666, \"#ed7953\"], [0.7777777777777778, \"#fb9f3a\"], [0.8888888888888888, \"#fdca26\"], [1.0, \"#f0f921\"]]}, \"colorway\": [\"#636efa\", \"#EF553B\", \"#00cc96\", \"#ab63fa\", \"#FFA15A\", \"#19d3f3\", \"#FF6692\", \"#B6E880\", \"#FF97FF\", \"#FECB52\"], \"font\": {\"color\": \"#2a3f5f\"}, \"geo\": {\"bgcolor\": \"white\", \"lakecolor\": \"white\", \"landcolor\": \"#E5ECF6\", \"showlakes\": true, \"showland\": true, \"subunitcolor\": \"white\"}, \"hoverlabel\": {\"align\": \"left\"}, \"hovermode\": \"closest\", \"mapbox\": {\"style\": \"light\"}, \"paper_bgcolor\": \"white\", \"plot_bgcolor\": \"#E5ECF6\", \"polar\": {\"angularaxis\": {\"gridcolor\": \"white\", \"linecolor\": \"white\", \"ticks\": \"\"}, \"bgcolor\": \"#E5ECF6\", \"radialaxis\": {\"gridcolor\": \"white\", \"linecolor\": \"white\", \"ticks\": \"\"}}, \"scene\": {\"xaxis\": {\"backgroundcolor\": \"#E5ECF6\", \"gridcolor\": \"white\", \"gridwidth\": 2, \"linecolor\": \"white\", \"showbackground\": true, \"ticks\": \"\", \"zerolinecolor\": \"white\"}, \"yaxis\": {\"backgroundcolor\": \"#E5ECF6\", \"gridcolor\": \"white\", \"gridwidth\": 2, \"linecolor\": \"white\", \"showbackground\": true, \"ticks\": \"\", \"zerolinecolor\": \"white\"}, \"zaxis\": {\"backgroundcolor\": \"#E5ECF6\", \"gridcolor\": \"white\", \"gridwidth\": 2, \"linecolor\": \"white\", \"showbackground\": true, \"ticks\": \"\", \"zerolinecolor\": \"white\"}}, \"shapedefaults\": {\"line\": {\"color\": \"#2a3f5f\"}}, \"ternary\": {\"aaxis\": {\"gridcolor\": \"white\", \"linecolor\": \"white\", \"ticks\": \"\"}, \"baxis\": {\"gridcolor\": \"white\", \"linecolor\": \"white\", \"ticks\": \"\"}, \"bgcolor\": \"#E5ECF6\", \"caxis\": {\"gridcolor\": \"white\", \"linecolor\": \"white\", \"ticks\": \"\"}}, \"title\": {\"x\": 0.05}, \"xaxis\": {\"automargin\": true, \"gridcolor\": \"white\", \"linecolor\": \"white\", \"ticks\": \"\", \"title\": {\"standoff\": 15}, \"zerolinecolor\": \"white\", \"zerolinewidth\": 2}, \"yaxis\": {\"automargin\": true, \"gridcolor\": \"white\", \"linecolor\": \"white\", \"ticks\": \"\", \"title\": {\"standoff\": 15}, \"zerolinecolor\": \"white\", \"zerolinewidth\": 2}}}, \"title\": {\"text\": \"Growth of different types of cases\"}, \"xaxis\": {\"title\": {\"text\": \"Date\"}}, \"yaxis\": {\"title\": {\"text\": \"Number of Cases\"}}},\n",
              "                        {\"responsive\": true}\n",
              "                    ).then(function(){\n",
              "                            \n",
              "var gd = document.getElementById('c5b722b9-7290-484a-af78-29ec6ba9dfbf');\n",
              "var x = new MutationObserver(function (mutations, observer) {{\n",
              "        var display = window.getComputedStyle(gd).display;\n",
              "        if (!display || display === 'none') {{\n",
              "            console.log([gd, 'removed!']);\n",
              "            Plotly.purge(gd);\n",
              "            observer.disconnect();\n",
              "        }}\n",
              "}});\n",
              "\n",
              "// Listen for the removal of the full notebook cells\n",
              "var notebookContainer = gd.closest('#notebook-container');\n",
              "if (notebookContainer) {{\n",
              "    x.observe(notebookContainer, {childList: true});\n",
              "}}\n",
              "\n",
              "// Listen for the clearing of the current output cell\n",
              "var outputEl = gd.closest('.output');\n",
              "if (outputEl) {{\n",
              "    x.observe(outputEl, {childList: true});\n",
              "}}\n",
              "\n",
              "                        })\n",
              "                };\n",
              "                \n",
              "            </script>\n",
              "        </div>\n",
              "</body>\n",
              "</html>"
            ]
          },
          "metadata": {}
        }
      ]
    },
    {
      "cell_type": "code",
      "metadata": {
        "colab": {
          "base_uri": "https://localhost:8080/",
          "height": 593
        },
        "id": "4ocG7sZrGybG",
        "outputId": "046863ec-5ee8-4b78-f8e9-35f62a837ba6"
      },
      "source": [
        "print(\"Average increase in number of Confirmed Cases every day: \",np.round(datewise[\"confirmed\"].diff().fillna(0).mean()))\n",
        "print(\"Average increase in number of Recovered Cases every day: \",np.round(datewise[\"recovered\"].diff().fillna(0).mean()))\n",
        "print(\"Average increase in number of Deaths Cases every day: \",np.round(datewise[\"dead\"].diff().fillna(0).mean()))\n",
        "\n",
        "fig=go.Figure()\n",
        "fig.add_trace(go.Scatter(x=datewise.index, y=datewise[\"confirmed\"].diff().fillna(0),mode='lines+markers',\n",
        "                    name='Confirmed Cases'))\n",
        "fig.add_trace(go.Scatter(x=datewise.index, y=datewise[\"recovered\"].diff().fillna(0),mode='lines+markers',\n",
        "                    name='Recovered Cases'))\n",
        "fig.add_trace(go.Scatter(x=datewise.index, y=datewise[\"dead\"].diff().fillna(0),mode='lines+markers',\n",
        "                    name='Death Cases'))\n",
        "fig.update_layout(title=\"Daily increase in different types of Cases\",\n",
        "                 xaxis_title=\"Date\",yaxis_title=\"Number of Cases\",legend=dict(x=0,y=1,traceorder=\"normal\"))\n",
        "fig.show()"
      ],
      "execution_count": 294,
      "outputs": [
        {
          "output_type": "stream",
          "name": "stdout",
          "text": [
            "Average increase in number of Confirmed Cases every day:  9696.0\n",
            "Average increase in number of Recovered Cases every day:  9570.0\n",
            "Average increase in number of Deaths Cases every day:  125.0\n"
          ]
        },
        {
          "output_type": "display_data",
          "data": {
            "text/html": [
              "<html>\n",
              "<head><meta charset=\"utf-8\" /></head>\n",
              "<body>\n",
              "    <div>\n",
              "            <script src=\"https://cdnjs.cloudflare.com/ajax/libs/mathjax/2.7.5/MathJax.js?config=TeX-AMS-MML_SVG\"></script><script type=\"text/javascript\">if (window.MathJax) {MathJax.Hub.Config({SVG: {font: \"STIX-Web\"}});}</script>\n",
              "                <script type=\"text/javascript\">window.PlotlyConfig = {MathJaxConfig: 'local'};</script>\n",
              "        <script src=\"https://cdn.plot.ly/plotly-latest.min.js\"></script>    \n",
              "            <div id=\"b1dbefa6-887c-43dd-9abb-b30e698f7df5\" class=\"plotly-graph-div\" style=\"height:525px; width:100%;\"></div>\n",
              "            <script type=\"text/javascript\">\n",
              "                \n",
              "                    window.PLOTLYENV=window.PLOTLYENV || {};\n",
              "                    \n",
              "                if (document.getElementById(\"b1dbefa6-887c-43dd-9abb-b30e698f7df5\")) {\n",
              "                    Plotly.newPlot(\n",
              "                        'b1dbefa6-887c-43dd-9abb-b30e698f7df5',\n",
              "                        [{\"mode\": \"lines+markers\", \"name\": \"Confirmed Cases\", \"type\": \"scatter\", \"x\": [\"2021-04-01T00:00:00\", \"2021-04-02T00:00:00\", \"2021-04-03T00:00:00\", \"2021-04-04T00:00:00\", \"2021-04-05T00:00:00\", \"2021-04-06T00:00:00\", \"2021-04-07T00:00:00\", \"2021-04-08T00:00:00\", \"2021-04-09T00:00:00\", \"2021-04-10T00:00:00\", \"2021-04-11T00:00:00\", \"2021-04-12T00:00:00\", \"2021-04-13T00:00:00\", \"2021-04-14T00:00:00\", \"2021-04-15T00:00:00\", \"2021-04-16T00:00:00\", \"2021-04-17T00:00:00\", \"2021-04-18T00:00:00\", \"2021-04-19T00:00:00\", \"2021-04-20T00:00:00\", \"2021-04-21T00:00:00\", \"2021-04-22T00:00:00\", \"2021-04-23T00:00:00\", \"2021-04-24T00:00:00\", \"2021-04-25T00:00:00\", \"2021-04-26T00:00:00\", \"2021-04-27T00:00:00\", \"2021-04-28T00:00:00\", \"2021-04-29T00:00:00\", \"2021-04-30T00:00:00\", \"2021-05-01T00:00:00\", \"2021-05-02T00:00:00\", \"2021-05-03T00:00:00\", \"2021-05-04T00:00:00\", \"2021-05-05T00:00:00\", \"2021-05-06T00:00:00\", \"2021-05-07T00:00:00\", \"2021-05-08T00:00:00\", \"2021-05-09T00:00:00\", \"2021-05-10T00:00:00\", \"2021-05-11T00:00:00\", \"2021-05-12T00:00:00\", \"2021-05-13T00:00:00\", \"2021-05-14T00:00:00\", \"2021-05-15T00:00:00\", \"2021-05-16T00:00:00\", \"2021-05-17T00:00:00\", \"2021-05-18T00:00:00\", \"2021-05-19T00:00:00\", \"2021-05-20T00:00:00\", \"2021-05-21T00:00:00\", \"2021-05-22T00:00:00\", \"2021-05-23T00:00:00\", \"2021-05-24T00:00:00\", \"2021-05-25T00:00:00\", \"2021-05-26T00:00:00\", \"2021-05-27T00:00:00\", \"2021-05-28T00:00:00\", \"2021-05-29T00:00:00\", \"2021-05-30T00:00:00\", \"2021-05-31T00:00:00\", \"2021-06-01T00:00:00\", \"2021-06-02T00:00:00\", \"2021-06-03T00:00:00\", \"2021-06-04T00:00:00\", \"2021-06-05T00:00:00\", \"2021-06-06T00:00:00\", \"2021-06-07T00:00:00\", \"2021-06-08T00:00:00\", \"2021-06-09T00:00:00\", \"2021-06-10T00:00:00\", \"2021-06-11T00:00:00\", \"2021-06-12T00:00:00\", \"2021-06-13T00:00:00\", \"2021-06-14T00:00:00\", \"2021-06-15T00:00:00\", \"2021-06-16T00:00:00\", \"2021-06-17T00:00:00\", \"2021-06-18T00:00:00\", \"2021-06-19T00:00:00\", \"2021-06-20T00:00:00\", \"2021-06-21T00:00:00\", \"2021-06-22T00:00:00\", \"2021-06-23T00:00:00\", \"2021-06-24T00:00:00\", \"2021-06-25T00:00:00\", \"2021-06-26T00:00:00\", \"2021-06-27T00:00:00\", \"2021-06-28T00:00:00\", \"2021-06-29T00:00:00\", \"2021-06-30T00:00:00\", \"2021-07-01T00:00:00\", \"2021-07-02T00:00:00\", \"2021-07-03T00:00:00\", \"2021-07-04T00:00:00\", \"2021-07-05T00:00:00\", \"2021-07-06T00:00:00\", \"2021-07-07T00:00:00\", \"2021-07-08T00:00:00\", \"2021-07-09T00:00:00\", \"2021-07-10T00:00:00\", \"2021-07-11T00:00:00\", \"2021-07-12T00:00:00\", \"2021-07-13T00:00:00\", \"2021-07-14T00:00:00\", \"2021-07-15T00:00:00\", \"2021-07-16T00:00:00\", \"2021-07-17T00:00:00\", \"2021-07-18T00:00:00\", \"2021-07-19T00:00:00\", \"2021-07-20T00:00:00\", \"2021-07-21T00:00:00\", \"2021-07-22T00:00:00\", \"2021-07-23T00:00:00\", \"2021-07-24T00:00:00\", \"2021-07-25T00:00:00\", \"2021-07-26T00:00:00\", \"2021-07-27T00:00:00\", \"2021-07-28T00:00:00\", \"2021-07-29T00:00:00\", \"2021-07-30T00:00:00\", \"2021-07-31T00:00:00\", \"2021-08-01T00:00:00\", \"2021-08-02T00:00:00\", \"2021-08-03T00:00:00\", \"2021-08-04T00:00:00\", \"2021-08-05T00:00:00\", \"2021-08-06T00:00:00\", \"2021-08-07T00:00:00\", \"2021-08-08T00:00:00\", \"2021-08-09T00:00:00\", \"2021-08-10T00:00:00\", \"2021-08-11T00:00:00\", \"2021-08-12T00:00:00\", \"2021-08-13T00:00:00\", \"2021-08-14T00:00:00\", \"2021-08-15T00:00:00\", \"2021-08-16T00:00:00\", \"2021-08-17T00:00:00\", \"2021-08-18T00:00:00\", \"2021-08-19T00:00:00\", \"2021-08-20T00:00:00\", \"2021-08-21T00:00:00\", \"2021-08-22T00:00:00\", \"2021-08-23T00:00:00\", \"2021-08-24T00:00:00\", \"2021-08-25T00:00:00\", \"2021-08-26T00:00:00\", \"2021-08-27T00:00:00\", \"2021-08-28T00:00:00\", \"2021-08-29T00:00:00\", \"2021-08-30T00:00:00\", \"2021-08-31T00:00:00\", \"2021-09-01T00:00:00\", \"2021-09-02T00:00:00\", \"2021-09-03T00:00:00\", \"2021-09-04T00:00:00\", \"2021-09-05T00:00:00\", \"2021-09-06T00:00:00\", \"2021-09-07T00:00:00\", \"2021-09-08T00:00:00\", \"2021-09-09T00:00:00\", \"2021-09-10T00:00:00\", \"2021-09-11T00:00:00\", \"2021-09-12T00:00:00\", \"2021-09-13T00:00:00\", \"2021-09-14T00:00:00\", \"2021-09-15T00:00:00\", \"2021-09-16T00:00:00\", \"2021-09-17T00:00:00\", \"2021-09-18T00:00:00\", \"2021-09-19T00:00:00\", \"2021-09-20T00:00:00\", \"2021-09-21T00:00:00\", \"2021-09-22T00:00:00\", \"2021-09-23T00:00:00\", \"2021-09-24T00:00:00\", \"2021-09-25T00:00:00\", \"2021-09-26T00:00:00\", \"2021-09-27T00:00:00\", \"2021-09-28T00:00:00\", \"2021-09-29T00:00:00\", \"2021-09-30T00:00:00\"], \"y\": [0.0, 3290.0, 3446.0, 3581.0, 3672.0, 3645.0, 3986.0, 4276.0, 5441.0, 5989.0, 6618.0, 6711.0, 6984.0, 7819.0, 7987.0, 8449.0, 9344.0, 10723.0, 10941.0, 10986.0, 11681.0, 12652.0, 13776.0, 14842.0, 15659.0, 15684.0, 15830.0, 16665.0, 17897.0, 18692.0, 19588.0, 20768.0, 20952.0, 21228.0, 23310.0, 24898.0, 26465.0, 27397.0, 28897.0, 28978.0, 29272.0, 30355.0, 30621.0, 31892.0, 33658.0, 33181.0, 33075.0, 33059.0, 34875.0, 35579.0, 36184.0, 35873.0, 35483.0, 34867.0, 34285.0, 33764.0, 33361.0, 31079.0, 30016.0, 28864.0, 27936.0, 26513.0, 25317.0, 24405.0, 22651.0, 21410.0, 20421.0, 19448.0, 18023.0, 17321.0, 16813.0, 15759.0, 15108.0, 14016.0, 12772.0, 11805.0, 10448.0, 9118.0, 8633.0, 8183.0, 7817.0, 7427.0, 6895.0, 6596.0, 6162.0, 5755.0, 5415.0, 5127.0, 4804.0, 4512.0, 4506.0, 4481.0, 4230.0, 4013.0, 3867.0, 3715.0, 3479.0, 3367.0, 3211.0, 3039.0, 2913.0, 2775.0, 2652.0, 2505.0, 2458.0, 2405.0, 2312.0, 2205.0, 2079.0, 1971.0, 1904.0, 1891.0, 1872.0, 1830.0, 1819.0, 1808.0, 1785.0, 1767.0, 1756.0, 1859.0, 1947.0, 1986.0, 1990.0, 1957.0, 1908.0, 1949.0, 1997.0, 1985.0, 1969.0, 1956.0, 1929.0, 1893.0, 1964.0, 1942.0, 1933.0, 1916.0, 1896.0, 1851.0, 1804.0, 1797.0, 1702.0, 1668.0, 1652.0, 1630.0, 1604.0, 1585.0, 1573.0, 1559.0, 1542.0, 1551.0, 1538.0, 1523.0, 1512.0, 1509.0, 1562.0, 1568.0, 1575.0, 1592.0, 1556.0, 1544.0, 1587.0, 1596.0, 1631.0, 1639.0, 1608.0, 1580.0, 1591.0, 1658.0, 1693.0, 1669.0, 1653.0, 1697.0, 1661.0, 1647.0, 1682.0, 1745.0, 1733.0, 1724.0, 1694.0, 1657.0, 1630.0, 1624.0, 1612.0]}, {\"mode\": \"lines+markers\", \"name\": \"Recovered Cases\", \"type\": \"scatter\", \"x\": [\"2021-04-01T00:00:00\", \"2021-04-02T00:00:00\", \"2021-04-03T00:00:00\", \"2021-04-04T00:00:00\", \"2021-04-05T00:00:00\", \"2021-04-06T00:00:00\", \"2021-04-07T00:00:00\", \"2021-04-08T00:00:00\", \"2021-04-09T00:00:00\", \"2021-04-10T00:00:00\", \"2021-04-11T00:00:00\", \"2021-04-12T00:00:00\", \"2021-04-13T00:00:00\", \"2021-04-14T00:00:00\", \"2021-04-15T00:00:00\", \"2021-04-16T00:00:00\", \"2021-04-17T00:00:00\", \"2021-04-18T00:00:00\", \"2021-04-19T00:00:00\", \"2021-04-20T00:00:00\", \"2021-04-21T00:00:00\", \"2021-04-22T00:00:00\", \"2021-04-23T00:00:00\", \"2021-04-24T00:00:00\", \"2021-04-25T00:00:00\", \"2021-04-26T00:00:00\", \"2021-04-27T00:00:00\", \"2021-04-28T00:00:00\", \"2021-04-29T00:00:00\", \"2021-04-30T00:00:00\", \"2021-05-01T00:00:00\", \"2021-05-02T00:00:00\", \"2021-05-03T00:00:00\", \"2021-05-04T00:00:00\", \"2021-05-05T00:00:00\", \"2021-05-06T00:00:00\", \"2021-05-07T00:00:00\", \"2021-05-08T00:00:00\", \"2021-05-09T00:00:00\", \"2021-05-10T00:00:00\", \"2021-05-11T00:00:00\", \"2021-05-12T00:00:00\", \"2021-05-13T00:00:00\", \"2021-05-14T00:00:00\", \"2021-05-15T00:00:00\", \"2021-05-16T00:00:00\", \"2021-05-17T00:00:00\", \"2021-05-18T00:00:00\", \"2021-05-19T00:00:00\", \"2021-05-20T00:00:00\", \"2021-05-21T00:00:00\", \"2021-05-22T00:00:00\", \"2021-05-23T00:00:00\", \"2021-05-24T00:00:00\", \"2021-05-25T00:00:00\", \"2021-05-26T00:00:00\", \"2021-05-27T00:00:00\", \"2021-05-28T00:00:00\", \"2021-05-29T00:00:00\", \"2021-05-30T00:00:00\", \"2021-05-31T00:00:00\", \"2021-06-01T00:00:00\", \"2021-06-02T00:00:00\", \"2021-06-03T00:00:00\", \"2021-06-04T00:00:00\", \"2021-06-05T00:00:00\", \"2021-06-06T00:00:00\", \"2021-06-07T00:00:00\", \"2021-06-08T00:00:00\", \"2021-06-09T00:00:00\", \"2021-06-10T00:00:00\", \"2021-06-11T00:00:00\", \"2021-06-12T00:00:00\", \"2021-06-13T00:00:00\", \"2021-06-14T00:00:00\", \"2021-06-15T00:00:00\", \"2021-06-16T00:00:00\", \"2021-06-17T00:00:00\", \"2021-06-18T00:00:00\", \"2021-06-19T00:00:00\", \"2021-06-20T00:00:00\", \"2021-06-21T00:00:00\", \"2021-06-22T00:00:00\", \"2021-06-23T00:00:00\", \"2021-06-24T00:00:00\", \"2021-06-25T00:00:00\", \"2021-06-26T00:00:00\", \"2021-06-27T00:00:00\", \"2021-06-28T00:00:00\", \"2021-06-29T00:00:00\", \"2021-06-30T00:00:00\", \"2021-07-01T00:00:00\", \"2021-07-02T00:00:00\", \"2021-07-03T00:00:00\", \"2021-07-04T00:00:00\", \"2021-07-05T00:00:00\", \"2021-07-06T00:00:00\", \"2021-07-07T00:00:00\", \"2021-07-08T00:00:00\", \"2021-07-09T00:00:00\", \"2021-07-10T00:00:00\", \"2021-07-11T00:00:00\", \"2021-07-12T00:00:00\", \"2021-07-13T00:00:00\", \"2021-07-14T00:00:00\", \"2021-07-15T00:00:00\", \"2021-07-16T00:00:00\", \"2021-07-17T00:00:00\", \"2021-07-18T00:00:00\", \"2021-07-19T00:00:00\", \"2021-07-20T00:00:00\", \"2021-07-21T00:00:00\", \"2021-07-22T00:00:00\", \"2021-07-23T00:00:00\", \"2021-07-24T00:00:00\", \"2021-07-25T00:00:00\", \"2021-07-26T00:00:00\", \"2021-07-27T00:00:00\", \"2021-07-28T00:00:00\", \"2021-07-29T00:00:00\", \"2021-07-30T00:00:00\", \"2021-07-31T00:00:00\", \"2021-08-01T00:00:00\", \"2021-08-02T00:00:00\", \"2021-08-03T00:00:00\", \"2021-08-04T00:00:00\", \"2021-08-05T00:00:00\", \"2021-08-06T00:00:00\", \"2021-08-07T00:00:00\", \"2021-08-08T00:00:00\", \"2021-08-09T00:00:00\", \"2021-08-10T00:00:00\", \"2021-08-11T00:00:00\", \"2021-08-12T00:00:00\", \"2021-08-13T00:00:00\", \"2021-08-14T00:00:00\", \"2021-08-15T00:00:00\", \"2021-08-16T00:00:00\", \"2021-08-17T00:00:00\", \"2021-08-18T00:00:00\", \"2021-08-19T00:00:00\", \"2021-08-20T00:00:00\", \"2021-08-21T00:00:00\", \"2021-08-22T00:00:00\", \"2021-08-23T00:00:00\", \"2021-08-24T00:00:00\", \"2021-08-25T00:00:00\", \"2021-08-26T00:00:00\", \"2021-08-27T00:00:00\", \"2021-08-28T00:00:00\", \"2021-08-29T00:00:00\", \"2021-08-30T00:00:00\", \"2021-08-31T00:00:00\", \"2021-09-01T00:00:00\", \"2021-09-02T00:00:00\", \"2021-09-03T00:00:00\", \"2021-09-04T00:00:00\", \"2021-09-05T00:00:00\", \"2021-09-06T00:00:00\", \"2021-09-07T00:00:00\", \"2021-09-08T00:00:00\", \"2021-09-09T00:00:00\", \"2021-09-10T00:00:00\", \"2021-09-11T00:00:00\", \"2021-09-12T00:00:00\", \"2021-09-13T00:00:00\", \"2021-09-14T00:00:00\", \"2021-09-15T00:00:00\", \"2021-09-16T00:00:00\", \"2021-09-17T00:00:00\", \"2021-09-18T00:00:00\", \"2021-09-19T00:00:00\", \"2021-09-20T00:00:00\", \"2021-09-21T00:00:00\", \"2021-09-22T00:00:00\", \"2021-09-23T00:00:00\", \"2021-09-24T00:00:00\", \"2021-09-25T00:00:00\", \"2021-09-26T00:00:00\", \"2021-09-27T00:00:00\", \"2021-09-28T00:00:00\", \"2021-09-29T00:00:00\", \"2021-09-30T00:00:00\"], \"y\": [0.0, 1715.0, 1834.0, 1813.0, 1842.0, 1809.0, 1824.0, 1869.0, 1890.0, 1952.0, 2314.0, 2339.0, 3289.0, 3464.0, 4176.0, 4920.0, 5263.0, 5925.0, 6172.0, 6250.0, 7071.0, 7526.0, 8078.0, 9142.0, 11065.0, 13625.0, 14043.0, 15114.0, 15542.0, 16007.0, 17164.0, 17576.0, 18016.0, 19112.0, 20062.0, 21546.0, 22381.0, 23110.0, 23515.0, 20904.0, 19182.0, 19508.0, 19287.0, 20037.0, 20905.0, 21317.0, 20486.0, 21362.0, 23863.0, 25368.0, 24478.0, 25776.0, 25196.0, 27026.0, 28745.0, 29717.0, 30063.0, 31255.0, 31759.0, 32982.0, 31223.0, 31673.0, 32263.0, 32221.0, 33646.0, 32472.0, 33161.0, 31360.0, 31045.0, 31253.0, 32049.0, 29243.0, 27463.0, 25895.0, 25561.0, 23207.0, 21058.0, 22720.0, 19860.0, 18232.0, 17043.0, 15281.0, 11144.0, 10432.0, 9046.0, 8132.0, 7661.0, 7159.0, 6553.0, 6013.0, 5537.0, 5044.0, 4952.0, 4724.0, 4382.0, 4029.0, 3855.0, 3704.0, 3565.0, 3411.0, 3321.0, 3188.0, 3104.0, 3058.0, 3021.0, 3006.0, 2986.0, 2802.0, 2743.0, 2558.0, 2439.0, 2423.0, 2475.0, 2516.0, 2583.0, 2447.0, 2361.0, 2312.0, 2394.0, 2145.0, 2193.0, 2178.0, 2156.0, 2068.0, 2047.0, 2011.0, 1943.0, 1908.0, 1839.0, 1807.0, 1886.0, 1930.0, 1917.0, 1892.0, 1887.0, 1866.0, 1842.0, 1911.0, 1917.0, 1908.0, 1892.0, 1887.0, 1859.0, 1827.0, 1863.0, 1842.0, 1797.0, 1816.0, 1793.0, 1768.0, 1753.0, 1739.0, 1725.0, 1719.0, 1684.0, 1657.0, 1610.0, 1607.0, 1564.0, 1576.0, 1594.0, 1534.0, 1523.0, 1517.0, 1512.0, 1509.0, 1537.0, 1542.0, 1548.0, 1565.0, 1581.0, 1594.0, 1623.0, 1619.0, 1627.0, 1624.0, 1631.0, 1635.0, 1658.0, 1662.0, 1643.0, 1639.0, 1626.0]}, {\"mode\": \"lines+markers\", \"name\": \"Death Cases\", \"type\": \"scatter\", \"x\": [\"2021-04-01T00:00:00\", \"2021-04-02T00:00:00\", \"2021-04-03T00:00:00\", \"2021-04-04T00:00:00\", \"2021-04-05T00:00:00\", \"2021-04-06T00:00:00\", \"2021-04-07T00:00:00\", \"2021-04-08T00:00:00\", \"2021-04-09T00:00:00\", \"2021-04-10T00:00:00\", \"2021-04-11T00:00:00\", \"2021-04-12T00:00:00\", \"2021-04-13T00:00:00\", \"2021-04-14T00:00:00\", \"2021-04-15T00:00:00\", \"2021-04-16T00:00:00\", \"2021-04-17T00:00:00\", \"2021-04-18T00:00:00\", \"2021-04-19T00:00:00\", \"2021-04-20T00:00:00\", \"2021-04-21T00:00:00\", \"2021-04-22T00:00:00\", \"2021-04-23T00:00:00\", \"2021-04-24T00:00:00\", \"2021-04-25T00:00:00\", \"2021-04-26T00:00:00\", \"2021-04-27T00:00:00\", \"2021-04-28T00:00:00\", \"2021-04-29T00:00:00\", \"2021-04-30T00:00:00\", \"2021-05-01T00:00:00\", \"2021-05-02T00:00:00\", \"2021-05-03T00:00:00\", \"2021-05-04T00:00:00\", \"2021-05-05T00:00:00\", \"2021-05-06T00:00:00\", \"2021-05-07T00:00:00\", \"2021-05-08T00:00:00\", \"2021-05-09T00:00:00\", \"2021-05-10T00:00:00\", \"2021-05-11T00:00:00\", \"2021-05-12T00:00:00\", \"2021-05-13T00:00:00\", \"2021-05-14T00:00:00\", \"2021-05-15T00:00:00\", \"2021-05-16T00:00:00\", \"2021-05-17T00:00:00\", \"2021-05-18T00:00:00\", \"2021-05-19T00:00:00\", \"2021-05-20T00:00:00\", \"2021-05-21T00:00:00\", \"2021-05-22T00:00:00\", \"2021-05-23T00:00:00\", \"2021-05-24T00:00:00\", \"2021-05-25T00:00:00\", \"2021-05-26T00:00:00\", \"2021-05-27T00:00:00\", \"2021-05-28T00:00:00\", \"2021-05-29T00:00:00\", \"2021-05-30T00:00:00\", \"2021-05-31T00:00:00\", \"2021-06-01T00:00:00\", \"2021-06-02T00:00:00\", \"2021-06-03T00:00:00\", \"2021-06-04T00:00:00\", \"2021-06-05T00:00:00\", \"2021-06-06T00:00:00\", \"2021-06-07T00:00:00\", \"2021-06-08T00:00:00\", \"2021-06-09T00:00:00\", \"2021-06-10T00:00:00\", \"2021-06-11T00:00:00\", \"2021-06-12T00:00:00\", \"2021-06-13T00:00:00\", \"2021-06-14T00:00:00\", \"2021-06-15T00:00:00\", \"2021-06-16T00:00:00\", \"2021-06-17T00:00:00\", \"2021-06-18T00:00:00\", \"2021-06-19T00:00:00\", \"2021-06-20T00:00:00\", \"2021-06-21T00:00:00\", \"2021-06-22T00:00:00\", \"2021-06-23T00:00:00\", \"2021-06-24T00:00:00\", \"2021-06-25T00:00:00\", \"2021-06-26T00:00:00\", \"2021-06-27T00:00:00\", \"2021-06-28T00:00:00\", \"2021-06-29T00:00:00\", \"2021-06-30T00:00:00\", \"2021-07-01T00:00:00\", \"2021-07-02T00:00:00\", \"2021-07-03T00:00:00\", \"2021-07-04T00:00:00\", \"2021-07-05T00:00:00\", \"2021-07-06T00:00:00\", \"2021-07-07T00:00:00\", \"2021-07-08T00:00:00\", \"2021-07-09T00:00:00\", \"2021-07-10T00:00:00\", \"2021-07-11T00:00:00\", \"2021-07-12T00:00:00\", \"2021-07-13T00:00:00\", \"2021-07-14T00:00:00\", \"2021-07-15T00:00:00\", \"2021-07-16T00:00:00\", \"2021-07-17T00:00:00\", \"2021-07-18T00:00:00\", \"2021-07-19T00:00:00\", \"2021-07-20T00:00:00\", \"2021-07-21T00:00:00\", \"2021-07-22T00:00:00\", \"2021-07-23T00:00:00\", \"2021-07-24T00:00:00\", \"2021-07-25T00:00:00\", \"2021-07-26T00:00:00\", \"2021-07-27T00:00:00\", \"2021-07-28T00:00:00\", \"2021-07-29T00:00:00\", \"2021-07-30T00:00:00\", \"2021-07-31T00:00:00\", \"2021-08-01T00:00:00\", \"2021-08-02T00:00:00\", \"2021-08-03T00:00:00\", \"2021-08-04T00:00:00\", \"2021-08-05T00:00:00\", \"2021-08-06T00:00:00\", \"2021-08-07T00:00:00\", \"2021-08-08T00:00:00\", \"2021-08-09T00:00:00\", \"2021-08-10T00:00:00\", \"2021-08-11T00:00:00\", \"2021-08-12T00:00:00\", \"2021-08-13T00:00:00\", \"2021-08-14T00:00:00\", \"2021-08-15T00:00:00\", \"2021-08-16T00:00:00\", \"2021-08-17T00:00:00\", \"2021-08-18T00:00:00\", \"2021-08-19T00:00:00\", \"2021-08-20T00:00:00\", \"2021-08-21T00:00:00\", \"2021-08-22T00:00:00\", \"2021-08-23T00:00:00\", \"2021-08-24T00:00:00\", \"2021-08-25T00:00:00\", \"2021-08-26T00:00:00\", \"2021-08-27T00:00:00\", \"2021-08-28T00:00:00\", \"2021-08-29T00:00:00\", \"2021-08-30T00:00:00\", \"2021-08-31T00:00:00\", \"2021-09-01T00:00:00\", \"2021-09-02T00:00:00\", \"2021-09-03T00:00:00\", \"2021-09-04T00:00:00\", \"2021-09-05T00:00:00\", \"2021-09-06T00:00:00\", \"2021-09-07T00:00:00\", \"2021-09-08T00:00:00\", \"2021-09-09T00:00:00\", \"2021-09-10T00:00:00\", \"2021-09-11T00:00:00\", \"2021-09-12T00:00:00\", \"2021-09-13T00:00:00\", \"2021-09-14T00:00:00\", \"2021-09-15T00:00:00\", \"2021-09-16T00:00:00\", \"2021-09-17T00:00:00\", \"2021-09-18T00:00:00\", \"2021-09-19T00:00:00\", \"2021-09-20T00:00:00\", \"2021-09-21T00:00:00\", \"2021-09-22T00:00:00\", \"2021-09-23T00:00:00\", \"2021-09-24T00:00:00\", \"2021-09-25T00:00:00\", \"2021-09-26T00:00:00\", \"2021-09-27T00:00:00\", \"2021-09-28T00:00:00\", \"2021-09-29T00:00:00\", \"2021-09-30T00:00:00\"], \"y\": [0.0, 12.0, 14.0, 14.0, 11.0, 15.0, 17.0, 19.0, 23.0, 23.0, 22.0, 19.0, 18.0, 25.0, 29.0, 33.0, 39.0, 42.0, 44.0, 48.0, 53.0, 59.0, 78.0, 80.0, 82.0, 94.0, 77.0, 98.0, 107.0, 113.0, 147.0, 153.0, 122.0, 144.0, 167.0, 195.0, 197.0, 241.0, 236.0, 232.0, 298.0, 293.0, 297.0, 288.0, 303.0, 311.0, 335.0, 364.0, 365.0, 397.0, 467.0, 448.0, 422.0, 404.0, 468.0, 475.0, 474.0, 486.0, 486.0, 493.0, 478.0, 490.0, 483.0, 460.0, 463.0, 443.0, 434.0, 351.0, 409.0, 405.0, 358.0, 378.0, 374.0, 267.0, 254.0, 267.0, 270.0, 210.0, 287.0, 180.0, 182.0, 189.0, 194.0, 166.0, 155.0, 150.0, 148.0, 91.0, 98.0, 118.0, 113.0, 102.0, 97.0, 115.0, 72.0, 54.0, 73.0, 64.0, 57.0, 69.0, 49.0, 47.0, 36.0, 48.0, 55.0, 49.0, 46.0, 43.0, 29.0, 28.0, 30.0, 27.0, 29.0, 24.0, 27.0, 22.0, 26.0, 29.0, 29.0, 28.0, 27.0, 26.0, 26.0, 28.0, 29.0, 38.0, 33.0, 30.0, 29.0, 28.0, 23.0, 27.0, 28.0, 33.0, 34.0, 34.0, 23.0, 28.0, 32.0, 31.0, 29.0, 24.0, 23.0, 23.0, 25.0, 27.0, 27.0, 26.0, 21.0, 21.0, 22.0, 21.0, 22.0, 20.0, 20.0, 19.0, 20.0, 18.0, 18.0, 19.0, 18.0, 21.0, 25.0, 27.0, 22.0, 22.0, 27.0, 29.0, 25.0, 17.0, 22.0, 27.0, 23.0, 19.0, 21.0, 27.0, 27.0, 22.0, 14.0, 19.0, 17.0, 24.0, 28.0]}],\n",
              "                        {\"legend\": {\"traceorder\": \"normal\", \"x\": 0, \"y\": 1}, \"template\": {\"data\": {\"bar\": [{\"error_x\": {\"color\": \"#2a3f5f\"}, \"error_y\": {\"color\": \"#2a3f5f\"}, \"marker\": {\"line\": {\"color\": \"#E5ECF6\", \"width\": 0.5}}, \"type\": \"bar\"}], \"barpolar\": [{\"marker\": {\"line\": {\"color\": \"#E5ECF6\", \"width\": 0.5}}, \"type\": \"barpolar\"}], \"carpet\": [{\"aaxis\": {\"endlinecolor\": \"#2a3f5f\", \"gridcolor\": \"white\", \"linecolor\": \"white\", \"minorgridcolor\": \"white\", \"startlinecolor\": \"#2a3f5f\"}, \"baxis\": {\"endlinecolor\": \"#2a3f5f\", \"gridcolor\": \"white\", \"linecolor\": \"white\", \"minorgridcolor\": \"white\", \"startlinecolor\": \"#2a3f5f\"}, \"type\": \"carpet\"}], \"choropleth\": [{\"colorbar\": {\"outlinewidth\": 0, \"ticks\": \"\"}, \"type\": \"choropleth\"}], \"contour\": [{\"colorbar\": {\"outlinewidth\": 0, \"ticks\": \"\"}, \"colorscale\": [[0.0, \"#0d0887\"], [0.1111111111111111, \"#46039f\"], [0.2222222222222222, \"#7201a8\"], [0.3333333333333333, \"#9c179e\"], [0.4444444444444444, \"#bd3786\"], [0.5555555555555556, \"#d8576b\"], [0.6666666666666666, \"#ed7953\"], [0.7777777777777778, \"#fb9f3a\"], [0.8888888888888888, \"#fdca26\"], [1.0, \"#f0f921\"]], \"type\": \"contour\"}], \"contourcarpet\": [{\"colorbar\": {\"outlinewidth\": 0, \"ticks\": \"\"}, \"type\": \"contourcarpet\"}], \"heatmap\": [{\"colorbar\": {\"outlinewidth\": 0, \"ticks\": \"\"}, \"colorscale\": [[0.0, \"#0d0887\"], [0.1111111111111111, \"#46039f\"], [0.2222222222222222, \"#7201a8\"], [0.3333333333333333, \"#9c179e\"], [0.4444444444444444, \"#bd3786\"], [0.5555555555555556, \"#d8576b\"], [0.6666666666666666, \"#ed7953\"], [0.7777777777777778, \"#fb9f3a\"], [0.8888888888888888, \"#fdca26\"], [1.0, \"#f0f921\"]], \"type\": \"heatmap\"}], \"heatmapgl\": [{\"colorbar\": {\"outlinewidth\": 0, \"ticks\": \"\"}, \"colorscale\": [[0.0, \"#0d0887\"], [0.1111111111111111, \"#46039f\"], [0.2222222222222222, \"#7201a8\"], [0.3333333333333333, \"#9c179e\"], [0.4444444444444444, \"#bd3786\"], [0.5555555555555556, \"#d8576b\"], [0.6666666666666666, \"#ed7953\"], [0.7777777777777778, \"#fb9f3a\"], [0.8888888888888888, \"#fdca26\"], [1.0, \"#f0f921\"]], \"type\": \"heatmapgl\"}], \"histogram\": [{\"marker\": {\"colorbar\": {\"outlinewidth\": 0, \"ticks\": \"\"}}, \"type\": \"histogram\"}], \"histogram2d\": [{\"colorbar\": {\"outlinewidth\": 0, \"ticks\": \"\"}, \"colorscale\": [[0.0, \"#0d0887\"], [0.1111111111111111, \"#46039f\"], [0.2222222222222222, \"#7201a8\"], [0.3333333333333333, \"#9c179e\"], [0.4444444444444444, \"#bd3786\"], [0.5555555555555556, \"#d8576b\"], [0.6666666666666666, \"#ed7953\"], [0.7777777777777778, \"#fb9f3a\"], [0.8888888888888888, \"#fdca26\"], [1.0, \"#f0f921\"]], \"type\": \"histogram2d\"}], \"histogram2dcontour\": [{\"colorbar\": {\"outlinewidth\": 0, \"ticks\": \"\"}, \"colorscale\": [[0.0, \"#0d0887\"], [0.1111111111111111, \"#46039f\"], [0.2222222222222222, \"#7201a8\"], [0.3333333333333333, \"#9c179e\"], [0.4444444444444444, \"#bd3786\"], [0.5555555555555556, \"#d8576b\"], [0.6666666666666666, \"#ed7953\"], [0.7777777777777778, \"#fb9f3a\"], [0.8888888888888888, \"#fdca26\"], [1.0, \"#f0f921\"]], \"type\": \"histogram2dcontour\"}], \"mesh3d\": [{\"colorbar\": {\"outlinewidth\": 0, \"ticks\": \"\"}, \"type\": \"mesh3d\"}], \"parcoords\": [{\"line\": {\"colorbar\": {\"outlinewidth\": 0, \"ticks\": \"\"}}, \"type\": \"parcoords\"}], \"pie\": [{\"automargin\": true, \"type\": \"pie\"}], \"scatter\": [{\"marker\": {\"colorbar\": {\"outlinewidth\": 0, \"ticks\": \"\"}}, \"type\": \"scatter\"}], \"scatter3d\": [{\"line\": {\"colorbar\": {\"outlinewidth\": 0, \"ticks\": \"\"}}, \"marker\": {\"colorbar\": {\"outlinewidth\": 0, \"ticks\": \"\"}}, \"type\": \"scatter3d\"}], \"scattercarpet\": [{\"marker\": {\"colorbar\": {\"outlinewidth\": 0, \"ticks\": \"\"}}, \"type\": \"scattercarpet\"}], \"scattergeo\": [{\"marker\": {\"colorbar\": {\"outlinewidth\": 0, \"ticks\": \"\"}}, \"type\": \"scattergeo\"}], \"scattergl\": [{\"marker\": {\"colorbar\": {\"outlinewidth\": 0, \"ticks\": \"\"}}, \"type\": \"scattergl\"}], \"scattermapbox\": [{\"marker\": {\"colorbar\": {\"outlinewidth\": 0, \"ticks\": \"\"}}, \"type\": \"scattermapbox\"}], \"scatterpolar\": [{\"marker\": {\"colorbar\": {\"outlinewidth\": 0, \"ticks\": \"\"}}, \"type\": \"scatterpolar\"}], \"scatterpolargl\": [{\"marker\": {\"colorbar\": {\"outlinewidth\": 0, \"ticks\": \"\"}}, \"type\": \"scatterpolargl\"}], \"scatterternary\": [{\"marker\": {\"colorbar\": {\"outlinewidth\": 0, \"ticks\": \"\"}}, \"type\": \"scatterternary\"}], \"surface\": [{\"colorbar\": {\"outlinewidth\": 0, \"ticks\": \"\"}, \"colorscale\": [[0.0, \"#0d0887\"], [0.1111111111111111, \"#46039f\"], [0.2222222222222222, \"#7201a8\"], [0.3333333333333333, \"#9c179e\"], [0.4444444444444444, \"#bd3786\"], [0.5555555555555556, \"#d8576b\"], [0.6666666666666666, \"#ed7953\"], [0.7777777777777778, \"#fb9f3a\"], [0.8888888888888888, \"#fdca26\"], [1.0, \"#f0f921\"]], \"type\": \"surface\"}], \"table\": [{\"cells\": {\"fill\": {\"color\": \"#EBF0F8\"}, \"line\": {\"color\": \"white\"}}, \"header\": {\"fill\": {\"color\": \"#C8D4E3\"}, \"line\": {\"color\": \"white\"}}, \"type\": \"table\"}]}, \"layout\": {\"annotationdefaults\": {\"arrowcolor\": \"#2a3f5f\", \"arrowhead\": 0, \"arrowwidth\": 1}, \"coloraxis\": {\"colorbar\": {\"outlinewidth\": 0, \"ticks\": \"\"}}, \"colorscale\": {\"diverging\": [[0, \"#8e0152\"], [0.1, \"#c51b7d\"], [0.2, \"#de77ae\"], [0.3, \"#f1b6da\"], [0.4, \"#fde0ef\"], [0.5, \"#f7f7f7\"], [0.6, \"#e6f5d0\"], [0.7, \"#b8e186\"], [0.8, \"#7fbc41\"], [0.9, \"#4d9221\"], [1, \"#276419\"]], \"sequential\": [[0.0, \"#0d0887\"], [0.1111111111111111, \"#46039f\"], [0.2222222222222222, \"#7201a8\"], [0.3333333333333333, \"#9c179e\"], [0.4444444444444444, \"#bd3786\"], [0.5555555555555556, \"#d8576b\"], [0.6666666666666666, \"#ed7953\"], [0.7777777777777778, \"#fb9f3a\"], [0.8888888888888888, \"#fdca26\"], [1.0, \"#f0f921\"]], \"sequentialminus\": [[0.0, \"#0d0887\"], [0.1111111111111111, \"#46039f\"], [0.2222222222222222, \"#7201a8\"], [0.3333333333333333, \"#9c179e\"], [0.4444444444444444, \"#bd3786\"], [0.5555555555555556, \"#d8576b\"], [0.6666666666666666, \"#ed7953\"], [0.7777777777777778, \"#fb9f3a\"], [0.8888888888888888, \"#fdca26\"], [1.0, \"#f0f921\"]]}, \"colorway\": [\"#636efa\", \"#EF553B\", \"#00cc96\", \"#ab63fa\", \"#FFA15A\", \"#19d3f3\", \"#FF6692\", \"#B6E880\", \"#FF97FF\", \"#FECB52\"], \"font\": {\"color\": \"#2a3f5f\"}, \"geo\": {\"bgcolor\": \"white\", \"lakecolor\": \"white\", \"landcolor\": \"#E5ECF6\", \"showlakes\": true, \"showland\": true, \"subunitcolor\": \"white\"}, \"hoverlabel\": {\"align\": \"left\"}, \"hovermode\": \"closest\", \"mapbox\": {\"style\": \"light\"}, \"paper_bgcolor\": \"white\", \"plot_bgcolor\": \"#E5ECF6\", \"polar\": {\"angularaxis\": {\"gridcolor\": \"white\", \"linecolor\": \"white\", \"ticks\": \"\"}, \"bgcolor\": \"#E5ECF6\", \"radialaxis\": {\"gridcolor\": \"white\", \"linecolor\": \"white\", \"ticks\": \"\"}}, \"scene\": {\"xaxis\": {\"backgroundcolor\": \"#E5ECF6\", \"gridcolor\": \"white\", \"gridwidth\": 2, \"linecolor\": \"white\", \"showbackground\": true, \"ticks\": \"\", \"zerolinecolor\": \"white\"}, \"yaxis\": {\"backgroundcolor\": \"#E5ECF6\", \"gridcolor\": \"white\", \"gridwidth\": 2, \"linecolor\": \"white\", \"showbackground\": true, \"ticks\": \"\", \"zerolinecolor\": \"white\"}, \"zaxis\": {\"backgroundcolor\": \"#E5ECF6\", \"gridcolor\": \"white\", \"gridwidth\": 2, \"linecolor\": \"white\", \"showbackground\": true, \"ticks\": \"\", \"zerolinecolor\": \"white\"}}, \"shapedefaults\": {\"line\": {\"color\": \"#2a3f5f\"}}, \"ternary\": {\"aaxis\": {\"gridcolor\": \"white\", \"linecolor\": \"white\", \"ticks\": \"\"}, \"baxis\": {\"gridcolor\": \"white\", \"linecolor\": \"white\", \"ticks\": \"\"}, \"bgcolor\": \"#E5ECF6\", \"caxis\": {\"gridcolor\": \"white\", \"linecolor\": \"white\", \"ticks\": \"\"}}, \"title\": {\"x\": 0.05}, \"xaxis\": {\"automargin\": true, \"gridcolor\": \"white\", \"linecolor\": \"white\", \"ticks\": \"\", \"title\": {\"standoff\": 15}, \"zerolinecolor\": \"white\", \"zerolinewidth\": 2}, \"yaxis\": {\"automargin\": true, \"gridcolor\": \"white\", \"linecolor\": \"white\", \"ticks\": \"\", \"title\": {\"standoff\": 15}, \"zerolinecolor\": \"white\", \"zerolinewidth\": 2}}}, \"title\": {\"text\": \"Daily increase in different types of Cases\"}, \"xaxis\": {\"title\": {\"text\": \"Date\"}}, \"yaxis\": {\"title\": {\"text\": \"Number of Cases\"}}},\n",
              "                        {\"responsive\": true}\n",
              "                    ).then(function(){\n",
              "                            \n",
              "var gd = document.getElementById('b1dbefa6-887c-43dd-9abb-b30e698f7df5');\n",
              "var x = new MutationObserver(function (mutations, observer) {{\n",
              "        var display = window.getComputedStyle(gd).display;\n",
              "        if (!display || display === 'none') {{\n",
              "            console.log([gd, 'removed!']);\n",
              "            Plotly.purge(gd);\n",
              "            observer.disconnect();\n",
              "        }}\n",
              "}});\n",
              "\n",
              "// Listen for the removal of the full notebook cells\n",
              "var notebookContainer = gd.closest('#notebook-container');\n",
              "if (notebookContainer) {{\n",
              "    x.observe(notebookContainer, {childList: true});\n",
              "}}\n",
              "\n",
              "// Listen for the clearing of the current output cell\n",
              "var outputEl = gd.closest('.output');\n",
              "if (outputEl) {{\n",
              "    x.observe(outputEl, {childList: true});\n",
              "}}\n",
              "\n",
              "                        })\n",
              "                };\n",
              "                \n",
              "            </script>\n",
              "        </div>\n",
              "</body>\n",
              "</html>"
            ]
          },
          "metadata": {}
        }
      ]
    },
    {
      "cell_type": "markdown",
      "metadata": {
        "id": "XlwHyMYMJe2X"
      },
      "source": [
        "GROWTH FACTOR\n"
      ]
    },
    {
      "cell_type": "code",
      "metadata": {
        "id": "XhPx_fAku57y"
      },
      "source": [
        "#linear regression\n"
      ],
      "execution_count": 295,
      "outputs": []
    },
    {
      "cell_type": "code",
      "metadata": {
        "id": "3_7X7L_88cEf"
      },
      "source": [
        "datewise[\"Days Since\"]=datewise.index-datewise.index[0]\n",
        "datewise[\"Days Since\"]=datewise[\"Days Since\"].dt.days"
      ],
      "execution_count": 296,
      "outputs": []
    },
    {
      "cell_type": "code",
      "metadata": {
        "id": "yzufbTSy8cEf"
      },
      "source": [
        "train_ml=datewise.iloc[:int(datewise.shape[0]*0.95)]\n",
        "valid_ml=datewise.iloc[int(datewise.shape[0]*0.95):]\n",
        "model_scores=[]"
      ],
      "execution_count": 297,
      "outputs": []
    },
    {
      "cell_type": "code",
      "metadata": {
        "id": "a1ct3EYg8cEf"
      },
      "source": [
        "lin_reg=LinearRegression(normalize=True)"
      ],
      "execution_count": 298,
      "outputs": []
    },
    {
      "cell_type": "code",
      "metadata": {
        "id": "UfAiyyjn8cEf",
        "colab": {
          "base_uri": "https://localhost:8080/"
        },
        "outputId": "a25c2e5b-cf1d-4fae-94db-0eabb60a9b84"
      },
      "source": [
        "lin_reg.fit(np.array(train_ml[\"Days Since\"]).reshape(-1,1),np.array(train_ml[\"dead\"]).reshape(-1,1))"
      ],
      "execution_count": 299,
      "outputs": [
        {
          "output_type": "execute_result",
          "data": {
            "text/plain": [
              "LinearRegression(copy_X=True, fit_intercept=True, n_jobs=None, normalize=True)"
            ]
          },
          "metadata": {},
          "execution_count": 299
        }
      ]
    },
    {
      "cell_type": "code",
      "metadata": {
        "id": "yksyoBio8cEf"
      },
      "source": [
        "prediction_valid_linreg=lin_reg.predict(np.array(valid_ml[\"Days Since\"]).reshape(-1,1))"
      ],
      "execution_count": 300,
      "outputs": []
    },
    {
      "cell_type": "code",
      "metadata": {
        "id": "OqU1cs1d8cEf",
        "colab": {
          "base_uri": "https://localhost:8080/"
        },
        "outputId": "b57e76be-37e4-495f-969c-1bbb7a5832ca"
      },
      "source": [
        "model_scores.append(np.sqrt(mean_squared_error(valid_ml[\"dead\"],prediction_valid_linreg)))\n",
        "print(\"Root Mean Square Error for Linear Regression: \",np.sqrt(mean_squared_error(valid_ml[\"dead\"],prediction_valid_linreg)))"
      ],
      "execution_count": 301,
      "outputs": [
        {
          "output_type": "stream",
          "name": "stdout",
          "text": [
            "Root Mean Square Error for Linear Regression:  6367.037313374716\n"
          ]
        }
      ]
    },
    {
      "cell_type": "code",
      "metadata": {
        "id": "mp0Mo8ve8cEg",
        "colab": {
          "base_uri": "https://localhost:8080/",
          "height": 559
        },
        "outputId": "a82eb866-25f3-42bc-e29a-c749beaeeda1"
      },
      "source": [
        "plt.figure(figsize=(11,6))\n",
        "prediction_linreg=lin_reg.predict(np.array(datewise[\"Days Since\"]).reshape(-1,1))\n",
        "linreg_output=[]\n",
        "for i in range(prediction_linreg.shape[0]):\n",
        "    linreg_output.append(prediction_linreg[i][0])\n",
        "\n",
        "fig=go.Figure()\n",
        "fig.add_trace(go.Scatter(x=datewise.index, y=datewise[\"dead\"],\n",
        "                    mode='lines+markers',name=\"Train Data for newly dead Cases\"))\n",
        "fig.add_trace(go.Scatter(x=datewise.index, y=linreg_output,\n",
        "                    mode='lines',name=\"Linear Regression Best Fit Line\",\n",
        "                    line=dict(color='black', dash='dot')))\n",
        "fig.update_layout(title=\"newly dead Cases Linear Regression Prediction\",\n",
        "                 xaxis_title=\"Date\",yaxis_title=\"Death Cases\",legend=dict(x=0,y=1,traceorder=\"normal\"))\n",
        "fig.show()"
      ],
      "execution_count": 302,
      "outputs": [
        {
          "output_type": "display_data",
          "data": {
            "text/html": [
              "<html>\n",
              "<head><meta charset=\"utf-8\" /></head>\n",
              "<body>\n",
              "    <div>\n",
              "            <script src=\"https://cdnjs.cloudflare.com/ajax/libs/mathjax/2.7.5/MathJax.js?config=TeX-AMS-MML_SVG\"></script><script type=\"text/javascript\">if (window.MathJax) {MathJax.Hub.Config({SVG: {font: \"STIX-Web\"}});}</script>\n",
              "                <script type=\"text/javascript\">window.PlotlyConfig = {MathJaxConfig: 'local'};</script>\n",
              "        <script src=\"https://cdn.plot.ly/plotly-latest.min.js\"></script>    \n",
              "            <div id=\"905099fc-27b3-4b0d-aeff-47c3ffc59911\" class=\"plotly-graph-div\" style=\"height:525px; width:100%;\"></div>\n",
              "            <script type=\"text/javascript\">\n",
              "                \n",
              "                    window.PLOTLYENV=window.PLOTLYENV || {};\n",
              "                    \n",
              "                if (document.getElementById(\"905099fc-27b3-4b0d-aeff-47c3ffc59911\")) {\n",
              "                    Plotly.newPlot(\n",
              "                        '905099fc-27b3-4b0d-aeff-47c3ffc59911',\n",
              "                        [{\"mode\": \"lines+markers\", \"name\": \"Train Data for newly dead Cases\", \"type\": \"scatter\", \"x\": [\"2021-04-01T00:00:00\", \"2021-04-02T00:00:00\", \"2021-04-03T00:00:00\", \"2021-04-04T00:00:00\", \"2021-04-05T00:00:00\", \"2021-04-06T00:00:00\", \"2021-04-07T00:00:00\", \"2021-04-08T00:00:00\", \"2021-04-09T00:00:00\", \"2021-04-10T00:00:00\", \"2021-04-11T00:00:00\", \"2021-04-12T00:00:00\", \"2021-04-13T00:00:00\", \"2021-04-14T00:00:00\", \"2021-04-15T00:00:00\", \"2021-04-16T00:00:00\", \"2021-04-17T00:00:00\", \"2021-04-18T00:00:00\", \"2021-04-19T00:00:00\", \"2021-04-20T00:00:00\", \"2021-04-21T00:00:00\", \"2021-04-22T00:00:00\", \"2021-04-23T00:00:00\", \"2021-04-24T00:00:00\", \"2021-04-25T00:00:00\", \"2021-04-26T00:00:00\", \"2021-04-27T00:00:00\", \"2021-04-28T00:00:00\", \"2021-04-29T00:00:00\", \"2021-04-30T00:00:00\", \"2021-05-01T00:00:00\", \"2021-05-02T00:00:00\", \"2021-05-03T00:00:00\", \"2021-05-04T00:00:00\", \"2021-05-05T00:00:00\", \"2021-05-06T00:00:00\", \"2021-05-07T00:00:00\", \"2021-05-08T00:00:00\", \"2021-05-09T00:00:00\", \"2021-05-10T00:00:00\", \"2021-05-11T00:00:00\", \"2021-05-12T00:00:00\", \"2021-05-13T00:00:00\", \"2021-05-14T00:00:00\", \"2021-05-15T00:00:00\", \"2021-05-16T00:00:00\", \"2021-05-17T00:00:00\", \"2021-05-18T00:00:00\", \"2021-05-19T00:00:00\", \"2021-05-20T00:00:00\", \"2021-05-21T00:00:00\", \"2021-05-22T00:00:00\", \"2021-05-23T00:00:00\", \"2021-05-24T00:00:00\", \"2021-05-25T00:00:00\", \"2021-05-26T00:00:00\", \"2021-05-27T00:00:00\", \"2021-05-28T00:00:00\", \"2021-05-29T00:00:00\", \"2021-05-30T00:00:00\", \"2021-05-31T00:00:00\", \"2021-06-01T00:00:00\", \"2021-06-02T00:00:00\", \"2021-06-03T00:00:00\", \"2021-06-04T00:00:00\", \"2021-06-05T00:00:00\", \"2021-06-06T00:00:00\", \"2021-06-07T00:00:00\", \"2021-06-08T00:00:00\", \"2021-06-09T00:00:00\", \"2021-06-10T00:00:00\", \"2021-06-11T00:00:00\", \"2021-06-12T00:00:00\", \"2021-06-13T00:00:00\", \"2021-06-14T00:00:00\", \"2021-06-15T00:00:00\", \"2021-06-16T00:00:00\", \"2021-06-17T00:00:00\", \"2021-06-18T00:00:00\", \"2021-06-19T00:00:00\", \"2021-06-20T00:00:00\", \"2021-06-21T00:00:00\", \"2021-06-22T00:00:00\", \"2021-06-23T00:00:00\", \"2021-06-24T00:00:00\", \"2021-06-25T00:00:00\", \"2021-06-26T00:00:00\", \"2021-06-27T00:00:00\", \"2021-06-28T00:00:00\", \"2021-06-29T00:00:00\", \"2021-06-30T00:00:00\", \"2021-07-01T00:00:00\", \"2021-07-02T00:00:00\", \"2021-07-03T00:00:00\", \"2021-07-04T00:00:00\", \"2021-07-05T00:00:00\", \"2021-07-06T00:00:00\", \"2021-07-07T00:00:00\", \"2021-07-08T00:00:00\", \"2021-07-09T00:00:00\", \"2021-07-10T00:00:00\", \"2021-07-11T00:00:00\", \"2021-07-12T00:00:00\", \"2021-07-13T00:00:00\", \"2021-07-14T00:00:00\", \"2021-07-15T00:00:00\", \"2021-07-16T00:00:00\", \"2021-07-17T00:00:00\", \"2021-07-18T00:00:00\", \"2021-07-19T00:00:00\", \"2021-07-20T00:00:00\", \"2021-07-21T00:00:00\", \"2021-07-22T00:00:00\", \"2021-07-23T00:00:00\", \"2021-07-24T00:00:00\", \"2021-07-25T00:00:00\", \"2021-07-26T00:00:00\", \"2021-07-27T00:00:00\", \"2021-07-28T00:00:00\", \"2021-07-29T00:00:00\", \"2021-07-30T00:00:00\", \"2021-07-31T00:00:00\", \"2021-08-01T00:00:00\", \"2021-08-02T00:00:00\", \"2021-08-03T00:00:00\", \"2021-08-04T00:00:00\", \"2021-08-05T00:00:00\", \"2021-08-06T00:00:00\", \"2021-08-07T00:00:00\", \"2021-08-08T00:00:00\", \"2021-08-09T00:00:00\", \"2021-08-10T00:00:00\", \"2021-08-11T00:00:00\", \"2021-08-12T00:00:00\", \"2021-08-13T00:00:00\", \"2021-08-14T00:00:00\", \"2021-08-15T00:00:00\", \"2021-08-16T00:00:00\", \"2021-08-17T00:00:00\", \"2021-08-18T00:00:00\", \"2021-08-19T00:00:00\", \"2021-08-20T00:00:00\", \"2021-08-21T00:00:00\", \"2021-08-22T00:00:00\", \"2021-08-23T00:00:00\", \"2021-08-24T00:00:00\", \"2021-08-25T00:00:00\", \"2021-08-26T00:00:00\", \"2021-08-27T00:00:00\", \"2021-08-28T00:00:00\", \"2021-08-29T00:00:00\", \"2021-08-30T00:00:00\", \"2021-08-31T00:00:00\", \"2021-09-01T00:00:00\", \"2021-09-02T00:00:00\", \"2021-09-03T00:00:00\", \"2021-09-04T00:00:00\", \"2021-09-05T00:00:00\", \"2021-09-06T00:00:00\", \"2021-09-07T00:00:00\", \"2021-09-08T00:00:00\", \"2021-09-09T00:00:00\", \"2021-09-10T00:00:00\", \"2021-09-11T00:00:00\", \"2021-09-12T00:00:00\", \"2021-09-13T00:00:00\", \"2021-09-14T00:00:00\", \"2021-09-15T00:00:00\", \"2021-09-16T00:00:00\", \"2021-09-17T00:00:00\", \"2021-09-18T00:00:00\", \"2021-09-19T00:00:00\", \"2021-09-20T00:00:00\", \"2021-09-21T00:00:00\", \"2021-09-22T00:00:00\", \"2021-09-23T00:00:00\", \"2021-09-24T00:00:00\", \"2021-09-25T00:00:00\", \"2021-09-26T00:00:00\", \"2021-09-27T00:00:00\", \"2021-09-28T00:00:00\", \"2021-09-29T00:00:00\", \"2021-09-30T00:00:00\"], \"y\": [12738, 12750, 12764, 12778, 12789, 12804, 12821, 12840, 12863, 12886, 12908, 12927, 12945, 12970, 12999, 13032, 13071, 13113, 13157, 13205, 13258, 13317, 13395, 13475, 13557, 13651, 13728, 13826, 13933, 14046, 14193, 14346, 14468, 14612, 14779, 14974, 15171, 15412, 15648, 15880, 16178, 16471, 16768, 17056, 17359, 17670, 18005, 18369, 18734, 19131, 19598, 20046, 20468, 20872, 21340, 21815, 22289, 22775, 23261, 23754, 24232, 24722, 25205, 25665, 26128, 26571, 27005, 27356, 27765, 28170, 28528, 28906, 29280, 29547, 29801, 30068, 30338, 30548, 30835, 31015, 31197, 31386, 31580, 31746, 31901, 32051, 32199, 32290, 32388, 32506, 32619, 32721, 32818, 32933, 33005, 33059, 33132, 33196, 33253, 33322, 33371, 33418, 33454, 33502, 33557, 33606, 33652, 33695, 33724, 33752, 33782, 33809, 33838, 33862, 33889, 33911, 33937, 33966, 33995, 34023, 34050, 34076, 34102, 34130, 34159, 34197, 34230, 34260, 34289, 34317, 34340, 34367, 34395, 34428, 34462, 34496, 34519, 34547, 34579, 34610, 34639, 34663, 34686, 34709, 34734, 34761, 34788, 34814, 34835, 34856, 34878, 34899, 34921, 34941, 34961, 34980, 35000, 35018, 35036, 35055, 35073, 35094, 35119, 35146, 35168, 35190, 35217, 35246, 35271, 35288, 35310, 35337, 35360, 35379, 35400, 35427, 35454, 35476, 35490, 35509, 35526, 35550, 35578]}, {\"line\": {\"color\": \"black\", \"dash\": \"dot\"}, \"mode\": \"lines\", \"name\": \"Linear Regression Best Fit Line\", \"type\": \"scatter\", \"x\": [\"2021-04-01T00:00:00\", \"2021-04-02T00:00:00\", \"2021-04-03T00:00:00\", \"2021-04-04T00:00:00\", \"2021-04-05T00:00:00\", \"2021-04-06T00:00:00\", \"2021-04-07T00:00:00\", \"2021-04-08T00:00:00\", \"2021-04-09T00:00:00\", \"2021-04-10T00:00:00\", \"2021-04-11T00:00:00\", \"2021-04-12T00:00:00\", \"2021-04-13T00:00:00\", \"2021-04-14T00:00:00\", \"2021-04-15T00:00:00\", \"2021-04-16T00:00:00\", \"2021-04-17T00:00:00\", \"2021-04-18T00:00:00\", \"2021-04-19T00:00:00\", \"2021-04-20T00:00:00\", \"2021-04-21T00:00:00\", \"2021-04-22T00:00:00\", \"2021-04-23T00:00:00\", \"2021-04-24T00:00:00\", \"2021-04-25T00:00:00\", \"2021-04-26T00:00:00\", \"2021-04-27T00:00:00\", \"2021-04-28T00:00:00\", \"2021-04-29T00:00:00\", \"2021-04-30T00:00:00\", \"2021-05-01T00:00:00\", \"2021-05-02T00:00:00\", \"2021-05-03T00:00:00\", \"2021-05-04T00:00:00\", \"2021-05-05T00:00:00\", \"2021-05-06T00:00:00\", \"2021-05-07T00:00:00\", \"2021-05-08T00:00:00\", \"2021-05-09T00:00:00\", \"2021-05-10T00:00:00\", \"2021-05-11T00:00:00\", \"2021-05-12T00:00:00\", \"2021-05-13T00:00:00\", \"2021-05-14T00:00:00\", \"2021-05-15T00:00:00\", \"2021-05-16T00:00:00\", \"2021-05-17T00:00:00\", \"2021-05-18T00:00:00\", \"2021-05-19T00:00:00\", \"2021-05-20T00:00:00\", \"2021-05-21T00:00:00\", \"2021-05-22T00:00:00\", \"2021-05-23T00:00:00\", \"2021-05-24T00:00:00\", \"2021-05-25T00:00:00\", \"2021-05-26T00:00:00\", \"2021-05-27T00:00:00\", \"2021-05-28T00:00:00\", \"2021-05-29T00:00:00\", \"2021-05-30T00:00:00\", \"2021-05-31T00:00:00\", \"2021-06-01T00:00:00\", \"2021-06-02T00:00:00\", \"2021-06-03T00:00:00\", \"2021-06-04T00:00:00\", \"2021-06-05T00:00:00\", \"2021-06-06T00:00:00\", \"2021-06-07T00:00:00\", \"2021-06-08T00:00:00\", \"2021-06-09T00:00:00\", \"2021-06-10T00:00:00\", \"2021-06-11T00:00:00\", \"2021-06-12T00:00:00\", \"2021-06-13T00:00:00\", \"2021-06-14T00:00:00\", \"2021-06-15T00:00:00\", \"2021-06-16T00:00:00\", \"2021-06-17T00:00:00\", \"2021-06-18T00:00:00\", \"2021-06-19T00:00:00\", \"2021-06-20T00:00:00\", \"2021-06-21T00:00:00\", \"2021-06-22T00:00:00\", \"2021-06-23T00:00:00\", \"2021-06-24T00:00:00\", \"2021-06-25T00:00:00\", \"2021-06-26T00:00:00\", \"2021-06-27T00:00:00\", \"2021-06-28T00:00:00\", \"2021-06-29T00:00:00\", \"2021-06-30T00:00:00\", \"2021-07-01T00:00:00\", \"2021-07-02T00:00:00\", \"2021-07-03T00:00:00\", \"2021-07-04T00:00:00\", \"2021-07-05T00:00:00\", \"2021-07-06T00:00:00\", \"2021-07-07T00:00:00\", \"2021-07-08T00:00:00\", \"2021-07-09T00:00:00\", \"2021-07-10T00:00:00\", \"2021-07-11T00:00:00\", \"2021-07-12T00:00:00\", \"2021-07-13T00:00:00\", \"2021-07-14T00:00:00\", \"2021-07-15T00:00:00\", \"2021-07-16T00:00:00\", \"2021-07-17T00:00:00\", \"2021-07-18T00:00:00\", \"2021-07-19T00:00:00\", \"2021-07-20T00:00:00\", \"2021-07-21T00:00:00\", \"2021-07-22T00:00:00\", \"2021-07-23T00:00:00\", \"2021-07-24T00:00:00\", \"2021-07-25T00:00:00\", \"2021-07-26T00:00:00\", \"2021-07-27T00:00:00\", \"2021-07-28T00:00:00\", \"2021-07-29T00:00:00\", \"2021-07-30T00:00:00\", \"2021-07-31T00:00:00\", \"2021-08-01T00:00:00\", \"2021-08-02T00:00:00\", \"2021-08-03T00:00:00\", \"2021-08-04T00:00:00\", \"2021-08-05T00:00:00\", \"2021-08-06T00:00:00\", \"2021-08-07T00:00:00\", \"2021-08-08T00:00:00\", \"2021-08-09T00:00:00\", \"2021-08-10T00:00:00\", \"2021-08-11T00:00:00\", \"2021-08-12T00:00:00\", \"2021-08-13T00:00:00\", \"2021-08-14T00:00:00\", \"2021-08-15T00:00:00\", \"2021-08-16T00:00:00\", \"2021-08-17T00:00:00\", \"2021-08-18T00:00:00\", \"2021-08-19T00:00:00\", \"2021-08-20T00:00:00\", \"2021-08-21T00:00:00\", \"2021-08-22T00:00:00\", \"2021-08-23T00:00:00\", \"2021-08-24T00:00:00\", \"2021-08-25T00:00:00\", \"2021-08-26T00:00:00\", \"2021-08-27T00:00:00\", \"2021-08-28T00:00:00\", \"2021-08-29T00:00:00\", \"2021-08-30T00:00:00\", \"2021-08-31T00:00:00\", \"2021-09-01T00:00:00\", \"2021-09-02T00:00:00\", \"2021-09-03T00:00:00\", \"2021-09-04T00:00:00\", \"2021-09-05T00:00:00\", \"2021-09-06T00:00:00\", \"2021-09-07T00:00:00\", \"2021-09-08T00:00:00\", \"2021-09-09T00:00:00\", \"2021-09-10T00:00:00\", \"2021-09-11T00:00:00\", \"2021-09-12T00:00:00\", \"2021-09-13T00:00:00\", \"2021-09-14T00:00:00\", \"2021-09-15T00:00:00\", \"2021-09-16T00:00:00\", \"2021-09-17T00:00:00\", \"2021-09-18T00:00:00\", \"2021-09-19T00:00:00\", \"2021-09-20T00:00:00\", \"2021-09-21T00:00:00\", \"2021-09-22T00:00:00\", \"2021-09-23T00:00:00\", \"2021-09-24T00:00:00\", \"2021-09-25T00:00:00\", \"2021-09-26T00:00:00\", \"2021-09-27T00:00:00\", \"2021-09-28T00:00:00\", \"2021-09-29T00:00:00\", \"2021-09-30T00:00:00\"], \"y\": [12971.8664540562, 13134.464323625247, 13297.062193194293, 13459.66006276334, 13622.257932332388, 13784.855801901434, 13947.453671470481, 14110.051541039527, 14272.649410608574, 14435.24728017762, 14597.845149746667, 14760.443019315715, 14923.040888884761, 15085.638758453808, 15248.236628022854, 15410.8344975919, 15573.432367160949, 15736.030236729996, 15898.628106299042, 16061.225975868088, 16223.823845437135, 16386.42171500618, 16549.019584575228, 16711.617454144274, 16874.21532371332, 17036.813193282367, 17199.411062851417, 17362.00893242046, 17524.60680198951, 17687.204671558557, 17849.802541127603, 18012.40041069665, 18174.998280265696, 18337.596149834742, 18500.19401940379, 18662.791888972835, 18825.38975854188, 18987.987628110932, 19150.585497679975, 19313.183367249025, 19475.781236818068, 19638.379106387118, 19800.976975956164, 19963.57484552521, 20126.172715094257, 20288.770584663303, 20451.36845423235, 20613.966323801396, 20776.564193370443, 20939.16206293949, 21101.75993250854, 21264.357802077582, 21426.955671646632, 21589.553541215675, 21752.151410784725, 21914.74928035377, 22077.347149922818, 22239.945019491865, 22402.54288906091, 22565.140758629957, 22727.738628199004, 22890.336497768054, 23052.934367337097, 23215.532236906147, 23378.13010647519, 23540.72797604424, 23703.325845613283, 23865.923715182333, 24028.52158475138, 24191.119454320426, 24353.717323889472, 24516.31519345852, 24678.913063027565, 24841.51093259661, 25004.10880216566, 25166.706671734704, 25329.304541303754, 25491.902410872797, 25654.500280441847, 25817.09815001089, 25979.69601957994, 26142.293889148987, 26304.891758718033, 26467.48962828708, 26630.087497856126, 26792.685367425172, 26955.28323699422, 27117.88110656327, 27280.47897613231, 27443.076845701362, 27605.674715270405, 27768.272584839455, 27930.870454408498, 28093.468323977548, 28256.066193546594, 28418.66406311564, 28581.261932684687, 28743.859802253734, 28906.45767182278, 29069.055541391826, 29231.653410960876, 29394.25128052992, 29556.84915009897, 29719.447019668012, 29882.044889237062, 30044.642758806105, 30207.240628375155, 30369.838497944198, 30532.436367513248, 30695.0342370823, 30857.63210665134, 31020.22997622039, 31182.827845789434, 31345.425715358484, 31508.023584927527, 31670.621454496577, 31833.21932406562, 31995.81719363467, 32158.415063203713, 32321.012932772763, 32483.610802341806, 32646.208671910856, 32808.806541479906, 32971.40441104895, 33134.002280618, 33296.60015018704, 33459.19801975609, 33621.795889325134, 33784.393758894184, 33946.99162846323, 34109.58949803228, 34272.18736760132, 34434.78523717037, 34597.38310673941, 34759.98097630846, 34922.57884587751, 35085.176715446556, 35247.774585015606, 35410.37245458465, 35572.9703241537, 35735.56819372274, 35898.16606329179, 36060.763932860835, 36223.361802429885, 36385.95967199893, 36548.55754156798, 36711.15541113702, 36873.75328070607, 37036.35115027512, 37198.94901984416, 37361.546889413214, 37524.14475898226, 37686.74262855131, 37849.34049812035, 38011.9383676894, 38174.53623725844, 38337.13410682749, 38499.731976396535, 38662.329845965585, 38824.92771553463, 38987.52558510368, 39150.12345467273, 39312.72132424177, 39475.31919381082, 39637.917063379864, 39800.514932948914, 39963.11280251796, 40125.71067208701, 40288.30854165605, 40450.9064112251, 40613.50428079414, 40776.10215036319, 40938.700019932236, 41101.297889501286, 41263.895759070336, 41426.49362863938, 41589.09149820843, 41751.68936777747, 41914.28723734652, 42076.885106915564, 42239.482976484614, 42402.08084605366, 42564.67871562271]}],\n",
              "                        {\"legend\": {\"traceorder\": \"normal\", \"x\": 0, \"y\": 1}, \"template\": {\"data\": {\"bar\": [{\"error_x\": {\"color\": \"#2a3f5f\"}, \"error_y\": {\"color\": \"#2a3f5f\"}, \"marker\": {\"line\": {\"color\": \"#E5ECF6\", \"width\": 0.5}}, \"type\": \"bar\"}], \"barpolar\": [{\"marker\": {\"line\": {\"color\": \"#E5ECF6\", \"width\": 0.5}}, \"type\": \"barpolar\"}], \"carpet\": [{\"aaxis\": {\"endlinecolor\": \"#2a3f5f\", \"gridcolor\": \"white\", \"linecolor\": \"white\", \"minorgridcolor\": \"white\", \"startlinecolor\": \"#2a3f5f\"}, \"baxis\": {\"endlinecolor\": \"#2a3f5f\", \"gridcolor\": \"white\", \"linecolor\": \"white\", \"minorgridcolor\": \"white\", \"startlinecolor\": \"#2a3f5f\"}, \"type\": \"carpet\"}], \"choropleth\": [{\"colorbar\": {\"outlinewidth\": 0, \"ticks\": \"\"}, \"type\": \"choropleth\"}], \"contour\": [{\"colorbar\": {\"outlinewidth\": 0, \"ticks\": \"\"}, \"colorscale\": [[0.0, \"#0d0887\"], [0.1111111111111111, \"#46039f\"], [0.2222222222222222, \"#7201a8\"], [0.3333333333333333, \"#9c179e\"], [0.4444444444444444, \"#bd3786\"], [0.5555555555555556, \"#d8576b\"], [0.6666666666666666, \"#ed7953\"], [0.7777777777777778, \"#fb9f3a\"], [0.8888888888888888, \"#fdca26\"], [1.0, \"#f0f921\"]], \"type\": \"contour\"}], \"contourcarpet\": [{\"colorbar\": {\"outlinewidth\": 0, \"ticks\": \"\"}, \"type\": \"contourcarpet\"}], \"heatmap\": [{\"colorbar\": {\"outlinewidth\": 0, \"ticks\": \"\"}, \"colorscale\": [[0.0, \"#0d0887\"], [0.1111111111111111, \"#46039f\"], [0.2222222222222222, \"#7201a8\"], [0.3333333333333333, \"#9c179e\"], [0.4444444444444444, \"#bd3786\"], [0.5555555555555556, \"#d8576b\"], [0.6666666666666666, \"#ed7953\"], [0.7777777777777778, \"#fb9f3a\"], [0.8888888888888888, \"#fdca26\"], [1.0, \"#f0f921\"]], \"type\": \"heatmap\"}], \"heatmapgl\": [{\"colorbar\": {\"outlinewidth\": 0, \"ticks\": \"\"}, \"colorscale\": [[0.0, \"#0d0887\"], [0.1111111111111111, \"#46039f\"], [0.2222222222222222, \"#7201a8\"], [0.3333333333333333, \"#9c179e\"], [0.4444444444444444, \"#bd3786\"], [0.5555555555555556, \"#d8576b\"], [0.6666666666666666, \"#ed7953\"], [0.7777777777777778, \"#fb9f3a\"], [0.8888888888888888, \"#fdca26\"], [1.0, \"#f0f921\"]], \"type\": \"heatmapgl\"}], \"histogram\": [{\"marker\": {\"colorbar\": {\"outlinewidth\": 0, \"ticks\": \"\"}}, \"type\": \"histogram\"}], \"histogram2d\": [{\"colorbar\": {\"outlinewidth\": 0, \"ticks\": \"\"}, \"colorscale\": [[0.0, \"#0d0887\"], [0.1111111111111111, \"#46039f\"], [0.2222222222222222, \"#7201a8\"], [0.3333333333333333, \"#9c179e\"], [0.4444444444444444, \"#bd3786\"], [0.5555555555555556, \"#d8576b\"], [0.6666666666666666, \"#ed7953\"], [0.7777777777777778, \"#fb9f3a\"], [0.8888888888888888, \"#fdca26\"], [1.0, \"#f0f921\"]], \"type\": \"histogram2d\"}], \"histogram2dcontour\": [{\"colorbar\": {\"outlinewidth\": 0, \"ticks\": \"\"}, \"colorscale\": [[0.0, \"#0d0887\"], [0.1111111111111111, \"#46039f\"], [0.2222222222222222, \"#7201a8\"], [0.3333333333333333, \"#9c179e\"], [0.4444444444444444, \"#bd3786\"], [0.5555555555555556, \"#d8576b\"], [0.6666666666666666, \"#ed7953\"], [0.7777777777777778, \"#fb9f3a\"], [0.8888888888888888, \"#fdca26\"], [1.0, \"#f0f921\"]], \"type\": \"histogram2dcontour\"}], \"mesh3d\": [{\"colorbar\": {\"outlinewidth\": 0, \"ticks\": \"\"}, \"type\": \"mesh3d\"}], \"parcoords\": [{\"line\": {\"colorbar\": {\"outlinewidth\": 0, \"ticks\": \"\"}}, \"type\": \"parcoords\"}], \"pie\": [{\"automargin\": true, \"type\": \"pie\"}], \"scatter\": [{\"marker\": {\"colorbar\": {\"outlinewidth\": 0, \"ticks\": \"\"}}, \"type\": \"scatter\"}], \"scatter3d\": [{\"line\": {\"colorbar\": {\"outlinewidth\": 0, \"ticks\": \"\"}}, \"marker\": {\"colorbar\": {\"outlinewidth\": 0, \"ticks\": \"\"}}, \"type\": \"scatter3d\"}], \"scattercarpet\": [{\"marker\": {\"colorbar\": {\"outlinewidth\": 0, \"ticks\": \"\"}}, \"type\": \"scattercarpet\"}], \"scattergeo\": [{\"marker\": {\"colorbar\": {\"outlinewidth\": 0, \"ticks\": \"\"}}, \"type\": \"scattergeo\"}], \"scattergl\": [{\"marker\": {\"colorbar\": {\"outlinewidth\": 0, \"ticks\": \"\"}}, \"type\": \"scattergl\"}], \"scattermapbox\": [{\"marker\": {\"colorbar\": {\"outlinewidth\": 0, \"ticks\": \"\"}}, \"type\": \"scattermapbox\"}], \"scatterpolar\": [{\"marker\": {\"colorbar\": {\"outlinewidth\": 0, \"ticks\": \"\"}}, \"type\": \"scatterpolar\"}], \"scatterpolargl\": [{\"marker\": {\"colorbar\": {\"outlinewidth\": 0, \"ticks\": \"\"}}, \"type\": \"scatterpolargl\"}], \"scatterternary\": [{\"marker\": {\"colorbar\": {\"outlinewidth\": 0, \"ticks\": \"\"}}, \"type\": \"scatterternary\"}], \"surface\": [{\"colorbar\": {\"outlinewidth\": 0, \"ticks\": \"\"}, \"colorscale\": [[0.0, \"#0d0887\"], [0.1111111111111111, \"#46039f\"], [0.2222222222222222, \"#7201a8\"], [0.3333333333333333, \"#9c179e\"], [0.4444444444444444, \"#bd3786\"], [0.5555555555555556, \"#d8576b\"], [0.6666666666666666, \"#ed7953\"], [0.7777777777777778, \"#fb9f3a\"], [0.8888888888888888, \"#fdca26\"], [1.0, \"#f0f921\"]], \"type\": \"surface\"}], \"table\": [{\"cells\": {\"fill\": {\"color\": \"#EBF0F8\"}, \"line\": {\"color\": \"white\"}}, \"header\": {\"fill\": {\"color\": \"#C8D4E3\"}, \"line\": {\"color\": \"white\"}}, \"type\": \"table\"}]}, \"layout\": {\"annotationdefaults\": {\"arrowcolor\": \"#2a3f5f\", \"arrowhead\": 0, \"arrowwidth\": 1}, \"coloraxis\": {\"colorbar\": {\"outlinewidth\": 0, \"ticks\": \"\"}}, \"colorscale\": {\"diverging\": [[0, \"#8e0152\"], [0.1, \"#c51b7d\"], [0.2, \"#de77ae\"], [0.3, \"#f1b6da\"], [0.4, \"#fde0ef\"], [0.5, \"#f7f7f7\"], [0.6, \"#e6f5d0\"], [0.7, \"#b8e186\"], [0.8, \"#7fbc41\"], [0.9, \"#4d9221\"], [1, \"#276419\"]], \"sequential\": [[0.0, \"#0d0887\"], [0.1111111111111111, \"#46039f\"], [0.2222222222222222, \"#7201a8\"], [0.3333333333333333, \"#9c179e\"], [0.4444444444444444, \"#bd3786\"], [0.5555555555555556, \"#d8576b\"], [0.6666666666666666, \"#ed7953\"], [0.7777777777777778, \"#fb9f3a\"], [0.8888888888888888, \"#fdca26\"], [1.0, \"#f0f921\"]], \"sequentialminus\": [[0.0, \"#0d0887\"], [0.1111111111111111, \"#46039f\"], [0.2222222222222222, \"#7201a8\"], [0.3333333333333333, \"#9c179e\"], [0.4444444444444444, \"#bd3786\"], [0.5555555555555556, \"#d8576b\"], [0.6666666666666666, \"#ed7953\"], [0.7777777777777778, \"#fb9f3a\"], [0.8888888888888888, \"#fdca26\"], [1.0, \"#f0f921\"]]}, \"colorway\": [\"#636efa\", \"#EF553B\", \"#00cc96\", \"#ab63fa\", \"#FFA15A\", \"#19d3f3\", \"#FF6692\", \"#B6E880\", \"#FF97FF\", \"#FECB52\"], \"font\": {\"color\": \"#2a3f5f\"}, \"geo\": {\"bgcolor\": \"white\", \"lakecolor\": \"white\", \"landcolor\": \"#E5ECF6\", \"showlakes\": true, \"showland\": true, \"subunitcolor\": \"white\"}, \"hoverlabel\": {\"align\": \"left\"}, \"hovermode\": \"closest\", \"mapbox\": {\"style\": \"light\"}, \"paper_bgcolor\": \"white\", \"plot_bgcolor\": \"#E5ECF6\", \"polar\": {\"angularaxis\": {\"gridcolor\": \"white\", \"linecolor\": \"white\", \"ticks\": \"\"}, \"bgcolor\": \"#E5ECF6\", \"radialaxis\": {\"gridcolor\": \"white\", \"linecolor\": \"white\", \"ticks\": \"\"}}, \"scene\": {\"xaxis\": {\"backgroundcolor\": \"#E5ECF6\", \"gridcolor\": \"white\", \"gridwidth\": 2, \"linecolor\": \"white\", \"showbackground\": true, \"ticks\": \"\", \"zerolinecolor\": \"white\"}, \"yaxis\": {\"backgroundcolor\": \"#E5ECF6\", \"gridcolor\": \"white\", \"gridwidth\": 2, \"linecolor\": \"white\", \"showbackground\": true, \"ticks\": \"\", \"zerolinecolor\": \"white\"}, \"zaxis\": {\"backgroundcolor\": \"#E5ECF6\", \"gridcolor\": \"white\", \"gridwidth\": 2, \"linecolor\": \"white\", \"showbackground\": true, \"ticks\": \"\", \"zerolinecolor\": \"white\"}}, \"shapedefaults\": {\"line\": {\"color\": \"#2a3f5f\"}}, \"ternary\": {\"aaxis\": {\"gridcolor\": \"white\", \"linecolor\": \"white\", \"ticks\": \"\"}, \"baxis\": {\"gridcolor\": \"white\", \"linecolor\": \"white\", \"ticks\": \"\"}, \"bgcolor\": \"#E5ECF6\", \"caxis\": {\"gridcolor\": \"white\", \"linecolor\": \"white\", \"ticks\": \"\"}}, \"title\": {\"x\": 0.05}, \"xaxis\": {\"automargin\": true, \"gridcolor\": \"white\", \"linecolor\": \"white\", \"ticks\": \"\", \"title\": {\"standoff\": 15}, \"zerolinecolor\": \"white\", \"zerolinewidth\": 2}, \"yaxis\": {\"automargin\": true, \"gridcolor\": \"white\", \"linecolor\": \"white\", \"ticks\": \"\", \"title\": {\"standoff\": 15}, \"zerolinecolor\": \"white\", \"zerolinewidth\": 2}}}, \"title\": {\"text\": \"newly dead Cases Linear Regression Prediction\"}, \"xaxis\": {\"title\": {\"text\": \"Date\"}}, \"yaxis\": {\"title\": {\"text\": \"Death Cases\"}}},\n",
              "                        {\"responsive\": true}\n",
              "                    ).then(function(){\n",
              "                            \n",
              "var gd = document.getElementById('905099fc-27b3-4b0d-aeff-47c3ffc59911');\n",
              "var x = new MutationObserver(function (mutations, observer) {{\n",
              "        var display = window.getComputedStyle(gd).display;\n",
              "        if (!display || display === 'none') {{\n",
              "            console.log([gd, 'removed!']);\n",
              "            Plotly.purge(gd);\n",
              "            observer.disconnect();\n",
              "        }}\n",
              "}});\n",
              "\n",
              "// Listen for the removal of the full notebook cells\n",
              "var notebookContainer = gd.closest('#notebook-container');\n",
              "if (notebookContainer) {{\n",
              "    x.observe(notebookContainer, {childList: true});\n",
              "}}\n",
              "\n",
              "// Listen for the clearing of the current output cell\n",
              "var outputEl = gd.closest('.output');\n",
              "if (outputEl) {{\n",
              "    x.observe(outputEl, {childList: true});\n",
              "}}\n",
              "\n",
              "                        })\n",
              "                };\n",
              "                \n",
              "            </script>\n",
              "        </div>\n",
              "</body>\n",
              "</html>"
            ]
          },
          "metadata": {}
        },
        {
          "output_type": "display_data",
          "data": {
            "text/plain": [
              "<Figure size 792x432 with 0 Axes>"
            ]
          },
          "metadata": {}
        }
      ]
    },
    {
      "cell_type": "code",
      "metadata": {
        "id": "HC2Zoloba5TL"
      },
      "source": [
        "#polynomial regression \n",
        "train_ml=datewise.iloc[:int(datewise.shape[0]*0.95)]\n",
        "valid_ml=datewise.iloc[int(datewise.shape[0]*0.95):]\n",
        "poly = PolynomialFeatures(degree = 8) "
      ],
      "execution_count": 303,
      "outputs": []
    },
    {
      "cell_type": "code",
      "metadata": {
        "id": "eW1pOdBIbiCr"
      },
      "source": [
        "train_poly=poly.fit_transform(np.array(train_ml[\"Days Since\"]).reshape(-1,1))\n",
        "valid_poly=poly.fit_transform(np.array(valid_ml[\"Days Since\"]).reshape(-1,1))\n",
        "y=train_ml[\"dead\"]"
      ],
      "execution_count": 304,
      "outputs": []
    },
    {
      "cell_type": "code",
      "metadata": {
        "colab": {
          "base_uri": "https://localhost:8080/"
        },
        "id": "p1iigO5TcJhr",
        "outputId": "9d743833-1de9-4947-847f-4618ef48e6ed"
      },
      "source": [
        "linreg=LinearRegression(normalize=True)\n",
        "linreg.fit(train_poly,y)"
      ],
      "execution_count": 305,
      "outputs": [
        {
          "output_type": "execute_result",
          "data": {
            "text/plain": [
              "LinearRegression(copy_X=True, fit_intercept=True, n_jobs=None, normalize=True)"
            ]
          },
          "metadata": {},
          "execution_count": 305
        }
      ]
    },
    {
      "cell_type": "code",
      "metadata": {
        "colab": {
          "base_uri": "https://localhost:8080/"
        },
        "id": "1dF0Tw3vcLFj",
        "outputId": "67bcfb20-384f-4ace-9025-fae04c68a408"
      },
      "source": [
        "prediction_poly=linreg.predict(valid_poly)\n",
        "rmse_poly=np.sqrt(mean_squared_error(valid_ml[\"dead\"],prediction_poly))\n",
        "model_scores=[]\n",
        "model_scores.append(rmse_poly)\n",
        "print(\"Root Mean Squared Error for Polynomial Regression: \",rmse_poly)"
      ],
      "execution_count": 306,
      "outputs": [
        {
          "output_type": "stream",
          "name": "stdout",
          "text": [
            "Root Mean Squared Error for Polynomial Regression:  4033.929328927979\n"
          ]
        }
      ]
    },
    {
      "cell_type": "code",
      "metadata": {
        "colab": {
          "base_uri": "https://localhost:8080/",
          "height": 559
        },
        "id": "spbHEE25dMvr",
        "outputId": "f6eea05c-b514-42a9-f1bf-18cd64a3c3b0"
      },
      "source": [
        "comp_data=poly.fit_transform(np.array(datewise[\"Days Since\"]).reshape(-1,1))\n",
        "plt.figure(figsize=(11,6))\n",
        "predictions_poly=linreg.predict(comp_data)\n",
        "\n",
        "fig=go.Figure()\n",
        "fig.add_trace(go.Scatter(x=datewise.index, y=datewise[\"dead\"],\n",
        "                    mode='lines+markers',name=\"Train Data for newly dead Cases\"))\n",
        "fig.add_trace(go.Scatter(x=datewise.index, y=predictions_poly,\n",
        "                    mode='lines',name=\"Polynomial Regression Best Fit\",\n",
        "                    line=dict(color='black', dash='dot')))\n",
        "fig.update_layout(title=\"Death Cases Polynomial Regression Prediction\",\n",
        "                 xaxis_title=\"Date\",yaxis_title=\"Death Cases\",\n",
        "                 legend=dict(x=0,y=1,traceorder=\"normal\"))\n",
        "fig.show()\n"
      ],
      "execution_count": 307,
      "outputs": [
        {
          "output_type": "display_data",
          "data": {
            "text/html": [
              "<html>\n",
              "<head><meta charset=\"utf-8\" /></head>\n",
              "<body>\n",
              "    <div>\n",
              "            <script src=\"https://cdnjs.cloudflare.com/ajax/libs/mathjax/2.7.5/MathJax.js?config=TeX-AMS-MML_SVG\"></script><script type=\"text/javascript\">if (window.MathJax) {MathJax.Hub.Config({SVG: {font: \"STIX-Web\"}});}</script>\n",
              "                <script type=\"text/javascript\">window.PlotlyConfig = {MathJaxConfig: 'local'};</script>\n",
              "        <script src=\"https://cdn.plot.ly/plotly-latest.min.js\"></script>    \n",
              "            <div id=\"90662ba3-1063-4fc9-81f6-e3ebd86f4637\" class=\"plotly-graph-div\" style=\"height:525px; width:100%;\"></div>\n",
              "            <script type=\"text/javascript\">\n",
              "                \n",
              "                    window.PLOTLYENV=window.PLOTLYENV || {};\n",
              "                    \n",
              "                if (document.getElementById(\"90662ba3-1063-4fc9-81f6-e3ebd86f4637\")) {\n",
              "                    Plotly.newPlot(\n",
              "                        '90662ba3-1063-4fc9-81f6-e3ebd86f4637',\n",
              "                        [{\"mode\": \"lines+markers\", \"name\": \"Train Data for newly dead Cases\", \"type\": \"scatter\", \"x\": [\"2021-04-01T00:00:00\", \"2021-04-02T00:00:00\", \"2021-04-03T00:00:00\", \"2021-04-04T00:00:00\", \"2021-04-05T00:00:00\", \"2021-04-06T00:00:00\", \"2021-04-07T00:00:00\", \"2021-04-08T00:00:00\", \"2021-04-09T00:00:00\", \"2021-04-10T00:00:00\", \"2021-04-11T00:00:00\", \"2021-04-12T00:00:00\", \"2021-04-13T00:00:00\", \"2021-04-14T00:00:00\", \"2021-04-15T00:00:00\", \"2021-04-16T00:00:00\", \"2021-04-17T00:00:00\", \"2021-04-18T00:00:00\", \"2021-04-19T00:00:00\", \"2021-04-20T00:00:00\", \"2021-04-21T00:00:00\", \"2021-04-22T00:00:00\", \"2021-04-23T00:00:00\", \"2021-04-24T00:00:00\", \"2021-04-25T00:00:00\", \"2021-04-26T00:00:00\", \"2021-04-27T00:00:00\", \"2021-04-28T00:00:00\", \"2021-04-29T00:00:00\", \"2021-04-30T00:00:00\", \"2021-05-01T00:00:00\", \"2021-05-02T00:00:00\", \"2021-05-03T00:00:00\", \"2021-05-04T00:00:00\", \"2021-05-05T00:00:00\", \"2021-05-06T00:00:00\", \"2021-05-07T00:00:00\", \"2021-05-08T00:00:00\", \"2021-05-09T00:00:00\", \"2021-05-10T00:00:00\", \"2021-05-11T00:00:00\", \"2021-05-12T00:00:00\", \"2021-05-13T00:00:00\", \"2021-05-14T00:00:00\", \"2021-05-15T00:00:00\", \"2021-05-16T00:00:00\", \"2021-05-17T00:00:00\", \"2021-05-18T00:00:00\", \"2021-05-19T00:00:00\", \"2021-05-20T00:00:00\", \"2021-05-21T00:00:00\", \"2021-05-22T00:00:00\", \"2021-05-23T00:00:00\", \"2021-05-24T00:00:00\", \"2021-05-25T00:00:00\", \"2021-05-26T00:00:00\", \"2021-05-27T00:00:00\", \"2021-05-28T00:00:00\", \"2021-05-29T00:00:00\", \"2021-05-30T00:00:00\", \"2021-05-31T00:00:00\", \"2021-06-01T00:00:00\", \"2021-06-02T00:00:00\", \"2021-06-03T00:00:00\", \"2021-06-04T00:00:00\", \"2021-06-05T00:00:00\", \"2021-06-06T00:00:00\", \"2021-06-07T00:00:00\", \"2021-06-08T00:00:00\", \"2021-06-09T00:00:00\", \"2021-06-10T00:00:00\", \"2021-06-11T00:00:00\", \"2021-06-12T00:00:00\", \"2021-06-13T00:00:00\", \"2021-06-14T00:00:00\", \"2021-06-15T00:00:00\", \"2021-06-16T00:00:00\", \"2021-06-17T00:00:00\", \"2021-06-18T00:00:00\", \"2021-06-19T00:00:00\", \"2021-06-20T00:00:00\", \"2021-06-21T00:00:00\", \"2021-06-22T00:00:00\", \"2021-06-23T00:00:00\", \"2021-06-24T00:00:00\", \"2021-06-25T00:00:00\", \"2021-06-26T00:00:00\", \"2021-06-27T00:00:00\", \"2021-06-28T00:00:00\", \"2021-06-29T00:00:00\", \"2021-06-30T00:00:00\", \"2021-07-01T00:00:00\", \"2021-07-02T00:00:00\", \"2021-07-03T00:00:00\", \"2021-07-04T00:00:00\", \"2021-07-05T00:00:00\", \"2021-07-06T00:00:00\", \"2021-07-07T00:00:00\", \"2021-07-08T00:00:00\", \"2021-07-09T00:00:00\", \"2021-07-10T00:00:00\", \"2021-07-11T00:00:00\", \"2021-07-12T00:00:00\", \"2021-07-13T00:00:00\", \"2021-07-14T00:00:00\", \"2021-07-15T00:00:00\", \"2021-07-16T00:00:00\", \"2021-07-17T00:00:00\", \"2021-07-18T00:00:00\", \"2021-07-19T00:00:00\", \"2021-07-20T00:00:00\", \"2021-07-21T00:00:00\", \"2021-07-22T00:00:00\", \"2021-07-23T00:00:00\", \"2021-07-24T00:00:00\", \"2021-07-25T00:00:00\", \"2021-07-26T00:00:00\", \"2021-07-27T00:00:00\", \"2021-07-28T00:00:00\", \"2021-07-29T00:00:00\", \"2021-07-30T00:00:00\", \"2021-07-31T00:00:00\", \"2021-08-01T00:00:00\", \"2021-08-02T00:00:00\", \"2021-08-03T00:00:00\", \"2021-08-04T00:00:00\", \"2021-08-05T00:00:00\", \"2021-08-06T00:00:00\", \"2021-08-07T00:00:00\", \"2021-08-08T00:00:00\", \"2021-08-09T00:00:00\", \"2021-08-10T00:00:00\", \"2021-08-11T00:00:00\", \"2021-08-12T00:00:00\", \"2021-08-13T00:00:00\", \"2021-08-14T00:00:00\", \"2021-08-15T00:00:00\", \"2021-08-16T00:00:00\", \"2021-08-17T00:00:00\", \"2021-08-18T00:00:00\", \"2021-08-19T00:00:00\", \"2021-08-20T00:00:00\", \"2021-08-21T00:00:00\", \"2021-08-22T00:00:00\", \"2021-08-23T00:00:00\", \"2021-08-24T00:00:00\", \"2021-08-25T00:00:00\", \"2021-08-26T00:00:00\", \"2021-08-27T00:00:00\", \"2021-08-28T00:00:00\", \"2021-08-29T00:00:00\", \"2021-08-30T00:00:00\", \"2021-08-31T00:00:00\", \"2021-09-01T00:00:00\", \"2021-09-02T00:00:00\", \"2021-09-03T00:00:00\", \"2021-09-04T00:00:00\", \"2021-09-05T00:00:00\", \"2021-09-06T00:00:00\", \"2021-09-07T00:00:00\", \"2021-09-08T00:00:00\", \"2021-09-09T00:00:00\", \"2021-09-10T00:00:00\", \"2021-09-11T00:00:00\", \"2021-09-12T00:00:00\", \"2021-09-13T00:00:00\", \"2021-09-14T00:00:00\", \"2021-09-15T00:00:00\", \"2021-09-16T00:00:00\", \"2021-09-17T00:00:00\", \"2021-09-18T00:00:00\", \"2021-09-19T00:00:00\", \"2021-09-20T00:00:00\", \"2021-09-21T00:00:00\", \"2021-09-22T00:00:00\", \"2021-09-23T00:00:00\", \"2021-09-24T00:00:00\", \"2021-09-25T00:00:00\", \"2021-09-26T00:00:00\", \"2021-09-27T00:00:00\", \"2021-09-28T00:00:00\", \"2021-09-29T00:00:00\", \"2021-09-30T00:00:00\"], \"y\": [12738, 12750, 12764, 12778, 12789, 12804, 12821, 12840, 12863, 12886, 12908, 12927, 12945, 12970, 12999, 13032, 13071, 13113, 13157, 13205, 13258, 13317, 13395, 13475, 13557, 13651, 13728, 13826, 13933, 14046, 14193, 14346, 14468, 14612, 14779, 14974, 15171, 15412, 15648, 15880, 16178, 16471, 16768, 17056, 17359, 17670, 18005, 18369, 18734, 19131, 19598, 20046, 20468, 20872, 21340, 21815, 22289, 22775, 23261, 23754, 24232, 24722, 25205, 25665, 26128, 26571, 27005, 27356, 27765, 28170, 28528, 28906, 29280, 29547, 29801, 30068, 30338, 30548, 30835, 31015, 31197, 31386, 31580, 31746, 31901, 32051, 32199, 32290, 32388, 32506, 32619, 32721, 32818, 32933, 33005, 33059, 33132, 33196, 33253, 33322, 33371, 33418, 33454, 33502, 33557, 33606, 33652, 33695, 33724, 33752, 33782, 33809, 33838, 33862, 33889, 33911, 33937, 33966, 33995, 34023, 34050, 34076, 34102, 34130, 34159, 34197, 34230, 34260, 34289, 34317, 34340, 34367, 34395, 34428, 34462, 34496, 34519, 34547, 34579, 34610, 34639, 34663, 34686, 34709, 34734, 34761, 34788, 34814, 34835, 34856, 34878, 34899, 34921, 34941, 34961, 34980, 35000, 35018, 35036, 35055, 35073, 35094, 35119, 35146, 35168, 35190, 35217, 35246, 35271, 35288, 35310, 35337, 35360, 35379, 35400, 35427, 35454, 35476, 35490, 35509, 35526, 35550, 35578]}, {\"line\": {\"color\": \"black\", \"dash\": \"dot\"}, \"mode\": \"lines\", \"name\": \"Polynomial Regression Best Fit\", \"type\": \"scatter\", \"x\": [\"2021-04-01T00:00:00\", \"2021-04-02T00:00:00\", \"2021-04-03T00:00:00\", \"2021-04-04T00:00:00\", \"2021-04-05T00:00:00\", \"2021-04-06T00:00:00\", \"2021-04-07T00:00:00\", \"2021-04-08T00:00:00\", \"2021-04-09T00:00:00\", \"2021-04-10T00:00:00\", \"2021-04-11T00:00:00\", \"2021-04-12T00:00:00\", \"2021-04-13T00:00:00\", \"2021-04-14T00:00:00\", \"2021-04-15T00:00:00\", \"2021-04-16T00:00:00\", \"2021-04-17T00:00:00\", \"2021-04-18T00:00:00\", \"2021-04-19T00:00:00\", \"2021-04-20T00:00:00\", \"2021-04-21T00:00:00\", \"2021-04-22T00:00:00\", \"2021-04-23T00:00:00\", \"2021-04-24T00:00:00\", \"2021-04-25T00:00:00\", \"2021-04-26T00:00:00\", \"2021-04-27T00:00:00\", \"2021-04-28T00:00:00\", \"2021-04-29T00:00:00\", \"2021-04-30T00:00:00\", \"2021-05-01T00:00:00\", \"2021-05-02T00:00:00\", \"2021-05-03T00:00:00\", \"2021-05-04T00:00:00\", \"2021-05-05T00:00:00\", \"2021-05-06T00:00:00\", \"2021-05-07T00:00:00\", \"2021-05-08T00:00:00\", \"2021-05-09T00:00:00\", \"2021-05-10T00:00:00\", \"2021-05-11T00:00:00\", \"2021-05-12T00:00:00\", \"2021-05-13T00:00:00\", \"2021-05-14T00:00:00\", \"2021-05-15T00:00:00\", \"2021-05-16T00:00:00\", \"2021-05-17T00:00:00\", \"2021-05-18T00:00:00\", \"2021-05-19T00:00:00\", \"2021-05-20T00:00:00\", \"2021-05-21T00:00:00\", \"2021-05-22T00:00:00\", \"2021-05-23T00:00:00\", \"2021-05-24T00:00:00\", \"2021-05-25T00:00:00\", \"2021-05-26T00:00:00\", \"2021-05-27T00:00:00\", \"2021-05-28T00:00:00\", \"2021-05-29T00:00:00\", \"2021-05-30T00:00:00\", \"2021-05-31T00:00:00\", \"2021-06-01T00:00:00\", \"2021-06-02T00:00:00\", \"2021-06-03T00:00:00\", \"2021-06-04T00:00:00\", \"2021-06-05T00:00:00\", \"2021-06-06T00:00:00\", \"2021-06-07T00:00:00\", \"2021-06-08T00:00:00\", \"2021-06-09T00:00:00\", \"2021-06-10T00:00:00\", \"2021-06-11T00:00:00\", \"2021-06-12T00:00:00\", \"2021-06-13T00:00:00\", \"2021-06-14T00:00:00\", \"2021-06-15T00:00:00\", \"2021-06-16T00:00:00\", \"2021-06-17T00:00:00\", \"2021-06-18T00:00:00\", \"2021-06-19T00:00:00\", \"2021-06-20T00:00:00\", \"2021-06-21T00:00:00\", \"2021-06-22T00:00:00\", \"2021-06-23T00:00:00\", \"2021-06-24T00:00:00\", \"2021-06-25T00:00:00\", \"2021-06-26T00:00:00\", \"2021-06-27T00:00:00\", \"2021-06-28T00:00:00\", \"2021-06-29T00:00:00\", \"2021-06-30T00:00:00\", \"2021-07-01T00:00:00\", \"2021-07-02T00:00:00\", \"2021-07-03T00:00:00\", \"2021-07-04T00:00:00\", \"2021-07-05T00:00:00\", \"2021-07-06T00:00:00\", \"2021-07-07T00:00:00\", \"2021-07-08T00:00:00\", \"2021-07-09T00:00:00\", \"2021-07-10T00:00:00\", \"2021-07-11T00:00:00\", \"2021-07-12T00:00:00\", \"2021-07-13T00:00:00\", \"2021-07-14T00:00:00\", \"2021-07-15T00:00:00\", \"2021-07-16T00:00:00\", \"2021-07-17T00:00:00\", \"2021-07-18T00:00:00\", \"2021-07-19T00:00:00\", \"2021-07-20T00:00:00\", \"2021-07-21T00:00:00\", \"2021-07-22T00:00:00\", \"2021-07-23T00:00:00\", \"2021-07-24T00:00:00\", \"2021-07-25T00:00:00\", \"2021-07-26T00:00:00\", \"2021-07-27T00:00:00\", \"2021-07-28T00:00:00\", \"2021-07-29T00:00:00\", \"2021-07-30T00:00:00\", \"2021-07-31T00:00:00\", \"2021-08-01T00:00:00\", \"2021-08-02T00:00:00\", \"2021-08-03T00:00:00\", \"2021-08-04T00:00:00\", \"2021-08-05T00:00:00\", \"2021-08-06T00:00:00\", \"2021-08-07T00:00:00\", \"2021-08-08T00:00:00\", \"2021-08-09T00:00:00\", \"2021-08-10T00:00:00\", \"2021-08-11T00:00:00\", \"2021-08-12T00:00:00\", \"2021-08-13T00:00:00\", \"2021-08-14T00:00:00\", \"2021-08-15T00:00:00\", \"2021-08-16T00:00:00\", \"2021-08-17T00:00:00\", \"2021-08-18T00:00:00\", \"2021-08-19T00:00:00\", \"2021-08-20T00:00:00\", \"2021-08-21T00:00:00\", \"2021-08-22T00:00:00\", \"2021-08-23T00:00:00\", \"2021-08-24T00:00:00\", \"2021-08-25T00:00:00\", \"2021-08-26T00:00:00\", \"2021-08-27T00:00:00\", \"2021-08-28T00:00:00\", \"2021-08-29T00:00:00\", \"2021-08-30T00:00:00\", \"2021-08-31T00:00:00\", \"2021-09-01T00:00:00\", \"2021-09-02T00:00:00\", \"2021-09-03T00:00:00\", \"2021-09-04T00:00:00\", \"2021-09-05T00:00:00\", \"2021-09-06T00:00:00\", \"2021-09-07T00:00:00\", \"2021-09-08T00:00:00\", \"2021-09-09T00:00:00\", \"2021-09-10T00:00:00\", \"2021-09-11T00:00:00\", \"2021-09-12T00:00:00\", \"2021-09-13T00:00:00\", \"2021-09-14T00:00:00\", \"2021-09-15T00:00:00\", \"2021-09-16T00:00:00\", \"2021-09-17T00:00:00\", \"2021-09-18T00:00:00\", \"2021-09-19T00:00:00\", \"2021-09-20T00:00:00\", \"2021-09-21T00:00:00\", \"2021-09-22T00:00:00\", \"2021-09-23T00:00:00\", \"2021-09-24T00:00:00\", \"2021-09-25T00:00:00\", \"2021-09-26T00:00:00\", \"2021-09-27T00:00:00\", \"2021-09-28T00:00:00\", \"2021-09-29T00:00:00\", \"2021-09-30T00:00:00\"], \"y\": [12315.859826580452, 12504.91171008809, 12662.594154763721, 12791.82285645726, 12895.46132299951, 12976.312638208765, 13037.1119332411, 13080.519540357102, 13109.114804536464, 13125.390528730566, 13131.748028901877, 13130.492775357705, 13123.83059724451, 13113.864427427681, 13102.591565340414, 13091.901435743972, 13083.57382170037, 13079.277550417137, 13080.56961098259, 13088.894683368695, 13105.585058437333, 13131.8609290444, 13168.831032694989, 13217.493626561505, 13278.737776035276, 13353.344938340948, 13441.99082310166, 13545.247512101574, 13663.585820851267, 13797.377884919884, 13946.899954356932, 14112.335379885084, 14293.777774904207, 14491.23433770541, 14704.629318652636, 14933.807617448132, 15178.5384959566, 15438.519392421786, 15713.379823267693, 16002.6853590356, 16305.941661366454, 16622.598568297224, 16952.05421549803, 17293.659181436313, 17646.720644812096, 18010.506542967785, 18384.249720334337, 18767.152056334522, 19158.38856252226, 19557.11143909637, 19962.454081285174, 20373.53502645749, 20789.461833173926, 21209.334883751428, 21632.251102272472, 22057.30758032894, 22483.605103149806, 22910.251569119966, 23336.365296056538, 23761.078207967737, 24183.538896377526, 24602.915550659025, 25018.398752177218, 25429.2041274008, 25834.57485550185, 26233.784026320027, 26626.13684492763, 27010.972679389546, 27387.666948671635, 27755.6328480093, 28114.3229094071, 28463.230395298255, 28801.890523752503, 29129.881523978955, 29446.8255212288, 29752.389250562977, 30046.28459930636, 30328.268978371154, 30598.145522988794, 30855.763123749755, 31101.016289208244, 31333.84484166919, 31554.23344813104, 31762.210988719053, 31957.84976530131, 32141.26455333813, 32312.611500374594, 32472.086874945897, 32619.925670020188, 32756.400065467773, 32881.81775439829, 32996.5201385716, 33100.880398442445, 33195.3014437609, 33280.21375100656, 33356.073094296036, 33423.35817675884, 33482.56816973857, 33534.22016753347, 33578.84656574645, 33616.992371680084, 33649.21245556459, 33676.06875176696, 33698.12741949096, 33715.955972833784, 33730.12039042061, 33741.18221520822, 33749.69565539202, 33756.204697723835, 33761.24024489643, 33765.317289013525, 33768.93213352718, 33772.55967636885, 33776.65076737988, 33781.62965348711, 33787.89152543441, 33795.80018025288, 33805.68581397867, 33817.84295953004, 33832.52858496701, 33849.96036775912, 33870.31516101243, 33893.727667985935, 33920.289341571304, 33950.04752578414, 33983.00485666368, 34019.11894033212, 34058.30232633943, 34100.422794764694, 34145.30397589991, 34192.72632172514, 34242.42844871008, 34294.10887186591, 34347.42815029847, 34402.0114649078, 34457.45164920955, 34513.31269462737, 34569.133751955036, 34624.43365105016, 34678.715961196816, 34731.474614881154, 34782.20011815978, 34830.38637108242, 34875.538122044556, 34917.179080288035, 34954.86071109821, 34988.17173864677, 35016.74838178069, 35040.28534837561, 35058.5476143048, 35071.383013326835, 35078.735664684886, 35080.66026546965, 35077.33727517247, 35069.08902026328, 35056.396746915176, 35039.91865046112, 35020.50891034775, 34999.23775995388, 34977.412620761934, 34956.60033090359, 34938.65049833926, 34925.7200093805, 34920.298723593405, 34925.23638639627, 34943.77079124123, 34979.55722326868, 35036.6992171617, 35119.78066177819, 35233.89928494628, 35384.70155176383, 35578.41901050702, 35821.906120239626, 36122.67959484025, 36488.959298340895, 36929.71072703836, 37454.6891138752, 38074.48519136526, 38800.57264930954, 39645.35732410714, 40622.22815682957, 41745.609957573186, 43031.018013761626]}],\n",
              "                        {\"legend\": {\"traceorder\": \"normal\", \"x\": 0, \"y\": 1}, \"template\": {\"data\": {\"bar\": [{\"error_x\": {\"color\": \"#2a3f5f\"}, \"error_y\": {\"color\": \"#2a3f5f\"}, \"marker\": {\"line\": {\"color\": \"#E5ECF6\", \"width\": 0.5}}, \"type\": \"bar\"}], \"barpolar\": [{\"marker\": {\"line\": {\"color\": \"#E5ECF6\", \"width\": 0.5}}, \"type\": \"barpolar\"}], \"carpet\": [{\"aaxis\": {\"endlinecolor\": \"#2a3f5f\", \"gridcolor\": \"white\", \"linecolor\": \"white\", \"minorgridcolor\": \"white\", \"startlinecolor\": \"#2a3f5f\"}, \"baxis\": {\"endlinecolor\": \"#2a3f5f\", \"gridcolor\": \"white\", \"linecolor\": \"white\", \"minorgridcolor\": \"white\", \"startlinecolor\": \"#2a3f5f\"}, \"type\": \"carpet\"}], \"choropleth\": [{\"colorbar\": {\"outlinewidth\": 0, \"ticks\": \"\"}, \"type\": \"choropleth\"}], \"contour\": [{\"colorbar\": {\"outlinewidth\": 0, \"ticks\": \"\"}, \"colorscale\": [[0.0, \"#0d0887\"], [0.1111111111111111, \"#46039f\"], [0.2222222222222222, \"#7201a8\"], [0.3333333333333333, \"#9c179e\"], [0.4444444444444444, \"#bd3786\"], [0.5555555555555556, \"#d8576b\"], [0.6666666666666666, \"#ed7953\"], [0.7777777777777778, \"#fb9f3a\"], [0.8888888888888888, \"#fdca26\"], [1.0, \"#f0f921\"]], \"type\": \"contour\"}], \"contourcarpet\": [{\"colorbar\": {\"outlinewidth\": 0, \"ticks\": \"\"}, \"type\": \"contourcarpet\"}], \"heatmap\": [{\"colorbar\": {\"outlinewidth\": 0, \"ticks\": \"\"}, \"colorscale\": [[0.0, \"#0d0887\"], [0.1111111111111111, \"#46039f\"], [0.2222222222222222, \"#7201a8\"], [0.3333333333333333, \"#9c179e\"], [0.4444444444444444, \"#bd3786\"], [0.5555555555555556, \"#d8576b\"], [0.6666666666666666, \"#ed7953\"], [0.7777777777777778, \"#fb9f3a\"], [0.8888888888888888, \"#fdca26\"], [1.0, \"#f0f921\"]], \"type\": \"heatmap\"}], \"heatmapgl\": [{\"colorbar\": {\"outlinewidth\": 0, \"ticks\": \"\"}, \"colorscale\": [[0.0, \"#0d0887\"], [0.1111111111111111, \"#46039f\"], [0.2222222222222222, \"#7201a8\"], [0.3333333333333333, \"#9c179e\"], [0.4444444444444444, \"#bd3786\"], [0.5555555555555556, \"#d8576b\"], [0.6666666666666666, \"#ed7953\"], [0.7777777777777778, \"#fb9f3a\"], [0.8888888888888888, \"#fdca26\"], [1.0, \"#f0f921\"]], \"type\": \"heatmapgl\"}], \"histogram\": [{\"marker\": {\"colorbar\": {\"outlinewidth\": 0, \"ticks\": \"\"}}, \"type\": \"histogram\"}], \"histogram2d\": [{\"colorbar\": {\"outlinewidth\": 0, \"ticks\": \"\"}, \"colorscale\": [[0.0, \"#0d0887\"], [0.1111111111111111, \"#46039f\"], [0.2222222222222222, \"#7201a8\"], [0.3333333333333333, \"#9c179e\"], [0.4444444444444444, \"#bd3786\"], [0.5555555555555556, \"#d8576b\"], [0.6666666666666666, \"#ed7953\"], [0.7777777777777778, \"#fb9f3a\"], [0.8888888888888888, \"#fdca26\"], [1.0, \"#f0f921\"]], \"type\": \"histogram2d\"}], \"histogram2dcontour\": [{\"colorbar\": {\"outlinewidth\": 0, \"ticks\": \"\"}, \"colorscale\": [[0.0, \"#0d0887\"], [0.1111111111111111, \"#46039f\"], [0.2222222222222222, \"#7201a8\"], [0.3333333333333333, \"#9c179e\"], [0.4444444444444444, \"#bd3786\"], [0.5555555555555556, \"#d8576b\"], [0.6666666666666666, \"#ed7953\"], [0.7777777777777778, \"#fb9f3a\"], [0.8888888888888888, \"#fdca26\"], [1.0, \"#f0f921\"]], \"type\": \"histogram2dcontour\"}], \"mesh3d\": [{\"colorbar\": {\"outlinewidth\": 0, \"ticks\": \"\"}, \"type\": \"mesh3d\"}], \"parcoords\": [{\"line\": {\"colorbar\": {\"outlinewidth\": 0, \"ticks\": \"\"}}, \"type\": \"parcoords\"}], \"pie\": [{\"automargin\": true, \"type\": \"pie\"}], \"scatter\": [{\"marker\": {\"colorbar\": {\"outlinewidth\": 0, \"ticks\": \"\"}}, \"type\": \"scatter\"}], \"scatter3d\": [{\"line\": {\"colorbar\": {\"outlinewidth\": 0, \"ticks\": \"\"}}, \"marker\": {\"colorbar\": {\"outlinewidth\": 0, \"ticks\": \"\"}}, \"type\": \"scatter3d\"}], \"scattercarpet\": [{\"marker\": {\"colorbar\": {\"outlinewidth\": 0, \"ticks\": \"\"}}, \"type\": \"scattercarpet\"}], \"scattergeo\": [{\"marker\": {\"colorbar\": {\"outlinewidth\": 0, \"ticks\": \"\"}}, \"type\": \"scattergeo\"}], \"scattergl\": [{\"marker\": {\"colorbar\": {\"outlinewidth\": 0, \"ticks\": \"\"}}, \"type\": \"scattergl\"}], \"scattermapbox\": [{\"marker\": {\"colorbar\": {\"outlinewidth\": 0, \"ticks\": \"\"}}, \"type\": \"scattermapbox\"}], \"scatterpolar\": [{\"marker\": {\"colorbar\": {\"outlinewidth\": 0, \"ticks\": \"\"}}, \"type\": \"scatterpolar\"}], \"scatterpolargl\": [{\"marker\": {\"colorbar\": {\"outlinewidth\": 0, \"ticks\": \"\"}}, \"type\": \"scatterpolargl\"}], \"scatterternary\": [{\"marker\": {\"colorbar\": {\"outlinewidth\": 0, \"ticks\": \"\"}}, \"type\": \"scatterternary\"}], \"surface\": [{\"colorbar\": {\"outlinewidth\": 0, \"ticks\": \"\"}, \"colorscale\": [[0.0, \"#0d0887\"], [0.1111111111111111, \"#46039f\"], [0.2222222222222222, \"#7201a8\"], [0.3333333333333333, \"#9c179e\"], [0.4444444444444444, \"#bd3786\"], [0.5555555555555556, \"#d8576b\"], [0.6666666666666666, \"#ed7953\"], [0.7777777777777778, \"#fb9f3a\"], [0.8888888888888888, \"#fdca26\"], [1.0, \"#f0f921\"]], \"type\": \"surface\"}], \"table\": [{\"cells\": {\"fill\": {\"color\": \"#EBF0F8\"}, \"line\": {\"color\": \"white\"}}, \"header\": {\"fill\": {\"color\": \"#C8D4E3\"}, \"line\": {\"color\": \"white\"}}, \"type\": \"table\"}]}, \"layout\": {\"annotationdefaults\": {\"arrowcolor\": \"#2a3f5f\", \"arrowhead\": 0, \"arrowwidth\": 1}, \"coloraxis\": {\"colorbar\": {\"outlinewidth\": 0, \"ticks\": \"\"}}, \"colorscale\": {\"diverging\": [[0, \"#8e0152\"], [0.1, \"#c51b7d\"], [0.2, \"#de77ae\"], [0.3, \"#f1b6da\"], [0.4, \"#fde0ef\"], [0.5, \"#f7f7f7\"], [0.6, \"#e6f5d0\"], [0.7, \"#b8e186\"], [0.8, \"#7fbc41\"], [0.9, \"#4d9221\"], [1, \"#276419\"]], \"sequential\": [[0.0, \"#0d0887\"], [0.1111111111111111, \"#46039f\"], [0.2222222222222222, \"#7201a8\"], [0.3333333333333333, \"#9c179e\"], [0.4444444444444444, \"#bd3786\"], [0.5555555555555556, \"#d8576b\"], [0.6666666666666666, \"#ed7953\"], [0.7777777777777778, \"#fb9f3a\"], [0.8888888888888888, \"#fdca26\"], [1.0, \"#f0f921\"]], \"sequentialminus\": [[0.0, \"#0d0887\"], [0.1111111111111111, \"#46039f\"], [0.2222222222222222, \"#7201a8\"], [0.3333333333333333, \"#9c179e\"], [0.4444444444444444, \"#bd3786\"], [0.5555555555555556, \"#d8576b\"], [0.6666666666666666, \"#ed7953\"], [0.7777777777777778, \"#fb9f3a\"], [0.8888888888888888, \"#fdca26\"], [1.0, \"#f0f921\"]]}, \"colorway\": [\"#636efa\", \"#EF553B\", \"#00cc96\", \"#ab63fa\", \"#FFA15A\", \"#19d3f3\", \"#FF6692\", \"#B6E880\", \"#FF97FF\", \"#FECB52\"], \"font\": {\"color\": \"#2a3f5f\"}, \"geo\": {\"bgcolor\": \"white\", \"lakecolor\": \"white\", \"landcolor\": \"#E5ECF6\", \"showlakes\": true, \"showland\": true, \"subunitcolor\": \"white\"}, \"hoverlabel\": {\"align\": \"left\"}, \"hovermode\": \"closest\", \"mapbox\": {\"style\": \"light\"}, \"paper_bgcolor\": \"white\", \"plot_bgcolor\": \"#E5ECF6\", \"polar\": {\"angularaxis\": {\"gridcolor\": \"white\", \"linecolor\": \"white\", \"ticks\": \"\"}, \"bgcolor\": \"#E5ECF6\", \"radialaxis\": {\"gridcolor\": \"white\", \"linecolor\": \"white\", \"ticks\": \"\"}}, \"scene\": {\"xaxis\": {\"backgroundcolor\": \"#E5ECF6\", \"gridcolor\": \"white\", \"gridwidth\": 2, \"linecolor\": \"white\", \"showbackground\": true, \"ticks\": \"\", \"zerolinecolor\": \"white\"}, \"yaxis\": {\"backgroundcolor\": \"#E5ECF6\", \"gridcolor\": \"white\", \"gridwidth\": 2, \"linecolor\": \"white\", \"showbackground\": true, \"ticks\": \"\", \"zerolinecolor\": \"white\"}, \"zaxis\": {\"backgroundcolor\": \"#E5ECF6\", \"gridcolor\": \"white\", \"gridwidth\": 2, \"linecolor\": \"white\", \"showbackground\": true, \"ticks\": \"\", \"zerolinecolor\": \"white\"}}, \"shapedefaults\": {\"line\": {\"color\": \"#2a3f5f\"}}, \"ternary\": {\"aaxis\": {\"gridcolor\": \"white\", \"linecolor\": \"white\", \"ticks\": \"\"}, \"baxis\": {\"gridcolor\": \"white\", \"linecolor\": \"white\", \"ticks\": \"\"}, \"bgcolor\": \"#E5ECF6\", \"caxis\": {\"gridcolor\": \"white\", \"linecolor\": \"white\", \"ticks\": \"\"}}, \"title\": {\"x\": 0.05}, \"xaxis\": {\"automargin\": true, \"gridcolor\": \"white\", \"linecolor\": \"white\", \"ticks\": \"\", \"title\": {\"standoff\": 15}, \"zerolinecolor\": \"white\", \"zerolinewidth\": 2}, \"yaxis\": {\"automargin\": true, \"gridcolor\": \"white\", \"linecolor\": \"white\", \"ticks\": \"\", \"title\": {\"standoff\": 15}, \"zerolinecolor\": \"white\", \"zerolinewidth\": 2}}}, \"title\": {\"text\": \"Death Cases Polynomial Regression Prediction\"}, \"xaxis\": {\"title\": {\"text\": \"Date\"}}, \"yaxis\": {\"title\": {\"text\": \"Death Cases\"}}},\n",
              "                        {\"responsive\": true}\n",
              "                    ).then(function(){\n",
              "                            \n",
              "var gd = document.getElementById('90662ba3-1063-4fc9-81f6-e3ebd86f4637');\n",
              "var x = new MutationObserver(function (mutations, observer) {{\n",
              "        var display = window.getComputedStyle(gd).display;\n",
              "        if (!display || display === 'none') {{\n",
              "            console.log([gd, 'removed!']);\n",
              "            Plotly.purge(gd);\n",
              "            observer.disconnect();\n",
              "        }}\n",
              "}});\n",
              "\n",
              "// Listen for the removal of the full notebook cells\n",
              "var notebookContainer = gd.closest('#notebook-container');\n",
              "if (notebookContainer) {{\n",
              "    x.observe(notebookContainer, {childList: true});\n",
              "}}\n",
              "\n",
              "// Listen for the clearing of the current output cell\n",
              "var outputEl = gd.closest('.output');\n",
              "if (outputEl) {{\n",
              "    x.observe(outputEl, {childList: true});\n",
              "}}\n",
              "\n",
              "                        })\n",
              "                };\n",
              "                \n",
              "            </script>\n",
              "        </div>\n",
              "</body>\n",
              "</html>"
            ]
          },
          "metadata": {}
        },
        {
          "output_type": "display_data",
          "data": {
            "text/plain": [
              "<Figure size 792x432 with 0 Axes>"
            ]
          },
          "metadata": {}
        }
      ]
    },
    {
      "cell_type": "markdown",
      "metadata": {
        "id": "Qy54LD-_hcYt"
      },
      "source": [
        "SVM PREDICTION"
      ]
    },
    {
      "cell_type": "code",
      "metadata": {
        "id": "YWf-m674hjW7"
      },
      "source": [
        "train_ml=datewise.iloc[:int(datewise.shape[0]*0.95)]\n",
        "valid_ml=datewise.iloc[int(datewise.shape[0]*0.95):]"
      ],
      "execution_count": 308,
      "outputs": []
    },
    {
      "cell_type": "code",
      "metadata": {
        "id": "pfwzyTTlhq9M"
      },
      "source": [
        "#Intializing SVR Model\n",
        "svm=SVR(C=1,degree=6,kernel='poly',epsilon=0.01)"
      ],
      "execution_count": 309,
      "outputs": []
    },
    {
      "cell_type": "code",
      "metadata": {
        "colab": {
          "base_uri": "https://localhost:8080/"
        },
        "id": "WkolIDn5hv4F",
        "outputId": "400a9944-8210-48f5-f5f4-10fa84ecb73f"
      },
      "source": [
        "#Fitting model on the training data\n",
        "svm.fit(np.array(train_ml[\"Days Since\"]).reshape(-1,1),np.array(train_ml[\"dead\"]).reshape(-1,1))"
      ],
      "execution_count": 310,
      "outputs": [
        {
          "output_type": "execute_result",
          "data": {
            "text/plain": [
              "SVR(C=1, cache_size=200, coef0=0.0, degree=6, epsilon=0.01, gamma='scale',\n",
              "    kernel='poly', max_iter=-1, shrinking=True, tol=0.001, verbose=False)"
            ]
          },
          "metadata": {},
          "execution_count": 310
        }
      ]
    },
    {
      "cell_type": "code",
      "metadata": {
        "id": "7kRQd25kh1v8"
      },
      "source": [
        "prediction_valid_svm=svm.predict(np.array(valid_ml[\"Days Since\"]).reshape(-1,1))"
      ],
      "execution_count": 311,
      "outputs": []
    },
    {
      "cell_type": "code",
      "metadata": {
        "colab": {
          "base_uri": "https://localhost:8080/"
        },
        "id": "-woFqHXih4zU",
        "outputId": "d0741b5d-1624-49bb-d52a-de953deb620c"
      },
      "source": [
        "model_scores.append(np.sqrt(mean_squared_error(valid_ml[\"dead\"],prediction_valid_svm)))\n",
        "print(\"Root Mean Square Error for Support Vectore Machine: \",np.sqrt(mean_squared_error(valid_ml[\"dead\"],prediction_valid_svm)))"
      ],
      "execution_count": 312,
      "outputs": [
        {
          "output_type": "stream",
          "name": "stdout",
          "text": [
            "Root Mean Square Error for Support Vectore Machine:  7329.581213975804\n"
          ]
        }
      ]
    },
    {
      "cell_type": "code",
      "metadata": {
        "colab": {
          "base_uri": "https://localhost:8080/",
          "height": 559
        },
        "id": "2e7gHKTYh-gs",
        "outputId": "5d834380-1d1d-4558-ac8b-0314ba240259"
      },
      "source": [
        "plt.figure(figsize=(11,6))\n",
        "prediction_svm=svm.predict(np.array(datewise[\"Days Since\"]).reshape(-1,1))\n",
        "fig=go.Figure()\n",
        "fig.add_trace(go.Scatter(x=datewise.index, y=datewise[\"dead\"],\n",
        "                    mode='lines+markers',name=\"Train Data for newly dead Cases\"))\n",
        "fig.add_trace(go.Scatter(x=datewise.index, y=prediction_svm,\n",
        "                    mode='lines',name=\"Support Vector Machine Best fit Kernel\",\n",
        "                    line=dict(color='black', dash='dot')))\n",
        "fig.update_layout(title=\"Death Cases Support Vectore Machine Regressor Prediction\",\n",
        "                 xaxis_title=\"Date\",yaxis_title=\"Death Cases\",legend=dict(x=0,y=1,traceorder=\"normal\"))\n",
        "fig.show()"
      ],
      "execution_count": 313,
      "outputs": [
        {
          "output_type": "display_data",
          "data": {
            "text/html": [
              "<html>\n",
              "<head><meta charset=\"utf-8\" /></head>\n",
              "<body>\n",
              "    <div>\n",
              "            <script src=\"https://cdnjs.cloudflare.com/ajax/libs/mathjax/2.7.5/MathJax.js?config=TeX-AMS-MML_SVG\"></script><script type=\"text/javascript\">if (window.MathJax) {MathJax.Hub.Config({SVG: {font: \"STIX-Web\"}});}</script>\n",
              "                <script type=\"text/javascript\">window.PlotlyConfig = {MathJaxConfig: 'local'};</script>\n",
              "        <script src=\"https://cdn.plot.ly/plotly-latest.min.js\"></script>    \n",
              "            <div id=\"4a2bde1b-ab8b-4db4-a6f6-a9944bf837e1\" class=\"plotly-graph-div\" style=\"height:525px; width:100%;\"></div>\n",
              "            <script type=\"text/javascript\">\n",
              "                \n",
              "                    window.PLOTLYENV=window.PLOTLYENV || {};\n",
              "                    \n",
              "                if (document.getElementById(\"4a2bde1b-ab8b-4db4-a6f6-a9944bf837e1\")) {\n",
              "                    Plotly.newPlot(\n",
              "                        '4a2bde1b-ab8b-4db4-a6f6-a9944bf837e1',\n",
              "                        [{\"mode\": \"lines+markers\", \"name\": \"Train Data for newly dead Cases\", \"type\": \"scatter\", \"x\": [\"2021-04-01T00:00:00\", \"2021-04-02T00:00:00\", \"2021-04-03T00:00:00\", \"2021-04-04T00:00:00\", \"2021-04-05T00:00:00\", \"2021-04-06T00:00:00\", \"2021-04-07T00:00:00\", \"2021-04-08T00:00:00\", \"2021-04-09T00:00:00\", \"2021-04-10T00:00:00\", \"2021-04-11T00:00:00\", \"2021-04-12T00:00:00\", \"2021-04-13T00:00:00\", \"2021-04-14T00:00:00\", \"2021-04-15T00:00:00\", \"2021-04-16T00:00:00\", \"2021-04-17T00:00:00\", \"2021-04-18T00:00:00\", \"2021-04-19T00:00:00\", \"2021-04-20T00:00:00\", \"2021-04-21T00:00:00\", \"2021-04-22T00:00:00\", \"2021-04-23T00:00:00\", \"2021-04-24T00:00:00\", \"2021-04-25T00:00:00\", \"2021-04-26T00:00:00\", \"2021-04-27T00:00:00\", \"2021-04-28T00:00:00\", \"2021-04-29T00:00:00\", \"2021-04-30T00:00:00\", \"2021-05-01T00:00:00\", \"2021-05-02T00:00:00\", \"2021-05-03T00:00:00\", \"2021-05-04T00:00:00\", \"2021-05-05T00:00:00\", \"2021-05-06T00:00:00\", \"2021-05-07T00:00:00\", \"2021-05-08T00:00:00\", \"2021-05-09T00:00:00\", \"2021-05-10T00:00:00\", \"2021-05-11T00:00:00\", \"2021-05-12T00:00:00\", \"2021-05-13T00:00:00\", \"2021-05-14T00:00:00\", \"2021-05-15T00:00:00\", \"2021-05-16T00:00:00\", \"2021-05-17T00:00:00\", \"2021-05-18T00:00:00\", \"2021-05-19T00:00:00\", \"2021-05-20T00:00:00\", \"2021-05-21T00:00:00\", \"2021-05-22T00:00:00\", \"2021-05-23T00:00:00\", \"2021-05-24T00:00:00\", \"2021-05-25T00:00:00\", \"2021-05-26T00:00:00\", \"2021-05-27T00:00:00\", \"2021-05-28T00:00:00\", \"2021-05-29T00:00:00\", \"2021-05-30T00:00:00\", \"2021-05-31T00:00:00\", \"2021-06-01T00:00:00\", \"2021-06-02T00:00:00\", \"2021-06-03T00:00:00\", \"2021-06-04T00:00:00\", \"2021-06-05T00:00:00\", \"2021-06-06T00:00:00\", \"2021-06-07T00:00:00\", \"2021-06-08T00:00:00\", \"2021-06-09T00:00:00\", \"2021-06-10T00:00:00\", \"2021-06-11T00:00:00\", \"2021-06-12T00:00:00\", \"2021-06-13T00:00:00\", \"2021-06-14T00:00:00\", \"2021-06-15T00:00:00\", \"2021-06-16T00:00:00\", \"2021-06-17T00:00:00\", \"2021-06-18T00:00:00\", \"2021-06-19T00:00:00\", \"2021-06-20T00:00:00\", \"2021-06-21T00:00:00\", \"2021-06-22T00:00:00\", \"2021-06-23T00:00:00\", \"2021-06-24T00:00:00\", \"2021-06-25T00:00:00\", \"2021-06-26T00:00:00\", \"2021-06-27T00:00:00\", \"2021-06-28T00:00:00\", \"2021-06-29T00:00:00\", \"2021-06-30T00:00:00\", \"2021-07-01T00:00:00\", \"2021-07-02T00:00:00\", \"2021-07-03T00:00:00\", \"2021-07-04T00:00:00\", \"2021-07-05T00:00:00\", \"2021-07-06T00:00:00\", \"2021-07-07T00:00:00\", \"2021-07-08T00:00:00\", \"2021-07-09T00:00:00\", \"2021-07-10T00:00:00\", \"2021-07-11T00:00:00\", \"2021-07-12T00:00:00\", \"2021-07-13T00:00:00\", \"2021-07-14T00:00:00\", \"2021-07-15T00:00:00\", \"2021-07-16T00:00:00\", \"2021-07-17T00:00:00\", \"2021-07-18T00:00:00\", \"2021-07-19T00:00:00\", \"2021-07-20T00:00:00\", \"2021-07-21T00:00:00\", \"2021-07-22T00:00:00\", \"2021-07-23T00:00:00\", \"2021-07-24T00:00:00\", \"2021-07-25T00:00:00\", \"2021-07-26T00:00:00\", \"2021-07-27T00:00:00\", \"2021-07-28T00:00:00\", \"2021-07-29T00:00:00\", \"2021-07-30T00:00:00\", \"2021-07-31T00:00:00\", \"2021-08-01T00:00:00\", \"2021-08-02T00:00:00\", \"2021-08-03T00:00:00\", \"2021-08-04T00:00:00\", \"2021-08-05T00:00:00\", \"2021-08-06T00:00:00\", \"2021-08-07T00:00:00\", \"2021-08-08T00:00:00\", \"2021-08-09T00:00:00\", \"2021-08-10T00:00:00\", \"2021-08-11T00:00:00\", \"2021-08-12T00:00:00\", \"2021-08-13T00:00:00\", \"2021-08-14T00:00:00\", \"2021-08-15T00:00:00\", \"2021-08-16T00:00:00\", \"2021-08-17T00:00:00\", \"2021-08-18T00:00:00\", \"2021-08-19T00:00:00\", \"2021-08-20T00:00:00\", \"2021-08-21T00:00:00\", \"2021-08-22T00:00:00\", \"2021-08-23T00:00:00\", \"2021-08-24T00:00:00\", \"2021-08-25T00:00:00\", \"2021-08-26T00:00:00\", \"2021-08-27T00:00:00\", \"2021-08-28T00:00:00\", \"2021-08-29T00:00:00\", \"2021-08-30T00:00:00\", \"2021-08-31T00:00:00\", \"2021-09-01T00:00:00\", \"2021-09-02T00:00:00\", \"2021-09-03T00:00:00\", \"2021-09-04T00:00:00\", \"2021-09-05T00:00:00\", \"2021-09-06T00:00:00\", \"2021-09-07T00:00:00\", \"2021-09-08T00:00:00\", \"2021-09-09T00:00:00\", \"2021-09-10T00:00:00\", \"2021-09-11T00:00:00\", \"2021-09-12T00:00:00\", \"2021-09-13T00:00:00\", \"2021-09-14T00:00:00\", \"2021-09-15T00:00:00\", \"2021-09-16T00:00:00\", \"2021-09-17T00:00:00\", \"2021-09-18T00:00:00\", \"2021-09-19T00:00:00\", \"2021-09-20T00:00:00\", \"2021-09-21T00:00:00\", \"2021-09-22T00:00:00\", \"2021-09-23T00:00:00\", \"2021-09-24T00:00:00\", \"2021-09-25T00:00:00\", \"2021-09-26T00:00:00\", \"2021-09-27T00:00:00\", \"2021-09-28T00:00:00\", \"2021-09-29T00:00:00\", \"2021-09-30T00:00:00\"], \"y\": [12738, 12750, 12764, 12778, 12789, 12804, 12821, 12840, 12863, 12886, 12908, 12927, 12945, 12970, 12999, 13032, 13071, 13113, 13157, 13205, 13258, 13317, 13395, 13475, 13557, 13651, 13728, 13826, 13933, 14046, 14193, 14346, 14468, 14612, 14779, 14974, 15171, 15412, 15648, 15880, 16178, 16471, 16768, 17056, 17359, 17670, 18005, 18369, 18734, 19131, 19598, 20046, 20468, 20872, 21340, 21815, 22289, 22775, 23261, 23754, 24232, 24722, 25205, 25665, 26128, 26571, 27005, 27356, 27765, 28170, 28528, 28906, 29280, 29547, 29801, 30068, 30338, 30548, 30835, 31015, 31197, 31386, 31580, 31746, 31901, 32051, 32199, 32290, 32388, 32506, 32619, 32721, 32818, 32933, 33005, 33059, 33132, 33196, 33253, 33322, 33371, 33418, 33454, 33502, 33557, 33606, 33652, 33695, 33724, 33752, 33782, 33809, 33838, 33862, 33889, 33911, 33937, 33966, 33995, 34023, 34050, 34076, 34102, 34130, 34159, 34197, 34230, 34260, 34289, 34317, 34340, 34367, 34395, 34428, 34462, 34496, 34519, 34547, 34579, 34610, 34639, 34663, 34686, 34709, 34734, 34761, 34788, 34814, 34835, 34856, 34878, 34899, 34921, 34941, 34961, 34980, 35000, 35018, 35036, 35055, 35073, 35094, 35119, 35146, 35168, 35190, 35217, 35246, 35271, 35288, 35310, 35337, 35360, 35379, 35400, 35427, 35454, 35476, 35490, 35509, 35526, 35550, 35578]}, {\"line\": {\"color\": \"black\", \"dash\": \"dot\"}, \"mode\": \"lines\", \"name\": \"Support Vector Machine Best fit Kernel\", \"type\": \"scatter\", \"x\": [\"2021-04-01T00:00:00\", \"2021-04-02T00:00:00\", \"2021-04-03T00:00:00\", \"2021-04-04T00:00:00\", \"2021-04-05T00:00:00\", \"2021-04-06T00:00:00\", \"2021-04-07T00:00:00\", \"2021-04-08T00:00:00\", \"2021-04-09T00:00:00\", \"2021-04-10T00:00:00\", \"2021-04-11T00:00:00\", \"2021-04-12T00:00:00\", \"2021-04-13T00:00:00\", \"2021-04-14T00:00:00\", \"2021-04-15T00:00:00\", \"2021-04-16T00:00:00\", \"2021-04-17T00:00:00\", \"2021-04-18T00:00:00\", \"2021-04-19T00:00:00\", \"2021-04-20T00:00:00\", \"2021-04-21T00:00:00\", \"2021-04-22T00:00:00\", \"2021-04-23T00:00:00\", \"2021-04-24T00:00:00\", \"2021-04-25T00:00:00\", \"2021-04-26T00:00:00\", \"2021-04-27T00:00:00\", \"2021-04-28T00:00:00\", \"2021-04-29T00:00:00\", \"2021-04-30T00:00:00\", \"2021-05-01T00:00:00\", \"2021-05-02T00:00:00\", \"2021-05-03T00:00:00\", \"2021-05-04T00:00:00\", \"2021-05-05T00:00:00\", \"2021-05-06T00:00:00\", \"2021-05-07T00:00:00\", \"2021-05-08T00:00:00\", \"2021-05-09T00:00:00\", \"2021-05-10T00:00:00\", \"2021-05-11T00:00:00\", \"2021-05-12T00:00:00\", \"2021-05-13T00:00:00\", \"2021-05-14T00:00:00\", \"2021-05-15T00:00:00\", \"2021-05-16T00:00:00\", \"2021-05-17T00:00:00\", \"2021-05-18T00:00:00\", \"2021-05-19T00:00:00\", \"2021-05-20T00:00:00\", \"2021-05-21T00:00:00\", \"2021-05-22T00:00:00\", \"2021-05-23T00:00:00\", \"2021-05-24T00:00:00\", \"2021-05-25T00:00:00\", \"2021-05-26T00:00:00\", \"2021-05-27T00:00:00\", \"2021-05-28T00:00:00\", \"2021-05-29T00:00:00\", \"2021-05-30T00:00:00\", \"2021-05-31T00:00:00\", \"2021-06-01T00:00:00\", \"2021-06-02T00:00:00\", \"2021-06-03T00:00:00\", \"2021-06-04T00:00:00\", \"2021-06-05T00:00:00\", \"2021-06-06T00:00:00\", \"2021-06-07T00:00:00\", \"2021-06-08T00:00:00\", \"2021-06-09T00:00:00\", \"2021-06-10T00:00:00\", \"2021-06-11T00:00:00\", \"2021-06-12T00:00:00\", \"2021-06-13T00:00:00\", \"2021-06-14T00:00:00\", \"2021-06-15T00:00:00\", \"2021-06-16T00:00:00\", \"2021-06-17T00:00:00\", \"2021-06-18T00:00:00\", \"2021-06-19T00:00:00\", \"2021-06-20T00:00:00\", \"2021-06-21T00:00:00\", \"2021-06-22T00:00:00\", \"2021-06-23T00:00:00\", \"2021-06-24T00:00:00\", \"2021-06-25T00:00:00\", \"2021-06-26T00:00:00\", \"2021-06-27T00:00:00\", \"2021-06-28T00:00:00\", \"2021-06-29T00:00:00\", \"2021-06-30T00:00:00\", \"2021-07-01T00:00:00\", \"2021-07-02T00:00:00\", \"2021-07-03T00:00:00\", \"2021-07-04T00:00:00\", \"2021-07-05T00:00:00\", \"2021-07-06T00:00:00\", \"2021-07-07T00:00:00\", \"2021-07-08T00:00:00\", \"2021-07-09T00:00:00\", \"2021-07-10T00:00:00\", \"2021-07-11T00:00:00\", \"2021-07-12T00:00:00\", \"2021-07-13T00:00:00\", \"2021-07-14T00:00:00\", \"2021-07-15T00:00:00\", \"2021-07-16T00:00:00\", \"2021-07-17T00:00:00\", \"2021-07-18T00:00:00\", \"2021-07-19T00:00:00\", \"2021-07-20T00:00:00\", \"2021-07-21T00:00:00\", \"2021-07-22T00:00:00\", \"2021-07-23T00:00:00\", \"2021-07-24T00:00:00\", \"2021-07-25T00:00:00\", \"2021-07-26T00:00:00\", \"2021-07-27T00:00:00\", \"2021-07-28T00:00:00\", \"2021-07-29T00:00:00\", \"2021-07-30T00:00:00\", \"2021-07-31T00:00:00\", \"2021-08-01T00:00:00\", \"2021-08-02T00:00:00\", \"2021-08-03T00:00:00\", \"2021-08-04T00:00:00\", \"2021-08-05T00:00:00\", \"2021-08-06T00:00:00\", \"2021-08-07T00:00:00\", \"2021-08-08T00:00:00\", \"2021-08-09T00:00:00\", \"2021-08-10T00:00:00\", \"2021-08-11T00:00:00\", \"2021-08-12T00:00:00\", \"2021-08-13T00:00:00\", \"2021-08-14T00:00:00\", \"2021-08-15T00:00:00\", \"2021-08-16T00:00:00\", \"2021-08-17T00:00:00\", \"2021-08-18T00:00:00\", \"2021-08-19T00:00:00\", \"2021-08-20T00:00:00\", \"2021-08-21T00:00:00\", \"2021-08-22T00:00:00\", \"2021-08-23T00:00:00\", \"2021-08-24T00:00:00\", \"2021-08-25T00:00:00\", \"2021-08-26T00:00:00\", \"2021-08-27T00:00:00\", \"2021-08-28T00:00:00\", \"2021-08-29T00:00:00\", \"2021-08-30T00:00:00\", \"2021-08-31T00:00:00\", \"2021-09-01T00:00:00\", \"2021-09-02T00:00:00\", \"2021-09-03T00:00:00\", \"2021-09-04T00:00:00\", \"2021-09-05T00:00:00\", \"2021-09-06T00:00:00\", \"2021-09-07T00:00:00\", \"2021-09-08T00:00:00\", \"2021-09-09T00:00:00\", \"2021-09-10T00:00:00\", \"2021-09-11T00:00:00\", \"2021-09-12T00:00:00\", \"2021-09-13T00:00:00\", \"2021-09-14T00:00:00\", \"2021-09-15T00:00:00\", \"2021-09-16T00:00:00\", \"2021-09-17T00:00:00\", \"2021-09-18T00:00:00\", \"2021-09-19T00:00:00\", \"2021-09-20T00:00:00\", \"2021-09-21T00:00:00\", \"2021-09-22T00:00:00\", \"2021-09-23T00:00:00\", \"2021-09-24T00:00:00\", \"2021-09-25T00:00:00\", \"2021-09-26T00:00:00\", \"2021-09-27T00:00:00\", \"2021-09-28T00:00:00\", \"2021-09-29T00:00:00\", \"2021-09-30T00:00:00\"], \"y\": [28474.724022900093, 28474.724022900544, 28474.72402292907, 28474.724023230134, 28474.724024754476, 28474.724029973997, 28474.72404402266, 28474.72407616331, 28474.72414158052, 28474.72426349932, 28474.724475629988, 28474.72482493872, 28474.725374744317, 28474.726208140826, 28474.727431746138, 28474.729179776554, 28474.73161844733, 28474.734950699174, 28474.739421250695, 28474.745321976865, 28474.75299761338, 28474.762851787058, 28474.77535337214, 28474.791043172594, 28474.810540930375, 28474.834552659642, 28474.863878306962, 28474.899419737445, 28474.94218904688, 28474.99331719982, 28475.054062993633, 28475.12582234851, 28475.210137923455, 28475.308709058245, 28475.423402041324, 28475.556260703695, 28475.70951733876, 28475.885603948136, 28476.087163813423, 28476.31706339395, 28476.578404550488, 28476.87453709491, 28477.209071665846, 28477.58589293026, 28478.00917311105, 28478.48338584057, 28479.01332034012, 28479.604095925428, 28480.26117683807, 28480.99038740288, 28481.79792751128, 28482.69038843067, 28483.67476893966, 28484.75849178936, 28485.949420490553, 28487.255876427007, 28488.6866562945, 28490.251049866005, 28491.958858082755, 28493.82041147133, 28495.846588886645, 28498.048836580892, 28500.43918759865, 28503.03028149749, 28505.835384395272, 28508.86840934252, 28512.143937021796, 28515.677236771877, 28519.48428793883, 28523.5818015529, 28527.987242330608, 28532.718851003978, 28537.7956669749, 28543.237551295475, 28549.06520997493, 28555.300217611948, 28561.965041353196, 28569.083065177547, 28576.678614507156, 28584.776981142255, 28593.40444852545, 28602.58831732877, 28612.35693136851, 28622.739703844632, 28633.767143908186, 28645.470883552294, 28657.8837048307, 28671.03956740251, 28684.973636401493, 28699.722310631627, 28715.32325109057, 28731.81540981644, 28749.239059061943, 28767.635820794054, 28787.048696521484, 28807.52209744322, 28829.10187493067, 28851.83535132645, 28875.771351078296, 28900.960232191854, 28927.453918016257, 28955.30592934527, 28984.571416857147, 29015.307193870558, 29047.571769432503, 29081.425381725905, 29116.930031813175, 29154.14951769113, 29193.149468689477, 29233.997380181147, 29276.762648622524, 29321.51660692458, 29368.33256014217, 29417.285821496702, 29468.453748718504, 29521.915780719417, 29577.753474590474, 29636.05054292262, 29696.892891459156, 29760.36865706758, 29826.568246039376, 29895.58437272428, 29967.512098471216, 30042.448870923476, 30120.494563607837, 30201.751515868167, 30286.324573133537, 30374.32112748844, 30465.851158591617, 30561.027274892363, 30659.964755215497, 30762.781590633083, 30869.598526689097, 30980.539105906606, 31095.729710694275, 31215.299606509496, 31339.380985379325, 31468.109009762633, 31601.621856679663, 31740.06076223961, 31883.570066452947, 32032.29725836426, 32186.39302154862, 32346.011279884482, 32511.309243687767, 32682.447456165788, 32859.58984020467, 33042.90374542923, 33232.559995689764, 33428.7329367512, 33631.60048445883, 33841.34417303871, 34058.14920389872, 34282.20449469738, 34513.702728657154, 34752.84040437928, 34999.81788575217, 35254.83945240603, 35518.113350398475, 35789.85184316091, 36070.27126292289, 36359.59206229016, 36658.038866335395, 36965.84052481745, 37283.23016487887, 37610.44524402438, 37947.727603350635, 38295.32352128845, 38653.48376741806, 39022.46365681045, 39402.52310464099, 39793.92668104345, 40196.94366645893, 40611.84810712874, 41038.91887105476, 41478.43970418289, 41930.69928698974, 42395.991291339844, 42874.61443771828, 43366.87255276959, 43873.07462709058, 44393.53487351244, 44928.57278554641]}],\n",
              "                        {\"legend\": {\"traceorder\": \"normal\", \"x\": 0, \"y\": 1}, \"template\": {\"data\": {\"bar\": [{\"error_x\": {\"color\": \"#2a3f5f\"}, \"error_y\": {\"color\": \"#2a3f5f\"}, \"marker\": {\"line\": {\"color\": \"#E5ECF6\", \"width\": 0.5}}, \"type\": \"bar\"}], \"barpolar\": [{\"marker\": {\"line\": {\"color\": \"#E5ECF6\", \"width\": 0.5}}, \"type\": \"barpolar\"}], \"carpet\": [{\"aaxis\": {\"endlinecolor\": \"#2a3f5f\", \"gridcolor\": \"white\", \"linecolor\": \"white\", \"minorgridcolor\": \"white\", \"startlinecolor\": \"#2a3f5f\"}, \"baxis\": {\"endlinecolor\": \"#2a3f5f\", \"gridcolor\": \"white\", \"linecolor\": \"white\", \"minorgridcolor\": \"white\", \"startlinecolor\": \"#2a3f5f\"}, \"type\": \"carpet\"}], \"choropleth\": [{\"colorbar\": {\"outlinewidth\": 0, \"ticks\": \"\"}, \"type\": \"choropleth\"}], \"contour\": [{\"colorbar\": {\"outlinewidth\": 0, \"ticks\": \"\"}, \"colorscale\": [[0.0, \"#0d0887\"], [0.1111111111111111, \"#46039f\"], [0.2222222222222222, \"#7201a8\"], [0.3333333333333333, \"#9c179e\"], [0.4444444444444444, \"#bd3786\"], [0.5555555555555556, \"#d8576b\"], [0.6666666666666666, \"#ed7953\"], [0.7777777777777778, \"#fb9f3a\"], [0.8888888888888888, \"#fdca26\"], [1.0, \"#f0f921\"]], \"type\": \"contour\"}], \"contourcarpet\": [{\"colorbar\": {\"outlinewidth\": 0, \"ticks\": \"\"}, \"type\": \"contourcarpet\"}], \"heatmap\": [{\"colorbar\": {\"outlinewidth\": 0, \"ticks\": \"\"}, \"colorscale\": [[0.0, \"#0d0887\"], [0.1111111111111111, \"#46039f\"], [0.2222222222222222, \"#7201a8\"], [0.3333333333333333, \"#9c179e\"], [0.4444444444444444, \"#bd3786\"], [0.5555555555555556, \"#d8576b\"], [0.6666666666666666, \"#ed7953\"], [0.7777777777777778, \"#fb9f3a\"], [0.8888888888888888, \"#fdca26\"], [1.0, \"#f0f921\"]], \"type\": \"heatmap\"}], \"heatmapgl\": [{\"colorbar\": {\"outlinewidth\": 0, \"ticks\": \"\"}, \"colorscale\": [[0.0, \"#0d0887\"], [0.1111111111111111, \"#46039f\"], [0.2222222222222222, \"#7201a8\"], [0.3333333333333333, \"#9c179e\"], [0.4444444444444444, \"#bd3786\"], [0.5555555555555556, \"#d8576b\"], [0.6666666666666666, \"#ed7953\"], [0.7777777777777778, \"#fb9f3a\"], [0.8888888888888888, \"#fdca26\"], [1.0, \"#f0f921\"]], \"type\": \"heatmapgl\"}], \"histogram\": [{\"marker\": {\"colorbar\": {\"outlinewidth\": 0, \"ticks\": \"\"}}, \"type\": \"histogram\"}], \"histogram2d\": [{\"colorbar\": {\"outlinewidth\": 0, \"ticks\": \"\"}, \"colorscale\": [[0.0, \"#0d0887\"], [0.1111111111111111, \"#46039f\"], [0.2222222222222222, \"#7201a8\"], [0.3333333333333333, \"#9c179e\"], [0.4444444444444444, \"#bd3786\"], [0.5555555555555556, \"#d8576b\"], [0.6666666666666666, \"#ed7953\"], [0.7777777777777778, \"#fb9f3a\"], [0.8888888888888888, \"#fdca26\"], [1.0, \"#f0f921\"]], \"type\": \"histogram2d\"}], \"histogram2dcontour\": [{\"colorbar\": {\"outlinewidth\": 0, \"ticks\": \"\"}, \"colorscale\": [[0.0, \"#0d0887\"], [0.1111111111111111, \"#46039f\"], [0.2222222222222222, \"#7201a8\"], [0.3333333333333333, \"#9c179e\"], [0.4444444444444444, \"#bd3786\"], [0.5555555555555556, \"#d8576b\"], [0.6666666666666666, \"#ed7953\"], [0.7777777777777778, \"#fb9f3a\"], [0.8888888888888888, \"#fdca26\"], [1.0, \"#f0f921\"]], \"type\": \"histogram2dcontour\"}], \"mesh3d\": [{\"colorbar\": {\"outlinewidth\": 0, \"ticks\": \"\"}, \"type\": \"mesh3d\"}], \"parcoords\": [{\"line\": {\"colorbar\": {\"outlinewidth\": 0, \"ticks\": \"\"}}, \"type\": \"parcoords\"}], \"pie\": [{\"automargin\": true, \"type\": \"pie\"}], \"scatter\": [{\"marker\": {\"colorbar\": {\"outlinewidth\": 0, \"ticks\": \"\"}}, \"type\": \"scatter\"}], \"scatter3d\": [{\"line\": {\"colorbar\": {\"outlinewidth\": 0, \"ticks\": \"\"}}, \"marker\": {\"colorbar\": {\"outlinewidth\": 0, \"ticks\": \"\"}}, \"type\": \"scatter3d\"}], \"scattercarpet\": [{\"marker\": {\"colorbar\": {\"outlinewidth\": 0, \"ticks\": \"\"}}, \"type\": \"scattercarpet\"}], \"scattergeo\": [{\"marker\": {\"colorbar\": {\"outlinewidth\": 0, \"ticks\": \"\"}}, \"type\": \"scattergeo\"}], \"scattergl\": [{\"marker\": {\"colorbar\": {\"outlinewidth\": 0, \"ticks\": \"\"}}, \"type\": \"scattergl\"}], \"scattermapbox\": [{\"marker\": {\"colorbar\": {\"outlinewidth\": 0, \"ticks\": \"\"}}, \"type\": \"scattermapbox\"}], \"scatterpolar\": [{\"marker\": {\"colorbar\": {\"outlinewidth\": 0, \"ticks\": \"\"}}, \"type\": \"scatterpolar\"}], \"scatterpolargl\": [{\"marker\": {\"colorbar\": {\"outlinewidth\": 0, \"ticks\": \"\"}}, \"type\": \"scatterpolargl\"}], \"scatterternary\": [{\"marker\": {\"colorbar\": {\"outlinewidth\": 0, \"ticks\": \"\"}}, \"type\": \"scatterternary\"}], \"surface\": [{\"colorbar\": {\"outlinewidth\": 0, \"ticks\": \"\"}, \"colorscale\": [[0.0, \"#0d0887\"], [0.1111111111111111, \"#46039f\"], [0.2222222222222222, \"#7201a8\"], [0.3333333333333333, \"#9c179e\"], [0.4444444444444444, \"#bd3786\"], [0.5555555555555556, \"#d8576b\"], [0.6666666666666666, \"#ed7953\"], [0.7777777777777778, \"#fb9f3a\"], [0.8888888888888888, \"#fdca26\"], [1.0, \"#f0f921\"]], \"type\": \"surface\"}], \"table\": [{\"cells\": {\"fill\": {\"color\": \"#EBF0F8\"}, \"line\": {\"color\": \"white\"}}, \"header\": {\"fill\": {\"color\": \"#C8D4E3\"}, \"line\": {\"color\": \"white\"}}, \"type\": \"table\"}]}, \"layout\": {\"annotationdefaults\": {\"arrowcolor\": \"#2a3f5f\", \"arrowhead\": 0, \"arrowwidth\": 1}, \"coloraxis\": {\"colorbar\": {\"outlinewidth\": 0, \"ticks\": \"\"}}, \"colorscale\": {\"diverging\": [[0, \"#8e0152\"], [0.1, \"#c51b7d\"], [0.2, \"#de77ae\"], [0.3, \"#f1b6da\"], [0.4, \"#fde0ef\"], [0.5, \"#f7f7f7\"], [0.6, \"#e6f5d0\"], [0.7, \"#b8e186\"], [0.8, \"#7fbc41\"], [0.9, \"#4d9221\"], [1, \"#276419\"]], \"sequential\": [[0.0, \"#0d0887\"], [0.1111111111111111, \"#46039f\"], [0.2222222222222222, \"#7201a8\"], [0.3333333333333333, \"#9c179e\"], [0.4444444444444444, \"#bd3786\"], [0.5555555555555556, \"#d8576b\"], [0.6666666666666666, \"#ed7953\"], [0.7777777777777778, \"#fb9f3a\"], [0.8888888888888888, \"#fdca26\"], [1.0, \"#f0f921\"]], \"sequentialminus\": [[0.0, \"#0d0887\"], [0.1111111111111111, \"#46039f\"], [0.2222222222222222, \"#7201a8\"], [0.3333333333333333, \"#9c179e\"], [0.4444444444444444, \"#bd3786\"], [0.5555555555555556, \"#d8576b\"], [0.6666666666666666, \"#ed7953\"], [0.7777777777777778, \"#fb9f3a\"], [0.8888888888888888, \"#fdca26\"], [1.0, \"#f0f921\"]]}, \"colorway\": [\"#636efa\", \"#EF553B\", \"#00cc96\", \"#ab63fa\", \"#FFA15A\", \"#19d3f3\", \"#FF6692\", \"#B6E880\", \"#FF97FF\", \"#FECB52\"], \"font\": {\"color\": \"#2a3f5f\"}, \"geo\": {\"bgcolor\": \"white\", \"lakecolor\": \"white\", \"landcolor\": \"#E5ECF6\", \"showlakes\": true, \"showland\": true, \"subunitcolor\": \"white\"}, \"hoverlabel\": {\"align\": \"left\"}, \"hovermode\": \"closest\", \"mapbox\": {\"style\": \"light\"}, \"paper_bgcolor\": \"white\", \"plot_bgcolor\": \"#E5ECF6\", \"polar\": {\"angularaxis\": {\"gridcolor\": \"white\", \"linecolor\": \"white\", \"ticks\": \"\"}, \"bgcolor\": \"#E5ECF6\", \"radialaxis\": {\"gridcolor\": \"white\", \"linecolor\": \"white\", \"ticks\": \"\"}}, \"scene\": {\"xaxis\": {\"backgroundcolor\": \"#E5ECF6\", \"gridcolor\": \"white\", \"gridwidth\": 2, \"linecolor\": \"white\", \"showbackground\": true, \"ticks\": \"\", \"zerolinecolor\": \"white\"}, \"yaxis\": {\"backgroundcolor\": \"#E5ECF6\", \"gridcolor\": \"white\", \"gridwidth\": 2, \"linecolor\": \"white\", \"showbackground\": true, \"ticks\": \"\", \"zerolinecolor\": \"white\"}, \"zaxis\": {\"backgroundcolor\": \"#E5ECF6\", \"gridcolor\": \"white\", \"gridwidth\": 2, \"linecolor\": \"white\", \"showbackground\": true, \"ticks\": \"\", \"zerolinecolor\": \"white\"}}, \"shapedefaults\": {\"line\": {\"color\": \"#2a3f5f\"}}, \"ternary\": {\"aaxis\": {\"gridcolor\": \"white\", \"linecolor\": \"white\", \"ticks\": \"\"}, \"baxis\": {\"gridcolor\": \"white\", \"linecolor\": \"white\", \"ticks\": \"\"}, \"bgcolor\": \"#E5ECF6\", \"caxis\": {\"gridcolor\": \"white\", \"linecolor\": \"white\", \"ticks\": \"\"}}, \"title\": {\"x\": 0.05}, \"xaxis\": {\"automargin\": true, \"gridcolor\": \"white\", \"linecolor\": \"white\", \"ticks\": \"\", \"title\": {\"standoff\": 15}, \"zerolinecolor\": \"white\", \"zerolinewidth\": 2}, \"yaxis\": {\"automargin\": true, \"gridcolor\": \"white\", \"linecolor\": \"white\", \"ticks\": \"\", \"title\": {\"standoff\": 15}, \"zerolinecolor\": \"white\", \"zerolinewidth\": 2}}}, \"title\": {\"text\": \"Death Cases Support Vectore Machine Regressor Prediction\"}, \"xaxis\": {\"title\": {\"text\": \"Date\"}}, \"yaxis\": {\"title\": {\"text\": \"Death Cases\"}}},\n",
              "                        {\"responsive\": true}\n",
              "                    ).then(function(){\n",
              "                            \n",
              "var gd = document.getElementById('4a2bde1b-ab8b-4db4-a6f6-a9944bf837e1');\n",
              "var x = new MutationObserver(function (mutations, observer) {{\n",
              "        var display = window.getComputedStyle(gd).display;\n",
              "        if (!display || display === 'none') {{\n",
              "            console.log([gd, 'removed!']);\n",
              "            Plotly.purge(gd);\n",
              "            observer.disconnect();\n",
              "        }}\n",
              "}});\n",
              "\n",
              "// Listen for the removal of the full notebook cells\n",
              "var notebookContainer = gd.closest('#notebook-container');\n",
              "if (notebookContainer) {{\n",
              "    x.observe(notebookContainer, {childList: true});\n",
              "}}\n",
              "\n",
              "// Listen for the clearing of the current output cell\n",
              "var outputEl = gd.closest('.output');\n",
              "if (outputEl) {{\n",
              "    x.observe(outputEl, {childList: true});\n",
              "}}\n",
              "\n",
              "                        })\n",
              "                };\n",
              "                \n",
              "            </script>\n",
              "        </div>\n",
              "</body>\n",
              "</html>"
            ]
          },
          "metadata": {}
        },
        {
          "output_type": "display_data",
          "data": {
            "text/plain": [
              "<Figure size 792x432 with 0 Axes>"
            ]
          },
          "metadata": {}
        }
      ]
    },
    {
      "cell_type": "code",
      "metadata": {
        "id": "7KS-bLU5iuN8"
      },
      "source": [
        "#new polynomial\n",
        "new_prediction_poly=[]\n",
        "for i in range(1,365):\n",
        "    new_date_poly=poly.fit_transform(np.array(datewise[\"Days Since\"].max()+i).reshape(-1,1))\n",
        "    new_prediction_poly.append(linreg.predict(new_date_poly)[0])"
      ],
      "execution_count": 314,
      "outputs": []
    },
    {
      "cell_type": "code",
      "metadata": {
        "id": "IpnVAZ7jjB39"
      },
      "source": [
        "#new svm prediction\n",
        "new_date=[]\n",
        "new_prediction_svm=[]\n",
        "for i in range(1,365):\n",
        "    new_date.append(datewise.index[-1]+timedelta(days=i))\n",
        "    new_prediction_svm.append(svm.predict(np.array(datewise[\"Days Since\"].max()+i).reshape(-1,1))[0])"
      ],
      "execution_count": 315,
      "outputs": []
    },
    {
      "cell_type": "code",
      "metadata": {
        "colab": {
          "base_uri": "https://localhost:8080/",
          "height": 419
        },
        "id": "3JBzmDiZjS_A",
        "outputId": "1f810fb2-cc0c-4c2a-d53c-662f4727787e"
      },
      "source": [
        "pd.set_option('display.float_format', lambda x: '%.6f' % x)\n",
        "model_predictions=pd.DataFrame(zip(new_date,new_prediction_poly,new_prediction_svm),\n",
        "                               columns=[\"date\",\"Polynonmial Regression Prediction\",\"SVM Prediction\"])\n",
        "model_predictions"
      ],
      "execution_count": 316,
      "outputs": [
        {
          "output_type": "execute_result",
          "data": {
            "text/html": [
              "<div>\n",
              "<style scoped>\n",
              "    .dataframe tbody tr th:only-of-type {\n",
              "        vertical-align: middle;\n",
              "    }\n",
              "\n",
              "    .dataframe tbody tr th {\n",
              "        vertical-align: top;\n",
              "    }\n",
              "\n",
              "    .dataframe thead th {\n",
              "        text-align: right;\n",
              "    }\n",
              "</style>\n",
              "<table border=\"1\" class=\"dataframe\">\n",
              "  <thead>\n",
              "    <tr style=\"text-align: right;\">\n",
              "      <th></th>\n",
              "      <th>date</th>\n",
              "      <th>Polynonmial Regression Prediction</th>\n",
              "      <th>SVM Prediction</th>\n",
              "    </tr>\n",
              "  </thead>\n",
              "  <tbody>\n",
              "    <tr>\n",
              "      <th>0</th>\n",
              "      <td>2021-10-01</td>\n",
              "      <td>44495.114581</td>\n",
              "      <td>45478.513196</td>\n",
              "    </tr>\n",
              "    <tr>\n",
              "      <th>1</th>\n",
              "      <td>2021-10-02</td>\n",
              "      <td>46155.767294</td>\n",
              "      <td>46043.686337</td>\n",
              "    </tr>\n",
              "    <tr>\n",
              "      <th>2</th>\n",
              "      <td>2021-10-03</td>\n",
              "      <td>48032.109538</td>\n",
              "      <td>46624.427899</td>\n",
              "    </tr>\n",
              "    <tr>\n",
              "      <th>3</th>\n",
              "      <td>2021-10-04</td>\n",
              "      <td>50144.602820</td>\n",
              "      <td>47221.079088</td>\n",
              "    </tr>\n",
              "    <tr>\n",
              "      <th>4</th>\n",
              "      <td>2021-10-05</td>\n",
              "      <td>52515.101177</td>\n",
              "      <td>47833.986692</td>\n",
              "    </tr>\n",
              "    <tr>\n",
              "      <th>...</th>\n",
              "      <td>...</td>\n",
              "      <td>...</td>\n",
              "      <td>...</td>\n",
              "    </tr>\n",
              "    <tr>\n",
              "      <th>359</th>\n",
              "      <td>2022-09-25</td>\n",
              "      <td>18495429363.409454</td>\n",
              "      <td>11505646.784762</td>\n",
              "    </tr>\n",
              "    <tr>\n",
              "      <th>360</th>\n",
              "      <td>2022-09-26</td>\n",
              "      <td>18822763540.271004</td>\n",
              "      <td>11633287.834124</td>\n",
              "    </tr>\n",
              "    <tr>\n",
              "      <th>361</th>\n",
              "      <td>2022-09-27</td>\n",
              "      <td>19155135402.187019</td>\n",
              "      <td>11762109.642338</td>\n",
              "    </tr>\n",
              "    <tr>\n",
              "      <th>362</th>\n",
              "      <td>2022-09-28</td>\n",
              "      <td>19492610988.858364</td>\n",
              "      <td>11892120.931541</td>\n",
              "    </tr>\n",
              "    <tr>\n",
              "      <th>363</th>\n",
              "      <td>2022-09-29</td>\n",
              "      <td>19835257056.886589</td>\n",
              "      <td>12023330.471999</td>\n",
              "    </tr>\n",
              "  </tbody>\n",
              "</table>\n",
              "<p>364 rows × 3 columns</p>\n",
              "</div>"
            ],
            "text/plain": [
              "          date  Polynonmial Regression Prediction  SVM Prediction\n",
              "0   2021-10-01                       44495.114581    45478.513196\n",
              "1   2021-10-02                       46155.767294    46043.686337\n",
              "2   2021-10-03                       48032.109538    46624.427899\n",
              "3   2021-10-04                       50144.602820    47221.079088\n",
              "4   2021-10-05                       52515.101177    47833.986692\n",
              "..         ...                                ...             ...\n",
              "359 2022-09-25                 18495429363.409454 11505646.784762\n",
              "360 2022-09-26                 18822763540.271004 11633287.834124\n",
              "361 2022-09-27                 19155135402.187019 11762109.642338\n",
              "362 2022-09-28                 19492610988.858364 11892120.931541\n",
              "363 2022-09-29                 19835257056.886589 12023330.471999\n",
              "\n",
              "[364 rows x 3 columns]"
            ]
          },
          "metadata": {},
          "execution_count": 316
        }
      ]
    },
    {
      "cell_type": "markdown",
      "metadata": {
        "id": "Xp2q9f1xiXVt"
      },
      "source": [
        "FORECASTING"
      ]
    },
    {
      "cell_type": "markdown",
      "metadata": {
        "id": "RHa6Z8asiaMF"
      },
      "source": [
        "HOLT'S LINEAR MODEL"
      ]
    },
    {
      "cell_type": "code",
      "metadata": {
        "id": "w7UVgri7jr6l"
      },
      "source": [
        "model_train=datewise.iloc[:int(datewise.shape[0]*0.95)]\n",
        "valid=datewise.iloc[int(datewise.shape[0]*0.95):]\n",
        "y_pred=valid.copy()"
      ],
      "execution_count": 317,
      "outputs": []
    },
    {
      "cell_type": "code",
      "metadata": {
        "id": "Z_hY50y8jyQu"
      },
      "source": [
        "holt=Holt(np.asarray(model_train[\"dead\"])).fit(smoothing_level=0.4, smoothing_slope=0.4,optimized=False)     "
      ],
      "execution_count": 318,
      "outputs": []
    },
    {
      "cell_type": "code",
      "metadata": {
        "colab": {
          "base_uri": "https://localhost:8080/"
        },
        "id": "SOwsI6tLko6-",
        "outputId": "1b3e75e2-d22b-4426-95f6-249a0d8d70f8"
      },
      "source": [
        "y_pred[\"Holt\"]=holt.forecast(10)\n",
        "model_scores.append(np.sqrt(mean_squared_error(y_pred[\"dead\"],y_pred[\"Holt\"])))\n",
        "print(\"Root Mean Square Error Holt's Linear Model: \",np.sqrt(mean_squared_error(y_pred[\"dead\"],y_pred[\"Holt\"])))"
      ],
      "execution_count": 319,
      "outputs": [
        {
          "output_type": "stream",
          "name": "stdout",
          "text": [
            "Root Mean Square Error Holt's Linear Model:  14.139650772105924\n"
          ]
        }
      ]
    },
    {
      "cell_type": "code",
      "metadata": {
        "colab": {
          "base_uri": "https://localhost:8080/",
          "height": 542
        },
        "id": "mpM-5-SykuJt",
        "outputId": "66db996b-3a12-41ba-a580-ba1d7bf37d87"
      },
      "source": [
        "fig=go.Figure()\n",
        "fig.add_trace(go.Scatter(x=model_train.index, y=model_train[\"dead\"],\n",
        "                    mode='lines+markers',name=\"Train Data for dead Cases\"))\n",
        "fig.add_trace(go.Scatter(x=valid.index, y=valid[\"dead\"],\n",
        "                    mode='lines+markers',name=\"Validation Data for dead Cases\",))\n",
        "fig.add_trace(go.Scatter(x=valid.index, y=y_pred[\"Holt\"],\n",
        "                    mode='lines+markers',name=\"Prediction of newly dead Cases\",))\n",
        "fig.update_layout(title=\"newly dead Cases Holt's Linear Model Prediction\",\n",
        "                 xaxis_title=\"Date\",yaxis_title=\"Death Cases\",legend=dict(x=0,y=1,traceorder=\"normal\"))\n",
        "fig.show()"
      ],
      "execution_count": 320,
      "outputs": [
        {
          "output_type": "display_data",
          "data": {
            "text/html": [
              "<html>\n",
              "<head><meta charset=\"utf-8\" /></head>\n",
              "<body>\n",
              "    <div>\n",
              "            <script src=\"https://cdnjs.cloudflare.com/ajax/libs/mathjax/2.7.5/MathJax.js?config=TeX-AMS-MML_SVG\"></script><script type=\"text/javascript\">if (window.MathJax) {MathJax.Hub.Config({SVG: {font: \"STIX-Web\"}});}</script>\n",
              "                <script type=\"text/javascript\">window.PlotlyConfig = {MathJaxConfig: 'local'};</script>\n",
              "        <script src=\"https://cdn.plot.ly/plotly-latest.min.js\"></script>    \n",
              "            <div id=\"e56c2234-2dc3-402d-b88f-8e989663cb58\" class=\"plotly-graph-div\" style=\"height:525px; width:100%;\"></div>\n",
              "            <script type=\"text/javascript\">\n",
              "                \n",
              "                    window.PLOTLYENV=window.PLOTLYENV || {};\n",
              "                    \n",
              "                if (document.getElementById(\"e56c2234-2dc3-402d-b88f-8e989663cb58\")) {\n",
              "                    Plotly.newPlot(\n",
              "                        'e56c2234-2dc3-402d-b88f-8e989663cb58',\n",
              "                        [{\"mode\": \"lines+markers\", \"name\": \"Train Data for dead Cases\", \"type\": \"scatter\", \"x\": [\"2021-04-01T00:00:00\", \"2021-04-02T00:00:00\", \"2021-04-03T00:00:00\", \"2021-04-04T00:00:00\", \"2021-04-05T00:00:00\", \"2021-04-06T00:00:00\", \"2021-04-07T00:00:00\", \"2021-04-08T00:00:00\", \"2021-04-09T00:00:00\", \"2021-04-10T00:00:00\", \"2021-04-11T00:00:00\", \"2021-04-12T00:00:00\", \"2021-04-13T00:00:00\", \"2021-04-14T00:00:00\", \"2021-04-15T00:00:00\", \"2021-04-16T00:00:00\", \"2021-04-17T00:00:00\", \"2021-04-18T00:00:00\", \"2021-04-19T00:00:00\", \"2021-04-20T00:00:00\", \"2021-04-21T00:00:00\", \"2021-04-22T00:00:00\", \"2021-04-23T00:00:00\", \"2021-04-24T00:00:00\", \"2021-04-25T00:00:00\", \"2021-04-26T00:00:00\", \"2021-04-27T00:00:00\", \"2021-04-28T00:00:00\", \"2021-04-29T00:00:00\", \"2021-04-30T00:00:00\", \"2021-05-01T00:00:00\", \"2021-05-02T00:00:00\", \"2021-05-03T00:00:00\", \"2021-05-04T00:00:00\", \"2021-05-05T00:00:00\", \"2021-05-06T00:00:00\", \"2021-05-07T00:00:00\", \"2021-05-08T00:00:00\", \"2021-05-09T00:00:00\", \"2021-05-10T00:00:00\", \"2021-05-11T00:00:00\", \"2021-05-12T00:00:00\", \"2021-05-13T00:00:00\", \"2021-05-14T00:00:00\", \"2021-05-15T00:00:00\", \"2021-05-16T00:00:00\", \"2021-05-17T00:00:00\", \"2021-05-18T00:00:00\", \"2021-05-19T00:00:00\", \"2021-05-20T00:00:00\", \"2021-05-21T00:00:00\", \"2021-05-22T00:00:00\", \"2021-05-23T00:00:00\", \"2021-05-24T00:00:00\", \"2021-05-25T00:00:00\", \"2021-05-26T00:00:00\", \"2021-05-27T00:00:00\", \"2021-05-28T00:00:00\", \"2021-05-29T00:00:00\", \"2021-05-30T00:00:00\", \"2021-05-31T00:00:00\", \"2021-06-01T00:00:00\", \"2021-06-02T00:00:00\", \"2021-06-03T00:00:00\", \"2021-06-04T00:00:00\", \"2021-06-05T00:00:00\", \"2021-06-06T00:00:00\", \"2021-06-07T00:00:00\", \"2021-06-08T00:00:00\", \"2021-06-09T00:00:00\", \"2021-06-10T00:00:00\", \"2021-06-11T00:00:00\", \"2021-06-12T00:00:00\", \"2021-06-13T00:00:00\", \"2021-06-14T00:00:00\", \"2021-06-15T00:00:00\", \"2021-06-16T00:00:00\", \"2021-06-17T00:00:00\", \"2021-06-18T00:00:00\", \"2021-06-19T00:00:00\", \"2021-06-20T00:00:00\", \"2021-06-21T00:00:00\", \"2021-06-22T00:00:00\", \"2021-06-23T00:00:00\", \"2021-06-24T00:00:00\", \"2021-06-25T00:00:00\", \"2021-06-26T00:00:00\", \"2021-06-27T00:00:00\", \"2021-06-28T00:00:00\", \"2021-06-29T00:00:00\", \"2021-06-30T00:00:00\", \"2021-07-01T00:00:00\", \"2021-07-02T00:00:00\", \"2021-07-03T00:00:00\", \"2021-07-04T00:00:00\", \"2021-07-05T00:00:00\", \"2021-07-06T00:00:00\", \"2021-07-07T00:00:00\", \"2021-07-08T00:00:00\", \"2021-07-09T00:00:00\", \"2021-07-10T00:00:00\", \"2021-07-11T00:00:00\", \"2021-07-12T00:00:00\", \"2021-07-13T00:00:00\", \"2021-07-14T00:00:00\", \"2021-07-15T00:00:00\", \"2021-07-16T00:00:00\", \"2021-07-17T00:00:00\", \"2021-07-18T00:00:00\", \"2021-07-19T00:00:00\", \"2021-07-20T00:00:00\", \"2021-07-21T00:00:00\", \"2021-07-22T00:00:00\", \"2021-07-23T00:00:00\", \"2021-07-24T00:00:00\", \"2021-07-25T00:00:00\", \"2021-07-26T00:00:00\", \"2021-07-27T00:00:00\", \"2021-07-28T00:00:00\", \"2021-07-29T00:00:00\", \"2021-07-30T00:00:00\", \"2021-07-31T00:00:00\", \"2021-08-01T00:00:00\", \"2021-08-02T00:00:00\", \"2021-08-03T00:00:00\", \"2021-08-04T00:00:00\", \"2021-08-05T00:00:00\", \"2021-08-06T00:00:00\", \"2021-08-07T00:00:00\", \"2021-08-08T00:00:00\", \"2021-08-09T00:00:00\", \"2021-08-10T00:00:00\", \"2021-08-11T00:00:00\", \"2021-08-12T00:00:00\", \"2021-08-13T00:00:00\", \"2021-08-14T00:00:00\", \"2021-08-15T00:00:00\", \"2021-08-16T00:00:00\", \"2021-08-17T00:00:00\", \"2021-08-18T00:00:00\", \"2021-08-19T00:00:00\", \"2021-08-20T00:00:00\", \"2021-08-21T00:00:00\", \"2021-08-22T00:00:00\", \"2021-08-23T00:00:00\", \"2021-08-24T00:00:00\", \"2021-08-25T00:00:00\", \"2021-08-26T00:00:00\", \"2021-08-27T00:00:00\", \"2021-08-28T00:00:00\", \"2021-08-29T00:00:00\", \"2021-08-30T00:00:00\", \"2021-08-31T00:00:00\", \"2021-09-01T00:00:00\", \"2021-09-02T00:00:00\", \"2021-09-03T00:00:00\", \"2021-09-04T00:00:00\", \"2021-09-05T00:00:00\", \"2021-09-06T00:00:00\", \"2021-09-07T00:00:00\", \"2021-09-08T00:00:00\", \"2021-09-09T00:00:00\", \"2021-09-10T00:00:00\", \"2021-09-11T00:00:00\", \"2021-09-12T00:00:00\", \"2021-09-13T00:00:00\", \"2021-09-14T00:00:00\", \"2021-09-15T00:00:00\", \"2021-09-16T00:00:00\", \"2021-09-17T00:00:00\", \"2021-09-18T00:00:00\", \"2021-09-19T00:00:00\", \"2021-09-20T00:00:00\"], \"y\": [12738, 12750, 12764, 12778, 12789, 12804, 12821, 12840, 12863, 12886, 12908, 12927, 12945, 12970, 12999, 13032, 13071, 13113, 13157, 13205, 13258, 13317, 13395, 13475, 13557, 13651, 13728, 13826, 13933, 14046, 14193, 14346, 14468, 14612, 14779, 14974, 15171, 15412, 15648, 15880, 16178, 16471, 16768, 17056, 17359, 17670, 18005, 18369, 18734, 19131, 19598, 20046, 20468, 20872, 21340, 21815, 22289, 22775, 23261, 23754, 24232, 24722, 25205, 25665, 26128, 26571, 27005, 27356, 27765, 28170, 28528, 28906, 29280, 29547, 29801, 30068, 30338, 30548, 30835, 31015, 31197, 31386, 31580, 31746, 31901, 32051, 32199, 32290, 32388, 32506, 32619, 32721, 32818, 32933, 33005, 33059, 33132, 33196, 33253, 33322, 33371, 33418, 33454, 33502, 33557, 33606, 33652, 33695, 33724, 33752, 33782, 33809, 33838, 33862, 33889, 33911, 33937, 33966, 33995, 34023, 34050, 34076, 34102, 34130, 34159, 34197, 34230, 34260, 34289, 34317, 34340, 34367, 34395, 34428, 34462, 34496, 34519, 34547, 34579, 34610, 34639, 34663, 34686, 34709, 34734, 34761, 34788, 34814, 34835, 34856, 34878, 34899, 34921, 34941, 34961, 34980, 35000, 35018, 35036, 35055, 35073, 35094, 35119, 35146, 35168, 35190, 35217, 35246, 35271, 35288, 35310, 35337, 35360]}, {\"mode\": \"lines+markers\", \"name\": \"Validation Data for dead Cases\", \"type\": \"scatter\", \"x\": [\"2021-09-21T00:00:00\", \"2021-09-22T00:00:00\", \"2021-09-23T00:00:00\", \"2021-09-24T00:00:00\", \"2021-09-25T00:00:00\", \"2021-09-26T00:00:00\", \"2021-09-27T00:00:00\", \"2021-09-28T00:00:00\", \"2021-09-29T00:00:00\", \"2021-09-30T00:00:00\"], \"y\": [35379, 35400, 35427, 35454, 35476, 35490, 35509, 35526, 35550, 35578]}, {\"mode\": \"lines+markers\", \"name\": \"Prediction of newly dead Cases\", \"type\": \"scatter\", \"x\": [\"2021-09-21T00:00:00\", \"2021-09-22T00:00:00\", \"2021-09-23T00:00:00\", \"2021-09-24T00:00:00\", \"2021-09-25T00:00:00\", \"2021-09-26T00:00:00\", \"2021-09-27T00:00:00\", \"2021-09-28T00:00:00\", \"2021-09-29T00:00:00\", \"2021-09-30T00:00:00\"], \"y\": [35384.57572425206, 35408.135952717625, 35431.696181183186, 35455.25640964874, 35478.8166381143, 35502.37686657986, 35525.937095045425, 35549.49732351099, 35573.05755197655, 35596.6177804421]}],\n",
              "                        {\"legend\": {\"traceorder\": \"normal\", \"x\": 0, \"y\": 1}, \"template\": {\"data\": {\"bar\": [{\"error_x\": {\"color\": \"#2a3f5f\"}, \"error_y\": {\"color\": \"#2a3f5f\"}, \"marker\": {\"line\": {\"color\": \"#E5ECF6\", \"width\": 0.5}}, \"type\": \"bar\"}], \"barpolar\": [{\"marker\": {\"line\": {\"color\": \"#E5ECF6\", \"width\": 0.5}}, \"type\": \"barpolar\"}], \"carpet\": [{\"aaxis\": {\"endlinecolor\": \"#2a3f5f\", \"gridcolor\": \"white\", \"linecolor\": \"white\", \"minorgridcolor\": \"white\", \"startlinecolor\": \"#2a3f5f\"}, \"baxis\": {\"endlinecolor\": \"#2a3f5f\", \"gridcolor\": \"white\", \"linecolor\": \"white\", \"minorgridcolor\": \"white\", \"startlinecolor\": \"#2a3f5f\"}, \"type\": \"carpet\"}], \"choropleth\": [{\"colorbar\": {\"outlinewidth\": 0, \"ticks\": \"\"}, \"type\": \"choropleth\"}], \"contour\": [{\"colorbar\": {\"outlinewidth\": 0, \"ticks\": \"\"}, \"colorscale\": [[0.0, \"#0d0887\"], [0.1111111111111111, \"#46039f\"], [0.2222222222222222, \"#7201a8\"], [0.3333333333333333, \"#9c179e\"], [0.4444444444444444, \"#bd3786\"], [0.5555555555555556, \"#d8576b\"], [0.6666666666666666, \"#ed7953\"], [0.7777777777777778, \"#fb9f3a\"], [0.8888888888888888, \"#fdca26\"], [1.0, \"#f0f921\"]], \"type\": \"contour\"}], \"contourcarpet\": [{\"colorbar\": {\"outlinewidth\": 0, \"ticks\": \"\"}, \"type\": \"contourcarpet\"}], \"heatmap\": [{\"colorbar\": {\"outlinewidth\": 0, \"ticks\": \"\"}, \"colorscale\": [[0.0, \"#0d0887\"], [0.1111111111111111, \"#46039f\"], [0.2222222222222222, \"#7201a8\"], [0.3333333333333333, \"#9c179e\"], [0.4444444444444444, \"#bd3786\"], [0.5555555555555556, \"#d8576b\"], [0.6666666666666666, \"#ed7953\"], [0.7777777777777778, \"#fb9f3a\"], [0.8888888888888888, \"#fdca26\"], [1.0, \"#f0f921\"]], \"type\": \"heatmap\"}], \"heatmapgl\": [{\"colorbar\": {\"outlinewidth\": 0, \"ticks\": \"\"}, \"colorscale\": [[0.0, \"#0d0887\"], [0.1111111111111111, \"#46039f\"], [0.2222222222222222, \"#7201a8\"], [0.3333333333333333, \"#9c179e\"], [0.4444444444444444, \"#bd3786\"], [0.5555555555555556, \"#d8576b\"], [0.6666666666666666, \"#ed7953\"], [0.7777777777777778, \"#fb9f3a\"], [0.8888888888888888, \"#fdca26\"], [1.0, \"#f0f921\"]], \"type\": \"heatmapgl\"}], \"histogram\": [{\"marker\": {\"colorbar\": {\"outlinewidth\": 0, \"ticks\": \"\"}}, \"type\": \"histogram\"}], \"histogram2d\": [{\"colorbar\": {\"outlinewidth\": 0, \"ticks\": \"\"}, \"colorscale\": [[0.0, \"#0d0887\"], [0.1111111111111111, \"#46039f\"], [0.2222222222222222, \"#7201a8\"], [0.3333333333333333, \"#9c179e\"], [0.4444444444444444, \"#bd3786\"], [0.5555555555555556, \"#d8576b\"], [0.6666666666666666, \"#ed7953\"], [0.7777777777777778, \"#fb9f3a\"], [0.8888888888888888, \"#fdca26\"], [1.0, \"#f0f921\"]], \"type\": \"histogram2d\"}], \"histogram2dcontour\": [{\"colorbar\": {\"outlinewidth\": 0, \"ticks\": \"\"}, \"colorscale\": [[0.0, \"#0d0887\"], [0.1111111111111111, \"#46039f\"], [0.2222222222222222, \"#7201a8\"], [0.3333333333333333, \"#9c179e\"], [0.4444444444444444, \"#bd3786\"], [0.5555555555555556, \"#d8576b\"], [0.6666666666666666, \"#ed7953\"], [0.7777777777777778, \"#fb9f3a\"], [0.8888888888888888, \"#fdca26\"], [1.0, \"#f0f921\"]], \"type\": \"histogram2dcontour\"}], \"mesh3d\": [{\"colorbar\": {\"outlinewidth\": 0, \"ticks\": \"\"}, \"type\": \"mesh3d\"}], \"parcoords\": [{\"line\": {\"colorbar\": {\"outlinewidth\": 0, \"ticks\": \"\"}}, \"type\": \"parcoords\"}], \"pie\": [{\"automargin\": true, \"type\": \"pie\"}], \"scatter\": [{\"marker\": {\"colorbar\": {\"outlinewidth\": 0, \"ticks\": \"\"}}, \"type\": \"scatter\"}], \"scatter3d\": [{\"line\": {\"colorbar\": {\"outlinewidth\": 0, \"ticks\": \"\"}}, \"marker\": {\"colorbar\": {\"outlinewidth\": 0, \"ticks\": \"\"}}, \"type\": \"scatter3d\"}], \"scattercarpet\": [{\"marker\": {\"colorbar\": {\"outlinewidth\": 0, \"ticks\": \"\"}}, \"type\": \"scattercarpet\"}], \"scattergeo\": [{\"marker\": {\"colorbar\": {\"outlinewidth\": 0, \"ticks\": \"\"}}, \"type\": \"scattergeo\"}], \"scattergl\": [{\"marker\": {\"colorbar\": {\"outlinewidth\": 0, \"ticks\": \"\"}}, \"type\": \"scattergl\"}], \"scattermapbox\": [{\"marker\": {\"colorbar\": {\"outlinewidth\": 0, \"ticks\": \"\"}}, \"type\": \"scattermapbox\"}], \"scatterpolar\": [{\"marker\": {\"colorbar\": {\"outlinewidth\": 0, \"ticks\": \"\"}}, \"type\": \"scatterpolar\"}], \"scatterpolargl\": [{\"marker\": {\"colorbar\": {\"outlinewidth\": 0, \"ticks\": \"\"}}, \"type\": \"scatterpolargl\"}], \"scatterternary\": [{\"marker\": {\"colorbar\": {\"outlinewidth\": 0, \"ticks\": \"\"}}, \"type\": \"scatterternary\"}], \"surface\": [{\"colorbar\": {\"outlinewidth\": 0, \"ticks\": \"\"}, \"colorscale\": [[0.0, \"#0d0887\"], [0.1111111111111111, \"#46039f\"], [0.2222222222222222, \"#7201a8\"], [0.3333333333333333, \"#9c179e\"], [0.4444444444444444, \"#bd3786\"], [0.5555555555555556, \"#d8576b\"], [0.6666666666666666, \"#ed7953\"], [0.7777777777777778, \"#fb9f3a\"], [0.8888888888888888, \"#fdca26\"], [1.0, \"#f0f921\"]], \"type\": \"surface\"}], \"table\": [{\"cells\": {\"fill\": {\"color\": \"#EBF0F8\"}, \"line\": {\"color\": \"white\"}}, \"header\": {\"fill\": {\"color\": \"#C8D4E3\"}, \"line\": {\"color\": \"white\"}}, \"type\": \"table\"}]}, \"layout\": {\"annotationdefaults\": {\"arrowcolor\": \"#2a3f5f\", \"arrowhead\": 0, \"arrowwidth\": 1}, \"coloraxis\": {\"colorbar\": {\"outlinewidth\": 0, \"ticks\": \"\"}}, \"colorscale\": {\"diverging\": [[0, \"#8e0152\"], [0.1, \"#c51b7d\"], [0.2, \"#de77ae\"], [0.3, \"#f1b6da\"], [0.4, \"#fde0ef\"], [0.5, \"#f7f7f7\"], [0.6, \"#e6f5d0\"], [0.7, \"#b8e186\"], [0.8, \"#7fbc41\"], [0.9, \"#4d9221\"], [1, \"#276419\"]], \"sequential\": [[0.0, \"#0d0887\"], [0.1111111111111111, \"#46039f\"], [0.2222222222222222, \"#7201a8\"], [0.3333333333333333, \"#9c179e\"], [0.4444444444444444, \"#bd3786\"], [0.5555555555555556, \"#d8576b\"], [0.6666666666666666, \"#ed7953\"], [0.7777777777777778, \"#fb9f3a\"], [0.8888888888888888, \"#fdca26\"], [1.0, \"#f0f921\"]], \"sequentialminus\": [[0.0, \"#0d0887\"], [0.1111111111111111, \"#46039f\"], [0.2222222222222222, \"#7201a8\"], [0.3333333333333333, \"#9c179e\"], [0.4444444444444444, \"#bd3786\"], [0.5555555555555556, \"#d8576b\"], [0.6666666666666666, \"#ed7953\"], [0.7777777777777778, \"#fb9f3a\"], [0.8888888888888888, \"#fdca26\"], [1.0, \"#f0f921\"]]}, \"colorway\": [\"#636efa\", \"#EF553B\", \"#00cc96\", \"#ab63fa\", \"#FFA15A\", \"#19d3f3\", \"#FF6692\", \"#B6E880\", \"#FF97FF\", \"#FECB52\"], \"font\": {\"color\": \"#2a3f5f\"}, \"geo\": {\"bgcolor\": \"white\", \"lakecolor\": \"white\", \"landcolor\": \"#E5ECF6\", \"showlakes\": true, \"showland\": true, \"subunitcolor\": \"white\"}, \"hoverlabel\": {\"align\": \"left\"}, \"hovermode\": \"closest\", \"mapbox\": {\"style\": \"light\"}, \"paper_bgcolor\": \"white\", \"plot_bgcolor\": \"#E5ECF6\", \"polar\": {\"angularaxis\": {\"gridcolor\": \"white\", \"linecolor\": \"white\", \"ticks\": \"\"}, \"bgcolor\": \"#E5ECF6\", \"radialaxis\": {\"gridcolor\": \"white\", \"linecolor\": \"white\", \"ticks\": \"\"}}, \"scene\": {\"xaxis\": {\"backgroundcolor\": \"#E5ECF6\", \"gridcolor\": \"white\", \"gridwidth\": 2, \"linecolor\": \"white\", \"showbackground\": true, \"ticks\": \"\", \"zerolinecolor\": \"white\"}, \"yaxis\": {\"backgroundcolor\": \"#E5ECF6\", \"gridcolor\": \"white\", \"gridwidth\": 2, \"linecolor\": \"white\", \"showbackground\": true, \"ticks\": \"\", \"zerolinecolor\": \"white\"}, \"zaxis\": {\"backgroundcolor\": \"#E5ECF6\", \"gridcolor\": \"white\", \"gridwidth\": 2, \"linecolor\": \"white\", \"showbackground\": true, \"ticks\": \"\", \"zerolinecolor\": \"white\"}}, \"shapedefaults\": {\"line\": {\"color\": \"#2a3f5f\"}}, \"ternary\": {\"aaxis\": {\"gridcolor\": \"white\", \"linecolor\": \"white\", \"ticks\": \"\"}, \"baxis\": {\"gridcolor\": \"white\", \"linecolor\": \"white\", \"ticks\": \"\"}, \"bgcolor\": \"#E5ECF6\", \"caxis\": {\"gridcolor\": \"white\", \"linecolor\": \"white\", \"ticks\": \"\"}}, \"title\": {\"x\": 0.05}, \"xaxis\": {\"automargin\": true, \"gridcolor\": \"white\", \"linecolor\": \"white\", \"ticks\": \"\", \"title\": {\"standoff\": 15}, \"zerolinecolor\": \"white\", \"zerolinewidth\": 2}, \"yaxis\": {\"automargin\": true, \"gridcolor\": \"white\", \"linecolor\": \"white\", \"ticks\": \"\", \"title\": {\"standoff\": 15}, \"zerolinecolor\": \"white\", \"zerolinewidth\": 2}}}, \"title\": {\"text\": \"newly dead Cases Holt's Linear Model Prediction\"}, \"xaxis\": {\"title\": {\"text\": \"Date\"}}, \"yaxis\": {\"title\": {\"text\": \"Death Cases\"}}},\n",
              "                        {\"responsive\": true}\n",
              "                    ).then(function(){\n",
              "                            \n",
              "var gd = document.getElementById('e56c2234-2dc3-402d-b88f-8e989663cb58');\n",
              "var x = new MutationObserver(function (mutations, observer) {{\n",
              "        var display = window.getComputedStyle(gd).display;\n",
              "        if (!display || display === 'none') {{\n",
              "            console.log([gd, 'removed!']);\n",
              "            Plotly.purge(gd);\n",
              "            observer.disconnect();\n",
              "        }}\n",
              "}});\n",
              "\n",
              "// Listen for the removal of the full notebook cells\n",
              "var notebookContainer = gd.closest('#notebook-container');\n",
              "if (notebookContainer) {{\n",
              "    x.observe(notebookContainer, {childList: true});\n",
              "}}\n",
              "\n",
              "// Listen for the clearing of the current output cell\n",
              "var outputEl = gd.closest('.output');\n",
              "if (outputEl) {{\n",
              "    x.observe(outputEl, {childList: true});\n",
              "}}\n",
              "\n",
              "                        })\n",
              "                };\n",
              "                \n",
              "            </script>\n",
              "        </div>\n",
              "</body>\n",
              "</html>"
            ]
          },
          "metadata": {}
        }
      ]
    },
    {
      "cell_type": "code",
      "metadata": {
        "colab": {
          "base_uri": "https://localhost:8080/",
          "height": 419
        },
        "id": "JwgBNTU5_W-t",
        "outputId": "cfd40628-b593-464e-9884-e2c7fcae371d"
      },
      "source": [
        "#holt new prediction\n",
        "holt_new_date=[]\n",
        "holt_new_prediction=[]\n",
        "for i in range(1,365):\n",
        "    holt_new_date.append(datewise.index[-1]+timedelta(days=i))\n",
        "    holt_new_prediction.append(holt.forecast((len(valid)+i))[-1])\n",
        "\n",
        "model_predictions[\"Holt's Linear Model Prediction\"]=holt_new_prediction\n",
        "model_predictions"
      ],
      "execution_count": 321,
      "outputs": [
        {
          "output_type": "execute_result",
          "data": {
            "text/html": [
              "<div>\n",
              "<style scoped>\n",
              "    .dataframe tbody tr th:only-of-type {\n",
              "        vertical-align: middle;\n",
              "    }\n",
              "\n",
              "    .dataframe tbody tr th {\n",
              "        vertical-align: top;\n",
              "    }\n",
              "\n",
              "    .dataframe thead th {\n",
              "        text-align: right;\n",
              "    }\n",
              "</style>\n",
              "<table border=\"1\" class=\"dataframe\">\n",
              "  <thead>\n",
              "    <tr style=\"text-align: right;\">\n",
              "      <th></th>\n",
              "      <th>date</th>\n",
              "      <th>Polynonmial Regression Prediction</th>\n",
              "      <th>SVM Prediction</th>\n",
              "      <th>Holt's Linear Model Prediction</th>\n",
              "    </tr>\n",
              "  </thead>\n",
              "  <tbody>\n",
              "    <tr>\n",
              "      <th>0</th>\n",
              "      <td>2021-10-01</td>\n",
              "      <td>44495.114581</td>\n",
              "      <td>45478.513196</td>\n",
              "      <td>35620.178009</td>\n",
              "    </tr>\n",
              "    <tr>\n",
              "      <th>1</th>\n",
              "      <td>2021-10-02</td>\n",
              "      <td>46155.767294</td>\n",
              "      <td>46043.686337</td>\n",
              "      <td>35643.738237</td>\n",
              "    </tr>\n",
              "    <tr>\n",
              "      <th>2</th>\n",
              "      <td>2021-10-03</td>\n",
              "      <td>48032.109538</td>\n",
              "      <td>46624.427899</td>\n",
              "      <td>35667.298466</td>\n",
              "    </tr>\n",
              "    <tr>\n",
              "      <th>3</th>\n",
              "      <td>2021-10-04</td>\n",
              "      <td>50144.602820</td>\n",
              "      <td>47221.079088</td>\n",
              "      <td>35690.858694</td>\n",
              "    </tr>\n",
              "    <tr>\n",
              "      <th>4</th>\n",
              "      <td>2021-10-05</td>\n",
              "      <td>52515.101177</td>\n",
              "      <td>47833.986692</td>\n",
              "      <td>35714.418923</td>\n",
              "    </tr>\n",
              "    <tr>\n",
              "      <th>...</th>\n",
              "      <td>...</td>\n",
              "      <td>...</td>\n",
              "      <td>...</td>\n",
              "      <td>...</td>\n",
              "    </tr>\n",
              "    <tr>\n",
              "      <th>359</th>\n",
              "      <td>2022-09-25</td>\n",
              "      <td>18495429363.409454</td>\n",
              "      <td>11505646.784762</td>\n",
              "      <td>44078.300028</td>\n",
              "    </tr>\n",
              "    <tr>\n",
              "      <th>360</th>\n",
              "      <td>2022-09-26</td>\n",
              "      <td>18822763540.271004</td>\n",
              "      <td>11633287.834124</td>\n",
              "      <td>44101.860257</td>\n",
              "    </tr>\n",
              "    <tr>\n",
              "      <th>361</th>\n",
              "      <td>2022-09-27</td>\n",
              "      <td>19155135402.187019</td>\n",
              "      <td>11762109.642338</td>\n",
              "      <td>44125.420485</td>\n",
              "    </tr>\n",
              "    <tr>\n",
              "      <th>362</th>\n",
              "      <td>2022-09-28</td>\n",
              "      <td>19492610988.858364</td>\n",
              "      <td>11892120.931541</td>\n",
              "      <td>44148.980713</td>\n",
              "    </tr>\n",
              "    <tr>\n",
              "      <th>363</th>\n",
              "      <td>2022-09-29</td>\n",
              "      <td>19835257056.886589</td>\n",
              "      <td>12023330.471999</td>\n",
              "      <td>44172.540942</td>\n",
              "    </tr>\n",
              "  </tbody>\n",
              "</table>\n",
              "<p>364 rows × 4 columns</p>\n",
              "</div>"
            ],
            "text/plain": [
              "          date  ...  Holt's Linear Model Prediction\n",
              "0   2021-10-01  ...                    35620.178009\n",
              "1   2021-10-02  ...                    35643.738237\n",
              "2   2021-10-03  ...                    35667.298466\n",
              "3   2021-10-04  ...                    35690.858694\n",
              "4   2021-10-05  ...                    35714.418923\n",
              "..         ...  ...                             ...\n",
              "359 2022-09-25  ...                    44078.300028\n",
              "360 2022-09-26  ...                    44101.860257\n",
              "361 2022-09-27  ...                    44125.420485\n",
              "362 2022-09-28  ...                    44148.980713\n",
              "363 2022-09-29  ...                    44172.540942\n",
              "\n",
              "[364 rows x 4 columns]"
            ]
          },
          "metadata": {},
          "execution_count": 321
        }
      ]
    },
    {
      "cell_type": "markdown",
      "metadata": {
        "id": "uRWLB9Fh_4ad"
      },
      "source": [
        "HOLT'S WINTER MODEL"
      ]
    },
    {
      "cell_type": "code",
      "metadata": {
        "id": "RSmNQnmt_-oF"
      },
      "source": [
        "model_train=datewise.iloc[:int(datewise.shape[0]*0.95)]\n",
        "valid=datewise.iloc[int(datewise.shape[0]*0.95):]\n",
        "y_pred=valid.copy()"
      ],
      "execution_count": 322,
      "outputs": []
    },
    {
      "cell_type": "code",
      "metadata": {
        "id": "5-jud7aDFZ29"
      },
      "source": [
        "es=ExponentialSmoothing(np.asarray(model_train['dead']),seasonal_periods=14,trend='add', seasonal='mul').fit()"
      ],
      "execution_count": 323,
      "outputs": []
    },
    {
      "cell_type": "code",
      "metadata": {
        "colab": {
          "base_uri": "https://localhost:8080/"
        },
        "id": "DNSef0D-GFFW",
        "outputId": "67e24868-629f-4c4f-aa08-0d84617a7689"
      },
      "source": [
        "y_pred[\"Holt's Winter Model\"]=es.forecast(len(valid))\n",
        "model_scores.append(np.sqrt(mean_squared_error(y_pred[\"dead\"],y_pred[\"Holt's Winter Model\"])))\n",
        "print(\"Root Mean Square Error for Holt's Winter Model: \",np.sqrt(mean_squared_error(y_pred[\"dead\"],y_pred[\"Holt's Winter Model\"])))"
      ],
      "execution_count": 324,
      "outputs": [
        {
          "output_type": "stream",
          "name": "stdout",
          "text": [
            "Root Mean Square Error for Holt's Winter Model:  27.337525394305157\n"
          ]
        }
      ]
    },
    {
      "cell_type": "code",
      "metadata": {
        "colab": {
          "base_uri": "https://localhost:8080/",
          "height": 542
        },
        "id": "KriGzArwGNAQ",
        "outputId": "843a02bf-a1cb-4933-9572-06f7d5733ca0"
      },
      "source": [
        "fig=go.Figure()\n",
        "fig.add_trace(go.Scatter(x=model_train.index, y=model_train[\"dead\"],\n",
        "                    mode='lines+markers',name=\"Train Data for dead Cases\"))\n",
        "fig.add_trace(go.Scatter(x=valid.index, y=valid[\"dead\"],\n",
        "                    mode='lines+markers',name=\"Validation Data for dead Cases\",))\n",
        "fig.add_trace(go.Scatter(x=valid.index, y=y_pred[\"Holt\\'s Winter Model\"],\n",
        "                    mode='lines+markers',name=\"Prediction of dead Cases\",))\n",
        "fig.update_layout(title=\"newly dead Cases Holt's Winter Model Prediction\",\n",
        "                 xaxis_title=\"Date\",yaxis_title=\"Death Cases\",legend=dict(x=0,y=1,traceorder=\"normal\"))\n",
        "fig.show()"
      ],
      "execution_count": 325,
      "outputs": [
        {
          "output_type": "display_data",
          "data": {
            "text/html": [
              "<html>\n",
              "<head><meta charset=\"utf-8\" /></head>\n",
              "<body>\n",
              "    <div>\n",
              "            <script src=\"https://cdnjs.cloudflare.com/ajax/libs/mathjax/2.7.5/MathJax.js?config=TeX-AMS-MML_SVG\"></script><script type=\"text/javascript\">if (window.MathJax) {MathJax.Hub.Config({SVG: {font: \"STIX-Web\"}});}</script>\n",
              "                <script type=\"text/javascript\">window.PlotlyConfig = {MathJaxConfig: 'local'};</script>\n",
              "        <script src=\"https://cdn.plot.ly/plotly-latest.min.js\"></script>    \n",
              "            <div id=\"a46173e7-0b97-44e7-831d-d5fb88a4af61\" class=\"plotly-graph-div\" style=\"height:525px; width:100%;\"></div>\n",
              "            <script type=\"text/javascript\">\n",
              "                \n",
              "                    window.PLOTLYENV=window.PLOTLYENV || {};\n",
              "                    \n",
              "                if (document.getElementById(\"a46173e7-0b97-44e7-831d-d5fb88a4af61\")) {\n",
              "                    Plotly.newPlot(\n",
              "                        'a46173e7-0b97-44e7-831d-d5fb88a4af61',\n",
              "                        [{\"mode\": \"lines+markers\", \"name\": \"Train Data for dead Cases\", \"type\": \"scatter\", \"x\": [\"2021-04-01T00:00:00\", \"2021-04-02T00:00:00\", \"2021-04-03T00:00:00\", \"2021-04-04T00:00:00\", \"2021-04-05T00:00:00\", \"2021-04-06T00:00:00\", \"2021-04-07T00:00:00\", \"2021-04-08T00:00:00\", \"2021-04-09T00:00:00\", \"2021-04-10T00:00:00\", \"2021-04-11T00:00:00\", \"2021-04-12T00:00:00\", \"2021-04-13T00:00:00\", \"2021-04-14T00:00:00\", \"2021-04-15T00:00:00\", \"2021-04-16T00:00:00\", \"2021-04-17T00:00:00\", \"2021-04-18T00:00:00\", \"2021-04-19T00:00:00\", \"2021-04-20T00:00:00\", \"2021-04-21T00:00:00\", \"2021-04-22T00:00:00\", \"2021-04-23T00:00:00\", \"2021-04-24T00:00:00\", \"2021-04-25T00:00:00\", \"2021-04-26T00:00:00\", \"2021-04-27T00:00:00\", \"2021-04-28T00:00:00\", \"2021-04-29T00:00:00\", \"2021-04-30T00:00:00\", \"2021-05-01T00:00:00\", \"2021-05-02T00:00:00\", \"2021-05-03T00:00:00\", \"2021-05-04T00:00:00\", \"2021-05-05T00:00:00\", \"2021-05-06T00:00:00\", \"2021-05-07T00:00:00\", \"2021-05-08T00:00:00\", \"2021-05-09T00:00:00\", \"2021-05-10T00:00:00\", \"2021-05-11T00:00:00\", \"2021-05-12T00:00:00\", \"2021-05-13T00:00:00\", \"2021-05-14T00:00:00\", \"2021-05-15T00:00:00\", \"2021-05-16T00:00:00\", \"2021-05-17T00:00:00\", \"2021-05-18T00:00:00\", \"2021-05-19T00:00:00\", \"2021-05-20T00:00:00\", \"2021-05-21T00:00:00\", \"2021-05-22T00:00:00\", \"2021-05-23T00:00:00\", \"2021-05-24T00:00:00\", \"2021-05-25T00:00:00\", \"2021-05-26T00:00:00\", \"2021-05-27T00:00:00\", \"2021-05-28T00:00:00\", \"2021-05-29T00:00:00\", \"2021-05-30T00:00:00\", \"2021-05-31T00:00:00\", \"2021-06-01T00:00:00\", \"2021-06-02T00:00:00\", \"2021-06-03T00:00:00\", \"2021-06-04T00:00:00\", \"2021-06-05T00:00:00\", \"2021-06-06T00:00:00\", \"2021-06-07T00:00:00\", \"2021-06-08T00:00:00\", \"2021-06-09T00:00:00\", \"2021-06-10T00:00:00\", \"2021-06-11T00:00:00\", \"2021-06-12T00:00:00\", \"2021-06-13T00:00:00\", \"2021-06-14T00:00:00\", \"2021-06-15T00:00:00\", \"2021-06-16T00:00:00\", \"2021-06-17T00:00:00\", \"2021-06-18T00:00:00\", \"2021-06-19T00:00:00\", \"2021-06-20T00:00:00\", \"2021-06-21T00:00:00\", \"2021-06-22T00:00:00\", \"2021-06-23T00:00:00\", \"2021-06-24T00:00:00\", \"2021-06-25T00:00:00\", \"2021-06-26T00:00:00\", \"2021-06-27T00:00:00\", \"2021-06-28T00:00:00\", \"2021-06-29T00:00:00\", \"2021-06-30T00:00:00\", \"2021-07-01T00:00:00\", \"2021-07-02T00:00:00\", \"2021-07-03T00:00:00\", \"2021-07-04T00:00:00\", \"2021-07-05T00:00:00\", \"2021-07-06T00:00:00\", \"2021-07-07T00:00:00\", \"2021-07-08T00:00:00\", \"2021-07-09T00:00:00\", \"2021-07-10T00:00:00\", \"2021-07-11T00:00:00\", \"2021-07-12T00:00:00\", \"2021-07-13T00:00:00\", \"2021-07-14T00:00:00\", \"2021-07-15T00:00:00\", \"2021-07-16T00:00:00\", \"2021-07-17T00:00:00\", \"2021-07-18T00:00:00\", \"2021-07-19T00:00:00\", \"2021-07-20T00:00:00\", \"2021-07-21T00:00:00\", \"2021-07-22T00:00:00\", \"2021-07-23T00:00:00\", \"2021-07-24T00:00:00\", \"2021-07-25T00:00:00\", \"2021-07-26T00:00:00\", \"2021-07-27T00:00:00\", \"2021-07-28T00:00:00\", \"2021-07-29T00:00:00\", \"2021-07-30T00:00:00\", \"2021-07-31T00:00:00\", \"2021-08-01T00:00:00\", \"2021-08-02T00:00:00\", \"2021-08-03T00:00:00\", \"2021-08-04T00:00:00\", \"2021-08-05T00:00:00\", \"2021-08-06T00:00:00\", \"2021-08-07T00:00:00\", \"2021-08-08T00:00:00\", \"2021-08-09T00:00:00\", \"2021-08-10T00:00:00\", \"2021-08-11T00:00:00\", \"2021-08-12T00:00:00\", \"2021-08-13T00:00:00\", \"2021-08-14T00:00:00\", \"2021-08-15T00:00:00\", \"2021-08-16T00:00:00\", \"2021-08-17T00:00:00\", \"2021-08-18T00:00:00\", \"2021-08-19T00:00:00\", \"2021-08-20T00:00:00\", \"2021-08-21T00:00:00\", \"2021-08-22T00:00:00\", \"2021-08-23T00:00:00\", \"2021-08-24T00:00:00\", \"2021-08-25T00:00:00\", \"2021-08-26T00:00:00\", \"2021-08-27T00:00:00\", \"2021-08-28T00:00:00\", \"2021-08-29T00:00:00\", \"2021-08-30T00:00:00\", \"2021-08-31T00:00:00\", \"2021-09-01T00:00:00\", \"2021-09-02T00:00:00\", \"2021-09-03T00:00:00\", \"2021-09-04T00:00:00\", \"2021-09-05T00:00:00\", \"2021-09-06T00:00:00\", \"2021-09-07T00:00:00\", \"2021-09-08T00:00:00\", \"2021-09-09T00:00:00\", \"2021-09-10T00:00:00\", \"2021-09-11T00:00:00\", \"2021-09-12T00:00:00\", \"2021-09-13T00:00:00\", \"2021-09-14T00:00:00\", \"2021-09-15T00:00:00\", \"2021-09-16T00:00:00\", \"2021-09-17T00:00:00\", \"2021-09-18T00:00:00\", \"2021-09-19T00:00:00\", \"2021-09-20T00:00:00\"], \"y\": [12738, 12750, 12764, 12778, 12789, 12804, 12821, 12840, 12863, 12886, 12908, 12927, 12945, 12970, 12999, 13032, 13071, 13113, 13157, 13205, 13258, 13317, 13395, 13475, 13557, 13651, 13728, 13826, 13933, 14046, 14193, 14346, 14468, 14612, 14779, 14974, 15171, 15412, 15648, 15880, 16178, 16471, 16768, 17056, 17359, 17670, 18005, 18369, 18734, 19131, 19598, 20046, 20468, 20872, 21340, 21815, 22289, 22775, 23261, 23754, 24232, 24722, 25205, 25665, 26128, 26571, 27005, 27356, 27765, 28170, 28528, 28906, 29280, 29547, 29801, 30068, 30338, 30548, 30835, 31015, 31197, 31386, 31580, 31746, 31901, 32051, 32199, 32290, 32388, 32506, 32619, 32721, 32818, 32933, 33005, 33059, 33132, 33196, 33253, 33322, 33371, 33418, 33454, 33502, 33557, 33606, 33652, 33695, 33724, 33752, 33782, 33809, 33838, 33862, 33889, 33911, 33937, 33966, 33995, 34023, 34050, 34076, 34102, 34130, 34159, 34197, 34230, 34260, 34289, 34317, 34340, 34367, 34395, 34428, 34462, 34496, 34519, 34547, 34579, 34610, 34639, 34663, 34686, 34709, 34734, 34761, 34788, 34814, 34835, 34856, 34878, 34899, 34921, 34941, 34961, 34980, 35000, 35018, 35036, 35055, 35073, 35094, 35119, 35146, 35168, 35190, 35217, 35246, 35271, 35288, 35310, 35337, 35360]}, {\"mode\": \"lines+markers\", \"name\": \"Validation Data for dead Cases\", \"type\": \"scatter\", \"x\": [\"2021-09-21T00:00:00\", \"2021-09-22T00:00:00\", \"2021-09-23T00:00:00\", \"2021-09-24T00:00:00\", \"2021-09-25T00:00:00\", \"2021-09-26T00:00:00\", \"2021-09-27T00:00:00\", \"2021-09-28T00:00:00\", \"2021-09-29T00:00:00\", \"2021-09-30T00:00:00\"], \"y\": [35379, 35400, 35427, 35454, 35476, 35490, 35509, 35526, 35550, 35578]}, {\"mode\": \"lines+markers\", \"name\": \"Prediction of dead Cases\", \"type\": \"scatter\", \"x\": [\"2021-09-21T00:00:00\", \"2021-09-22T00:00:00\", \"2021-09-23T00:00:00\", \"2021-09-24T00:00:00\", \"2021-09-25T00:00:00\", \"2021-09-26T00:00:00\", \"2021-09-27T00:00:00\", \"2021-09-28T00:00:00\", \"2021-09-29T00:00:00\", \"2021-09-30T00:00:00\"], \"y\": [35380.13290054088, 35406.88992701726, 35430.395947247736, 35463.52073045912, 35500.30555335106, 35527.89962690465, 35542.426778094195, 35562.90761959044, 35590.08360696385, 35612.77229579252]}],\n",
              "                        {\"legend\": {\"traceorder\": \"normal\", \"x\": 0, \"y\": 1}, \"template\": {\"data\": {\"bar\": [{\"error_x\": {\"color\": \"#2a3f5f\"}, \"error_y\": {\"color\": \"#2a3f5f\"}, \"marker\": {\"line\": {\"color\": \"#E5ECF6\", \"width\": 0.5}}, \"type\": \"bar\"}], \"barpolar\": [{\"marker\": {\"line\": {\"color\": \"#E5ECF6\", \"width\": 0.5}}, \"type\": \"barpolar\"}], \"carpet\": [{\"aaxis\": {\"endlinecolor\": \"#2a3f5f\", \"gridcolor\": \"white\", \"linecolor\": \"white\", \"minorgridcolor\": \"white\", \"startlinecolor\": \"#2a3f5f\"}, \"baxis\": {\"endlinecolor\": \"#2a3f5f\", \"gridcolor\": \"white\", \"linecolor\": \"white\", \"minorgridcolor\": \"white\", \"startlinecolor\": \"#2a3f5f\"}, \"type\": \"carpet\"}], \"choropleth\": [{\"colorbar\": {\"outlinewidth\": 0, \"ticks\": \"\"}, \"type\": \"choropleth\"}], \"contour\": [{\"colorbar\": {\"outlinewidth\": 0, \"ticks\": \"\"}, \"colorscale\": [[0.0, \"#0d0887\"], [0.1111111111111111, \"#46039f\"], [0.2222222222222222, \"#7201a8\"], [0.3333333333333333, \"#9c179e\"], [0.4444444444444444, \"#bd3786\"], [0.5555555555555556, \"#d8576b\"], [0.6666666666666666, \"#ed7953\"], [0.7777777777777778, \"#fb9f3a\"], [0.8888888888888888, \"#fdca26\"], [1.0, \"#f0f921\"]], \"type\": \"contour\"}], \"contourcarpet\": [{\"colorbar\": {\"outlinewidth\": 0, \"ticks\": \"\"}, \"type\": \"contourcarpet\"}], \"heatmap\": [{\"colorbar\": {\"outlinewidth\": 0, \"ticks\": \"\"}, \"colorscale\": [[0.0, \"#0d0887\"], [0.1111111111111111, \"#46039f\"], [0.2222222222222222, \"#7201a8\"], [0.3333333333333333, \"#9c179e\"], [0.4444444444444444, \"#bd3786\"], [0.5555555555555556, \"#d8576b\"], [0.6666666666666666, \"#ed7953\"], [0.7777777777777778, \"#fb9f3a\"], [0.8888888888888888, \"#fdca26\"], [1.0, \"#f0f921\"]], \"type\": \"heatmap\"}], \"heatmapgl\": [{\"colorbar\": {\"outlinewidth\": 0, \"ticks\": \"\"}, \"colorscale\": [[0.0, \"#0d0887\"], [0.1111111111111111, \"#46039f\"], [0.2222222222222222, \"#7201a8\"], [0.3333333333333333, \"#9c179e\"], [0.4444444444444444, \"#bd3786\"], [0.5555555555555556, \"#d8576b\"], [0.6666666666666666, \"#ed7953\"], [0.7777777777777778, \"#fb9f3a\"], [0.8888888888888888, \"#fdca26\"], [1.0, \"#f0f921\"]], \"type\": \"heatmapgl\"}], \"histogram\": [{\"marker\": {\"colorbar\": {\"outlinewidth\": 0, \"ticks\": \"\"}}, \"type\": \"histogram\"}], \"histogram2d\": [{\"colorbar\": {\"outlinewidth\": 0, \"ticks\": \"\"}, \"colorscale\": [[0.0, \"#0d0887\"], [0.1111111111111111, \"#46039f\"], [0.2222222222222222, \"#7201a8\"], [0.3333333333333333, \"#9c179e\"], [0.4444444444444444, \"#bd3786\"], [0.5555555555555556, \"#d8576b\"], [0.6666666666666666, \"#ed7953\"], [0.7777777777777778, \"#fb9f3a\"], [0.8888888888888888, \"#fdca26\"], [1.0, \"#f0f921\"]], \"type\": \"histogram2d\"}], \"histogram2dcontour\": [{\"colorbar\": {\"outlinewidth\": 0, \"ticks\": \"\"}, \"colorscale\": [[0.0, \"#0d0887\"], [0.1111111111111111, \"#46039f\"], [0.2222222222222222, \"#7201a8\"], [0.3333333333333333, \"#9c179e\"], [0.4444444444444444, \"#bd3786\"], [0.5555555555555556, \"#d8576b\"], [0.6666666666666666, \"#ed7953\"], [0.7777777777777778, \"#fb9f3a\"], [0.8888888888888888, \"#fdca26\"], [1.0, \"#f0f921\"]], \"type\": \"histogram2dcontour\"}], \"mesh3d\": [{\"colorbar\": {\"outlinewidth\": 0, \"ticks\": \"\"}, \"type\": \"mesh3d\"}], \"parcoords\": [{\"line\": {\"colorbar\": {\"outlinewidth\": 0, \"ticks\": \"\"}}, \"type\": \"parcoords\"}], \"pie\": [{\"automargin\": true, \"type\": \"pie\"}], \"scatter\": [{\"marker\": {\"colorbar\": {\"outlinewidth\": 0, \"ticks\": \"\"}}, \"type\": \"scatter\"}], \"scatter3d\": [{\"line\": {\"colorbar\": {\"outlinewidth\": 0, \"ticks\": \"\"}}, \"marker\": {\"colorbar\": {\"outlinewidth\": 0, \"ticks\": \"\"}}, \"type\": \"scatter3d\"}], \"scattercarpet\": [{\"marker\": {\"colorbar\": {\"outlinewidth\": 0, \"ticks\": \"\"}}, \"type\": \"scattercarpet\"}], \"scattergeo\": [{\"marker\": {\"colorbar\": {\"outlinewidth\": 0, \"ticks\": \"\"}}, \"type\": \"scattergeo\"}], \"scattergl\": [{\"marker\": {\"colorbar\": {\"outlinewidth\": 0, \"ticks\": \"\"}}, \"type\": \"scattergl\"}], \"scattermapbox\": [{\"marker\": {\"colorbar\": {\"outlinewidth\": 0, \"ticks\": \"\"}}, \"type\": \"scattermapbox\"}], \"scatterpolar\": [{\"marker\": {\"colorbar\": {\"outlinewidth\": 0, \"ticks\": \"\"}}, \"type\": \"scatterpolar\"}], \"scatterpolargl\": [{\"marker\": {\"colorbar\": {\"outlinewidth\": 0, \"ticks\": \"\"}}, \"type\": \"scatterpolargl\"}], \"scatterternary\": [{\"marker\": {\"colorbar\": {\"outlinewidth\": 0, \"ticks\": \"\"}}, \"type\": \"scatterternary\"}], \"surface\": [{\"colorbar\": {\"outlinewidth\": 0, \"ticks\": \"\"}, \"colorscale\": [[0.0, \"#0d0887\"], [0.1111111111111111, \"#46039f\"], [0.2222222222222222, \"#7201a8\"], [0.3333333333333333, \"#9c179e\"], [0.4444444444444444, \"#bd3786\"], [0.5555555555555556, \"#d8576b\"], [0.6666666666666666, \"#ed7953\"], [0.7777777777777778, \"#fb9f3a\"], [0.8888888888888888, \"#fdca26\"], [1.0, \"#f0f921\"]], \"type\": \"surface\"}], \"table\": [{\"cells\": {\"fill\": {\"color\": \"#EBF0F8\"}, \"line\": {\"color\": \"white\"}}, \"header\": {\"fill\": {\"color\": \"#C8D4E3\"}, \"line\": {\"color\": \"white\"}}, \"type\": \"table\"}]}, \"layout\": {\"annotationdefaults\": {\"arrowcolor\": \"#2a3f5f\", \"arrowhead\": 0, \"arrowwidth\": 1}, \"coloraxis\": {\"colorbar\": {\"outlinewidth\": 0, \"ticks\": \"\"}}, \"colorscale\": {\"diverging\": [[0, \"#8e0152\"], [0.1, \"#c51b7d\"], [0.2, \"#de77ae\"], [0.3, \"#f1b6da\"], [0.4, \"#fde0ef\"], [0.5, \"#f7f7f7\"], [0.6, \"#e6f5d0\"], [0.7, \"#b8e186\"], [0.8, \"#7fbc41\"], [0.9, \"#4d9221\"], [1, \"#276419\"]], \"sequential\": [[0.0, \"#0d0887\"], [0.1111111111111111, \"#46039f\"], [0.2222222222222222, \"#7201a8\"], [0.3333333333333333, \"#9c179e\"], [0.4444444444444444, \"#bd3786\"], [0.5555555555555556, \"#d8576b\"], [0.6666666666666666, \"#ed7953\"], [0.7777777777777778, \"#fb9f3a\"], [0.8888888888888888, \"#fdca26\"], [1.0, \"#f0f921\"]], \"sequentialminus\": [[0.0, \"#0d0887\"], [0.1111111111111111, \"#46039f\"], [0.2222222222222222, \"#7201a8\"], [0.3333333333333333, \"#9c179e\"], [0.4444444444444444, \"#bd3786\"], [0.5555555555555556, \"#d8576b\"], [0.6666666666666666, \"#ed7953\"], [0.7777777777777778, \"#fb9f3a\"], [0.8888888888888888, \"#fdca26\"], [1.0, \"#f0f921\"]]}, \"colorway\": [\"#636efa\", \"#EF553B\", \"#00cc96\", \"#ab63fa\", \"#FFA15A\", \"#19d3f3\", \"#FF6692\", \"#B6E880\", \"#FF97FF\", \"#FECB52\"], \"font\": {\"color\": \"#2a3f5f\"}, \"geo\": {\"bgcolor\": \"white\", \"lakecolor\": \"white\", \"landcolor\": \"#E5ECF6\", \"showlakes\": true, \"showland\": true, \"subunitcolor\": \"white\"}, \"hoverlabel\": {\"align\": \"left\"}, \"hovermode\": \"closest\", \"mapbox\": {\"style\": \"light\"}, \"paper_bgcolor\": \"white\", \"plot_bgcolor\": \"#E5ECF6\", \"polar\": {\"angularaxis\": {\"gridcolor\": \"white\", \"linecolor\": \"white\", \"ticks\": \"\"}, \"bgcolor\": \"#E5ECF6\", \"radialaxis\": {\"gridcolor\": \"white\", \"linecolor\": \"white\", \"ticks\": \"\"}}, \"scene\": {\"xaxis\": {\"backgroundcolor\": \"#E5ECF6\", \"gridcolor\": \"white\", \"gridwidth\": 2, \"linecolor\": \"white\", \"showbackground\": true, \"ticks\": \"\", \"zerolinecolor\": \"white\"}, \"yaxis\": {\"backgroundcolor\": \"#E5ECF6\", \"gridcolor\": \"white\", \"gridwidth\": 2, \"linecolor\": \"white\", \"showbackground\": true, \"ticks\": \"\", \"zerolinecolor\": \"white\"}, \"zaxis\": {\"backgroundcolor\": \"#E5ECF6\", \"gridcolor\": \"white\", \"gridwidth\": 2, \"linecolor\": \"white\", \"showbackground\": true, \"ticks\": \"\", \"zerolinecolor\": \"white\"}}, \"shapedefaults\": {\"line\": {\"color\": \"#2a3f5f\"}}, \"ternary\": {\"aaxis\": {\"gridcolor\": \"white\", \"linecolor\": \"white\", \"ticks\": \"\"}, \"baxis\": {\"gridcolor\": \"white\", \"linecolor\": \"white\", \"ticks\": \"\"}, \"bgcolor\": \"#E5ECF6\", \"caxis\": {\"gridcolor\": \"white\", \"linecolor\": \"white\", \"ticks\": \"\"}}, \"title\": {\"x\": 0.05}, \"xaxis\": {\"automargin\": true, \"gridcolor\": \"white\", \"linecolor\": \"white\", \"ticks\": \"\", \"title\": {\"standoff\": 15}, \"zerolinecolor\": \"white\", \"zerolinewidth\": 2}, \"yaxis\": {\"automargin\": true, \"gridcolor\": \"white\", \"linecolor\": \"white\", \"ticks\": \"\", \"title\": {\"standoff\": 15}, \"zerolinecolor\": \"white\", \"zerolinewidth\": 2}}}, \"title\": {\"text\": \"newly dead Cases Holt's Winter Model Prediction\"}, \"xaxis\": {\"title\": {\"text\": \"Date\"}}, \"yaxis\": {\"title\": {\"text\": \"Death Cases\"}}},\n",
              "                        {\"responsive\": true}\n",
              "                    ).then(function(){\n",
              "                            \n",
              "var gd = document.getElementById('a46173e7-0b97-44e7-831d-d5fb88a4af61');\n",
              "var x = new MutationObserver(function (mutations, observer) {{\n",
              "        var display = window.getComputedStyle(gd).display;\n",
              "        if (!display || display === 'none') {{\n",
              "            console.log([gd, 'removed!']);\n",
              "            Plotly.purge(gd);\n",
              "            observer.disconnect();\n",
              "        }}\n",
              "}});\n",
              "\n",
              "// Listen for the removal of the full notebook cells\n",
              "var notebookContainer = gd.closest('#notebook-container');\n",
              "if (notebookContainer) {{\n",
              "    x.observe(notebookContainer, {childList: true});\n",
              "}}\n",
              "\n",
              "// Listen for the clearing of the current output cell\n",
              "var outputEl = gd.closest('.output');\n",
              "if (outputEl) {{\n",
              "    x.observe(outputEl, {childList: true});\n",
              "}}\n",
              "\n",
              "                        })\n",
              "                };\n",
              "                \n",
              "            </script>\n",
              "        </div>\n",
              "</body>\n",
              "</html>"
            ]
          },
          "metadata": {}
        }
      ]
    },
    {
      "cell_type": "code",
      "metadata": {
        "colab": {
          "base_uri": "https://localhost:8080/",
          "height": 306
        },
        "id": "uCR0gv59GXjm",
        "outputId": "b0b331d9-c51b-4f95-bdde-392f701c34d2"
      },
      "source": [
        "#holt winter new prediction\n",
        "holt_winter_new_prediction=[]\n",
        "for i in range(1,365):\n",
        "    holt_winter_new_prediction.append(es.forecast((len(valid)+i))[-1])\n",
        "model_predictions[\"Holt's Winter Model Prediction\"]=holt_winter_new_prediction\n",
        "model_predictions.head()"
      ],
      "execution_count": 326,
      "outputs": [
        {
          "output_type": "execute_result",
          "data": {
            "text/html": [
              "<div>\n",
              "<style scoped>\n",
              "    .dataframe tbody tr th:only-of-type {\n",
              "        vertical-align: middle;\n",
              "    }\n",
              "\n",
              "    .dataframe tbody tr th {\n",
              "        vertical-align: top;\n",
              "    }\n",
              "\n",
              "    .dataframe thead th {\n",
              "        text-align: right;\n",
              "    }\n",
              "</style>\n",
              "<table border=\"1\" class=\"dataframe\">\n",
              "  <thead>\n",
              "    <tr style=\"text-align: right;\">\n",
              "      <th></th>\n",
              "      <th>date</th>\n",
              "      <th>Polynonmial Regression Prediction</th>\n",
              "      <th>SVM Prediction</th>\n",
              "      <th>Holt's Linear Model Prediction</th>\n",
              "      <th>Holt's Winter Model Prediction</th>\n",
              "    </tr>\n",
              "  </thead>\n",
              "  <tbody>\n",
              "    <tr>\n",
              "      <th>0</th>\n",
              "      <td>2021-10-01</td>\n",
              "      <td>44495.114581</td>\n",
              "      <td>45478.513196</td>\n",
              "      <td>35620.178009</td>\n",
              "      <td>35634.704262</td>\n",
              "    </tr>\n",
              "    <tr>\n",
              "      <th>1</th>\n",
              "      <td>2021-10-02</td>\n",
              "      <td>46155.767294</td>\n",
              "      <td>46043.686337</td>\n",
              "      <td>35643.738237</td>\n",
              "      <td>35665.496743</td>\n",
              "    </tr>\n",
              "    <tr>\n",
              "      <th>2</th>\n",
              "      <td>2021-10-03</td>\n",
              "      <td>48032.109538</td>\n",
              "      <td>46624.427899</td>\n",
              "      <td>35667.298466</td>\n",
              "      <td>35691.322765</td>\n",
              "    </tr>\n",
              "    <tr>\n",
              "      <th>3</th>\n",
              "      <td>2021-10-04</td>\n",
              "      <td>50144.602820</td>\n",
              "      <td>47221.079088</td>\n",
              "      <td>35690.858694</td>\n",
              "      <td>35705.972391</td>\n",
              "    </tr>\n",
              "    <tr>\n",
              "      <th>4</th>\n",
              "      <td>2021-10-05</td>\n",
              "      <td>52515.101177</td>\n",
              "      <td>47833.986692</td>\n",
              "      <td>35714.418923</td>\n",
              "      <td>35727.657946</td>\n",
              "    </tr>\n",
              "  </tbody>\n",
              "</table>\n",
              "</div>"
            ],
            "text/plain": [
              "        date  ...  Holt's Winter Model Prediction\n",
              "0 2021-10-01  ...                    35634.704262\n",
              "1 2021-10-02  ...                    35665.496743\n",
              "2 2021-10-03  ...                    35691.322765\n",
              "3 2021-10-04  ...                    35705.972391\n",
              "4 2021-10-05  ...                    35727.657946\n",
              "\n",
              "[5 rows x 5 columns]"
            ]
          },
          "metadata": {},
          "execution_count": 326
        }
      ]
    },
    {
      "cell_type": "code",
      "metadata": {
        "id": "idusPdjsG0j-"
      },
      "source": [
        "model_train=datewise.iloc[:int(datewise.shape[0]*0.95)]\n",
        "valid=datewise.iloc[int(datewise.shape[0]*0.95):]\n",
        "y_pred=valid.copy()"
      ],
      "execution_count": 327,
      "outputs": []
    },
    {
      "cell_type": "markdown",
      "metadata": {
        "id": "hV_xulpMG9Ge"
      },
      "source": [
        "AR MODEL (AUTO ARIMA)"
      ]
    },
    {
      "cell_type": "code",
      "metadata": {
        "colab": {
          "base_uri": "https://localhost:8080/"
        },
        "id": "BcdajTmZHC4A",
        "outputId": "a0a1ec1b-8c62-4284-e2e8-2614d21dde59"
      },
      "source": [
        "model_ar= auto_arima(model_train[\"dead\"],trace=True, error_action='ignore', start_p=0,start_q=0,max_p=4,max_q=0,\n",
        "                   suppress_warnings=True,stepwise=False,seasonal=False)\n",
        "model_ar.fit(model_train[\"dead\"])"
      ],
      "execution_count": 328,
      "outputs": [
        {
          "output_type": "stream",
          "name": "stdout",
          "text": [
            " ARIMA(0,2,0)(0,0,0)[0] intercept   : AIC=1545.291, Time=0.01 sec\n",
            " ARIMA(1,2,0)(0,0,0)[0] intercept   : AIC=1541.115, Time=0.05 sec\n",
            " ARIMA(2,2,0)(0,0,0)[0] intercept   : AIC=1542.252, Time=0.09 sec\n",
            " ARIMA(3,2,0)(0,0,0)[0] intercept   : AIC=1538.334, Time=0.18 sec\n",
            " ARIMA(4,2,0)(0,0,0)[0] intercept   : AIC=1523.487, Time=0.20 sec\n",
            "\n",
            "Best model:  ARIMA(4,2,0)(0,0,0)[0] intercept\n",
            "Total fit time: 0.546 seconds\n"
          ]
        },
        {
          "output_type": "execute_result",
          "data": {
            "text/plain": [
              "ARIMA(maxiter=50, method='lbfgs', order=(4, 2, 0), out_of_sample_size=0,\n",
              "      scoring='mse', scoring_args={}, seasonal_order=(0, 0, 0, 0),\n",
              "      start_params=None, suppress_warnings=True, trend=None,\n",
              "      with_intercept=True)"
            ]
          },
          "metadata": {},
          "execution_count": 328
        }
      ]
    },
    {
      "cell_type": "code",
      "metadata": {
        "id": "CSOUwrGYJNyn"
      },
      "source": [
        "prediction_ar=model_ar.predict(len(valid))\n",
        "y_pred[\"AR Model Prediction\"]=prediction_ar"
      ],
      "execution_count": 329,
      "outputs": []
    },
    {
      "cell_type": "code",
      "metadata": {
        "colab": {
          "base_uri": "https://localhost:8080/"
        },
        "id": "ZJ8FyZmAJToe",
        "outputId": "c1232df5-8d9d-4224-c5cf-af0187652329"
      },
      "source": [
        "model_scores.append(np.sqrt(mean_squared_error(y_pred[\"dead\"],y_pred[\"AR Model Prediction\"])))\n",
        "print(\"Root Mean Square Error for AR Model: \",np.sqrt(mean_squared_error(y_pred[\"dead\"],y_pred[\"AR Model Prediction\"])))"
      ],
      "execution_count": 330,
      "outputs": [
        {
          "output_type": "stream",
          "name": "stdout",
          "text": [
            "Root Mean Square Error for AR Model:  22.202223217648907\n"
          ]
        }
      ]
    },
    {
      "cell_type": "code",
      "metadata": {
        "colab": {
          "base_uri": "https://localhost:8080/",
          "height": 542
        },
        "id": "cUkOwvvyJaFv",
        "outputId": "0c66f5c1-94c4-47c6-c90c-7fb1aed1c5c5"
      },
      "source": [
        "fig=go.Figure()\n",
        "fig.add_trace(go.Scatter(x=model_train.index, y=model_train[\"dead\"],\n",
        "                    mode='lines+markers',name=\"Train Data for dead Cases\"))\n",
        "fig.add_trace(go.Scatter(x=valid.index, y=valid[\"dead\"],\n",
        "                    mode='lines+markers',name=\"Validation Data for dead Cases\",))\n",
        "fig.add_trace(go.Scatter(x=valid.index, y=y_pred[\"AR Model Prediction\"],\n",
        "                    mode='lines+markers',name=\"Prediction of dead Cases\",))\n",
        "fig.update_layout(title=\"Confirmed Cases AR Model Prediction\",\n",
        "                 xaxis_title=\"Date\",yaxis_title=\"dead Cases\",legend=dict(x=0,y=1,traceorder=\"normal\"))\n",
        "fig.show()"
      ],
      "execution_count": 331,
      "outputs": [
        {
          "output_type": "display_data",
          "data": {
            "text/html": [
              "<html>\n",
              "<head><meta charset=\"utf-8\" /></head>\n",
              "<body>\n",
              "    <div>\n",
              "            <script src=\"https://cdnjs.cloudflare.com/ajax/libs/mathjax/2.7.5/MathJax.js?config=TeX-AMS-MML_SVG\"></script><script type=\"text/javascript\">if (window.MathJax) {MathJax.Hub.Config({SVG: {font: \"STIX-Web\"}});}</script>\n",
              "                <script type=\"text/javascript\">window.PlotlyConfig = {MathJaxConfig: 'local'};</script>\n",
              "        <script src=\"https://cdn.plot.ly/plotly-latest.min.js\"></script>    \n",
              "            <div id=\"e85de3b7-9b6c-4f60-a611-b63a7c04a819\" class=\"plotly-graph-div\" style=\"height:525px; width:100%;\"></div>\n",
              "            <script type=\"text/javascript\">\n",
              "                \n",
              "                    window.PLOTLYENV=window.PLOTLYENV || {};\n",
              "                    \n",
              "                if (document.getElementById(\"e85de3b7-9b6c-4f60-a611-b63a7c04a819\")) {\n",
              "                    Plotly.newPlot(\n",
              "                        'e85de3b7-9b6c-4f60-a611-b63a7c04a819',\n",
              "                        [{\"mode\": \"lines+markers\", \"name\": \"Train Data for dead Cases\", \"type\": \"scatter\", \"x\": [\"2021-04-01T00:00:00\", \"2021-04-02T00:00:00\", \"2021-04-03T00:00:00\", \"2021-04-04T00:00:00\", \"2021-04-05T00:00:00\", \"2021-04-06T00:00:00\", \"2021-04-07T00:00:00\", \"2021-04-08T00:00:00\", \"2021-04-09T00:00:00\", \"2021-04-10T00:00:00\", \"2021-04-11T00:00:00\", \"2021-04-12T00:00:00\", \"2021-04-13T00:00:00\", \"2021-04-14T00:00:00\", \"2021-04-15T00:00:00\", \"2021-04-16T00:00:00\", \"2021-04-17T00:00:00\", \"2021-04-18T00:00:00\", \"2021-04-19T00:00:00\", \"2021-04-20T00:00:00\", \"2021-04-21T00:00:00\", \"2021-04-22T00:00:00\", \"2021-04-23T00:00:00\", \"2021-04-24T00:00:00\", \"2021-04-25T00:00:00\", \"2021-04-26T00:00:00\", \"2021-04-27T00:00:00\", \"2021-04-28T00:00:00\", \"2021-04-29T00:00:00\", \"2021-04-30T00:00:00\", \"2021-05-01T00:00:00\", \"2021-05-02T00:00:00\", \"2021-05-03T00:00:00\", \"2021-05-04T00:00:00\", \"2021-05-05T00:00:00\", \"2021-05-06T00:00:00\", \"2021-05-07T00:00:00\", \"2021-05-08T00:00:00\", \"2021-05-09T00:00:00\", \"2021-05-10T00:00:00\", \"2021-05-11T00:00:00\", \"2021-05-12T00:00:00\", \"2021-05-13T00:00:00\", \"2021-05-14T00:00:00\", \"2021-05-15T00:00:00\", \"2021-05-16T00:00:00\", \"2021-05-17T00:00:00\", \"2021-05-18T00:00:00\", \"2021-05-19T00:00:00\", \"2021-05-20T00:00:00\", \"2021-05-21T00:00:00\", \"2021-05-22T00:00:00\", \"2021-05-23T00:00:00\", \"2021-05-24T00:00:00\", \"2021-05-25T00:00:00\", \"2021-05-26T00:00:00\", \"2021-05-27T00:00:00\", \"2021-05-28T00:00:00\", \"2021-05-29T00:00:00\", \"2021-05-30T00:00:00\", \"2021-05-31T00:00:00\", \"2021-06-01T00:00:00\", \"2021-06-02T00:00:00\", \"2021-06-03T00:00:00\", \"2021-06-04T00:00:00\", \"2021-06-05T00:00:00\", \"2021-06-06T00:00:00\", \"2021-06-07T00:00:00\", \"2021-06-08T00:00:00\", \"2021-06-09T00:00:00\", \"2021-06-10T00:00:00\", \"2021-06-11T00:00:00\", \"2021-06-12T00:00:00\", \"2021-06-13T00:00:00\", \"2021-06-14T00:00:00\", \"2021-06-15T00:00:00\", \"2021-06-16T00:00:00\", \"2021-06-17T00:00:00\", \"2021-06-18T00:00:00\", \"2021-06-19T00:00:00\", \"2021-06-20T00:00:00\", \"2021-06-21T00:00:00\", \"2021-06-22T00:00:00\", \"2021-06-23T00:00:00\", \"2021-06-24T00:00:00\", \"2021-06-25T00:00:00\", \"2021-06-26T00:00:00\", \"2021-06-27T00:00:00\", \"2021-06-28T00:00:00\", \"2021-06-29T00:00:00\", \"2021-06-30T00:00:00\", \"2021-07-01T00:00:00\", \"2021-07-02T00:00:00\", \"2021-07-03T00:00:00\", \"2021-07-04T00:00:00\", \"2021-07-05T00:00:00\", \"2021-07-06T00:00:00\", \"2021-07-07T00:00:00\", \"2021-07-08T00:00:00\", \"2021-07-09T00:00:00\", \"2021-07-10T00:00:00\", \"2021-07-11T00:00:00\", \"2021-07-12T00:00:00\", \"2021-07-13T00:00:00\", \"2021-07-14T00:00:00\", \"2021-07-15T00:00:00\", \"2021-07-16T00:00:00\", \"2021-07-17T00:00:00\", \"2021-07-18T00:00:00\", \"2021-07-19T00:00:00\", \"2021-07-20T00:00:00\", \"2021-07-21T00:00:00\", \"2021-07-22T00:00:00\", \"2021-07-23T00:00:00\", \"2021-07-24T00:00:00\", \"2021-07-25T00:00:00\", \"2021-07-26T00:00:00\", \"2021-07-27T00:00:00\", \"2021-07-28T00:00:00\", \"2021-07-29T00:00:00\", \"2021-07-30T00:00:00\", \"2021-07-31T00:00:00\", \"2021-08-01T00:00:00\", \"2021-08-02T00:00:00\", \"2021-08-03T00:00:00\", \"2021-08-04T00:00:00\", \"2021-08-05T00:00:00\", \"2021-08-06T00:00:00\", \"2021-08-07T00:00:00\", \"2021-08-08T00:00:00\", \"2021-08-09T00:00:00\", \"2021-08-10T00:00:00\", \"2021-08-11T00:00:00\", \"2021-08-12T00:00:00\", \"2021-08-13T00:00:00\", \"2021-08-14T00:00:00\", \"2021-08-15T00:00:00\", \"2021-08-16T00:00:00\", \"2021-08-17T00:00:00\", \"2021-08-18T00:00:00\", \"2021-08-19T00:00:00\", \"2021-08-20T00:00:00\", \"2021-08-21T00:00:00\", \"2021-08-22T00:00:00\", \"2021-08-23T00:00:00\", \"2021-08-24T00:00:00\", \"2021-08-25T00:00:00\", \"2021-08-26T00:00:00\", \"2021-08-27T00:00:00\", \"2021-08-28T00:00:00\", \"2021-08-29T00:00:00\", \"2021-08-30T00:00:00\", \"2021-08-31T00:00:00\", \"2021-09-01T00:00:00\", \"2021-09-02T00:00:00\", \"2021-09-03T00:00:00\", \"2021-09-04T00:00:00\", \"2021-09-05T00:00:00\", \"2021-09-06T00:00:00\", \"2021-09-07T00:00:00\", \"2021-09-08T00:00:00\", \"2021-09-09T00:00:00\", \"2021-09-10T00:00:00\", \"2021-09-11T00:00:00\", \"2021-09-12T00:00:00\", \"2021-09-13T00:00:00\", \"2021-09-14T00:00:00\", \"2021-09-15T00:00:00\", \"2021-09-16T00:00:00\", \"2021-09-17T00:00:00\", \"2021-09-18T00:00:00\", \"2021-09-19T00:00:00\", \"2021-09-20T00:00:00\"], \"y\": [12738, 12750, 12764, 12778, 12789, 12804, 12821, 12840, 12863, 12886, 12908, 12927, 12945, 12970, 12999, 13032, 13071, 13113, 13157, 13205, 13258, 13317, 13395, 13475, 13557, 13651, 13728, 13826, 13933, 14046, 14193, 14346, 14468, 14612, 14779, 14974, 15171, 15412, 15648, 15880, 16178, 16471, 16768, 17056, 17359, 17670, 18005, 18369, 18734, 19131, 19598, 20046, 20468, 20872, 21340, 21815, 22289, 22775, 23261, 23754, 24232, 24722, 25205, 25665, 26128, 26571, 27005, 27356, 27765, 28170, 28528, 28906, 29280, 29547, 29801, 30068, 30338, 30548, 30835, 31015, 31197, 31386, 31580, 31746, 31901, 32051, 32199, 32290, 32388, 32506, 32619, 32721, 32818, 32933, 33005, 33059, 33132, 33196, 33253, 33322, 33371, 33418, 33454, 33502, 33557, 33606, 33652, 33695, 33724, 33752, 33782, 33809, 33838, 33862, 33889, 33911, 33937, 33966, 33995, 34023, 34050, 34076, 34102, 34130, 34159, 34197, 34230, 34260, 34289, 34317, 34340, 34367, 34395, 34428, 34462, 34496, 34519, 34547, 34579, 34610, 34639, 34663, 34686, 34709, 34734, 34761, 34788, 34814, 34835, 34856, 34878, 34899, 34921, 34941, 34961, 34980, 35000, 35018, 35036, 35055, 35073, 35094, 35119, 35146, 35168, 35190, 35217, 35246, 35271, 35288, 35310, 35337, 35360]}, {\"mode\": \"lines+markers\", \"name\": \"Validation Data for dead Cases\", \"type\": \"scatter\", \"x\": [\"2021-09-21T00:00:00\", \"2021-09-22T00:00:00\", \"2021-09-23T00:00:00\", \"2021-09-24T00:00:00\", \"2021-09-25T00:00:00\", \"2021-09-26T00:00:00\", \"2021-09-27T00:00:00\", \"2021-09-28T00:00:00\", \"2021-09-29T00:00:00\", \"2021-09-30T00:00:00\"], \"y\": [35379, 35400, 35427, 35454, 35476, 35490, 35509, 35526, 35550, 35578]}, {\"mode\": \"lines+markers\", \"name\": \"Prediction of dead Cases\", \"type\": \"scatter\", \"x\": [\"2021-09-21T00:00:00\", \"2021-09-22T00:00:00\", \"2021-09-23T00:00:00\", \"2021-09-24T00:00:00\", \"2021-09-25T00:00:00\", \"2021-09-26T00:00:00\", \"2021-09-27T00:00:00\", \"2021-09-28T00:00:00\", \"2021-09-29T00:00:00\", \"2021-09-30T00:00:00\"], \"y\": [35382.70025552268, 35408.339082474646, 35433.87420926511, 35458.140069471985, 35483.391577342925, 35509.35259967793, 35534.83719479643, 35560.33136172834, 35586.35994559731, 35612.41442772351]}],\n",
              "                        {\"legend\": {\"traceorder\": \"normal\", \"x\": 0, \"y\": 1}, \"template\": {\"data\": {\"bar\": [{\"error_x\": {\"color\": \"#2a3f5f\"}, \"error_y\": {\"color\": \"#2a3f5f\"}, \"marker\": {\"line\": {\"color\": \"#E5ECF6\", \"width\": 0.5}}, \"type\": \"bar\"}], \"barpolar\": [{\"marker\": {\"line\": {\"color\": \"#E5ECF6\", \"width\": 0.5}}, \"type\": \"barpolar\"}], \"carpet\": [{\"aaxis\": {\"endlinecolor\": \"#2a3f5f\", \"gridcolor\": \"white\", \"linecolor\": \"white\", \"minorgridcolor\": \"white\", \"startlinecolor\": \"#2a3f5f\"}, \"baxis\": {\"endlinecolor\": \"#2a3f5f\", \"gridcolor\": \"white\", \"linecolor\": \"white\", \"minorgridcolor\": \"white\", \"startlinecolor\": \"#2a3f5f\"}, \"type\": \"carpet\"}], \"choropleth\": [{\"colorbar\": {\"outlinewidth\": 0, \"ticks\": \"\"}, \"type\": \"choropleth\"}], \"contour\": [{\"colorbar\": {\"outlinewidth\": 0, \"ticks\": \"\"}, \"colorscale\": [[0.0, \"#0d0887\"], [0.1111111111111111, \"#46039f\"], [0.2222222222222222, \"#7201a8\"], [0.3333333333333333, \"#9c179e\"], [0.4444444444444444, \"#bd3786\"], [0.5555555555555556, \"#d8576b\"], [0.6666666666666666, \"#ed7953\"], [0.7777777777777778, \"#fb9f3a\"], [0.8888888888888888, \"#fdca26\"], [1.0, \"#f0f921\"]], \"type\": \"contour\"}], \"contourcarpet\": [{\"colorbar\": {\"outlinewidth\": 0, \"ticks\": \"\"}, \"type\": \"contourcarpet\"}], \"heatmap\": [{\"colorbar\": {\"outlinewidth\": 0, \"ticks\": \"\"}, \"colorscale\": [[0.0, \"#0d0887\"], [0.1111111111111111, \"#46039f\"], [0.2222222222222222, \"#7201a8\"], [0.3333333333333333, \"#9c179e\"], [0.4444444444444444, \"#bd3786\"], [0.5555555555555556, \"#d8576b\"], [0.6666666666666666, \"#ed7953\"], [0.7777777777777778, \"#fb9f3a\"], [0.8888888888888888, \"#fdca26\"], [1.0, \"#f0f921\"]], \"type\": \"heatmap\"}], \"heatmapgl\": [{\"colorbar\": {\"outlinewidth\": 0, \"ticks\": \"\"}, \"colorscale\": [[0.0, \"#0d0887\"], [0.1111111111111111, \"#46039f\"], [0.2222222222222222, \"#7201a8\"], [0.3333333333333333, \"#9c179e\"], [0.4444444444444444, \"#bd3786\"], [0.5555555555555556, \"#d8576b\"], [0.6666666666666666, \"#ed7953\"], [0.7777777777777778, \"#fb9f3a\"], [0.8888888888888888, \"#fdca26\"], [1.0, \"#f0f921\"]], \"type\": \"heatmapgl\"}], \"histogram\": [{\"marker\": {\"colorbar\": {\"outlinewidth\": 0, \"ticks\": \"\"}}, \"type\": \"histogram\"}], \"histogram2d\": [{\"colorbar\": {\"outlinewidth\": 0, \"ticks\": \"\"}, \"colorscale\": [[0.0, \"#0d0887\"], [0.1111111111111111, \"#46039f\"], [0.2222222222222222, \"#7201a8\"], [0.3333333333333333, \"#9c179e\"], [0.4444444444444444, \"#bd3786\"], [0.5555555555555556, \"#d8576b\"], [0.6666666666666666, \"#ed7953\"], [0.7777777777777778, \"#fb9f3a\"], [0.8888888888888888, \"#fdca26\"], [1.0, \"#f0f921\"]], \"type\": \"histogram2d\"}], \"histogram2dcontour\": [{\"colorbar\": {\"outlinewidth\": 0, \"ticks\": \"\"}, \"colorscale\": [[0.0, \"#0d0887\"], [0.1111111111111111, \"#46039f\"], [0.2222222222222222, \"#7201a8\"], [0.3333333333333333, \"#9c179e\"], [0.4444444444444444, \"#bd3786\"], [0.5555555555555556, \"#d8576b\"], [0.6666666666666666, \"#ed7953\"], [0.7777777777777778, \"#fb9f3a\"], [0.8888888888888888, \"#fdca26\"], [1.0, \"#f0f921\"]], \"type\": \"histogram2dcontour\"}], \"mesh3d\": [{\"colorbar\": {\"outlinewidth\": 0, \"ticks\": \"\"}, \"type\": \"mesh3d\"}], \"parcoords\": [{\"line\": {\"colorbar\": {\"outlinewidth\": 0, \"ticks\": \"\"}}, \"type\": \"parcoords\"}], \"pie\": [{\"automargin\": true, \"type\": \"pie\"}], \"scatter\": [{\"marker\": {\"colorbar\": {\"outlinewidth\": 0, \"ticks\": \"\"}}, \"type\": \"scatter\"}], \"scatter3d\": [{\"line\": {\"colorbar\": {\"outlinewidth\": 0, \"ticks\": \"\"}}, \"marker\": {\"colorbar\": {\"outlinewidth\": 0, \"ticks\": \"\"}}, \"type\": \"scatter3d\"}], \"scattercarpet\": [{\"marker\": {\"colorbar\": {\"outlinewidth\": 0, \"ticks\": \"\"}}, \"type\": \"scattercarpet\"}], \"scattergeo\": [{\"marker\": {\"colorbar\": {\"outlinewidth\": 0, \"ticks\": \"\"}}, \"type\": \"scattergeo\"}], \"scattergl\": [{\"marker\": {\"colorbar\": {\"outlinewidth\": 0, \"ticks\": \"\"}}, \"type\": \"scattergl\"}], \"scattermapbox\": [{\"marker\": {\"colorbar\": {\"outlinewidth\": 0, \"ticks\": \"\"}}, \"type\": \"scattermapbox\"}], \"scatterpolar\": [{\"marker\": {\"colorbar\": {\"outlinewidth\": 0, \"ticks\": \"\"}}, \"type\": \"scatterpolar\"}], \"scatterpolargl\": [{\"marker\": {\"colorbar\": {\"outlinewidth\": 0, \"ticks\": \"\"}}, \"type\": \"scatterpolargl\"}], \"scatterternary\": [{\"marker\": {\"colorbar\": {\"outlinewidth\": 0, \"ticks\": \"\"}}, \"type\": \"scatterternary\"}], \"surface\": [{\"colorbar\": {\"outlinewidth\": 0, \"ticks\": \"\"}, \"colorscale\": [[0.0, \"#0d0887\"], [0.1111111111111111, \"#46039f\"], [0.2222222222222222, \"#7201a8\"], [0.3333333333333333, \"#9c179e\"], [0.4444444444444444, \"#bd3786\"], [0.5555555555555556, \"#d8576b\"], [0.6666666666666666, \"#ed7953\"], [0.7777777777777778, \"#fb9f3a\"], [0.8888888888888888, \"#fdca26\"], [1.0, \"#f0f921\"]], \"type\": \"surface\"}], \"table\": [{\"cells\": {\"fill\": {\"color\": \"#EBF0F8\"}, \"line\": {\"color\": \"white\"}}, \"header\": {\"fill\": {\"color\": \"#C8D4E3\"}, \"line\": {\"color\": \"white\"}}, \"type\": \"table\"}]}, \"layout\": {\"annotationdefaults\": {\"arrowcolor\": \"#2a3f5f\", \"arrowhead\": 0, \"arrowwidth\": 1}, \"coloraxis\": {\"colorbar\": {\"outlinewidth\": 0, \"ticks\": \"\"}}, \"colorscale\": {\"diverging\": [[0, \"#8e0152\"], [0.1, \"#c51b7d\"], [0.2, \"#de77ae\"], [0.3, \"#f1b6da\"], [0.4, \"#fde0ef\"], [0.5, \"#f7f7f7\"], [0.6, \"#e6f5d0\"], [0.7, \"#b8e186\"], [0.8, \"#7fbc41\"], [0.9, \"#4d9221\"], [1, \"#276419\"]], \"sequential\": [[0.0, \"#0d0887\"], [0.1111111111111111, \"#46039f\"], [0.2222222222222222, \"#7201a8\"], [0.3333333333333333, \"#9c179e\"], [0.4444444444444444, \"#bd3786\"], [0.5555555555555556, \"#d8576b\"], [0.6666666666666666, \"#ed7953\"], [0.7777777777777778, \"#fb9f3a\"], [0.8888888888888888, \"#fdca26\"], [1.0, \"#f0f921\"]], \"sequentialminus\": [[0.0, \"#0d0887\"], [0.1111111111111111, \"#46039f\"], [0.2222222222222222, \"#7201a8\"], [0.3333333333333333, \"#9c179e\"], [0.4444444444444444, \"#bd3786\"], [0.5555555555555556, \"#d8576b\"], [0.6666666666666666, \"#ed7953\"], [0.7777777777777778, \"#fb9f3a\"], [0.8888888888888888, \"#fdca26\"], [1.0, \"#f0f921\"]]}, \"colorway\": [\"#636efa\", \"#EF553B\", \"#00cc96\", \"#ab63fa\", \"#FFA15A\", \"#19d3f3\", \"#FF6692\", \"#B6E880\", \"#FF97FF\", \"#FECB52\"], \"font\": {\"color\": \"#2a3f5f\"}, \"geo\": {\"bgcolor\": \"white\", \"lakecolor\": \"white\", \"landcolor\": \"#E5ECF6\", \"showlakes\": true, \"showland\": true, \"subunitcolor\": \"white\"}, \"hoverlabel\": {\"align\": \"left\"}, \"hovermode\": \"closest\", \"mapbox\": {\"style\": \"light\"}, \"paper_bgcolor\": \"white\", \"plot_bgcolor\": \"#E5ECF6\", \"polar\": {\"angularaxis\": {\"gridcolor\": \"white\", \"linecolor\": \"white\", \"ticks\": \"\"}, \"bgcolor\": \"#E5ECF6\", \"radialaxis\": {\"gridcolor\": \"white\", \"linecolor\": \"white\", \"ticks\": \"\"}}, \"scene\": {\"xaxis\": {\"backgroundcolor\": \"#E5ECF6\", \"gridcolor\": \"white\", \"gridwidth\": 2, \"linecolor\": \"white\", \"showbackground\": true, \"ticks\": \"\", \"zerolinecolor\": \"white\"}, \"yaxis\": {\"backgroundcolor\": \"#E5ECF6\", \"gridcolor\": \"white\", \"gridwidth\": 2, \"linecolor\": \"white\", \"showbackground\": true, \"ticks\": \"\", \"zerolinecolor\": \"white\"}, \"zaxis\": {\"backgroundcolor\": \"#E5ECF6\", \"gridcolor\": \"white\", \"gridwidth\": 2, \"linecolor\": \"white\", \"showbackground\": true, \"ticks\": \"\", \"zerolinecolor\": \"white\"}}, \"shapedefaults\": {\"line\": {\"color\": \"#2a3f5f\"}}, \"ternary\": {\"aaxis\": {\"gridcolor\": \"white\", \"linecolor\": \"white\", \"ticks\": \"\"}, \"baxis\": {\"gridcolor\": \"white\", \"linecolor\": \"white\", \"ticks\": \"\"}, \"bgcolor\": \"#E5ECF6\", \"caxis\": {\"gridcolor\": \"white\", \"linecolor\": \"white\", \"ticks\": \"\"}}, \"title\": {\"x\": 0.05}, \"xaxis\": {\"automargin\": true, \"gridcolor\": \"white\", \"linecolor\": \"white\", \"ticks\": \"\", \"title\": {\"standoff\": 15}, \"zerolinecolor\": \"white\", \"zerolinewidth\": 2}, \"yaxis\": {\"automargin\": true, \"gridcolor\": \"white\", \"linecolor\": \"white\", \"ticks\": \"\", \"title\": {\"standoff\": 15}, \"zerolinecolor\": \"white\", \"zerolinewidth\": 2}}}, \"title\": {\"text\": \"Confirmed Cases AR Model Prediction\"}, \"xaxis\": {\"title\": {\"text\": \"Date\"}}, \"yaxis\": {\"title\": {\"text\": \"dead Cases\"}}},\n",
              "                        {\"responsive\": true}\n",
              "                    ).then(function(){\n",
              "                            \n",
              "var gd = document.getElementById('e85de3b7-9b6c-4f60-a611-b63a7c04a819');\n",
              "var x = new MutationObserver(function (mutations, observer) {{\n",
              "        var display = window.getComputedStyle(gd).display;\n",
              "        if (!display || display === 'none') {{\n",
              "            console.log([gd, 'removed!']);\n",
              "            Plotly.purge(gd);\n",
              "            observer.disconnect();\n",
              "        }}\n",
              "}});\n",
              "\n",
              "// Listen for the removal of the full notebook cells\n",
              "var notebookContainer = gd.closest('#notebook-container');\n",
              "if (notebookContainer) {{\n",
              "    x.observe(notebookContainer, {childList: true});\n",
              "}}\n",
              "\n",
              "// Listen for the clearing of the current output cell\n",
              "var outputEl = gd.closest('.output');\n",
              "if (outputEl) {{\n",
              "    x.observe(outputEl, {childList: true});\n",
              "}}\n",
              "\n",
              "                        })\n",
              "                };\n",
              "                \n",
              "            </script>\n",
              "        </div>\n",
              "</body>\n",
              "</html>"
            ]
          },
          "metadata": {}
        }
      ]
    },
    {
      "cell_type": "code",
      "metadata": {
        "colab": {
          "base_uri": "https://localhost:8080/",
          "height": 306
        },
        "id": "0XNQQGngJmOY",
        "outputId": "dc4c54f5-ac9c-4aa1-d73a-a485fecd7c00"
      },
      "source": [
        "#ar model new prediction\n",
        "AR_model_new_prediction=[]\n",
        "for i in range(1,365):\n",
        "    AR_model_new_prediction.append(model_ar.predict(len(valid)+i)[-1])\n",
        "model_predictions[\"AR Model Prediction\"]=AR_model_new_prediction\n",
        "model_predictions.head()"
      ],
      "execution_count": 332,
      "outputs": [
        {
          "output_type": "execute_result",
          "data": {
            "text/html": [
              "<div>\n",
              "<style scoped>\n",
              "    .dataframe tbody tr th:only-of-type {\n",
              "        vertical-align: middle;\n",
              "    }\n",
              "\n",
              "    .dataframe tbody tr th {\n",
              "        vertical-align: top;\n",
              "    }\n",
              "\n",
              "    .dataframe thead th {\n",
              "        text-align: right;\n",
              "    }\n",
              "</style>\n",
              "<table border=\"1\" class=\"dataframe\">\n",
              "  <thead>\n",
              "    <tr style=\"text-align: right;\">\n",
              "      <th></th>\n",
              "      <th>date</th>\n",
              "      <th>Polynonmial Regression Prediction</th>\n",
              "      <th>SVM Prediction</th>\n",
              "      <th>Holt's Linear Model Prediction</th>\n",
              "      <th>Holt's Winter Model Prediction</th>\n",
              "      <th>AR Model Prediction</th>\n",
              "    </tr>\n",
              "  </thead>\n",
              "  <tbody>\n",
              "    <tr>\n",
              "      <th>0</th>\n",
              "      <td>2021-10-01</td>\n",
              "      <td>44495.114581</td>\n",
              "      <td>45478.513196</td>\n",
              "      <td>35620.178009</td>\n",
              "      <td>35634.704262</td>\n",
              "      <td>35638.364946</td>\n",
              "    </tr>\n",
              "    <tr>\n",
              "      <th>1</th>\n",
              "      <td>2021-10-02</td>\n",
              "      <td>46155.767294</td>\n",
              "      <td>46043.686337</td>\n",
              "      <td>35643.738237</td>\n",
              "      <td>35665.496743</td>\n",
              "      <td>35664.528413</td>\n",
              "    </tr>\n",
              "    <tr>\n",
              "      <th>2</th>\n",
              "      <td>2021-10-03</td>\n",
              "      <td>48032.109538</td>\n",
              "      <td>46624.427899</td>\n",
              "      <td>35667.298466</td>\n",
              "      <td>35691.322765</td>\n",
              "      <td>35690.866893</td>\n",
              "    </tr>\n",
              "    <tr>\n",
              "      <th>3</th>\n",
              "      <td>2021-10-04</td>\n",
              "      <td>50144.602820</td>\n",
              "      <td>47221.079088</td>\n",
              "      <td>35690.858694</td>\n",
              "      <td>35705.972391</td>\n",
              "      <td>35717.197143</td>\n",
              "    </tr>\n",
              "    <tr>\n",
              "      <th>4</th>\n",
              "      <td>2021-10-05</td>\n",
              "      <td>52515.101177</td>\n",
              "      <td>47833.986692</td>\n",
              "      <td>35714.418923</td>\n",
              "      <td>35727.657946</td>\n",
              "      <td>35743.601788</td>\n",
              "    </tr>\n",
              "  </tbody>\n",
              "</table>\n",
              "</div>"
            ],
            "text/plain": [
              "        date  ...  AR Model Prediction\n",
              "0 2021-10-01  ...         35638.364946\n",
              "1 2021-10-02  ...         35664.528413\n",
              "2 2021-10-03  ...         35690.866893\n",
              "3 2021-10-04  ...         35717.197143\n",
              "4 2021-10-05  ...         35743.601788\n",
              "\n",
              "[5 rows x 6 columns]"
            ]
          },
          "metadata": {},
          "execution_count": 332
        }
      ]
    },
    {
      "cell_type": "markdown",
      "metadata": {
        "id": "NZhVuRUSKPqH"
      },
      "source": [
        "MA MODEL (AUTO ARIMA)"
      ]
    },
    {
      "cell_type": "code",
      "metadata": {
        "id": "-qyhX867J4JP"
      },
      "source": [
        "model_train=datewise.iloc[:int(datewise.shape[0]*0.95)]\n",
        "valid=datewise.iloc[int(datewise.shape[0]*0.95):]\n",
        "y_pred=valid.copy()"
      ],
      "execution_count": 333,
      "outputs": []
    },
    {
      "cell_type": "code",
      "metadata": {
        "id": "BbL-bQ6UKaqO",
        "colab": {
          "base_uri": "https://localhost:8080/"
        },
        "outputId": "8bd989c9-ec3d-4146-838b-8447bde5ccb4"
      },
      "source": [
        "model_ma= auto_arima(model_train[\"dead\"],trace=True, error_action='ignore', start_p=0,start_q=0,max_p=0,max_q=2,\n",
        "                   suppress_warnings=True,stepwise=False,seasonal=False)\n",
        "model_ma.fit(model_train[\"dead\"])"
      ],
      "execution_count": 334,
      "outputs": [
        {
          "output_type": "stream",
          "name": "stdout",
          "text": [
            " ARIMA(0,2,0)(0,0,0)[0] intercept   : AIC=1545.291, Time=0.01 sec\n",
            " ARIMA(0,2,1)(0,0,0)[0] intercept   : AIC=1541.021, Time=0.07 sec\n",
            " ARIMA(0,2,2)(0,0,0)[0] intercept   : AIC=1542.334, Time=0.10 sec\n",
            "\n",
            "Best model:  ARIMA(0,2,1)(0,0,0)[0] intercept\n",
            "Total fit time: 0.193 seconds\n"
          ]
        },
        {
          "output_type": "execute_result",
          "data": {
            "text/plain": [
              "ARIMA(maxiter=50, method='lbfgs', order=(0, 2, 1), out_of_sample_size=0,\n",
              "      scoring='mse', scoring_args={}, seasonal_order=(0, 0, 0, 0),\n",
              "      start_params=None, suppress_warnings=True, trend=None,\n",
              "      with_intercept=True)"
            ]
          },
          "metadata": {},
          "execution_count": 334
        }
      ]
    },
    {
      "cell_type": "code",
      "metadata": {
        "id": "TCFjROZjKgwW"
      },
      "source": [
        "prediction_ma=model_ma.predict(len(valid))\n",
        "y_pred[\"MA Model Prediction\"]=prediction_ma"
      ],
      "execution_count": 335,
      "outputs": []
    },
    {
      "cell_type": "code",
      "metadata": {
        "id": "2RqQsoCvK-XH",
        "colab": {
          "base_uri": "https://localhost:8080/"
        },
        "outputId": "745f1b3d-32b7-455d-ef82-72856ecc4ae8"
      },
      "source": [
        "model_scores.append(np.sqrt(mean_squared_error(valid[\"dead\"],prediction_ma)))\n",
        "print(\"Root Mean Square Error for MA Model: \",np.sqrt(mean_squared_error(valid[\"dead\"],prediction_ma)))"
      ],
      "execution_count": 336,
      "outputs": [
        {
          "output_type": "stream",
          "name": "stdout",
          "text": [
            "Root Mean Square Error for MA Model:  15.058630267409676\n"
          ]
        }
      ]
    },
    {
      "cell_type": "code",
      "metadata": {
        "id": "YYbiJwLsLC9H",
        "colab": {
          "base_uri": "https://localhost:8080/",
          "height": 542
        },
        "outputId": "050c1146-3561-4f8b-e8a5-e586d8e2345b"
      },
      "source": [
        "fig=go.Figure()\n",
        "fig.add_trace(go.Scatter(x=model_train.index, y=model_train[\"dead\"],\n",
        "                    mode='lines+markers',name=\"Train Data for dead Cases\"))\n",
        "fig.add_trace(go.Scatter(x=valid.index, y=valid[\"dead\"],\n",
        "                    mode='lines+markers',name=\"Validation Data for dead Cases\",))\n",
        "fig.add_trace(go.Scatter(x=valid.index, y=y_pred[\"MA Model Prediction\"],\n",
        "                    mode='lines+markers',name=\"Prediction for dead Cases\",))\n",
        "fig.update_layout(title=\"newly dead Cases MA Model Prediction\",\n",
        "                 xaxis_title=\"Date\",yaxis_title=\"Death Cases\",legend=dict(x=0,y=1,traceorder=\"normal\"))\n",
        "fig.show()"
      ],
      "execution_count": 337,
      "outputs": [
        {
          "output_type": "display_data",
          "data": {
            "text/html": [
              "<html>\n",
              "<head><meta charset=\"utf-8\" /></head>\n",
              "<body>\n",
              "    <div>\n",
              "            <script src=\"https://cdnjs.cloudflare.com/ajax/libs/mathjax/2.7.5/MathJax.js?config=TeX-AMS-MML_SVG\"></script><script type=\"text/javascript\">if (window.MathJax) {MathJax.Hub.Config({SVG: {font: \"STIX-Web\"}});}</script>\n",
              "                <script type=\"text/javascript\">window.PlotlyConfig = {MathJaxConfig: 'local'};</script>\n",
              "        <script src=\"https://cdn.plot.ly/plotly-latest.min.js\"></script>    \n",
              "            <div id=\"4fdb08fd-ad97-4c2f-add7-b1d102efa597\" class=\"plotly-graph-div\" style=\"height:525px; width:100%;\"></div>\n",
              "            <script type=\"text/javascript\">\n",
              "                \n",
              "                    window.PLOTLYENV=window.PLOTLYENV || {};\n",
              "                    \n",
              "                if (document.getElementById(\"4fdb08fd-ad97-4c2f-add7-b1d102efa597\")) {\n",
              "                    Plotly.newPlot(\n",
              "                        '4fdb08fd-ad97-4c2f-add7-b1d102efa597',\n",
              "                        [{\"mode\": \"lines+markers\", \"name\": \"Train Data for dead Cases\", \"type\": \"scatter\", \"x\": [\"2021-04-01T00:00:00\", \"2021-04-02T00:00:00\", \"2021-04-03T00:00:00\", \"2021-04-04T00:00:00\", \"2021-04-05T00:00:00\", \"2021-04-06T00:00:00\", \"2021-04-07T00:00:00\", \"2021-04-08T00:00:00\", \"2021-04-09T00:00:00\", \"2021-04-10T00:00:00\", \"2021-04-11T00:00:00\", \"2021-04-12T00:00:00\", \"2021-04-13T00:00:00\", \"2021-04-14T00:00:00\", \"2021-04-15T00:00:00\", \"2021-04-16T00:00:00\", \"2021-04-17T00:00:00\", \"2021-04-18T00:00:00\", \"2021-04-19T00:00:00\", \"2021-04-20T00:00:00\", \"2021-04-21T00:00:00\", \"2021-04-22T00:00:00\", \"2021-04-23T00:00:00\", \"2021-04-24T00:00:00\", \"2021-04-25T00:00:00\", \"2021-04-26T00:00:00\", \"2021-04-27T00:00:00\", \"2021-04-28T00:00:00\", \"2021-04-29T00:00:00\", \"2021-04-30T00:00:00\", \"2021-05-01T00:00:00\", \"2021-05-02T00:00:00\", \"2021-05-03T00:00:00\", \"2021-05-04T00:00:00\", \"2021-05-05T00:00:00\", \"2021-05-06T00:00:00\", \"2021-05-07T00:00:00\", \"2021-05-08T00:00:00\", \"2021-05-09T00:00:00\", \"2021-05-10T00:00:00\", \"2021-05-11T00:00:00\", \"2021-05-12T00:00:00\", \"2021-05-13T00:00:00\", \"2021-05-14T00:00:00\", \"2021-05-15T00:00:00\", \"2021-05-16T00:00:00\", \"2021-05-17T00:00:00\", \"2021-05-18T00:00:00\", \"2021-05-19T00:00:00\", \"2021-05-20T00:00:00\", \"2021-05-21T00:00:00\", \"2021-05-22T00:00:00\", \"2021-05-23T00:00:00\", \"2021-05-24T00:00:00\", \"2021-05-25T00:00:00\", \"2021-05-26T00:00:00\", \"2021-05-27T00:00:00\", \"2021-05-28T00:00:00\", \"2021-05-29T00:00:00\", \"2021-05-30T00:00:00\", \"2021-05-31T00:00:00\", \"2021-06-01T00:00:00\", \"2021-06-02T00:00:00\", \"2021-06-03T00:00:00\", \"2021-06-04T00:00:00\", \"2021-06-05T00:00:00\", \"2021-06-06T00:00:00\", \"2021-06-07T00:00:00\", \"2021-06-08T00:00:00\", \"2021-06-09T00:00:00\", \"2021-06-10T00:00:00\", \"2021-06-11T00:00:00\", \"2021-06-12T00:00:00\", \"2021-06-13T00:00:00\", \"2021-06-14T00:00:00\", \"2021-06-15T00:00:00\", \"2021-06-16T00:00:00\", \"2021-06-17T00:00:00\", \"2021-06-18T00:00:00\", \"2021-06-19T00:00:00\", \"2021-06-20T00:00:00\", \"2021-06-21T00:00:00\", \"2021-06-22T00:00:00\", \"2021-06-23T00:00:00\", \"2021-06-24T00:00:00\", \"2021-06-25T00:00:00\", \"2021-06-26T00:00:00\", \"2021-06-27T00:00:00\", \"2021-06-28T00:00:00\", \"2021-06-29T00:00:00\", \"2021-06-30T00:00:00\", \"2021-07-01T00:00:00\", \"2021-07-02T00:00:00\", \"2021-07-03T00:00:00\", \"2021-07-04T00:00:00\", \"2021-07-05T00:00:00\", \"2021-07-06T00:00:00\", \"2021-07-07T00:00:00\", \"2021-07-08T00:00:00\", \"2021-07-09T00:00:00\", \"2021-07-10T00:00:00\", \"2021-07-11T00:00:00\", \"2021-07-12T00:00:00\", \"2021-07-13T00:00:00\", \"2021-07-14T00:00:00\", \"2021-07-15T00:00:00\", \"2021-07-16T00:00:00\", \"2021-07-17T00:00:00\", \"2021-07-18T00:00:00\", \"2021-07-19T00:00:00\", \"2021-07-20T00:00:00\", \"2021-07-21T00:00:00\", \"2021-07-22T00:00:00\", \"2021-07-23T00:00:00\", \"2021-07-24T00:00:00\", \"2021-07-25T00:00:00\", \"2021-07-26T00:00:00\", \"2021-07-27T00:00:00\", \"2021-07-28T00:00:00\", \"2021-07-29T00:00:00\", \"2021-07-30T00:00:00\", \"2021-07-31T00:00:00\", \"2021-08-01T00:00:00\", \"2021-08-02T00:00:00\", \"2021-08-03T00:00:00\", \"2021-08-04T00:00:00\", \"2021-08-05T00:00:00\", \"2021-08-06T00:00:00\", \"2021-08-07T00:00:00\", \"2021-08-08T00:00:00\", \"2021-08-09T00:00:00\", \"2021-08-10T00:00:00\", \"2021-08-11T00:00:00\", \"2021-08-12T00:00:00\", \"2021-08-13T00:00:00\", \"2021-08-14T00:00:00\", \"2021-08-15T00:00:00\", \"2021-08-16T00:00:00\", \"2021-08-17T00:00:00\", \"2021-08-18T00:00:00\", \"2021-08-19T00:00:00\", \"2021-08-20T00:00:00\", \"2021-08-21T00:00:00\", \"2021-08-22T00:00:00\", \"2021-08-23T00:00:00\", \"2021-08-24T00:00:00\", \"2021-08-25T00:00:00\", \"2021-08-26T00:00:00\", \"2021-08-27T00:00:00\", \"2021-08-28T00:00:00\", \"2021-08-29T00:00:00\", \"2021-08-30T00:00:00\", \"2021-08-31T00:00:00\", \"2021-09-01T00:00:00\", \"2021-09-02T00:00:00\", \"2021-09-03T00:00:00\", \"2021-09-04T00:00:00\", \"2021-09-05T00:00:00\", \"2021-09-06T00:00:00\", \"2021-09-07T00:00:00\", \"2021-09-08T00:00:00\", \"2021-09-09T00:00:00\", \"2021-09-10T00:00:00\", \"2021-09-11T00:00:00\", \"2021-09-12T00:00:00\", \"2021-09-13T00:00:00\", \"2021-09-14T00:00:00\", \"2021-09-15T00:00:00\", \"2021-09-16T00:00:00\", \"2021-09-17T00:00:00\", \"2021-09-18T00:00:00\", \"2021-09-19T00:00:00\", \"2021-09-20T00:00:00\"], \"y\": [12738, 12750, 12764, 12778, 12789, 12804, 12821, 12840, 12863, 12886, 12908, 12927, 12945, 12970, 12999, 13032, 13071, 13113, 13157, 13205, 13258, 13317, 13395, 13475, 13557, 13651, 13728, 13826, 13933, 14046, 14193, 14346, 14468, 14612, 14779, 14974, 15171, 15412, 15648, 15880, 16178, 16471, 16768, 17056, 17359, 17670, 18005, 18369, 18734, 19131, 19598, 20046, 20468, 20872, 21340, 21815, 22289, 22775, 23261, 23754, 24232, 24722, 25205, 25665, 26128, 26571, 27005, 27356, 27765, 28170, 28528, 28906, 29280, 29547, 29801, 30068, 30338, 30548, 30835, 31015, 31197, 31386, 31580, 31746, 31901, 32051, 32199, 32290, 32388, 32506, 32619, 32721, 32818, 32933, 33005, 33059, 33132, 33196, 33253, 33322, 33371, 33418, 33454, 33502, 33557, 33606, 33652, 33695, 33724, 33752, 33782, 33809, 33838, 33862, 33889, 33911, 33937, 33966, 33995, 34023, 34050, 34076, 34102, 34130, 34159, 34197, 34230, 34260, 34289, 34317, 34340, 34367, 34395, 34428, 34462, 34496, 34519, 34547, 34579, 34610, 34639, 34663, 34686, 34709, 34734, 34761, 34788, 34814, 34835, 34856, 34878, 34899, 34921, 34941, 34961, 34980, 35000, 35018, 35036, 35055, 35073, 35094, 35119, 35146, 35168, 35190, 35217, 35246, 35271, 35288, 35310, 35337, 35360]}, {\"mode\": \"lines+markers\", \"name\": \"Validation Data for dead Cases\", \"type\": \"scatter\", \"x\": [\"2021-09-21T00:00:00\", \"2021-09-22T00:00:00\", \"2021-09-23T00:00:00\", \"2021-09-24T00:00:00\", \"2021-09-25T00:00:00\", \"2021-09-26T00:00:00\", \"2021-09-27T00:00:00\", \"2021-09-28T00:00:00\", \"2021-09-29T00:00:00\", \"2021-09-30T00:00:00\"], \"y\": [35379, 35400, 35427, 35454, 35476, 35490, 35509, 35526, 35550, 35578]}, {\"mode\": \"lines+markers\", \"name\": \"Prediction for dead Cases\", \"type\": \"scatter\", \"x\": [\"2021-09-21T00:00:00\", \"2021-09-22T00:00:00\", \"2021-09-23T00:00:00\", \"2021-09-24T00:00:00\", \"2021-09-25T00:00:00\", \"2021-09-26T00:00:00\", \"2021-09-27T00:00:00\", \"2021-09-28T00:00:00\", \"2021-09-29T00:00:00\", \"2021-09-30T00:00:00\"], \"y\": [35383.62253800967, 35407.31129679622, 35431.06627635965, 35454.88747669995, 35478.77489781712, 35502.72853971117, 35526.748402382094, 35550.834485829895, 35574.986790054565, 35599.20531505611]}],\n",
              "                        {\"legend\": {\"traceorder\": \"normal\", \"x\": 0, \"y\": 1}, \"template\": {\"data\": {\"bar\": [{\"error_x\": {\"color\": \"#2a3f5f\"}, \"error_y\": {\"color\": \"#2a3f5f\"}, \"marker\": {\"line\": {\"color\": \"#E5ECF6\", \"width\": 0.5}}, \"type\": \"bar\"}], \"barpolar\": [{\"marker\": {\"line\": {\"color\": \"#E5ECF6\", \"width\": 0.5}}, \"type\": \"barpolar\"}], \"carpet\": [{\"aaxis\": {\"endlinecolor\": \"#2a3f5f\", \"gridcolor\": \"white\", \"linecolor\": \"white\", \"minorgridcolor\": \"white\", \"startlinecolor\": \"#2a3f5f\"}, \"baxis\": {\"endlinecolor\": \"#2a3f5f\", \"gridcolor\": \"white\", \"linecolor\": \"white\", \"minorgridcolor\": \"white\", \"startlinecolor\": \"#2a3f5f\"}, \"type\": \"carpet\"}], \"choropleth\": [{\"colorbar\": {\"outlinewidth\": 0, \"ticks\": \"\"}, \"type\": \"choropleth\"}], \"contour\": [{\"colorbar\": {\"outlinewidth\": 0, \"ticks\": \"\"}, \"colorscale\": [[0.0, \"#0d0887\"], [0.1111111111111111, \"#46039f\"], [0.2222222222222222, \"#7201a8\"], [0.3333333333333333, \"#9c179e\"], [0.4444444444444444, \"#bd3786\"], [0.5555555555555556, \"#d8576b\"], [0.6666666666666666, \"#ed7953\"], [0.7777777777777778, \"#fb9f3a\"], [0.8888888888888888, \"#fdca26\"], [1.0, \"#f0f921\"]], \"type\": \"contour\"}], \"contourcarpet\": [{\"colorbar\": {\"outlinewidth\": 0, \"ticks\": \"\"}, \"type\": \"contourcarpet\"}], \"heatmap\": [{\"colorbar\": {\"outlinewidth\": 0, \"ticks\": \"\"}, \"colorscale\": [[0.0, \"#0d0887\"], [0.1111111111111111, \"#46039f\"], [0.2222222222222222, \"#7201a8\"], [0.3333333333333333, \"#9c179e\"], [0.4444444444444444, \"#bd3786\"], [0.5555555555555556, \"#d8576b\"], [0.6666666666666666, \"#ed7953\"], [0.7777777777777778, \"#fb9f3a\"], [0.8888888888888888, \"#fdca26\"], [1.0, \"#f0f921\"]], \"type\": \"heatmap\"}], \"heatmapgl\": [{\"colorbar\": {\"outlinewidth\": 0, \"ticks\": \"\"}, \"colorscale\": [[0.0, \"#0d0887\"], [0.1111111111111111, \"#46039f\"], [0.2222222222222222, \"#7201a8\"], [0.3333333333333333, \"#9c179e\"], [0.4444444444444444, \"#bd3786\"], [0.5555555555555556, \"#d8576b\"], [0.6666666666666666, \"#ed7953\"], [0.7777777777777778, \"#fb9f3a\"], [0.8888888888888888, \"#fdca26\"], [1.0, \"#f0f921\"]], \"type\": \"heatmapgl\"}], \"histogram\": [{\"marker\": {\"colorbar\": {\"outlinewidth\": 0, \"ticks\": \"\"}}, \"type\": \"histogram\"}], \"histogram2d\": [{\"colorbar\": {\"outlinewidth\": 0, \"ticks\": \"\"}, \"colorscale\": [[0.0, \"#0d0887\"], [0.1111111111111111, \"#46039f\"], [0.2222222222222222, \"#7201a8\"], [0.3333333333333333, \"#9c179e\"], [0.4444444444444444, \"#bd3786\"], [0.5555555555555556, \"#d8576b\"], [0.6666666666666666, \"#ed7953\"], [0.7777777777777778, \"#fb9f3a\"], [0.8888888888888888, \"#fdca26\"], [1.0, \"#f0f921\"]], \"type\": \"histogram2d\"}], \"histogram2dcontour\": [{\"colorbar\": {\"outlinewidth\": 0, \"ticks\": \"\"}, \"colorscale\": [[0.0, \"#0d0887\"], [0.1111111111111111, \"#46039f\"], [0.2222222222222222, \"#7201a8\"], [0.3333333333333333, \"#9c179e\"], [0.4444444444444444, \"#bd3786\"], [0.5555555555555556, \"#d8576b\"], [0.6666666666666666, \"#ed7953\"], [0.7777777777777778, \"#fb9f3a\"], [0.8888888888888888, \"#fdca26\"], [1.0, \"#f0f921\"]], \"type\": \"histogram2dcontour\"}], \"mesh3d\": [{\"colorbar\": {\"outlinewidth\": 0, \"ticks\": \"\"}, \"type\": \"mesh3d\"}], \"parcoords\": [{\"line\": {\"colorbar\": {\"outlinewidth\": 0, \"ticks\": \"\"}}, \"type\": \"parcoords\"}], \"pie\": [{\"automargin\": true, \"type\": \"pie\"}], \"scatter\": [{\"marker\": {\"colorbar\": {\"outlinewidth\": 0, \"ticks\": \"\"}}, \"type\": \"scatter\"}], \"scatter3d\": [{\"line\": {\"colorbar\": {\"outlinewidth\": 0, \"ticks\": \"\"}}, \"marker\": {\"colorbar\": {\"outlinewidth\": 0, \"ticks\": \"\"}}, \"type\": \"scatter3d\"}], \"scattercarpet\": [{\"marker\": {\"colorbar\": {\"outlinewidth\": 0, \"ticks\": \"\"}}, \"type\": \"scattercarpet\"}], \"scattergeo\": [{\"marker\": {\"colorbar\": {\"outlinewidth\": 0, \"ticks\": \"\"}}, \"type\": \"scattergeo\"}], \"scattergl\": [{\"marker\": {\"colorbar\": {\"outlinewidth\": 0, \"ticks\": \"\"}}, \"type\": \"scattergl\"}], \"scattermapbox\": [{\"marker\": {\"colorbar\": {\"outlinewidth\": 0, \"ticks\": \"\"}}, \"type\": \"scattermapbox\"}], \"scatterpolar\": [{\"marker\": {\"colorbar\": {\"outlinewidth\": 0, \"ticks\": \"\"}}, \"type\": \"scatterpolar\"}], \"scatterpolargl\": [{\"marker\": {\"colorbar\": {\"outlinewidth\": 0, \"ticks\": \"\"}}, \"type\": \"scatterpolargl\"}], \"scatterternary\": [{\"marker\": {\"colorbar\": {\"outlinewidth\": 0, \"ticks\": \"\"}}, \"type\": \"scatterternary\"}], \"surface\": [{\"colorbar\": {\"outlinewidth\": 0, \"ticks\": \"\"}, \"colorscale\": [[0.0, \"#0d0887\"], [0.1111111111111111, \"#46039f\"], [0.2222222222222222, \"#7201a8\"], [0.3333333333333333, \"#9c179e\"], [0.4444444444444444, \"#bd3786\"], [0.5555555555555556, \"#d8576b\"], [0.6666666666666666, \"#ed7953\"], [0.7777777777777778, \"#fb9f3a\"], [0.8888888888888888, \"#fdca26\"], [1.0, \"#f0f921\"]], \"type\": \"surface\"}], \"table\": [{\"cells\": {\"fill\": {\"color\": \"#EBF0F8\"}, \"line\": {\"color\": \"white\"}}, \"header\": {\"fill\": {\"color\": \"#C8D4E3\"}, \"line\": {\"color\": \"white\"}}, \"type\": \"table\"}]}, \"layout\": {\"annotationdefaults\": {\"arrowcolor\": \"#2a3f5f\", \"arrowhead\": 0, \"arrowwidth\": 1}, \"coloraxis\": {\"colorbar\": {\"outlinewidth\": 0, \"ticks\": \"\"}}, \"colorscale\": {\"diverging\": [[0, \"#8e0152\"], [0.1, \"#c51b7d\"], [0.2, \"#de77ae\"], [0.3, \"#f1b6da\"], [0.4, \"#fde0ef\"], [0.5, \"#f7f7f7\"], [0.6, \"#e6f5d0\"], [0.7, \"#b8e186\"], [0.8, \"#7fbc41\"], [0.9, \"#4d9221\"], [1, \"#276419\"]], \"sequential\": [[0.0, \"#0d0887\"], [0.1111111111111111, \"#46039f\"], [0.2222222222222222, \"#7201a8\"], [0.3333333333333333, \"#9c179e\"], [0.4444444444444444, \"#bd3786\"], [0.5555555555555556, \"#d8576b\"], [0.6666666666666666, \"#ed7953\"], [0.7777777777777778, \"#fb9f3a\"], [0.8888888888888888, \"#fdca26\"], [1.0, \"#f0f921\"]], \"sequentialminus\": [[0.0, \"#0d0887\"], [0.1111111111111111, \"#46039f\"], [0.2222222222222222, \"#7201a8\"], [0.3333333333333333, \"#9c179e\"], [0.4444444444444444, \"#bd3786\"], [0.5555555555555556, \"#d8576b\"], [0.6666666666666666, \"#ed7953\"], [0.7777777777777778, \"#fb9f3a\"], [0.8888888888888888, \"#fdca26\"], [1.0, \"#f0f921\"]]}, \"colorway\": [\"#636efa\", \"#EF553B\", \"#00cc96\", \"#ab63fa\", \"#FFA15A\", \"#19d3f3\", \"#FF6692\", \"#B6E880\", \"#FF97FF\", \"#FECB52\"], \"font\": {\"color\": \"#2a3f5f\"}, \"geo\": {\"bgcolor\": \"white\", \"lakecolor\": \"white\", \"landcolor\": \"#E5ECF6\", \"showlakes\": true, \"showland\": true, \"subunitcolor\": \"white\"}, \"hoverlabel\": {\"align\": \"left\"}, \"hovermode\": \"closest\", \"mapbox\": {\"style\": \"light\"}, \"paper_bgcolor\": \"white\", \"plot_bgcolor\": \"#E5ECF6\", \"polar\": {\"angularaxis\": {\"gridcolor\": \"white\", \"linecolor\": \"white\", \"ticks\": \"\"}, \"bgcolor\": \"#E5ECF6\", \"radialaxis\": {\"gridcolor\": \"white\", \"linecolor\": \"white\", \"ticks\": \"\"}}, \"scene\": {\"xaxis\": {\"backgroundcolor\": \"#E5ECF6\", \"gridcolor\": \"white\", \"gridwidth\": 2, \"linecolor\": \"white\", \"showbackground\": true, \"ticks\": \"\", \"zerolinecolor\": \"white\"}, \"yaxis\": {\"backgroundcolor\": \"#E5ECF6\", \"gridcolor\": \"white\", \"gridwidth\": 2, \"linecolor\": \"white\", \"showbackground\": true, \"ticks\": \"\", \"zerolinecolor\": \"white\"}, \"zaxis\": {\"backgroundcolor\": \"#E5ECF6\", \"gridcolor\": \"white\", \"gridwidth\": 2, \"linecolor\": \"white\", \"showbackground\": true, \"ticks\": \"\", \"zerolinecolor\": \"white\"}}, \"shapedefaults\": {\"line\": {\"color\": \"#2a3f5f\"}}, \"ternary\": {\"aaxis\": {\"gridcolor\": \"white\", \"linecolor\": \"white\", \"ticks\": \"\"}, \"baxis\": {\"gridcolor\": \"white\", \"linecolor\": \"white\", \"ticks\": \"\"}, \"bgcolor\": \"#E5ECF6\", \"caxis\": {\"gridcolor\": \"white\", \"linecolor\": \"white\", \"ticks\": \"\"}}, \"title\": {\"x\": 0.05}, \"xaxis\": {\"automargin\": true, \"gridcolor\": \"white\", \"linecolor\": \"white\", \"ticks\": \"\", \"title\": {\"standoff\": 15}, \"zerolinecolor\": \"white\", \"zerolinewidth\": 2}, \"yaxis\": {\"automargin\": true, \"gridcolor\": \"white\", \"linecolor\": \"white\", \"ticks\": \"\", \"title\": {\"standoff\": 15}, \"zerolinecolor\": \"white\", \"zerolinewidth\": 2}}}, \"title\": {\"text\": \"newly dead Cases MA Model Prediction\"}, \"xaxis\": {\"title\": {\"text\": \"Date\"}}, \"yaxis\": {\"title\": {\"text\": \"Death Cases\"}}},\n",
              "                        {\"responsive\": true}\n",
              "                    ).then(function(){\n",
              "                            \n",
              "var gd = document.getElementById('4fdb08fd-ad97-4c2f-add7-b1d102efa597');\n",
              "var x = new MutationObserver(function (mutations, observer) {{\n",
              "        var display = window.getComputedStyle(gd).display;\n",
              "        if (!display || display === 'none') {{\n",
              "            console.log([gd, 'removed!']);\n",
              "            Plotly.purge(gd);\n",
              "            observer.disconnect();\n",
              "        }}\n",
              "}});\n",
              "\n",
              "// Listen for the removal of the full notebook cells\n",
              "var notebookContainer = gd.closest('#notebook-container');\n",
              "if (notebookContainer) {{\n",
              "    x.observe(notebookContainer, {childList: true});\n",
              "}}\n",
              "\n",
              "// Listen for the clearing of the current output cell\n",
              "var outputEl = gd.closest('.output');\n",
              "if (outputEl) {{\n",
              "    x.observe(outputEl, {childList: true});\n",
              "}}\n",
              "\n",
              "                        })\n",
              "                };\n",
              "                \n",
              "            </script>\n",
              "        </div>\n",
              "</body>\n",
              "</html>"
            ]
          },
          "metadata": {}
        }
      ]
    },
    {
      "cell_type": "code",
      "metadata": {
        "id": "qqP-HiOnLKdf",
        "colab": {
          "base_uri": "https://localhost:8080/",
          "height": 1000
        },
        "outputId": "650cb7a7-899f-44d9-8baf-fc3a8a56fb0f"
      },
      "source": [
        "#ma model new prediction\n",
        "MA_model_new_prediction=[]\n",
        "for i in range(1,365):\n",
        "    MA_model_new_prediction.append(model_ma.predict(len(valid)+i)[-1])\n",
        "model_predictions[\"MA Model Prediction\"]=MA_model_new_prediction\n",
        "model_predictions.head(60)"
      ],
      "execution_count": 338,
      "outputs": [
        {
          "output_type": "execute_result",
          "data": {
            "text/html": [
              "<div>\n",
              "<style scoped>\n",
              "    .dataframe tbody tr th:only-of-type {\n",
              "        vertical-align: middle;\n",
              "    }\n",
              "\n",
              "    .dataframe tbody tr th {\n",
              "        vertical-align: top;\n",
              "    }\n",
              "\n",
              "    .dataframe thead th {\n",
              "        text-align: right;\n",
              "    }\n",
              "</style>\n",
              "<table border=\"1\" class=\"dataframe\">\n",
              "  <thead>\n",
              "    <tr style=\"text-align: right;\">\n",
              "      <th></th>\n",
              "      <th>date</th>\n",
              "      <th>Polynonmial Regression Prediction</th>\n",
              "      <th>SVM Prediction</th>\n",
              "      <th>Holt's Linear Model Prediction</th>\n",
              "      <th>Holt's Winter Model Prediction</th>\n",
              "      <th>AR Model Prediction</th>\n",
              "      <th>MA Model Prediction</th>\n",
              "    </tr>\n",
              "  </thead>\n",
              "  <tbody>\n",
              "    <tr>\n",
              "      <th>0</th>\n",
              "      <td>2021-10-01</td>\n",
              "      <td>44495.114581</td>\n",
              "      <td>45478.513196</td>\n",
              "      <td>35620.178009</td>\n",
              "      <td>35634.704262</td>\n",
              "      <td>35638.364946</td>\n",
              "      <td>35623.490061</td>\n",
              "    </tr>\n",
              "    <tr>\n",
              "      <th>1</th>\n",
              "      <td>2021-10-02</td>\n",
              "      <td>46155.767294</td>\n",
              "      <td>46043.686337</td>\n",
              "      <td>35643.738237</td>\n",
              "      <td>35665.496743</td>\n",
              "      <td>35664.528413</td>\n",
              "      <td>35647.841027</td>\n",
              "    </tr>\n",
              "    <tr>\n",
              "      <th>2</th>\n",
              "      <td>2021-10-03</td>\n",
              "      <td>48032.109538</td>\n",
              "      <td>46624.427899</td>\n",
              "      <td>35667.298466</td>\n",
              "      <td>35691.322765</td>\n",
              "      <td>35690.866893</td>\n",
              "      <td>35672.258215</td>\n",
              "    </tr>\n",
              "    <tr>\n",
              "      <th>3</th>\n",
              "      <td>2021-10-04</td>\n",
              "      <td>50144.602820</td>\n",
              "      <td>47221.079088</td>\n",
              "      <td>35690.858694</td>\n",
              "      <td>35705.972391</td>\n",
              "      <td>35717.197143</td>\n",
              "      <td>35696.741623</td>\n",
              "    </tr>\n",
              "    <tr>\n",
              "      <th>4</th>\n",
              "      <td>2021-10-05</td>\n",
              "      <td>52515.101177</td>\n",
              "      <td>47833.986692</td>\n",
              "      <td>35714.418923</td>\n",
              "      <td>35727.657946</td>\n",
              "      <td>35743.601788</td>\n",
              "      <td>35721.291252</td>\n",
              "    </tr>\n",
              "    <tr>\n",
              "      <th>5</th>\n",
              "      <td>2021-10-06</td>\n",
              "      <td>55166.917663</td>\n",
              "      <td>48463.503135</td>\n",
              "      <td>35737.979151</td>\n",
              "      <td>35754.433954</td>\n",
              "      <td>35770.151674</td>\n",
              "      <td>35745.907101</td>\n",
              "    </tr>\n",
              "    <tr>\n",
              "      <th>6</th>\n",
              "      <td>2021-10-07</td>\n",
              "      <td>58124.892956</td>\n",
              "      <td>49109.986540</td>\n",
              "      <td>35761.539380</td>\n",
              "      <td>35777.927040</td>\n",
              "      <td>35796.771999</td>\n",
              "      <td>35770.589172</td>\n",
              "    </tr>\n",
              "    <tr>\n",
              "      <th>7</th>\n",
              "      <td>2021-10-08</td>\n",
              "      <td>61415.466125</td>\n",
              "      <td>49773.800794</td>\n",
              "      <td>35785.099608</td>\n",
              "      <td>35811.133191</td>\n",
              "      <td>35823.443820</td>\n",
              "      <td>35795.337463</td>\n",
              "    </tr>\n",
              "    <tr>\n",
              "      <th>8</th>\n",
              "      <td>2021-10-09</td>\n",
              "      <td>65066.747597</td>\n",
              "      <td>50455.315601</td>\n",
              "      <td>35808.659837</td>\n",
              "      <td>35848.035118</td>\n",
              "      <td>35850.215561</td>\n",
              "      <td>35820.151975</td>\n",
              "    </tr>\n",
              "    <tr>\n",
              "      <th>9</th>\n",
              "      <td>2021-10-10</td>\n",
              "      <td>69108.594365</td>\n",
              "      <td>51154.906553</td>\n",
              "      <td>35832.220065</td>\n",
              "      <td>35875.656171</td>\n",
              "      <td>35877.079270</td>\n",
              "      <td>35845.032708</td>\n",
              "    </tr>\n",
              "    <tr>\n",
              "      <th>10</th>\n",
              "      <td>2021-10-11</td>\n",
              "      <td>73572.687485</td>\n",
              "      <td>51872.955185</td>\n",
              "      <td>35855.780294</td>\n",
              "      <td>35890.082450</td>\n",
              "      <td>35904.008569</td>\n",
              "      <td>35869.979661</td>\n",
              "    </tr>\n",
              "    <tr>\n",
              "      <th>11</th>\n",
              "      <td>2021-10-12</td>\n",
              "      <td>78492.611891</td>\n",
              "      <td>52609.849042</td>\n",
              "      <td>35879.340522</td>\n",
              "      <td>35910.520755</td>\n",
              "      <td>35931.016008</td>\n",
              "      <td>35894.992836</td>\n",
              "    </tr>\n",
              "    <tr>\n",
              "      <th>12</th>\n",
              "      <td>2021-10-13</td>\n",
              "      <td>83903.938588</td>\n",
              "      <td>53365.981739</td>\n",
              "      <td>35902.900750</td>\n",
              "      <td>35937.719662</td>\n",
              "      <td>35958.111875</td>\n",
              "      <td>35920.072231</td>\n",
              "    </tr>\n",
              "    <tr>\n",
              "      <th>13</th>\n",
              "      <td>2021-10-14</td>\n",
              "      <td>89844.309246</td>\n",
              "      <td>54141.753026</td>\n",
              "      <td>35926.460979</td>\n",
              "      <td>35960.387439</td>\n",
              "      <td>35985.284612</td>\n",
              "      <td>35945.217847</td>\n",
              "    </tr>\n",
              "    <tr>\n",
              "      <th>14</th>\n",
              "      <td>2021-10-15</td>\n",
              "      <td>96353.523263</td>\n",
              "      <td>54937.568850</td>\n",
              "      <td>35950.021207</td>\n",
              "      <td>35982.291141</td>\n",
              "      <td>36012.531841</td>\n",
              "      <td>35970.429683</td>\n",
              "    </tr>\n",
              "    <tr>\n",
              "      <th>15</th>\n",
              "      <td>2021-10-16</td>\n",
              "      <td>103473.627311</td>\n",
              "      <td>55753.841418</td>\n",
              "      <td>35973.581436</td>\n",
              "      <td>36013.141763</td>\n",
              "      <td>36039.860685</td>\n",
              "      <td>35995.707741</td>\n",
              "    </tr>\n",
              "    <tr>\n",
              "      <th>16</th>\n",
              "      <td>2021-10-17</td>\n",
              "      <td>111249.007432</td>\n",
              "      <td>56590.989264</td>\n",
              "      <td>35997.141664</td>\n",
              "      <td>36038.977470</td>\n",
              "      <td>36067.269791</td>\n",
              "      <td>36021.052019</td>\n",
              "    </tr>\n",
              "    <tr>\n",
              "      <th>17</th>\n",
              "      <td>2021-10-18</td>\n",
              "      <td>119726.483725</td>\n",
              "      <td>57449.437310</td>\n",
              "      <td>36020.701893</td>\n",
              "      <td>36053.527978</td>\n",
              "      <td>36094.755254</td>\n",
              "      <td>36046.462518</td>\n",
              "    </tr>\n",
              "    <tr>\n",
              "      <th>18</th>\n",
              "      <td>2021-10-19</td>\n",
              "      <td>128955.407655</td>\n",
              "      <td>58329.616935</td>\n",
              "      <td>36044.262121</td>\n",
              "      <td>36075.182991</td>\n",
              "      <td>36122.319055</td>\n",
              "      <td>36071.939238</td>\n",
              "    </tr>\n",
              "    <tr>\n",
              "      <th>19</th>\n",
              "      <td>2021-10-20</td>\n",
              "      <td>138987.762042</td>\n",
              "      <td>59231.966035</td>\n",
              "      <td>36067.822350</td>\n",
              "      <td>36101.977980</td>\n",
              "      <td>36149.962630</td>\n",
              "      <td>36097.482178</td>\n",
              "    </tr>\n",
              "    <tr>\n",
              "      <th>20</th>\n",
              "      <td>2021-10-21</td>\n",
              "      <td>149878.263776</td>\n",
              "      <td>60156.929092</td>\n",
              "      <td>36091.382578</td>\n",
              "      <td>36125.458134</td>\n",
              "      <td>36177.684233</td>\n",
              "      <td>36123.091340</td>\n",
              "    </tr>\n",
              "    <tr>\n",
              "      <th>21</th>\n",
              "      <td>2021-10-22</td>\n",
              "      <td>161684.469291</td>\n",
              "      <td>61104.957236</td>\n",
              "      <td>36114.942807</td>\n",
              "      <td>36158.745652</td>\n",
              "      <td>36205.483553</td>\n",
              "      <td>36148.766722</td>\n",
              "    </tr>\n",
              "    <tr>\n",
              "      <th>22</th>\n",
              "      <td>2021-10-23</td>\n",
              "      <td>174466.882862</td>\n",
              "      <td>62076.508317</td>\n",
              "      <td>36138.503035</td>\n",
              "      <td>36195.764683</td>\n",
              "      <td>36233.361651</td>\n",
              "      <td>36174.508325</td>\n",
              "    </tr>\n",
              "    <tr>\n",
              "      <th>23</th>\n",
              "      <td>2021-10-24</td>\n",
              "      <td>188289.067753</td>\n",
              "      <td>63072.046965</td>\n",
              "      <td>36162.063264</td>\n",
              "      <td>36223.412714</td>\n",
              "      <td>36261.318290</td>\n",
              "      <td>36200.316148</td>\n",
              "    </tr>\n",
              "    <tr>\n",
              "      <th>24</th>\n",
              "      <td>2021-10-25</td>\n",
              "      <td>203217.760277</td>\n",
              "      <td>64092.044661</td>\n",
              "      <td>36185.623492</td>\n",
              "      <td>36237.738122</td>\n",
              "      <td>36289.352899</td>\n",
              "      <td>36226.190193</td>\n",
              "    </tr>\n",
              "    <tr>\n",
              "      <th>25</th>\n",
              "      <td>2021-10-26</td>\n",
              "      <td>219322.986811</td>\n",
              "      <td>65136.979801</td>\n",
              "      <td>36209.183721</td>\n",
              "      <td>36258.133891</td>\n",
              "      <td>36317.465785</td>\n",
              "      <td>36252.130458</td>\n",
              "    </tr>\n",
              "    <tr>\n",
              "      <th>26</th>\n",
              "      <td>2021-10-27</td>\n",
              "      <td>236678.183805</td>\n",
              "      <td>66207.337766</td>\n",
              "      <td>36232.743949</td>\n",
              "      <td>36285.355718</td>\n",
              "      <td>36345.657151</td>\n",
              "      <td>36278.136944</td>\n",
              "    </tr>\n",
              "    <tr>\n",
              "      <th>27</th>\n",
              "      <td>2021-10-28</td>\n",
              "      <td>255360.320853</td>\n",
              "      <td>67303.610988</td>\n",
              "      <td>36256.304177</td>\n",
              "      <td>36308.002582</td>\n",
              "      <td>36373.926730</td>\n",
              "      <td>36304.209651</td>\n",
              "    </tr>\n",
              "    <tr>\n",
              "      <th>28</th>\n",
              "      <td>2021-10-29</td>\n",
              "      <td>275450.026848</td>\n",
              "      <td>68426.299017</td>\n",
              "      <td>36279.864406</td>\n",
              "      <td>36329.878019</td>\n",
              "      <td>36402.274483</td>\n",
              "      <td>36330.348578</td>\n",
              "    </tr>\n",
              "    <tr>\n",
              "      <th>29</th>\n",
              "      <td>2021-10-30</td>\n",
              "      <td>297031.719289</td>\n",
              "      <td>69575.908593</td>\n",
              "      <td>36303.424634</td>\n",
              "      <td>36360.786783</td>\n",
              "      <td>36430.700569</td>\n",
              "      <td>36356.553726</td>\n",
              "    </tr>\n",
              "    <tr>\n",
              "      <th>30</th>\n",
              "      <td>2021-10-31</td>\n",
              "      <td>320193.736791</td>\n",
              "      <td>70752.953711</td>\n",
              "      <td>36326.984863</td>\n",
              "      <td>36386.632175</td>\n",
              "      <td>36459.204947</td>\n",
              "      <td>36382.825095</td>\n",
              "    </tr>\n",
              "    <tr>\n",
              "      <th>31</th>\n",
              "      <td>2021-11-01</td>\n",
              "      <td>345028.474823</td>\n",
              "      <td>71957.955690</td>\n",
              "      <td>36350.545091</td>\n",
              "      <td>36401.083564</td>\n",
              "      <td>36487.787532</td>\n",
              "      <td>36409.162685</td>\n",
              "    </tr>\n",
              "    <tr>\n",
              "      <th>32</th>\n",
              "      <td>2021-11-02</td>\n",
              "      <td>371632.524755</td>\n",
              "      <td>73191.443244</td>\n",
              "      <td>36374.105320</td>\n",
              "      <td>36422.708035</td>\n",
              "      <td>36516.448374</td>\n",
              "      <td>36435.566496</td>\n",
              "    </tr>\n",
              "    <tr>\n",
              "      <th>33</th>\n",
              "      <td>2021-11-03</td>\n",
              "      <td>400106.816241</td>\n",
              "      <td>74453.952553</td>\n",
              "      <td>36397.665548</td>\n",
              "      <td>36449.522007</td>\n",
              "      <td>36545.187499</td>\n",
              "      <td>36462.036527</td>\n",
              "    </tr>\n",
              "    <tr>\n",
              "      <th>34</th>\n",
              "      <td>2021-11-04</td>\n",
              "      <td>430556.762999</td>\n",
              "      <td>75746.027329</td>\n",
              "      <td>36421.225777</td>\n",
              "      <td>36472.989227</td>\n",
              "      <td>36574.004869</td>\n",
              "      <td>36488.572780</td>\n",
              "    </tr>\n",
              "    <tr>\n",
              "      <th>35</th>\n",
              "      <td>2021-11-05</td>\n",
              "      <td>463092.412039</td>\n",
              "      <td>77068.218889</td>\n",
              "      <td>36444.786005</td>\n",
              "      <td>36506.358113</td>\n",
              "      <td>36602.900477</td>\n",
              "      <td>36515.175253</td>\n",
              "    </tr>\n",
              "    <tr>\n",
              "      <th>36</th>\n",
              "      <td>2021-11-06</td>\n",
              "      <td>497828.596380</td>\n",
              "      <td>78421.086223</td>\n",
              "      <td>36468.346234</td>\n",
              "      <td>36543.494248</td>\n",
              "      <td>36631.874347</td>\n",
              "      <td>36541.843946</td>\n",
              "    </tr>\n",
              "    <tr>\n",
              "      <th>37</th>\n",
              "      <td>2021-11-07</td>\n",
              "      <td>534885.091324</td>\n",
              "      <td>79805.196069</td>\n",
              "      <td>36491.906462</td>\n",
              "      <td>36571.169258</td>\n",
              "      <td>36660.926473</td>\n",
              "      <td>36568.578861</td>\n",
              "    </tr>\n",
              "    <tr>\n",
              "      <th>38</th>\n",
              "      <td>2021-11-08</td>\n",
              "      <td>574386.774325</td>\n",
              "      <td>81221.122981</td>\n",
              "      <td>36515.466691</td>\n",
              "      <td>36585.393793</td>\n",
              "      <td>36690.056842</td>\n",
              "      <td>36595.379996</td>\n",
              "    </tr>\n",
              "    <tr>\n",
              "      <th>39</th>\n",
              "      <td>2021-11-09</td>\n",
              "      <td>616463.788510</td>\n",
              "      <td>82669.449400</td>\n",
              "      <td>36539.026919</td>\n",
              "      <td>36605.747026</td>\n",
              "      <td>36719.265462</td>\n",
              "      <td>36622.247352</td>\n",
              "    </tr>\n",
              "    <tr>\n",
              "      <th>40</th>\n",
              "      <td>2021-11-10</td>\n",
              "      <td>661251.709904</td>\n",
              "      <td>84150.765731</td>\n",
              "      <td>36562.587148</td>\n",
              "      <td>36632.991773</td>\n",
              "      <td>36748.552336</td>\n",
              "      <td>36649.180929</td>\n",
              "    </tr>\n",
              "    <tr>\n",
              "      <th>41</th>\n",
              "      <td>2021-11-11</td>\n",
              "      <td>708891.718414</td>\n",
              "      <td>85665.670406</td>\n",
              "      <td>36586.147376</td>\n",
              "      <td>36655.617725</td>\n",
              "      <td>36777.917459</td>\n",
              "      <td>36676.180727</td>\n",
              "    </tr>\n",
              "    <tr>\n",
              "      <th>42</th>\n",
              "      <td>2021-11-12</td>\n",
              "      <td>759530.772625</td>\n",
              "      <td>87214.769968</td>\n",
              "      <td>36609.707604</td>\n",
              "      <td>36677.464897</td>\n",
              "      <td>36807.360829</td>\n",
              "      <td>36703.246745</td>\n",
              "    </tr>\n",
              "    <tr>\n",
              "      <th>43</th>\n",
              "      <td>2021-11-13</td>\n",
              "      <td>813321.788459</td>\n",
              "      <td>88798.679133</td>\n",
              "      <td>36633.267833</td>\n",
              "      <td>36708.431803</td>\n",
              "      <td>36836.882451</td>\n",
              "      <td>36730.378984</td>\n",
              "    </tr>\n",
              "    <tr>\n",
              "      <th>44</th>\n",
              "      <td>2021-11-14</td>\n",
              "      <td>870423.821748</td>\n",
              "      <td>90418.020871</td>\n",
              "      <td>36656.828061</td>\n",
              "      <td>36734.286879</td>\n",
              "      <td>36866.482323</td>\n",
              "      <td>36757.577444</td>\n",
              "    </tr>\n",
              "    <tr>\n",
              "      <th>45</th>\n",
              "      <td>2021-11-15</td>\n",
              "      <td>931002.254788</td>\n",
              "      <td>92073.426475</td>\n",
              "      <td>36680.388290</td>\n",
              "      <td>36748.639150</td>\n",
              "      <td>36896.160444</td>\n",
              "      <td>36784.842125</td>\n",
              "    </tr>\n",
              "    <tr>\n",
              "      <th>46</th>\n",
              "      <td>2021-11-16</td>\n",
              "      <td>995228.986913</td>\n",
              "      <td>93765.535638</td>\n",
              "      <td>36703.948518</td>\n",
              "      <td>36770.233080</td>\n",
              "      <td>36925.916814</td>\n",
              "      <td>36812.173026</td>\n",
              "    </tr>\n",
              "    <tr>\n",
              "      <th>47</th>\n",
              "      <td>2021-11-17</td>\n",
              "      <td>1063282.629156</td>\n",
              "      <td>95494.996523</td>\n",
              "      <td>36727.508747</td>\n",
              "      <td>36797.066034</td>\n",
              "      <td>36955.751434</td>\n",
              "      <td>36839.570149</td>\n",
              "    </tr>\n",
              "    <tr>\n",
              "      <th>48</th>\n",
              "      <td>2021-11-18</td>\n",
              "      <td>1135348.703047</td>\n",
              "      <td>97262.465843</td>\n",
              "      <td>36751.068975</td>\n",
              "      <td>36820.520320</td>\n",
              "      <td>36985.664304</td>\n",
              "      <td>36867.033492</td>\n",
              "    </tr>\n",
              "    <tr>\n",
              "      <th>49</th>\n",
              "      <td>2021-11-19</td>\n",
              "      <td>1211619.843603</td>\n",
              "      <td>99068.608931</td>\n",
              "      <td>36774.629204</td>\n",
              "      <td>36853.970573</td>\n",
              "      <td>37015.655422</td>\n",
              "      <td>36894.563056</td>\n",
              "    </tr>\n",
              "    <tr>\n",
              "      <th>50</th>\n",
              "      <td>2021-11-20</td>\n",
              "      <td>1292296.006568</td>\n",
              "      <td>100914.099817</td>\n",
              "      <td>36798.189432</td>\n",
              "      <td>36891.223813</td>\n",
              "      <td>37045.724790</td>\n",
              "      <td>36922.158840</td>\n",
              "    </tr>\n",
              "    <tr>\n",
              "      <th>51</th>\n",
              "      <td>2021-11-21</td>\n",
              "      <td>1377584.679960</td>\n",
              "      <td>102799.621304</td>\n",
              "      <td>36821.749661</td>\n",
              "      <td>36918.925802</td>\n",
              "      <td>37075.872408</td>\n",
              "      <td>36949.820846</td>\n",
              "    </tr>\n",
              "    <tr>\n",
              "      <th>52</th>\n",
              "      <td>2021-11-22</td>\n",
              "      <td>1467701.099984</td>\n",
              "      <td>104725.865044</td>\n",
              "      <td>36845.309889</td>\n",
              "      <td>36933.049465</td>\n",
              "      <td>37106.098275</td>\n",
              "      <td>36977.549072</td>\n",
              "    </tr>\n",
              "    <tr>\n",
              "      <th>53</th>\n",
              "      <td>2021-11-23</td>\n",
              "      <td>1562868.471359</td>\n",
              "      <td>106693.531611</td>\n",
              "      <td>36868.870118</td>\n",
              "      <td>36953.360162</td>\n",
              "      <td>37136.402391</td>\n",
              "      <td>37005.343519</td>\n",
              "    </tr>\n",
              "    <tr>\n",
              "      <th>54</th>\n",
              "      <td>2021-11-24</td>\n",
              "      <td>1663318.192129</td>\n",
              "      <td>108703.330581</td>\n",
              "      <td>36892.430346</td>\n",
              "      <td>36980.627829</td>\n",
              "      <td>37166.784756</td>\n",
              "      <td>37033.204187</td>\n",
              "    </tr>\n",
              "    <tr>\n",
              "      <th>55</th>\n",
              "      <td>2021-11-25</td>\n",
              "      <td>1769290.083005</td>\n",
              "      <td>110755.980610</td>\n",
              "      <td>36915.990575</td>\n",
              "      <td>37003.232868</td>\n",
              "      <td>37197.245371</td>\n",
              "      <td>37061.131075</td>\n",
              "    </tr>\n",
              "    <tr>\n",
              "      <th>56</th>\n",
              "      <td>2021-11-26</td>\n",
              "      <td>1881032.621305</td>\n",
              "      <td>112852.209504</td>\n",
              "      <td>36939.550803</td>\n",
              "      <td>37025.051776</td>\n",
              "      <td>37227.784235</td>\n",
              "      <td>37089.124184</td>\n",
              "    </tr>\n",
              "    <tr>\n",
              "      <th>57</th>\n",
              "      <td>2021-11-27</td>\n",
              "      <td>1998803.179545</td>\n",
              "      <td>114992.754304</td>\n",
              "      <td>36963.111031</td>\n",
              "      <td>37056.076823</td>\n",
              "      <td>37258.401349</td>\n",
              "      <td>37117.183514</td>\n",
              "    </tr>\n",
              "    <tr>\n",
              "      <th>58</th>\n",
              "      <td>2021-11-28</td>\n",
              "      <td>2122868.268741</td>\n",
              "      <td>117178.361360</td>\n",
              "      <td>36986.671260</td>\n",
              "      <td>37081.941584</td>\n",
              "      <td>37289.096711</td>\n",
              "      <td>37145.309065</td>\n",
              "    </tr>\n",
              "    <tr>\n",
              "      <th>59</th>\n",
              "      <td>2021-11-29</td>\n",
              "      <td>2253503.786484</td>\n",
              "      <td>119409.786412</td>\n",
              "      <td>37010.231488</td>\n",
              "      <td>37096.194737</td>\n",
              "      <td>37319.870323</td>\n",
              "      <td>37173.500837</td>\n",
              "    </tr>\n",
              "  </tbody>\n",
              "</table>\n",
              "</div>"
            ],
            "text/plain": [
              "         date  ...  MA Model Prediction\n",
              "0  2021-10-01  ...         35623.490061\n",
              "1  2021-10-02  ...         35647.841027\n",
              "2  2021-10-03  ...         35672.258215\n",
              "3  2021-10-04  ...         35696.741623\n",
              "4  2021-10-05  ...         35721.291252\n",
              "5  2021-10-06  ...         35745.907101\n",
              "6  2021-10-07  ...         35770.589172\n",
              "7  2021-10-08  ...         35795.337463\n",
              "8  2021-10-09  ...         35820.151975\n",
              "9  2021-10-10  ...         35845.032708\n",
              "10 2021-10-11  ...         35869.979661\n",
              "11 2021-10-12  ...         35894.992836\n",
              "12 2021-10-13  ...         35920.072231\n",
              "13 2021-10-14  ...         35945.217847\n",
              "14 2021-10-15  ...         35970.429683\n",
              "15 2021-10-16  ...         35995.707741\n",
              "16 2021-10-17  ...         36021.052019\n",
              "17 2021-10-18  ...         36046.462518\n",
              "18 2021-10-19  ...         36071.939238\n",
              "19 2021-10-20  ...         36097.482178\n",
              "20 2021-10-21  ...         36123.091340\n",
              "21 2021-10-22  ...         36148.766722\n",
              "22 2021-10-23  ...         36174.508325\n",
              "23 2021-10-24  ...         36200.316148\n",
              "24 2021-10-25  ...         36226.190193\n",
              "25 2021-10-26  ...         36252.130458\n",
              "26 2021-10-27  ...         36278.136944\n",
              "27 2021-10-28  ...         36304.209651\n",
              "28 2021-10-29  ...         36330.348578\n",
              "29 2021-10-30  ...         36356.553726\n",
              "30 2021-10-31  ...         36382.825095\n",
              "31 2021-11-01  ...         36409.162685\n",
              "32 2021-11-02  ...         36435.566496\n",
              "33 2021-11-03  ...         36462.036527\n",
              "34 2021-11-04  ...         36488.572780\n",
              "35 2021-11-05  ...         36515.175253\n",
              "36 2021-11-06  ...         36541.843946\n",
              "37 2021-11-07  ...         36568.578861\n",
              "38 2021-11-08  ...         36595.379996\n",
              "39 2021-11-09  ...         36622.247352\n",
              "40 2021-11-10  ...         36649.180929\n",
              "41 2021-11-11  ...         36676.180727\n",
              "42 2021-11-12  ...         36703.246745\n",
              "43 2021-11-13  ...         36730.378984\n",
              "44 2021-11-14  ...         36757.577444\n",
              "45 2021-11-15  ...         36784.842125\n",
              "46 2021-11-16  ...         36812.173026\n",
              "47 2021-11-17  ...         36839.570149\n",
              "48 2021-11-18  ...         36867.033492\n",
              "49 2021-11-19  ...         36894.563056\n",
              "50 2021-11-20  ...         36922.158840\n",
              "51 2021-11-21  ...         36949.820846\n",
              "52 2021-11-22  ...         36977.549072\n",
              "53 2021-11-23  ...         37005.343519\n",
              "54 2021-11-24  ...         37033.204187\n",
              "55 2021-11-25  ...         37061.131075\n",
              "56 2021-11-26  ...         37089.124184\n",
              "57 2021-11-27  ...         37117.183514\n",
              "58 2021-11-28  ...         37145.309065\n",
              "59 2021-11-29  ...         37173.500837\n",
              "\n",
              "[60 rows x 7 columns]"
            ]
          },
          "metadata": {},
          "execution_count": 338
        }
      ]
    },
    {
      "cell_type": "markdown",
      "metadata": {
        "id": "DRPRWzvcLayy"
      },
      "source": [
        "ARIMA MODEL (AUTO ARIMA)"
      ]
    },
    {
      "cell_type": "code",
      "metadata": {
        "id": "PARQElaILWpW"
      },
      "source": [
        "model_train=datewise.iloc[:int(datewise.shape[0]*0.95)]\n",
        "valid=datewise.iloc[int(datewise.shape[0]*0.95):]\n",
        "y_pred=valid.copy()"
      ],
      "execution_count": 339,
      "outputs": []
    },
    {
      "cell_type": "code",
      "metadata": {
        "id": "gT10AI_eLo4-",
        "colab": {
          "base_uri": "https://localhost:8080/"
        },
        "outputId": "34a7383a-b0ab-4e1e-e13e-55ea56ead983"
      },
      "source": [
        "model_arima= auto_arima(model_train[\"dead\"],trace=True, error_action='ignore', start_p=1,start_q=1,max_p=3,max_q=3,\n",
        "                   suppress_warnings=True,stepwise=False,seasonal=False)\n",
        "model_arima.fit(model_train[\"dead\"])"
      ],
      "execution_count": 340,
      "outputs": [
        {
          "output_type": "stream",
          "name": "stdout",
          "text": [
            " ARIMA(0,2,0)(0,0,0)[0] intercept   : AIC=1545.291, Time=0.01 sec\n",
            " ARIMA(0,2,1)(0,0,0)[0] intercept   : AIC=1541.021, Time=0.07 sec\n",
            " ARIMA(0,2,2)(0,0,0)[0] intercept   : AIC=1542.334, Time=0.12 sec\n",
            " ARIMA(0,2,3)(0,0,0)[0] intercept   : AIC=1535.494, Time=0.15 sec\n",
            " ARIMA(1,2,0)(0,0,0)[0] intercept   : AIC=1541.115, Time=0.07 sec\n",
            " ARIMA(1,2,1)(0,0,0)[0] intercept   : AIC=1542.853, Time=0.09 sec\n",
            " ARIMA(1,2,2)(0,0,0)[0] intercept   : AIC=1510.147, Time=0.22 sec\n",
            " ARIMA(1,2,3)(0,0,0)[0] intercept   : AIC=1500.022, Time=0.35 sec\n",
            " ARIMA(2,2,0)(0,0,0)[0] intercept   : AIC=1542.252, Time=0.09 sec\n",
            " ARIMA(2,2,1)(0,0,0)[0] intercept   : AIC=1543.580, Time=0.17 sec\n",
            " ARIMA(2,2,2)(0,0,0)[0] intercept   : AIC=1525.109, Time=0.53 sec\n",
            " ARIMA(2,2,3)(0,0,0)[0] intercept   : AIC=1500.738, Time=0.51 sec\n",
            " ARIMA(3,2,0)(0,0,0)[0] intercept   : AIC=1538.334, Time=0.11 sec\n",
            " ARIMA(3,2,1)(0,0,0)[0] intercept   : AIC=1516.635, Time=0.28 sec\n",
            " ARIMA(3,2,2)(0,0,0)[0] intercept   : AIC=1500.805, Time=0.41 sec\n",
            "\n",
            "Best model:  ARIMA(1,2,3)(0,0,0)[0] intercept\n",
            "Total fit time: 3.203 seconds\n"
          ]
        },
        {
          "output_type": "execute_result",
          "data": {
            "text/plain": [
              "ARIMA(maxiter=50, method='lbfgs', order=(1, 2, 3), out_of_sample_size=0,\n",
              "      scoring='mse', scoring_args={}, seasonal_order=(0, 0, 0, 0),\n",
              "      start_params=None, suppress_warnings=True, trend=None,\n",
              "      with_intercept=True)"
            ]
          },
          "metadata": {},
          "execution_count": 340
        }
      ]
    },
    {
      "cell_type": "code",
      "metadata": {
        "id": "WJezkjd-Lw7Q"
      },
      "source": [
        "prediction_arima=model_arima.predict(len(valid))\n",
        "y_pred[\"ARIMA Model Prediction\"]=prediction_arima"
      ],
      "execution_count": 341,
      "outputs": []
    },
    {
      "cell_type": "code",
      "metadata": {
        "id": "2XhhYZBGL8p0",
        "colab": {
          "base_uri": "https://localhost:8080/"
        },
        "outputId": "a3c4375c-21f4-4661-a3d2-84c314d4d77d"
      },
      "source": [
        "model_scores.append(np.sqrt(mean_squared_error(valid[\"dead\"],prediction_arima)))\n",
        "print(\"Root Mean Square Error for ARIMA Model: \",np.sqrt(mean_squared_error(valid[\"dead\"],prediction_arima)))"
      ],
      "execution_count": 342,
      "outputs": [
        {
          "output_type": "stream",
          "name": "stdout",
          "text": [
            "Root Mean Square Error for ARIMA Model:  5.153643859454865\n"
          ]
        }
      ]
    },
    {
      "cell_type": "code",
      "metadata": {
        "id": "86W2CqzGMElX",
        "colab": {
          "base_uri": "https://localhost:8080/",
          "height": 542
        },
        "outputId": "7a096efb-8db5-4ebc-cf09-ad99e52dcd8c"
      },
      "source": [
        "fig=go.Figure()\n",
        "fig.add_trace(go.Scatter(x=model_train.index, y=model_train[\"dead\"],\n",
        "                    mode='lines+markers',name=\"Train Data for Death Cases\"))\n",
        "fig.add_trace(go.Scatter(x=valid.index, y=valid[\"dead\"],\n",
        "                    mode='lines+markers',name=\"Validation Data for Death Cases\",))\n",
        "fig.add_trace(go.Scatter(x=valid.index, y=y_pred[\"ARIMA Model Prediction\"],\n",
        "                    mode='lines+markers',name=\"Prediction for Dead Cases\",))\n",
        "fig.update_layout(title=\"newly dead Cases ARIMA Model Prediction\",\n",
        "                 xaxis_title=\"Date\",yaxis_title=\"dead Cases\",legend=dict(x=0,y=1,traceorder=\"normal\"))\n",
        "fig.show()"
      ],
      "execution_count": 343,
      "outputs": [
        {
          "output_type": "display_data",
          "data": {
            "text/html": [
              "<html>\n",
              "<head><meta charset=\"utf-8\" /></head>\n",
              "<body>\n",
              "    <div>\n",
              "            <script src=\"https://cdnjs.cloudflare.com/ajax/libs/mathjax/2.7.5/MathJax.js?config=TeX-AMS-MML_SVG\"></script><script type=\"text/javascript\">if (window.MathJax) {MathJax.Hub.Config({SVG: {font: \"STIX-Web\"}});}</script>\n",
              "                <script type=\"text/javascript\">window.PlotlyConfig = {MathJaxConfig: 'local'};</script>\n",
              "        <script src=\"https://cdn.plot.ly/plotly-latest.min.js\"></script>    \n",
              "            <div id=\"884bf74b-de85-4991-b92a-87daf3674d59\" class=\"plotly-graph-div\" style=\"height:525px; width:100%;\"></div>\n",
              "            <script type=\"text/javascript\">\n",
              "                \n",
              "                    window.PLOTLYENV=window.PLOTLYENV || {};\n",
              "                    \n",
              "                if (document.getElementById(\"884bf74b-de85-4991-b92a-87daf3674d59\")) {\n",
              "                    Plotly.newPlot(\n",
              "                        '884bf74b-de85-4991-b92a-87daf3674d59',\n",
              "                        [{\"mode\": \"lines+markers\", \"name\": \"Train Data for Death Cases\", \"type\": \"scatter\", \"x\": [\"2021-04-01T00:00:00\", \"2021-04-02T00:00:00\", \"2021-04-03T00:00:00\", \"2021-04-04T00:00:00\", \"2021-04-05T00:00:00\", \"2021-04-06T00:00:00\", \"2021-04-07T00:00:00\", \"2021-04-08T00:00:00\", \"2021-04-09T00:00:00\", \"2021-04-10T00:00:00\", \"2021-04-11T00:00:00\", \"2021-04-12T00:00:00\", \"2021-04-13T00:00:00\", \"2021-04-14T00:00:00\", \"2021-04-15T00:00:00\", \"2021-04-16T00:00:00\", \"2021-04-17T00:00:00\", \"2021-04-18T00:00:00\", \"2021-04-19T00:00:00\", \"2021-04-20T00:00:00\", \"2021-04-21T00:00:00\", \"2021-04-22T00:00:00\", \"2021-04-23T00:00:00\", \"2021-04-24T00:00:00\", \"2021-04-25T00:00:00\", \"2021-04-26T00:00:00\", \"2021-04-27T00:00:00\", \"2021-04-28T00:00:00\", \"2021-04-29T00:00:00\", \"2021-04-30T00:00:00\", \"2021-05-01T00:00:00\", \"2021-05-02T00:00:00\", \"2021-05-03T00:00:00\", \"2021-05-04T00:00:00\", \"2021-05-05T00:00:00\", \"2021-05-06T00:00:00\", \"2021-05-07T00:00:00\", \"2021-05-08T00:00:00\", \"2021-05-09T00:00:00\", \"2021-05-10T00:00:00\", \"2021-05-11T00:00:00\", \"2021-05-12T00:00:00\", \"2021-05-13T00:00:00\", \"2021-05-14T00:00:00\", \"2021-05-15T00:00:00\", \"2021-05-16T00:00:00\", \"2021-05-17T00:00:00\", \"2021-05-18T00:00:00\", \"2021-05-19T00:00:00\", \"2021-05-20T00:00:00\", \"2021-05-21T00:00:00\", \"2021-05-22T00:00:00\", \"2021-05-23T00:00:00\", \"2021-05-24T00:00:00\", \"2021-05-25T00:00:00\", \"2021-05-26T00:00:00\", \"2021-05-27T00:00:00\", \"2021-05-28T00:00:00\", \"2021-05-29T00:00:00\", \"2021-05-30T00:00:00\", \"2021-05-31T00:00:00\", \"2021-06-01T00:00:00\", \"2021-06-02T00:00:00\", \"2021-06-03T00:00:00\", \"2021-06-04T00:00:00\", \"2021-06-05T00:00:00\", \"2021-06-06T00:00:00\", \"2021-06-07T00:00:00\", \"2021-06-08T00:00:00\", \"2021-06-09T00:00:00\", \"2021-06-10T00:00:00\", \"2021-06-11T00:00:00\", \"2021-06-12T00:00:00\", \"2021-06-13T00:00:00\", \"2021-06-14T00:00:00\", \"2021-06-15T00:00:00\", \"2021-06-16T00:00:00\", \"2021-06-17T00:00:00\", \"2021-06-18T00:00:00\", \"2021-06-19T00:00:00\", \"2021-06-20T00:00:00\", \"2021-06-21T00:00:00\", \"2021-06-22T00:00:00\", \"2021-06-23T00:00:00\", \"2021-06-24T00:00:00\", \"2021-06-25T00:00:00\", \"2021-06-26T00:00:00\", \"2021-06-27T00:00:00\", \"2021-06-28T00:00:00\", \"2021-06-29T00:00:00\", \"2021-06-30T00:00:00\", \"2021-07-01T00:00:00\", \"2021-07-02T00:00:00\", \"2021-07-03T00:00:00\", \"2021-07-04T00:00:00\", \"2021-07-05T00:00:00\", \"2021-07-06T00:00:00\", \"2021-07-07T00:00:00\", \"2021-07-08T00:00:00\", \"2021-07-09T00:00:00\", \"2021-07-10T00:00:00\", \"2021-07-11T00:00:00\", \"2021-07-12T00:00:00\", \"2021-07-13T00:00:00\", \"2021-07-14T00:00:00\", \"2021-07-15T00:00:00\", \"2021-07-16T00:00:00\", \"2021-07-17T00:00:00\", \"2021-07-18T00:00:00\", \"2021-07-19T00:00:00\", \"2021-07-20T00:00:00\", \"2021-07-21T00:00:00\", \"2021-07-22T00:00:00\", \"2021-07-23T00:00:00\", \"2021-07-24T00:00:00\", \"2021-07-25T00:00:00\", \"2021-07-26T00:00:00\", \"2021-07-27T00:00:00\", \"2021-07-28T00:00:00\", \"2021-07-29T00:00:00\", \"2021-07-30T00:00:00\", \"2021-07-31T00:00:00\", \"2021-08-01T00:00:00\", \"2021-08-02T00:00:00\", \"2021-08-03T00:00:00\", \"2021-08-04T00:00:00\", \"2021-08-05T00:00:00\", \"2021-08-06T00:00:00\", \"2021-08-07T00:00:00\", \"2021-08-08T00:00:00\", \"2021-08-09T00:00:00\", \"2021-08-10T00:00:00\", \"2021-08-11T00:00:00\", \"2021-08-12T00:00:00\", \"2021-08-13T00:00:00\", \"2021-08-14T00:00:00\", \"2021-08-15T00:00:00\", \"2021-08-16T00:00:00\", \"2021-08-17T00:00:00\", \"2021-08-18T00:00:00\", \"2021-08-19T00:00:00\", \"2021-08-20T00:00:00\", \"2021-08-21T00:00:00\", \"2021-08-22T00:00:00\", \"2021-08-23T00:00:00\", \"2021-08-24T00:00:00\", \"2021-08-25T00:00:00\", \"2021-08-26T00:00:00\", \"2021-08-27T00:00:00\", \"2021-08-28T00:00:00\", \"2021-08-29T00:00:00\", \"2021-08-30T00:00:00\", \"2021-08-31T00:00:00\", \"2021-09-01T00:00:00\", \"2021-09-02T00:00:00\", \"2021-09-03T00:00:00\", \"2021-09-04T00:00:00\", \"2021-09-05T00:00:00\", \"2021-09-06T00:00:00\", \"2021-09-07T00:00:00\", \"2021-09-08T00:00:00\", \"2021-09-09T00:00:00\", \"2021-09-10T00:00:00\", \"2021-09-11T00:00:00\", \"2021-09-12T00:00:00\", \"2021-09-13T00:00:00\", \"2021-09-14T00:00:00\", \"2021-09-15T00:00:00\", \"2021-09-16T00:00:00\", \"2021-09-17T00:00:00\", \"2021-09-18T00:00:00\", \"2021-09-19T00:00:00\", \"2021-09-20T00:00:00\"], \"y\": [12738, 12750, 12764, 12778, 12789, 12804, 12821, 12840, 12863, 12886, 12908, 12927, 12945, 12970, 12999, 13032, 13071, 13113, 13157, 13205, 13258, 13317, 13395, 13475, 13557, 13651, 13728, 13826, 13933, 14046, 14193, 14346, 14468, 14612, 14779, 14974, 15171, 15412, 15648, 15880, 16178, 16471, 16768, 17056, 17359, 17670, 18005, 18369, 18734, 19131, 19598, 20046, 20468, 20872, 21340, 21815, 22289, 22775, 23261, 23754, 24232, 24722, 25205, 25665, 26128, 26571, 27005, 27356, 27765, 28170, 28528, 28906, 29280, 29547, 29801, 30068, 30338, 30548, 30835, 31015, 31197, 31386, 31580, 31746, 31901, 32051, 32199, 32290, 32388, 32506, 32619, 32721, 32818, 32933, 33005, 33059, 33132, 33196, 33253, 33322, 33371, 33418, 33454, 33502, 33557, 33606, 33652, 33695, 33724, 33752, 33782, 33809, 33838, 33862, 33889, 33911, 33937, 33966, 33995, 34023, 34050, 34076, 34102, 34130, 34159, 34197, 34230, 34260, 34289, 34317, 34340, 34367, 34395, 34428, 34462, 34496, 34519, 34547, 34579, 34610, 34639, 34663, 34686, 34709, 34734, 34761, 34788, 34814, 34835, 34856, 34878, 34899, 34921, 34941, 34961, 34980, 35000, 35018, 35036, 35055, 35073, 35094, 35119, 35146, 35168, 35190, 35217, 35246, 35271, 35288, 35310, 35337, 35360]}, {\"mode\": \"lines+markers\", \"name\": \"Validation Data for Death Cases\", \"type\": \"scatter\", \"x\": [\"2021-09-21T00:00:00\", \"2021-09-22T00:00:00\", \"2021-09-23T00:00:00\", \"2021-09-24T00:00:00\", \"2021-09-25T00:00:00\", \"2021-09-26T00:00:00\", \"2021-09-27T00:00:00\", \"2021-09-28T00:00:00\", \"2021-09-29T00:00:00\", \"2021-09-30T00:00:00\"], \"y\": [35379, 35400, 35427, 35454, 35476, 35490, 35509, 35526, 35550, 35578]}, {\"mode\": \"lines+markers\", \"name\": \"Prediction for Dead Cases\", \"type\": \"scatter\", \"x\": [\"2021-09-21T00:00:00\", \"2021-09-22T00:00:00\", \"2021-09-23T00:00:00\", \"2021-09-24T00:00:00\", \"2021-09-25T00:00:00\", \"2021-09-26T00:00:00\", \"2021-09-27T00:00:00\", \"2021-09-28T00:00:00\", \"2021-09-29T00:00:00\", \"2021-09-30T00:00:00\"], \"y\": [35383.71724545602, 35407.48558402736, 35430.37851364523, 35452.442005205376, 35473.719804585366, 35494.253540336744, 35514.08282616487, 35533.24535844863, 35551.77700904015, 35569.711913572995]}],\n",
              "                        {\"legend\": {\"traceorder\": \"normal\", \"x\": 0, \"y\": 1}, \"template\": {\"data\": {\"bar\": [{\"error_x\": {\"color\": \"#2a3f5f\"}, \"error_y\": {\"color\": \"#2a3f5f\"}, \"marker\": {\"line\": {\"color\": \"#E5ECF6\", \"width\": 0.5}}, \"type\": \"bar\"}], \"barpolar\": [{\"marker\": {\"line\": {\"color\": \"#E5ECF6\", \"width\": 0.5}}, \"type\": \"barpolar\"}], \"carpet\": [{\"aaxis\": {\"endlinecolor\": \"#2a3f5f\", \"gridcolor\": \"white\", \"linecolor\": \"white\", \"minorgridcolor\": \"white\", \"startlinecolor\": \"#2a3f5f\"}, \"baxis\": {\"endlinecolor\": \"#2a3f5f\", \"gridcolor\": \"white\", \"linecolor\": \"white\", \"minorgridcolor\": \"white\", \"startlinecolor\": \"#2a3f5f\"}, \"type\": \"carpet\"}], \"choropleth\": [{\"colorbar\": {\"outlinewidth\": 0, \"ticks\": \"\"}, \"type\": \"choropleth\"}], \"contour\": [{\"colorbar\": {\"outlinewidth\": 0, \"ticks\": \"\"}, \"colorscale\": [[0.0, \"#0d0887\"], [0.1111111111111111, \"#46039f\"], [0.2222222222222222, \"#7201a8\"], [0.3333333333333333, \"#9c179e\"], [0.4444444444444444, \"#bd3786\"], [0.5555555555555556, \"#d8576b\"], [0.6666666666666666, \"#ed7953\"], [0.7777777777777778, \"#fb9f3a\"], [0.8888888888888888, \"#fdca26\"], [1.0, \"#f0f921\"]], \"type\": \"contour\"}], \"contourcarpet\": [{\"colorbar\": {\"outlinewidth\": 0, \"ticks\": \"\"}, \"type\": \"contourcarpet\"}], \"heatmap\": [{\"colorbar\": {\"outlinewidth\": 0, \"ticks\": \"\"}, \"colorscale\": [[0.0, \"#0d0887\"], [0.1111111111111111, \"#46039f\"], [0.2222222222222222, \"#7201a8\"], [0.3333333333333333, \"#9c179e\"], [0.4444444444444444, \"#bd3786\"], [0.5555555555555556, \"#d8576b\"], [0.6666666666666666, \"#ed7953\"], [0.7777777777777778, \"#fb9f3a\"], [0.8888888888888888, \"#fdca26\"], [1.0, \"#f0f921\"]], \"type\": \"heatmap\"}], \"heatmapgl\": [{\"colorbar\": {\"outlinewidth\": 0, \"ticks\": \"\"}, \"colorscale\": [[0.0, \"#0d0887\"], [0.1111111111111111, \"#46039f\"], [0.2222222222222222, \"#7201a8\"], [0.3333333333333333, \"#9c179e\"], [0.4444444444444444, \"#bd3786\"], [0.5555555555555556, \"#d8576b\"], [0.6666666666666666, \"#ed7953\"], [0.7777777777777778, \"#fb9f3a\"], [0.8888888888888888, \"#fdca26\"], [1.0, \"#f0f921\"]], \"type\": \"heatmapgl\"}], \"histogram\": [{\"marker\": {\"colorbar\": {\"outlinewidth\": 0, \"ticks\": \"\"}}, \"type\": \"histogram\"}], \"histogram2d\": [{\"colorbar\": {\"outlinewidth\": 0, \"ticks\": \"\"}, \"colorscale\": [[0.0, \"#0d0887\"], [0.1111111111111111, \"#46039f\"], [0.2222222222222222, \"#7201a8\"], [0.3333333333333333, \"#9c179e\"], [0.4444444444444444, \"#bd3786\"], [0.5555555555555556, \"#d8576b\"], [0.6666666666666666, \"#ed7953\"], [0.7777777777777778, \"#fb9f3a\"], [0.8888888888888888, \"#fdca26\"], [1.0, \"#f0f921\"]], \"type\": \"histogram2d\"}], \"histogram2dcontour\": [{\"colorbar\": {\"outlinewidth\": 0, \"ticks\": \"\"}, \"colorscale\": [[0.0, \"#0d0887\"], [0.1111111111111111, \"#46039f\"], [0.2222222222222222, \"#7201a8\"], [0.3333333333333333, \"#9c179e\"], [0.4444444444444444, \"#bd3786\"], [0.5555555555555556, \"#d8576b\"], [0.6666666666666666, \"#ed7953\"], [0.7777777777777778, \"#fb9f3a\"], [0.8888888888888888, \"#fdca26\"], [1.0, \"#f0f921\"]], \"type\": \"histogram2dcontour\"}], \"mesh3d\": [{\"colorbar\": {\"outlinewidth\": 0, \"ticks\": \"\"}, \"type\": \"mesh3d\"}], \"parcoords\": [{\"line\": {\"colorbar\": {\"outlinewidth\": 0, \"ticks\": \"\"}}, \"type\": \"parcoords\"}], \"pie\": [{\"automargin\": true, \"type\": \"pie\"}], \"scatter\": [{\"marker\": {\"colorbar\": {\"outlinewidth\": 0, \"ticks\": \"\"}}, \"type\": \"scatter\"}], \"scatter3d\": [{\"line\": {\"colorbar\": {\"outlinewidth\": 0, \"ticks\": \"\"}}, \"marker\": {\"colorbar\": {\"outlinewidth\": 0, \"ticks\": \"\"}}, \"type\": \"scatter3d\"}], \"scattercarpet\": [{\"marker\": {\"colorbar\": {\"outlinewidth\": 0, \"ticks\": \"\"}}, \"type\": \"scattercarpet\"}], \"scattergeo\": [{\"marker\": {\"colorbar\": {\"outlinewidth\": 0, \"ticks\": \"\"}}, \"type\": \"scattergeo\"}], \"scattergl\": [{\"marker\": {\"colorbar\": {\"outlinewidth\": 0, \"ticks\": \"\"}}, \"type\": \"scattergl\"}], \"scattermapbox\": [{\"marker\": {\"colorbar\": {\"outlinewidth\": 0, \"ticks\": \"\"}}, \"type\": \"scattermapbox\"}], \"scatterpolar\": [{\"marker\": {\"colorbar\": {\"outlinewidth\": 0, \"ticks\": \"\"}}, \"type\": \"scatterpolar\"}], \"scatterpolargl\": [{\"marker\": {\"colorbar\": {\"outlinewidth\": 0, \"ticks\": \"\"}}, \"type\": \"scatterpolargl\"}], \"scatterternary\": [{\"marker\": {\"colorbar\": {\"outlinewidth\": 0, \"ticks\": \"\"}}, \"type\": \"scatterternary\"}], \"surface\": [{\"colorbar\": {\"outlinewidth\": 0, \"ticks\": \"\"}, \"colorscale\": [[0.0, \"#0d0887\"], [0.1111111111111111, \"#46039f\"], [0.2222222222222222, \"#7201a8\"], [0.3333333333333333, \"#9c179e\"], [0.4444444444444444, \"#bd3786\"], [0.5555555555555556, \"#d8576b\"], [0.6666666666666666, \"#ed7953\"], [0.7777777777777778, \"#fb9f3a\"], [0.8888888888888888, \"#fdca26\"], [1.0, \"#f0f921\"]], \"type\": \"surface\"}], \"table\": [{\"cells\": {\"fill\": {\"color\": \"#EBF0F8\"}, \"line\": {\"color\": \"white\"}}, \"header\": {\"fill\": {\"color\": \"#C8D4E3\"}, \"line\": {\"color\": \"white\"}}, \"type\": \"table\"}]}, \"layout\": {\"annotationdefaults\": {\"arrowcolor\": \"#2a3f5f\", \"arrowhead\": 0, \"arrowwidth\": 1}, \"coloraxis\": {\"colorbar\": {\"outlinewidth\": 0, \"ticks\": \"\"}}, \"colorscale\": {\"diverging\": [[0, \"#8e0152\"], [0.1, \"#c51b7d\"], [0.2, \"#de77ae\"], [0.3, \"#f1b6da\"], [0.4, \"#fde0ef\"], [0.5, \"#f7f7f7\"], [0.6, \"#e6f5d0\"], [0.7, \"#b8e186\"], [0.8, \"#7fbc41\"], [0.9, \"#4d9221\"], [1, \"#276419\"]], \"sequential\": [[0.0, \"#0d0887\"], [0.1111111111111111, \"#46039f\"], [0.2222222222222222, \"#7201a8\"], [0.3333333333333333, \"#9c179e\"], [0.4444444444444444, \"#bd3786\"], [0.5555555555555556, \"#d8576b\"], [0.6666666666666666, \"#ed7953\"], [0.7777777777777778, \"#fb9f3a\"], [0.8888888888888888, \"#fdca26\"], [1.0, \"#f0f921\"]], \"sequentialminus\": [[0.0, \"#0d0887\"], [0.1111111111111111, \"#46039f\"], [0.2222222222222222, \"#7201a8\"], [0.3333333333333333, \"#9c179e\"], [0.4444444444444444, \"#bd3786\"], [0.5555555555555556, \"#d8576b\"], [0.6666666666666666, \"#ed7953\"], [0.7777777777777778, \"#fb9f3a\"], [0.8888888888888888, \"#fdca26\"], [1.0, \"#f0f921\"]]}, \"colorway\": [\"#636efa\", \"#EF553B\", \"#00cc96\", \"#ab63fa\", \"#FFA15A\", \"#19d3f3\", \"#FF6692\", \"#B6E880\", \"#FF97FF\", \"#FECB52\"], \"font\": {\"color\": \"#2a3f5f\"}, \"geo\": {\"bgcolor\": \"white\", \"lakecolor\": \"white\", \"landcolor\": \"#E5ECF6\", \"showlakes\": true, \"showland\": true, \"subunitcolor\": \"white\"}, \"hoverlabel\": {\"align\": \"left\"}, \"hovermode\": \"closest\", \"mapbox\": {\"style\": \"light\"}, \"paper_bgcolor\": \"white\", \"plot_bgcolor\": \"#E5ECF6\", \"polar\": {\"angularaxis\": {\"gridcolor\": \"white\", \"linecolor\": \"white\", \"ticks\": \"\"}, \"bgcolor\": \"#E5ECF6\", \"radialaxis\": {\"gridcolor\": \"white\", \"linecolor\": \"white\", \"ticks\": \"\"}}, \"scene\": {\"xaxis\": {\"backgroundcolor\": \"#E5ECF6\", \"gridcolor\": \"white\", \"gridwidth\": 2, \"linecolor\": \"white\", \"showbackground\": true, \"ticks\": \"\", \"zerolinecolor\": \"white\"}, \"yaxis\": {\"backgroundcolor\": \"#E5ECF6\", \"gridcolor\": \"white\", \"gridwidth\": 2, \"linecolor\": \"white\", \"showbackground\": true, \"ticks\": \"\", \"zerolinecolor\": \"white\"}, \"zaxis\": {\"backgroundcolor\": \"#E5ECF6\", \"gridcolor\": \"white\", \"gridwidth\": 2, \"linecolor\": \"white\", \"showbackground\": true, \"ticks\": \"\", \"zerolinecolor\": \"white\"}}, \"shapedefaults\": {\"line\": {\"color\": \"#2a3f5f\"}}, \"ternary\": {\"aaxis\": {\"gridcolor\": \"white\", \"linecolor\": \"white\", \"ticks\": \"\"}, \"baxis\": {\"gridcolor\": \"white\", \"linecolor\": \"white\", \"ticks\": \"\"}, \"bgcolor\": \"#E5ECF6\", \"caxis\": {\"gridcolor\": \"white\", \"linecolor\": \"white\", \"ticks\": \"\"}}, \"title\": {\"x\": 0.05}, \"xaxis\": {\"automargin\": true, \"gridcolor\": \"white\", \"linecolor\": \"white\", \"ticks\": \"\", \"title\": {\"standoff\": 15}, \"zerolinecolor\": \"white\", \"zerolinewidth\": 2}, \"yaxis\": {\"automargin\": true, \"gridcolor\": \"white\", \"linecolor\": \"white\", \"ticks\": \"\", \"title\": {\"standoff\": 15}, \"zerolinecolor\": \"white\", \"zerolinewidth\": 2}}}, \"title\": {\"text\": \"newly dead Cases ARIMA Model Prediction\"}, \"xaxis\": {\"title\": {\"text\": \"Date\"}}, \"yaxis\": {\"title\": {\"text\": \"dead Cases\"}}},\n",
              "                        {\"responsive\": true}\n",
              "                    ).then(function(){\n",
              "                            \n",
              "var gd = document.getElementById('884bf74b-de85-4991-b92a-87daf3674d59');\n",
              "var x = new MutationObserver(function (mutations, observer) {{\n",
              "        var display = window.getComputedStyle(gd).display;\n",
              "        if (!display || display === 'none') {{\n",
              "            console.log([gd, 'removed!']);\n",
              "            Plotly.purge(gd);\n",
              "            observer.disconnect();\n",
              "        }}\n",
              "}});\n",
              "\n",
              "// Listen for the removal of the full notebook cells\n",
              "var notebookContainer = gd.closest('#notebook-container');\n",
              "if (notebookContainer) {{\n",
              "    x.observe(notebookContainer, {childList: true});\n",
              "}}\n",
              "\n",
              "// Listen for the clearing of the current output cell\n",
              "var outputEl = gd.closest('.output');\n",
              "if (outputEl) {{\n",
              "    x.observe(outputEl, {childList: true});\n",
              "}}\n",
              "\n",
              "                        })\n",
              "                };\n",
              "                \n",
              "            </script>\n",
              "        </div>\n",
              "</body>\n",
              "</html>"
            ]
          },
          "metadata": {}
        }
      ]
    },
    {
      "cell_type": "code",
      "metadata": {
        "id": "RpjgRFXgMJ1_",
        "colab": {
          "base_uri": "https://localhost:8080/",
          "height": 323
        },
        "outputId": "854ef35c-3640-4725-93d8-46a0bbe5c473"
      },
      "source": [
        "ARIMA_model_new_prediction=[]\n",
        "for i in range(1,365):\n",
        "    ARIMA_model_new_prediction.append(model_arima.predict(len(valid)+i)[-1])\n",
        "model_predictions[\"ARIMA Model Prediction\"]=ARIMA_model_new_prediction\n",
        "model_predictions.head()"
      ],
      "execution_count": 344,
      "outputs": [
        {
          "output_type": "execute_result",
          "data": {
            "text/html": [
              "<div>\n",
              "<style scoped>\n",
              "    .dataframe tbody tr th:only-of-type {\n",
              "        vertical-align: middle;\n",
              "    }\n",
              "\n",
              "    .dataframe tbody tr th {\n",
              "        vertical-align: top;\n",
              "    }\n",
              "\n",
              "    .dataframe thead th {\n",
              "        text-align: right;\n",
              "    }\n",
              "</style>\n",
              "<table border=\"1\" class=\"dataframe\">\n",
              "  <thead>\n",
              "    <tr style=\"text-align: right;\">\n",
              "      <th></th>\n",
              "      <th>date</th>\n",
              "      <th>Polynonmial Regression Prediction</th>\n",
              "      <th>SVM Prediction</th>\n",
              "      <th>Holt's Linear Model Prediction</th>\n",
              "      <th>Holt's Winter Model Prediction</th>\n",
              "      <th>AR Model Prediction</th>\n",
              "      <th>MA Model Prediction</th>\n",
              "      <th>ARIMA Model Prediction</th>\n",
              "    </tr>\n",
              "  </thead>\n",
              "  <tbody>\n",
              "    <tr>\n",
              "      <th>0</th>\n",
              "      <td>2021-10-01</td>\n",
              "      <td>44495.114581</td>\n",
              "      <td>45478.513196</td>\n",
              "      <td>35620.178009</td>\n",
              "      <td>35634.704262</td>\n",
              "      <td>35638.364946</td>\n",
              "      <td>35623.490061</td>\n",
              "      <td>35587.082555</td>\n",
              "    </tr>\n",
              "    <tr>\n",
              "      <th>1</th>\n",
              "      <td>2021-10-02</td>\n",
              "      <td>46155.767294</td>\n",
              "      <td>46043.686337</td>\n",
              "      <td>35643.738237</td>\n",
              "      <td>35665.496743</td>\n",
              "      <td>35664.528413</td>\n",
              "      <td>35647.841027</td>\n",
              "      <td>35603.919846</td>\n",
              "    </tr>\n",
              "    <tr>\n",
              "      <th>2</th>\n",
              "      <td>2021-10-03</td>\n",
              "      <td>48032.109538</td>\n",
              "      <td>46624.427899</td>\n",
              "      <td>35667.298466</td>\n",
              "      <td>35691.322765</td>\n",
              "      <td>35690.866893</td>\n",
              "      <td>35672.258215</td>\n",
              "      <td>35620.253200</td>\n",
              "    </tr>\n",
              "    <tr>\n",
              "      <th>3</th>\n",
              "      <td>2021-10-04</td>\n",
              "      <td>50144.602820</td>\n",
              "      <td>47221.079088</td>\n",
              "      <td>35690.858694</td>\n",
              "      <td>35705.972391</td>\n",
              "      <td>35717.197143</td>\n",
              "      <td>35696.741623</td>\n",
              "      <td>35636.110610</td>\n",
              "    </tr>\n",
              "    <tr>\n",
              "      <th>4</th>\n",
              "      <td>2021-10-05</td>\n",
              "      <td>52515.101177</td>\n",
              "      <td>47833.986692</td>\n",
              "      <td>35714.418923</td>\n",
              "      <td>35727.657946</td>\n",
              "      <td>35743.601788</td>\n",
              "      <td>35721.291252</td>\n",
              "      <td>35651.518711</td>\n",
              "    </tr>\n",
              "  </tbody>\n",
              "</table>\n",
              "</div>"
            ],
            "text/plain": [
              "        date  ...  ARIMA Model Prediction\n",
              "0 2021-10-01  ...            35587.082555\n",
              "1 2021-10-02  ...            35603.919846\n",
              "2 2021-10-03  ...            35620.253200\n",
              "3 2021-10-04  ...            35636.110610\n",
              "4 2021-10-05  ...            35651.518711\n",
              "\n",
              "[5 rows x 8 columns]"
            ]
          },
          "metadata": {},
          "execution_count": 344
        }
      ]
    },
    {
      "cell_type": "markdown",
      "metadata": {
        "id": "4ClK5tLvMXD5"
      },
      "source": [
        "SARIMA MODEL (AUTO ARIMA)"
      ]
    },
    {
      "cell_type": "code",
      "metadata": {
        "id": "mEYhYXCmMQi3",
        "colab": {
          "base_uri": "https://localhost:8080/"
        },
        "outputId": "6f65cc6e-3cb6-44b6-cb43-35cd9efc06fc"
      },
      "source": [
        "model_sarima= auto_arima(model_train[\"dead\"],trace=True, error_action='ignore', \n",
        "                         start_p=0,start_q=0,max_p=2,max_q=2,m=7,\n",
        "                   suppress_warnings=True,stepwise=True,seasonal=True)\n",
        "model_sarima.fit(model_train[\"dead\"])"
      ],
      "execution_count": 345,
      "outputs": [
        {
          "output_type": "stream",
          "name": "stdout",
          "text": [
            "Performing stepwise search to minimize aic\n",
            " ARIMA(0,2,0)(1,0,1)[7]             : AIC=1527.765, Time=0.17 sec\n",
            " ARIMA(0,2,0)(0,0,0)[7]             : AIC=1543.292, Time=0.01 sec\n",
            " ARIMA(1,2,0)(1,0,0)[7]             : AIC=1517.731, Time=0.10 sec\n",
            " ARIMA(0,2,1)(0,0,1)[7]             : AIC=1524.776, Time=0.14 sec\n",
            " ARIMA(1,2,0)(0,0,0)[7]             : AIC=1539.117, Time=0.03 sec\n",
            " ARIMA(1,2,0)(2,0,0)[7]             : AIC=1515.078, Time=0.19 sec\n",
            " ARIMA(1,2,0)(2,0,1)[7]             : AIC=1515.554, Time=0.43 sec\n",
            " ARIMA(1,2,0)(1,0,1)[7]             : AIC=1513.717, Time=0.21 sec\n",
            " ARIMA(1,2,0)(0,0,1)[7]             : AIC=1524.524, Time=0.13 sec\n",
            " ARIMA(1,2,0)(1,0,2)[7]             : AIC=1515.445, Time=0.39 sec\n",
            " ARIMA(1,2,0)(0,0,2)[7]             : AIC=1521.635, Time=0.24 sec\n",
            " ARIMA(1,2,0)(2,0,2)[7]             : AIC=1517.303, Time=1.08 sec\n",
            " ARIMA(2,2,0)(1,0,1)[7]             : AIC=1514.617, Time=0.33 sec\n",
            " ARIMA(1,2,1)(1,0,1)[7]             : AIC=1515.081, Time=0.27 sec\n",
            " ARIMA(0,2,1)(1,0,1)[7]             : AIC=1514.379, Time=0.24 sec\n",
            " ARIMA(2,2,1)(1,0,1)[7]             : AIC=1516.518, Time=0.43 sec\n",
            " ARIMA(1,2,0)(1,0,1)[7] intercept   : AIC=1515.703, Time=0.40 sec\n",
            "\n",
            "Best model:  ARIMA(1,2,0)(1,0,1)[7]          \n",
            "Total fit time: 4.871 seconds\n"
          ]
        },
        {
          "output_type": "execute_result",
          "data": {
            "text/plain": [
              "ARIMA(maxiter=50, method='lbfgs', order=(1, 2, 0), out_of_sample_size=0,\n",
              "      scoring='mse', scoring_args={}, seasonal_order=(1, 0, 1, 7),\n",
              "      start_params=None, suppress_warnings=True, trend=None,\n",
              "      with_intercept=False)"
            ]
          },
          "metadata": {},
          "execution_count": 345
        }
      ]
    },
    {
      "cell_type": "code",
      "metadata": {
        "id": "MHvowDS0Msxy"
      },
      "source": [
        "prediction_sarima=model_sarima.predict(len(valid))\n",
        "y_pred[\"SARIMA Model Prediction\"]=prediction_sarima"
      ],
      "execution_count": 346,
      "outputs": []
    },
    {
      "cell_type": "code",
      "metadata": {
        "id": "27ZiHmMaMhGX",
        "colab": {
          "base_uri": "https://localhost:8080/"
        },
        "outputId": "04890054-65c6-4ef0-ee9a-2c08ca6e989c"
      },
      "source": [
        "model_scores.append(np.sqrt(mean_squared_error(y_pred[\"dead\"],y_pred[\"SARIMA Model Prediction\"])))\n",
        "print(\"Root Mean Square Error for SARIMA Model: \",np.sqrt(mean_squared_error(y_pred[\"dead\"],y_pred[\"SARIMA Model Prediction\"])))"
      ],
      "execution_count": 347,
      "outputs": [
        {
          "output_type": "stream",
          "name": "stdout",
          "text": [
            "Root Mean Square Error for SARIMA Model:  23.704357208286048\n"
          ]
        }
      ]
    },
    {
      "cell_type": "code",
      "metadata": {
        "id": "Z7pZ16DnMw5L",
        "colab": {
          "base_uri": "https://localhost:8080/",
          "height": 542
        },
        "outputId": "c2ae0b32-131a-429c-a16c-2ffc25f03734"
      },
      "source": [
        "fig=go.Figure()\n",
        "fig.add_trace(go.Scatter(x=model_train.index, y=model_train[\"dead\"],\n",
        "                    mode='lines+markers',name=\"Train Data for dead Cases\"))\n",
        "fig.add_trace(go.Scatter(x=valid.index, y=valid[\"dead\"],\n",
        "                    mode='lines+markers',name=\"Validation Data for dead Cases\",))\n",
        "fig.add_trace(go.Scatter(x=valid.index, y=y_pred[\"SARIMA Model Prediction\"],\n",
        "                    mode='lines+markers',name=\"Prediction for dead Cases\",))\n",
        "fig.update_layout(title=\"newly dead Cases SARIMA Model Prediction\",\n",
        "                 xaxis_title=\"Date\",yaxis_title=\"dead Cases\",legend=dict(x=0,y=1,traceorder=\"normal\"))\n",
        "fig.show()"
      ],
      "execution_count": 348,
      "outputs": [
        {
          "output_type": "display_data",
          "data": {
            "text/html": [
              "<html>\n",
              "<head><meta charset=\"utf-8\" /></head>\n",
              "<body>\n",
              "    <div>\n",
              "            <script src=\"https://cdnjs.cloudflare.com/ajax/libs/mathjax/2.7.5/MathJax.js?config=TeX-AMS-MML_SVG\"></script><script type=\"text/javascript\">if (window.MathJax) {MathJax.Hub.Config({SVG: {font: \"STIX-Web\"}});}</script>\n",
              "                <script type=\"text/javascript\">window.PlotlyConfig = {MathJaxConfig: 'local'};</script>\n",
              "        <script src=\"https://cdn.plot.ly/plotly-latest.min.js\"></script>    \n",
              "            <div id=\"13e212ba-2d78-4e65-b903-c8ac9a406de2\" class=\"plotly-graph-div\" style=\"height:525px; width:100%;\"></div>\n",
              "            <script type=\"text/javascript\">\n",
              "                \n",
              "                    window.PLOTLYENV=window.PLOTLYENV || {};\n",
              "                    \n",
              "                if (document.getElementById(\"13e212ba-2d78-4e65-b903-c8ac9a406de2\")) {\n",
              "                    Plotly.newPlot(\n",
              "                        '13e212ba-2d78-4e65-b903-c8ac9a406de2',\n",
              "                        [{\"mode\": \"lines+markers\", \"name\": \"Train Data for dead Cases\", \"type\": \"scatter\", \"x\": [\"2021-04-01T00:00:00\", \"2021-04-02T00:00:00\", \"2021-04-03T00:00:00\", \"2021-04-04T00:00:00\", \"2021-04-05T00:00:00\", \"2021-04-06T00:00:00\", \"2021-04-07T00:00:00\", \"2021-04-08T00:00:00\", \"2021-04-09T00:00:00\", \"2021-04-10T00:00:00\", \"2021-04-11T00:00:00\", \"2021-04-12T00:00:00\", \"2021-04-13T00:00:00\", \"2021-04-14T00:00:00\", \"2021-04-15T00:00:00\", \"2021-04-16T00:00:00\", \"2021-04-17T00:00:00\", \"2021-04-18T00:00:00\", \"2021-04-19T00:00:00\", \"2021-04-20T00:00:00\", \"2021-04-21T00:00:00\", \"2021-04-22T00:00:00\", \"2021-04-23T00:00:00\", \"2021-04-24T00:00:00\", \"2021-04-25T00:00:00\", \"2021-04-26T00:00:00\", \"2021-04-27T00:00:00\", \"2021-04-28T00:00:00\", \"2021-04-29T00:00:00\", \"2021-04-30T00:00:00\", \"2021-05-01T00:00:00\", \"2021-05-02T00:00:00\", \"2021-05-03T00:00:00\", \"2021-05-04T00:00:00\", \"2021-05-05T00:00:00\", \"2021-05-06T00:00:00\", \"2021-05-07T00:00:00\", \"2021-05-08T00:00:00\", \"2021-05-09T00:00:00\", \"2021-05-10T00:00:00\", \"2021-05-11T00:00:00\", \"2021-05-12T00:00:00\", \"2021-05-13T00:00:00\", \"2021-05-14T00:00:00\", \"2021-05-15T00:00:00\", \"2021-05-16T00:00:00\", \"2021-05-17T00:00:00\", \"2021-05-18T00:00:00\", \"2021-05-19T00:00:00\", \"2021-05-20T00:00:00\", \"2021-05-21T00:00:00\", \"2021-05-22T00:00:00\", \"2021-05-23T00:00:00\", \"2021-05-24T00:00:00\", \"2021-05-25T00:00:00\", \"2021-05-26T00:00:00\", \"2021-05-27T00:00:00\", \"2021-05-28T00:00:00\", \"2021-05-29T00:00:00\", \"2021-05-30T00:00:00\", \"2021-05-31T00:00:00\", \"2021-06-01T00:00:00\", \"2021-06-02T00:00:00\", \"2021-06-03T00:00:00\", \"2021-06-04T00:00:00\", \"2021-06-05T00:00:00\", \"2021-06-06T00:00:00\", \"2021-06-07T00:00:00\", \"2021-06-08T00:00:00\", \"2021-06-09T00:00:00\", \"2021-06-10T00:00:00\", \"2021-06-11T00:00:00\", \"2021-06-12T00:00:00\", \"2021-06-13T00:00:00\", \"2021-06-14T00:00:00\", \"2021-06-15T00:00:00\", \"2021-06-16T00:00:00\", \"2021-06-17T00:00:00\", \"2021-06-18T00:00:00\", \"2021-06-19T00:00:00\", \"2021-06-20T00:00:00\", \"2021-06-21T00:00:00\", \"2021-06-22T00:00:00\", \"2021-06-23T00:00:00\", \"2021-06-24T00:00:00\", \"2021-06-25T00:00:00\", \"2021-06-26T00:00:00\", \"2021-06-27T00:00:00\", \"2021-06-28T00:00:00\", \"2021-06-29T00:00:00\", \"2021-06-30T00:00:00\", \"2021-07-01T00:00:00\", \"2021-07-02T00:00:00\", \"2021-07-03T00:00:00\", \"2021-07-04T00:00:00\", \"2021-07-05T00:00:00\", \"2021-07-06T00:00:00\", \"2021-07-07T00:00:00\", \"2021-07-08T00:00:00\", \"2021-07-09T00:00:00\", \"2021-07-10T00:00:00\", \"2021-07-11T00:00:00\", \"2021-07-12T00:00:00\", \"2021-07-13T00:00:00\", \"2021-07-14T00:00:00\", \"2021-07-15T00:00:00\", \"2021-07-16T00:00:00\", \"2021-07-17T00:00:00\", \"2021-07-18T00:00:00\", \"2021-07-19T00:00:00\", \"2021-07-20T00:00:00\", \"2021-07-21T00:00:00\", \"2021-07-22T00:00:00\", \"2021-07-23T00:00:00\", \"2021-07-24T00:00:00\", \"2021-07-25T00:00:00\", \"2021-07-26T00:00:00\", \"2021-07-27T00:00:00\", \"2021-07-28T00:00:00\", \"2021-07-29T00:00:00\", \"2021-07-30T00:00:00\", \"2021-07-31T00:00:00\", \"2021-08-01T00:00:00\", \"2021-08-02T00:00:00\", \"2021-08-03T00:00:00\", \"2021-08-04T00:00:00\", \"2021-08-05T00:00:00\", \"2021-08-06T00:00:00\", \"2021-08-07T00:00:00\", \"2021-08-08T00:00:00\", \"2021-08-09T00:00:00\", \"2021-08-10T00:00:00\", \"2021-08-11T00:00:00\", \"2021-08-12T00:00:00\", \"2021-08-13T00:00:00\", \"2021-08-14T00:00:00\", \"2021-08-15T00:00:00\", \"2021-08-16T00:00:00\", \"2021-08-17T00:00:00\", \"2021-08-18T00:00:00\", \"2021-08-19T00:00:00\", \"2021-08-20T00:00:00\", \"2021-08-21T00:00:00\", \"2021-08-22T00:00:00\", \"2021-08-23T00:00:00\", \"2021-08-24T00:00:00\", \"2021-08-25T00:00:00\", \"2021-08-26T00:00:00\", \"2021-08-27T00:00:00\", \"2021-08-28T00:00:00\", \"2021-08-29T00:00:00\", \"2021-08-30T00:00:00\", \"2021-08-31T00:00:00\", \"2021-09-01T00:00:00\", \"2021-09-02T00:00:00\", \"2021-09-03T00:00:00\", \"2021-09-04T00:00:00\", \"2021-09-05T00:00:00\", \"2021-09-06T00:00:00\", \"2021-09-07T00:00:00\", \"2021-09-08T00:00:00\", \"2021-09-09T00:00:00\", \"2021-09-10T00:00:00\", \"2021-09-11T00:00:00\", \"2021-09-12T00:00:00\", \"2021-09-13T00:00:00\", \"2021-09-14T00:00:00\", \"2021-09-15T00:00:00\", \"2021-09-16T00:00:00\", \"2021-09-17T00:00:00\", \"2021-09-18T00:00:00\", \"2021-09-19T00:00:00\", \"2021-09-20T00:00:00\"], \"y\": [12738, 12750, 12764, 12778, 12789, 12804, 12821, 12840, 12863, 12886, 12908, 12927, 12945, 12970, 12999, 13032, 13071, 13113, 13157, 13205, 13258, 13317, 13395, 13475, 13557, 13651, 13728, 13826, 13933, 14046, 14193, 14346, 14468, 14612, 14779, 14974, 15171, 15412, 15648, 15880, 16178, 16471, 16768, 17056, 17359, 17670, 18005, 18369, 18734, 19131, 19598, 20046, 20468, 20872, 21340, 21815, 22289, 22775, 23261, 23754, 24232, 24722, 25205, 25665, 26128, 26571, 27005, 27356, 27765, 28170, 28528, 28906, 29280, 29547, 29801, 30068, 30338, 30548, 30835, 31015, 31197, 31386, 31580, 31746, 31901, 32051, 32199, 32290, 32388, 32506, 32619, 32721, 32818, 32933, 33005, 33059, 33132, 33196, 33253, 33322, 33371, 33418, 33454, 33502, 33557, 33606, 33652, 33695, 33724, 33752, 33782, 33809, 33838, 33862, 33889, 33911, 33937, 33966, 33995, 34023, 34050, 34076, 34102, 34130, 34159, 34197, 34230, 34260, 34289, 34317, 34340, 34367, 34395, 34428, 34462, 34496, 34519, 34547, 34579, 34610, 34639, 34663, 34686, 34709, 34734, 34761, 34788, 34814, 34835, 34856, 34878, 34899, 34921, 34941, 34961, 34980, 35000, 35018, 35036, 35055, 35073, 35094, 35119, 35146, 35168, 35190, 35217, 35246, 35271, 35288, 35310, 35337, 35360]}, {\"mode\": \"lines+markers\", \"name\": \"Validation Data for dead Cases\", \"type\": \"scatter\", \"x\": [\"2021-09-21T00:00:00\", \"2021-09-22T00:00:00\", \"2021-09-23T00:00:00\", \"2021-09-24T00:00:00\", \"2021-09-25T00:00:00\", \"2021-09-26T00:00:00\", \"2021-09-27T00:00:00\", \"2021-09-28T00:00:00\", \"2021-09-29T00:00:00\", \"2021-09-30T00:00:00\"], \"y\": [35379, 35400, 35427, 35454, 35476, 35490, 35509, 35526, 35550, 35578]}, {\"mode\": \"lines+markers\", \"name\": \"Prediction for dead Cases\", \"type\": \"scatter\", \"x\": [\"2021-09-21T00:00:00\", \"2021-09-22T00:00:00\", \"2021-09-23T00:00:00\", \"2021-09-24T00:00:00\", \"2021-09-25T00:00:00\", \"2021-09-26T00:00:00\", \"2021-09-27T00:00:00\", \"2021-09-28T00:00:00\", \"2021-09-29T00:00:00\", \"2021-09-30T00:00:00\"], \"y\": [35386.04671530983, 35412.07876844022, 35437.37534331412, 35460.51568700964, 35485.465904135905, 35511.161804239855, 35535.66246906314, 35561.82377600657, 35588.139290938045, 35613.87547546489]}],\n",
              "                        {\"legend\": {\"traceorder\": \"normal\", \"x\": 0, \"y\": 1}, \"template\": {\"data\": {\"bar\": [{\"error_x\": {\"color\": \"#2a3f5f\"}, \"error_y\": {\"color\": \"#2a3f5f\"}, \"marker\": {\"line\": {\"color\": \"#E5ECF6\", \"width\": 0.5}}, \"type\": \"bar\"}], \"barpolar\": [{\"marker\": {\"line\": {\"color\": \"#E5ECF6\", \"width\": 0.5}}, \"type\": \"barpolar\"}], \"carpet\": [{\"aaxis\": {\"endlinecolor\": \"#2a3f5f\", \"gridcolor\": \"white\", \"linecolor\": \"white\", \"minorgridcolor\": \"white\", \"startlinecolor\": \"#2a3f5f\"}, \"baxis\": {\"endlinecolor\": \"#2a3f5f\", \"gridcolor\": \"white\", \"linecolor\": \"white\", \"minorgridcolor\": \"white\", \"startlinecolor\": \"#2a3f5f\"}, \"type\": \"carpet\"}], \"choropleth\": [{\"colorbar\": {\"outlinewidth\": 0, \"ticks\": \"\"}, \"type\": \"choropleth\"}], \"contour\": [{\"colorbar\": {\"outlinewidth\": 0, \"ticks\": \"\"}, \"colorscale\": [[0.0, \"#0d0887\"], [0.1111111111111111, \"#46039f\"], [0.2222222222222222, \"#7201a8\"], [0.3333333333333333, \"#9c179e\"], [0.4444444444444444, \"#bd3786\"], [0.5555555555555556, \"#d8576b\"], [0.6666666666666666, \"#ed7953\"], [0.7777777777777778, \"#fb9f3a\"], [0.8888888888888888, \"#fdca26\"], [1.0, \"#f0f921\"]], \"type\": \"contour\"}], \"contourcarpet\": [{\"colorbar\": {\"outlinewidth\": 0, \"ticks\": \"\"}, \"type\": \"contourcarpet\"}], \"heatmap\": [{\"colorbar\": {\"outlinewidth\": 0, \"ticks\": \"\"}, \"colorscale\": [[0.0, \"#0d0887\"], [0.1111111111111111, \"#46039f\"], [0.2222222222222222, \"#7201a8\"], [0.3333333333333333, \"#9c179e\"], [0.4444444444444444, \"#bd3786\"], [0.5555555555555556, \"#d8576b\"], [0.6666666666666666, \"#ed7953\"], [0.7777777777777778, \"#fb9f3a\"], [0.8888888888888888, \"#fdca26\"], [1.0, \"#f0f921\"]], \"type\": \"heatmap\"}], \"heatmapgl\": [{\"colorbar\": {\"outlinewidth\": 0, \"ticks\": \"\"}, \"colorscale\": [[0.0, \"#0d0887\"], [0.1111111111111111, \"#46039f\"], [0.2222222222222222, \"#7201a8\"], [0.3333333333333333, \"#9c179e\"], [0.4444444444444444, \"#bd3786\"], [0.5555555555555556, \"#d8576b\"], [0.6666666666666666, \"#ed7953\"], [0.7777777777777778, \"#fb9f3a\"], [0.8888888888888888, \"#fdca26\"], [1.0, \"#f0f921\"]], \"type\": \"heatmapgl\"}], \"histogram\": [{\"marker\": {\"colorbar\": {\"outlinewidth\": 0, \"ticks\": \"\"}}, \"type\": \"histogram\"}], \"histogram2d\": [{\"colorbar\": {\"outlinewidth\": 0, \"ticks\": \"\"}, \"colorscale\": [[0.0, \"#0d0887\"], [0.1111111111111111, \"#46039f\"], [0.2222222222222222, \"#7201a8\"], [0.3333333333333333, \"#9c179e\"], [0.4444444444444444, \"#bd3786\"], [0.5555555555555556, \"#d8576b\"], [0.6666666666666666, \"#ed7953\"], [0.7777777777777778, \"#fb9f3a\"], [0.8888888888888888, \"#fdca26\"], [1.0, \"#f0f921\"]], \"type\": \"histogram2d\"}], \"histogram2dcontour\": [{\"colorbar\": {\"outlinewidth\": 0, \"ticks\": \"\"}, \"colorscale\": [[0.0, \"#0d0887\"], [0.1111111111111111, \"#46039f\"], [0.2222222222222222, \"#7201a8\"], [0.3333333333333333, \"#9c179e\"], [0.4444444444444444, \"#bd3786\"], [0.5555555555555556, \"#d8576b\"], [0.6666666666666666, \"#ed7953\"], [0.7777777777777778, \"#fb9f3a\"], [0.8888888888888888, \"#fdca26\"], [1.0, \"#f0f921\"]], \"type\": \"histogram2dcontour\"}], \"mesh3d\": [{\"colorbar\": {\"outlinewidth\": 0, \"ticks\": \"\"}, \"type\": \"mesh3d\"}], \"parcoords\": [{\"line\": {\"colorbar\": {\"outlinewidth\": 0, \"ticks\": \"\"}}, \"type\": \"parcoords\"}], \"pie\": [{\"automargin\": true, \"type\": \"pie\"}], \"scatter\": [{\"marker\": {\"colorbar\": {\"outlinewidth\": 0, \"ticks\": \"\"}}, \"type\": \"scatter\"}], \"scatter3d\": [{\"line\": {\"colorbar\": {\"outlinewidth\": 0, \"ticks\": \"\"}}, \"marker\": {\"colorbar\": {\"outlinewidth\": 0, \"ticks\": \"\"}}, \"type\": \"scatter3d\"}], \"scattercarpet\": [{\"marker\": {\"colorbar\": {\"outlinewidth\": 0, \"ticks\": \"\"}}, \"type\": \"scattercarpet\"}], \"scattergeo\": [{\"marker\": {\"colorbar\": {\"outlinewidth\": 0, \"ticks\": \"\"}}, \"type\": \"scattergeo\"}], \"scattergl\": [{\"marker\": {\"colorbar\": {\"outlinewidth\": 0, \"ticks\": \"\"}}, \"type\": \"scattergl\"}], \"scattermapbox\": [{\"marker\": {\"colorbar\": {\"outlinewidth\": 0, \"ticks\": \"\"}}, \"type\": \"scattermapbox\"}], \"scatterpolar\": [{\"marker\": {\"colorbar\": {\"outlinewidth\": 0, \"ticks\": \"\"}}, \"type\": \"scatterpolar\"}], \"scatterpolargl\": [{\"marker\": {\"colorbar\": {\"outlinewidth\": 0, \"ticks\": \"\"}}, \"type\": \"scatterpolargl\"}], \"scatterternary\": [{\"marker\": {\"colorbar\": {\"outlinewidth\": 0, \"ticks\": \"\"}}, \"type\": \"scatterternary\"}], \"surface\": [{\"colorbar\": {\"outlinewidth\": 0, \"ticks\": \"\"}, \"colorscale\": [[0.0, \"#0d0887\"], [0.1111111111111111, \"#46039f\"], [0.2222222222222222, \"#7201a8\"], [0.3333333333333333, \"#9c179e\"], [0.4444444444444444, \"#bd3786\"], [0.5555555555555556, \"#d8576b\"], [0.6666666666666666, \"#ed7953\"], [0.7777777777777778, \"#fb9f3a\"], [0.8888888888888888, \"#fdca26\"], [1.0, \"#f0f921\"]], \"type\": \"surface\"}], \"table\": [{\"cells\": {\"fill\": {\"color\": \"#EBF0F8\"}, \"line\": {\"color\": \"white\"}}, \"header\": {\"fill\": {\"color\": \"#C8D4E3\"}, \"line\": {\"color\": \"white\"}}, \"type\": \"table\"}]}, \"layout\": {\"annotationdefaults\": {\"arrowcolor\": \"#2a3f5f\", \"arrowhead\": 0, \"arrowwidth\": 1}, \"coloraxis\": {\"colorbar\": {\"outlinewidth\": 0, \"ticks\": \"\"}}, \"colorscale\": {\"diverging\": [[0, \"#8e0152\"], [0.1, \"#c51b7d\"], [0.2, \"#de77ae\"], [0.3, \"#f1b6da\"], [0.4, \"#fde0ef\"], [0.5, \"#f7f7f7\"], [0.6, \"#e6f5d0\"], [0.7, \"#b8e186\"], [0.8, \"#7fbc41\"], [0.9, \"#4d9221\"], [1, \"#276419\"]], \"sequential\": [[0.0, \"#0d0887\"], [0.1111111111111111, \"#46039f\"], [0.2222222222222222, \"#7201a8\"], [0.3333333333333333, \"#9c179e\"], [0.4444444444444444, \"#bd3786\"], [0.5555555555555556, \"#d8576b\"], [0.6666666666666666, \"#ed7953\"], [0.7777777777777778, \"#fb9f3a\"], [0.8888888888888888, \"#fdca26\"], [1.0, \"#f0f921\"]], \"sequentialminus\": [[0.0, \"#0d0887\"], [0.1111111111111111, \"#46039f\"], [0.2222222222222222, \"#7201a8\"], [0.3333333333333333, \"#9c179e\"], [0.4444444444444444, \"#bd3786\"], [0.5555555555555556, \"#d8576b\"], [0.6666666666666666, \"#ed7953\"], [0.7777777777777778, \"#fb9f3a\"], [0.8888888888888888, \"#fdca26\"], [1.0, \"#f0f921\"]]}, \"colorway\": [\"#636efa\", \"#EF553B\", \"#00cc96\", \"#ab63fa\", \"#FFA15A\", \"#19d3f3\", \"#FF6692\", \"#B6E880\", \"#FF97FF\", \"#FECB52\"], \"font\": {\"color\": \"#2a3f5f\"}, \"geo\": {\"bgcolor\": \"white\", \"lakecolor\": \"white\", \"landcolor\": \"#E5ECF6\", \"showlakes\": true, \"showland\": true, \"subunitcolor\": \"white\"}, \"hoverlabel\": {\"align\": \"left\"}, \"hovermode\": \"closest\", \"mapbox\": {\"style\": \"light\"}, \"paper_bgcolor\": \"white\", \"plot_bgcolor\": \"#E5ECF6\", \"polar\": {\"angularaxis\": {\"gridcolor\": \"white\", \"linecolor\": \"white\", \"ticks\": \"\"}, \"bgcolor\": \"#E5ECF6\", \"radialaxis\": {\"gridcolor\": \"white\", \"linecolor\": \"white\", \"ticks\": \"\"}}, \"scene\": {\"xaxis\": {\"backgroundcolor\": \"#E5ECF6\", \"gridcolor\": \"white\", \"gridwidth\": 2, \"linecolor\": \"white\", \"showbackground\": true, \"ticks\": \"\", \"zerolinecolor\": \"white\"}, \"yaxis\": {\"backgroundcolor\": \"#E5ECF6\", \"gridcolor\": \"white\", \"gridwidth\": 2, \"linecolor\": \"white\", \"showbackground\": true, \"ticks\": \"\", \"zerolinecolor\": \"white\"}, \"zaxis\": {\"backgroundcolor\": \"#E5ECF6\", \"gridcolor\": \"white\", \"gridwidth\": 2, \"linecolor\": \"white\", \"showbackground\": true, \"ticks\": \"\", \"zerolinecolor\": \"white\"}}, \"shapedefaults\": {\"line\": {\"color\": \"#2a3f5f\"}}, \"ternary\": {\"aaxis\": {\"gridcolor\": \"white\", \"linecolor\": \"white\", \"ticks\": \"\"}, \"baxis\": {\"gridcolor\": \"white\", \"linecolor\": \"white\", \"ticks\": \"\"}, \"bgcolor\": \"#E5ECF6\", \"caxis\": {\"gridcolor\": \"white\", \"linecolor\": \"white\", \"ticks\": \"\"}}, \"title\": {\"x\": 0.05}, \"xaxis\": {\"automargin\": true, \"gridcolor\": \"white\", \"linecolor\": \"white\", \"ticks\": \"\", \"title\": {\"standoff\": 15}, \"zerolinecolor\": \"white\", \"zerolinewidth\": 2}, \"yaxis\": {\"automargin\": true, \"gridcolor\": \"white\", \"linecolor\": \"white\", \"ticks\": \"\", \"title\": {\"standoff\": 15}, \"zerolinecolor\": \"white\", \"zerolinewidth\": 2}}}, \"title\": {\"text\": \"newly dead Cases SARIMA Model Prediction\"}, \"xaxis\": {\"title\": {\"text\": \"Date\"}}, \"yaxis\": {\"title\": {\"text\": \"dead Cases\"}}},\n",
              "                        {\"responsive\": true}\n",
              "                    ).then(function(){\n",
              "                            \n",
              "var gd = document.getElementById('13e212ba-2d78-4e65-b903-c8ac9a406de2');\n",
              "var x = new MutationObserver(function (mutations, observer) {{\n",
              "        var display = window.getComputedStyle(gd).display;\n",
              "        if (!display || display === 'none') {{\n",
              "            console.log([gd, 'removed!']);\n",
              "            Plotly.purge(gd);\n",
              "            observer.disconnect();\n",
              "        }}\n",
              "}});\n",
              "\n",
              "// Listen for the removal of the full notebook cells\n",
              "var notebookContainer = gd.closest('#notebook-container');\n",
              "if (notebookContainer) {{\n",
              "    x.observe(notebookContainer, {childList: true});\n",
              "}}\n",
              "\n",
              "// Listen for the clearing of the current output cell\n",
              "var outputEl = gd.closest('.output');\n",
              "if (outputEl) {{\n",
              "    x.observe(outputEl, {childList: true});\n",
              "}}\n",
              "\n",
              "                        })\n",
              "                };\n",
              "                \n",
              "            </script>\n",
              "        </div>\n",
              "</body>\n",
              "</html>"
            ]
          },
          "metadata": {}
        }
      ]
    },
    {
      "cell_type": "code",
      "metadata": {
        "id": "ujNiwPZqM7QC",
        "colab": {
          "base_uri": "https://localhost:8080/",
          "height": 660
        },
        "outputId": "b4b71e96-c1cc-4da4-b64c-e2df0ca2cd92"
      },
      "source": [
        "SARIMA_model_new_prediction=[]\n",
        "for i in range(1,365):\n",
        "    SARIMA_model_new_prediction.append(model_sarima.predict(len(valid)+i)[-1])\n",
        "model_predictions[\"SARIMA Model Prediction\"]=SARIMA_model_new_prediction\n",
        "model_predictions"
      ],
      "execution_count": 349,
      "outputs": [
        {
          "output_type": "execute_result",
          "data": {
            "text/html": [
              "<div>\n",
              "<style scoped>\n",
              "    .dataframe tbody tr th:only-of-type {\n",
              "        vertical-align: middle;\n",
              "    }\n",
              "\n",
              "    .dataframe tbody tr th {\n",
              "        vertical-align: top;\n",
              "    }\n",
              "\n",
              "    .dataframe thead th {\n",
              "        text-align: right;\n",
              "    }\n",
              "</style>\n",
              "<table border=\"1\" class=\"dataframe\">\n",
              "  <thead>\n",
              "    <tr style=\"text-align: right;\">\n",
              "      <th></th>\n",
              "      <th>date</th>\n",
              "      <th>Polynonmial Regression Prediction</th>\n",
              "      <th>SVM Prediction</th>\n",
              "      <th>Holt's Linear Model Prediction</th>\n",
              "      <th>Holt's Winter Model Prediction</th>\n",
              "      <th>AR Model Prediction</th>\n",
              "      <th>MA Model Prediction</th>\n",
              "      <th>ARIMA Model Prediction</th>\n",
              "      <th>SARIMA Model Prediction</th>\n",
              "    </tr>\n",
              "  </thead>\n",
              "  <tbody>\n",
              "    <tr>\n",
              "      <th>0</th>\n",
              "      <td>2021-10-01</td>\n",
              "      <td>44495.114581</td>\n",
              "      <td>45478.513196</td>\n",
              "      <td>35620.178009</td>\n",
              "      <td>35634.704262</td>\n",
              "      <td>35638.364946</td>\n",
              "      <td>35623.490061</td>\n",
              "      <td>35587.082555</td>\n",
              "      <td>35638.080888</td>\n",
              "    </tr>\n",
              "    <tr>\n",
              "      <th>1</th>\n",
              "      <td>2021-10-02</td>\n",
              "      <td>46155.767294</td>\n",
              "      <td>46043.686337</td>\n",
              "      <td>35643.738237</td>\n",
              "      <td>35665.496743</td>\n",
              "      <td>35664.528413</td>\n",
              "      <td>35647.841027</td>\n",
              "      <td>35603.919846</td>\n",
              "      <td>35663.579702</td>\n",
              "    </tr>\n",
              "    <tr>\n",
              "      <th>2</th>\n",
              "      <td>2021-10-03</td>\n",
              "      <td>48032.109538</td>\n",
              "      <td>46624.427899</td>\n",
              "      <td>35667.298466</td>\n",
              "      <td>35691.322765</td>\n",
              "      <td>35690.866893</td>\n",
              "      <td>35672.258215</td>\n",
              "      <td>35620.253200</td>\n",
              "      <td>35689.615096</td>\n",
              "    </tr>\n",
              "    <tr>\n",
              "      <th>3</th>\n",
              "      <td>2021-10-04</td>\n",
              "      <td>50144.602820</td>\n",
              "      <td>47221.079088</td>\n",
              "      <td>35690.858694</td>\n",
              "      <td>35705.972391</td>\n",
              "      <td>35717.197143</td>\n",
              "      <td>35696.741623</td>\n",
              "      <td>35636.110610</td>\n",
              "      <td>35714.792476</td>\n",
              "    </tr>\n",
              "    <tr>\n",
              "      <th>4</th>\n",
              "      <td>2021-10-05</td>\n",
              "      <td>52515.101177</td>\n",
              "      <td>47833.986692</td>\n",
              "      <td>35714.418923</td>\n",
              "      <td>35727.657946</td>\n",
              "      <td>35743.601788</td>\n",
              "      <td>35721.291252</td>\n",
              "      <td>35651.518711</td>\n",
              "      <td>35741.161430</td>\n",
              "    </tr>\n",
              "    <tr>\n",
              "      <th>...</th>\n",
              "      <td>...</td>\n",
              "      <td>...</td>\n",
              "      <td>...</td>\n",
              "      <td>...</td>\n",
              "      <td>...</td>\n",
              "      <td>...</td>\n",
              "      <td>...</td>\n",
              "      <td>...</td>\n",
              "      <td>...</td>\n",
              "    </tr>\n",
              "    <tr>\n",
              "      <th>359</th>\n",
              "      <td>2022-09-25</td>\n",
              "      <td>18495429363.409454</td>\n",
              "      <td>11505646.784762</td>\n",
              "      <td>44078.300028</td>\n",
              "      <td>44569.569764</td>\n",
              "      <td>50084.910092</td>\n",
              "      <td>48620.900397</td>\n",
              "      <td>42369.402948</td>\n",
              "      <td>45266.578737</td>\n",
              "    </tr>\n",
              "    <tr>\n",
              "      <th>360</th>\n",
              "      <td>2022-09-26</td>\n",
              "      <td>18822763540.271004</td>\n",
              "      <td>11633287.834124</td>\n",
              "      <td>44101.860257</td>\n",
              "      <td>44581.474244</td>\n",
              "      <td>50139.236745</td>\n",
              "      <td>48669.024622</td>\n",
              "      <td>42400.998006</td>\n",
              "      <td>45293.474805</td>\n",
              "    </tr>\n",
              "    <tr>\n",
              "      <th>361</th>\n",
              "      <td>2022-09-27</td>\n",
              "      <td>19155135402.187019</td>\n",
              "      <td>11762109.642338</td>\n",
              "      <td>44125.420485</td>\n",
              "      <td>44600.849145</td>\n",
              "      <td>50193.641647</td>\n",
              "      <td>48717.215069</td>\n",
              "      <td>42432.667455</td>\n",
              "      <td>45320.370872</td>\n",
              "    </tr>\n",
              "    <tr>\n",
              "      <th>362</th>\n",
              "      <td>2022-09-28</td>\n",
              "      <td>19492610988.858364</td>\n",
              "      <td>11892120.931541</td>\n",
              "      <td>44148.980713</td>\n",
              "      <td>44628.621049</td>\n",
              "      <td>50248.124799</td>\n",
              "      <td>48765.471736</td>\n",
              "      <td>42464.411295</td>\n",
              "      <td>45347.266940</td>\n",
              "    </tr>\n",
              "    <tr>\n",
              "      <th>363</th>\n",
              "      <td>2022-09-29</td>\n",
              "      <td>19835257056.886589</td>\n",
              "      <td>12023330.471999</td>\n",
              "      <td>44172.540942</td>\n",
              "      <td>44650.766014</td>\n",
              "      <td>50302.686200</td>\n",
              "      <td>48813.794623</td>\n",
              "      <td>42496.229528</td>\n",
              "      <td>45374.163008</td>\n",
              "    </tr>\n",
              "  </tbody>\n",
              "</table>\n",
              "<p>364 rows × 9 columns</p>\n",
              "</div>"
            ],
            "text/plain": [
              "          date  ...  SARIMA Model Prediction\n",
              "0   2021-10-01  ...             35638.080888\n",
              "1   2021-10-02  ...             35663.579702\n",
              "2   2021-10-03  ...             35689.615096\n",
              "3   2021-10-04  ...             35714.792476\n",
              "4   2021-10-05  ...             35741.161430\n",
              "..         ...  ...                      ...\n",
              "359 2022-09-25  ...             45266.578737\n",
              "360 2022-09-26  ...             45293.474805\n",
              "361 2022-09-27  ...             45320.370872\n",
              "362 2022-09-28  ...             45347.266940\n",
              "363 2022-09-29  ...             45374.163008\n",
              "\n",
              "[364 rows x 9 columns]"
            ]
          },
          "metadata": {},
          "execution_count": 349
        }
      ]
    },
    {
      "cell_type": "markdown",
      "metadata": {
        "id": "dz9eclP3NJC3"
      },
      "source": [
        "FB PROPHET"
      ]
    },
    {
      "cell_type": "code",
      "metadata": {
        "id": "hcJowt2TNEzm"
      },
      "source": [
        "prophet_c=Prophet(interval_width=0.95,weekly_seasonality=True,)\n",
        "prophet_dead=pd.DataFrame(zip(list(datewise.index),list(datewise[\"dead\"])),columns=['ds','y'])"
      ],
      "execution_count": 350,
      "outputs": []
    },
    {
      "cell_type": "code",
      "metadata": {
        "id": "wUMCU3l6NS1e",
        "colab": {
          "base_uri": "https://localhost:8080/"
        },
        "outputId": "ec20dec8-64bc-4507-ceee-bd3004881773"
      },
      "source": [
        "prophet_c.fit(prophet_dead)"
      ],
      "execution_count": 351,
      "outputs": [
        {
          "output_type": "stream",
          "name": "stderr",
          "text": [
            "INFO:fbprophet:Disabling yearly seasonality. Run prophet with yearly_seasonality=True to override this.\n",
            "INFO:fbprophet:Disabling daily seasonality. Run prophet with daily_seasonality=True to override this.\n"
          ]
        },
        {
          "output_type": "execute_result",
          "data": {
            "text/plain": [
              "<fbprophet.forecaster.Prophet at 0x7f1badd0dfd0>"
            ]
          },
          "metadata": {},
          "execution_count": 351
        }
      ]
    },
    {
      "cell_type": "code",
      "metadata": {
        "id": "JqKW7U_dNaq4"
      },
      "source": [
        "forecast_c=prophet_c.make_future_dataframe(periods=364)\n",
        "forecast_dead=forecast_c.copy()"
      ],
      "execution_count": 352,
      "outputs": []
    },
    {
      "cell_type": "code",
      "metadata": {
        "id": "c5-J0LnPNb7G",
        "colab": {
          "base_uri": "https://localhost:8080/"
        },
        "outputId": "20809a01-b477-49ef-e3fb-922914e0aab1"
      },
      "source": [
        "dead_forecast=prophet_c.predict(forecast_c)\n",
        "print(dead_forecast[['ds','yhat', 'yhat_lower', 'yhat_upper']])"
      ],
      "execution_count": 353,
      "outputs": [
        {
          "output_type": "stream",
          "name": "stdout",
          "text": [
            "            ds         yhat     yhat_lower    yhat_upper\n",
            "0   2021-04-01 12727.325713   12694.624050  12758.866685\n",
            "1   2021-04-02 12749.098091   12714.383735  12784.689503\n",
            "2   2021-04-03 12770.821541   12737.872131  12803.550078\n",
            "3   2021-04-04 12782.083309   12748.203636  12815.684073\n",
            "4   2021-04-05 12785.895998   12752.224098  12819.878820\n",
            "..         ...          ...            ...           ...\n",
            "542 2022-09-25 43510.939809 -104301.411880 193333.473248\n",
            "543 2022-09-26 43521.107436 -104860.482545 193840.390303\n",
            "544 2022-09-27 43542.617561 -105427.074995 194597.200499\n",
            "545 2022-09-28 43568.986293 -105808.175613 195401.211269\n",
            "546 2022-09-29 43591.325721 -106385.293292 196219.101179\n",
            "\n",
            "[547 rows x 4 columns]\n"
          ]
        }
      ]
    },
    {
      "cell_type": "code",
      "metadata": {
        "id": "76dayU9BNkn2",
        "colab": {
          "base_uri": "https://localhost:8080/"
        },
        "outputId": "b8d75f20-196c-4cb8-e9ce-78d2baf17b24"
      },
      "source": [
        "model_scores.append(np.sqrt(mean_squared_error(datewise[\"dead\"],dead_forecast['yhat'].head(datewise.shape[0]))))\n",
        "print(\"Root Mean Squared Error for Prophet Model: \",np.sqrt(mean_squared_error(datewise[\"dead\"],dead_forecast['yhat'].head(datewise.shape[0]))))"
      ],
      "execution_count": 354,
      "outputs": [
        {
          "output_type": "stream",
          "name": "stdout",
          "text": [
            "Root Mean Squared Error for Prophet Model:  16.88991420902933\n"
          ]
        }
      ]
    },
    {
      "cell_type": "code",
      "metadata": {
        "id": "LV6_WAA7NsMv",
        "colab": {
          "base_uri": "https://localhost:8080/",
          "height": 458
        },
        "outputId": "3420f257-dd39-4a33-cd8f-f92c9696a78d"
      },
      "source": [
        "print(prophet_c.plot(dead_forecast))"
      ],
      "execution_count": 355,
      "outputs": [
        {
          "output_type": "stream",
          "name": "stdout",
          "text": [
            "Figure(720x432)\n"
          ]
        },
        {
          "output_type": "display_data",
          "data": {
            "image/png": "[encoded data removed]",
            "text/plain": [
              "<Figure size 720x432 with 1 Axes>"
            ]
          },
          "metadata": {}
        }
      ]
    },
    {
      "cell_type": "code",
      "metadata": {
        "id": "r3T0wPwBNyIo",
        "colab": {
          "base_uri": "https://localhost:8080/",
          "height": 458
        },
        "outputId": "2cfabc5b-d235-4acf-fbe5-c33c432d983e"
      },
      "source": [
        "print(prophet_c.plot_components(dead_forecast))"
      ],
      "execution_count": 356,
      "outputs": [
        {
          "output_type": "stream",
          "name": "stdout",
          "text": [
            "Figure(648x432)\n"
          ]
        },
        {
          "output_type": "display_data",
          "data": {
            "image/png": "[encoded data removed]",
            "text/plain": [
              "<Figure size 648x432 with 2 Axes>"
            ]
          },
          "metadata": {}
        }
      ]
    },
    {
      "cell_type": "code",
      "metadata": {
        "id": "2o5cmA2hN-oH",
        "colab": {
          "base_uri": "https://localhost:8080/",
          "height": 328
        },
        "outputId": "64b8ecb0-130e-4b9e-b806-e8c7bda56f6b"
      },
      "source": [
        "model_names=[\"Polynomial Regression\",\"Support Vector Machine Regressor\",\"Holt's Linear\",\"Holt's Winter Model\",\n",
        "            \"Auto Regressive Model (AR)\",\"Moving Average Model (MA)\",\"ARIMA Model\",\"SARIMA Model\",\"Facebook's Prophet Model\"]\n",
        "model_summary=pd.DataFrame(zip(model_names,model_scores),columns=[\"Model Name\",\"Root Mean Squared Error\"]).sort_values([\"Root Mean Squared Error\"])\n",
        "model_summary"
      ],
      "execution_count": 357,
      "outputs": [
        {
          "output_type": "execute_result",
          "data": {
            "text/html": [
              "<div>\n",
              "<style scoped>\n",
              "    .dataframe tbody tr th:only-of-type {\n",
              "        vertical-align: middle;\n",
              "    }\n",
              "\n",
              "    .dataframe tbody tr th {\n",
              "        vertical-align: top;\n",
              "    }\n",
              "\n",
              "    .dataframe thead th {\n",
              "        text-align: right;\n",
              "    }\n",
              "</style>\n",
              "<table border=\"1\" class=\"dataframe\">\n",
              "  <thead>\n",
              "    <tr style=\"text-align: right;\">\n",
              "      <th></th>\n",
              "      <th>Model Name</th>\n",
              "      <th>Root Mean Squared Error</th>\n",
              "    </tr>\n",
              "  </thead>\n",
              "  <tbody>\n",
              "    <tr>\n",
              "      <th>6</th>\n",
              "      <td>ARIMA Model</td>\n",
              "      <td>5.153644</td>\n",
              "    </tr>\n",
              "    <tr>\n",
              "      <th>2</th>\n",
              "      <td>Holt's Linear</td>\n",
              "      <td>14.139651</td>\n",
              "    </tr>\n",
              "    <tr>\n",
              "      <th>5</th>\n",
              "      <td>Moving Average Model (MA)</td>\n",
              "      <td>15.058630</td>\n",
              "    </tr>\n",
              "    <tr>\n",
              "      <th>8</th>\n",
              "      <td>Facebook's Prophet Model</td>\n",
              "      <td>16.889914</td>\n",
              "    </tr>\n",
              "    <tr>\n",
              "      <th>4</th>\n",
              "      <td>Auto Regressive Model (AR)</td>\n",
              "      <td>22.202223</td>\n",
              "    </tr>\n",
              "    <tr>\n",
              "      <th>7</th>\n",
              "      <td>SARIMA Model</td>\n",
              "      <td>23.704357</td>\n",
              "    </tr>\n",
              "    <tr>\n",
              "      <th>3</th>\n",
              "      <td>Holt's Winter Model</td>\n",
              "      <td>27.337525</td>\n",
              "    </tr>\n",
              "    <tr>\n",
              "      <th>0</th>\n",
              "      <td>Polynomial Regression</td>\n",
              "      <td>4033.929329</td>\n",
              "    </tr>\n",
              "    <tr>\n",
              "      <th>1</th>\n",
              "      <td>Support Vector Machine Regressor</td>\n",
              "      <td>7329.581214</td>\n",
              "    </tr>\n",
              "  </tbody>\n",
              "</table>\n",
              "</div>"
            ],
            "text/plain": [
              "                         Model Name  Root Mean Squared Error\n",
              "6                       ARIMA Model                 5.153644\n",
              "2                     Holt's Linear                14.139651\n",
              "5         Moving Average Model (MA)                15.058630\n",
              "8          Facebook's Prophet Model                16.889914\n",
              "4        Auto Regressive Model (AR)                22.202223\n",
              "7                      SARIMA Model                23.704357\n",
              "3               Holt's Winter Model                27.337525\n",
              "0             Polynomial Regression              4033.929329\n",
              "1  Support Vector Machine Regressor              7329.581214"
            ]
          },
          "metadata": {},
          "execution_count": 357
        }
      ]
    },
    {
      "cell_type": "code",
      "metadata": {
        "id": "LYwWQDOMd-T5",
        "colab": {
          "base_uri": "https://localhost:8080/",
          "height": 660
        },
        "outputId": "03606269-449e-4845-e90e-817f0d58c9c8"
      },
      "source": [
        "model_predictions[\"Prophet's Prediction\"]=list(dead_forecast[\"yhat\"].tail(364))\n",
        "model_predictions[\"Prophet's Upper Bound\"]=list(dead_forecast[\"yhat_upper\"].tail(364))\n",
        "model_predictions[\"Prophet's Lower Bound\"]=list(dead_forecast[\"yhat_lower\"].tail(364))\n",
        "model_predictions"
      ],
      "execution_count": 358,
      "outputs": [
        {
          "output_type": "execute_result",
          "data": {
            "text/html": [
              "<div>\n",
              "<style scoped>\n",
              "    .dataframe tbody tr th:only-of-type {\n",
              "        vertical-align: middle;\n",
              "    }\n",
              "\n",
              "    .dataframe tbody tr th {\n",
              "        vertical-align: top;\n",
              "    }\n",
              "\n",
              "    .dataframe thead th {\n",
              "        text-align: right;\n",
              "    }\n",
              "</style>\n",
              "<table border=\"1\" class=\"dataframe\">\n",
              "  <thead>\n",
              "    <tr style=\"text-align: right;\">\n",
              "      <th></th>\n",
              "      <th>date</th>\n",
              "      <th>Polynonmial Regression Prediction</th>\n",
              "      <th>SVM Prediction</th>\n",
              "      <th>Holt's Linear Model Prediction</th>\n",
              "      <th>Holt's Winter Model Prediction</th>\n",
              "      <th>AR Model Prediction</th>\n",
              "      <th>MA Model Prediction</th>\n",
              "      <th>ARIMA Model Prediction</th>\n",
              "      <th>SARIMA Model Prediction</th>\n",
              "      <th>Prophet's Prediction</th>\n",
              "      <th>Prophet's Upper Bound</th>\n",
              "      <th>Prophet's Lower Bound</th>\n",
              "    </tr>\n",
              "  </thead>\n",
              "  <tbody>\n",
              "    <tr>\n",
              "      <th>0</th>\n",
              "      <td>2021-10-01</td>\n",
              "      <td>44495.114581</td>\n",
              "      <td>45478.513196</td>\n",
              "      <td>35620.178009</td>\n",
              "      <td>35634.704262</td>\n",
              "      <td>35638.364946</td>\n",
              "      <td>35623.490061</td>\n",
              "      <td>35587.082555</td>\n",
              "      <td>35638.080888</td>\n",
              "      <td>35600.620359</td>\n",
              "      <td>35638.363181</td>\n",
              "      <td>35561.164857</td>\n",
              "    </tr>\n",
              "    <tr>\n",
              "      <th>1</th>\n",
              "      <td>2021-10-02</td>\n",
              "      <td>46155.767294</td>\n",
              "      <td>46043.686337</td>\n",
              "      <td>35643.738237</td>\n",
              "      <td>35665.496743</td>\n",
              "      <td>35664.528413</td>\n",
              "      <td>35647.841027</td>\n",
              "      <td>35603.919846</td>\n",
              "      <td>35663.579702</td>\n",
              "      <td>35628.698747</td>\n",
              "      <td>35702.034842</td>\n",
              "      <td>35556.301117</td>\n",
              "    </tr>\n",
              "    <tr>\n",
              "      <th>2</th>\n",
              "      <td>2021-10-03</td>\n",
              "      <td>48032.109538</td>\n",
              "      <td>46624.427899</td>\n",
              "      <td>35667.298466</td>\n",
              "      <td>35691.322765</td>\n",
              "      <td>35690.866893</td>\n",
              "      <td>35672.258215</td>\n",
              "      <td>35620.253200</td>\n",
              "      <td>35689.615096</td>\n",
              "      <td>35646.315452</td>\n",
              "      <td>35790.802041</td>\n",
              "      <td>35502.455503</td>\n",
              "    </tr>\n",
              "    <tr>\n",
              "      <th>3</th>\n",
              "      <td>2021-10-04</td>\n",
              "      <td>50144.602820</td>\n",
              "      <td>47221.079088</td>\n",
              "      <td>35690.858694</td>\n",
              "      <td>35705.972391</td>\n",
              "      <td>35717.197143</td>\n",
              "      <td>35696.741623</td>\n",
              "      <td>35636.110610</td>\n",
              "      <td>35714.792476</td>\n",
              "      <td>35656.483079</td>\n",
              "      <td>35871.707158</td>\n",
              "      <td>35416.820588</td>\n",
              "    </tr>\n",
              "    <tr>\n",
              "      <th>4</th>\n",
              "      <td>2021-10-05</td>\n",
              "      <td>52515.101177</td>\n",
              "      <td>47833.986692</td>\n",
              "      <td>35714.418923</td>\n",
              "      <td>35727.657946</td>\n",
              "      <td>35743.601788</td>\n",
              "      <td>35721.291252</td>\n",
              "      <td>35651.518711</td>\n",
              "      <td>35741.161430</td>\n",
              "      <td>35677.993204</td>\n",
              "      <td>35984.259192</td>\n",
              "      <td>35359.396179</td>\n",
              "    </tr>\n",
              "    <tr>\n",
              "      <th>...</th>\n",
              "      <td>...</td>\n",
              "      <td>...</td>\n",
              "      <td>...</td>\n",
              "      <td>...</td>\n",
              "      <td>...</td>\n",
              "      <td>...</td>\n",
              "      <td>...</td>\n",
              "      <td>...</td>\n",
              "      <td>...</td>\n",
              "      <td>...</td>\n",
              "      <td>...</td>\n",
              "      <td>...</td>\n",
              "    </tr>\n",
              "    <tr>\n",
              "      <th>359</th>\n",
              "      <td>2022-09-25</td>\n",
              "      <td>18495429363.409454</td>\n",
              "      <td>11505646.784762</td>\n",
              "      <td>44078.300028</td>\n",
              "      <td>44569.569764</td>\n",
              "      <td>50084.910092</td>\n",
              "      <td>48620.900397</td>\n",
              "      <td>42369.402948</td>\n",
              "      <td>45266.578737</td>\n",
              "      <td>43510.939809</td>\n",
              "      <td>193333.473248</td>\n",
              "      <td>-104301.411880</td>\n",
              "    </tr>\n",
              "    <tr>\n",
              "      <th>360</th>\n",
              "      <td>2022-09-26</td>\n",
              "      <td>18822763540.271004</td>\n",
              "      <td>11633287.834124</td>\n",
              "      <td>44101.860257</td>\n",
              "      <td>44581.474244</td>\n",
              "      <td>50139.236745</td>\n",
              "      <td>48669.024622</td>\n",
              "      <td>42400.998006</td>\n",
              "      <td>45293.474805</td>\n",
              "      <td>43521.107436</td>\n",
              "      <td>193840.390303</td>\n",
              "      <td>-104860.482545</td>\n",
              "    </tr>\n",
              "    <tr>\n",
              "      <th>361</th>\n",
              "      <td>2022-09-27</td>\n",
              "      <td>19155135402.187019</td>\n",
              "      <td>11762109.642338</td>\n",
              "      <td>44125.420485</td>\n",
              "      <td>44600.849145</td>\n",
              "      <td>50193.641647</td>\n",
              "      <td>48717.215069</td>\n",
              "      <td>42432.667455</td>\n",
              "      <td>45320.370872</td>\n",
              "      <td>43542.617561</td>\n",
              "      <td>194597.200499</td>\n",
              "      <td>-105427.074995</td>\n",
              "    </tr>\n",
              "    <tr>\n",
              "      <th>362</th>\n",
              "      <td>2022-09-28</td>\n",
              "      <td>19492610988.858364</td>\n",
              "      <td>11892120.931541</td>\n",
              "      <td>44148.980713</td>\n",
              "      <td>44628.621049</td>\n",
              "      <td>50248.124799</td>\n",
              "      <td>48765.471736</td>\n",
              "      <td>42464.411295</td>\n",
              "      <td>45347.266940</td>\n",
              "      <td>43568.986293</td>\n",
              "      <td>195401.211269</td>\n",
              "      <td>-105808.175613</td>\n",
              "    </tr>\n",
              "    <tr>\n",
              "      <th>363</th>\n",
              "      <td>2022-09-29</td>\n",
              "      <td>19835257056.886589</td>\n",
              "      <td>12023330.471999</td>\n",
              "      <td>44172.540942</td>\n",
              "      <td>44650.766014</td>\n",
              "      <td>50302.686200</td>\n",
              "      <td>48813.794623</td>\n",
              "      <td>42496.229528</td>\n",
              "      <td>45374.163008</td>\n",
              "      <td>43591.325721</td>\n",
              "      <td>196219.101179</td>\n",
              "      <td>-106385.293292</td>\n",
              "    </tr>\n",
              "  </tbody>\n",
              "</table>\n",
              "<p>364 rows × 12 columns</p>\n",
              "</div>"
            ],
            "text/plain": [
              "          date  ...  Prophet's Lower Bound\n",
              "0   2021-10-01  ...           35561.164857\n",
              "1   2021-10-02  ...           35556.301117\n",
              "2   2021-10-03  ...           35502.455503\n",
              "3   2021-10-04  ...           35416.820588\n",
              "4   2021-10-05  ...           35359.396179\n",
              "..         ...  ...                    ...\n",
              "359 2022-09-25  ...         -104301.411880\n",
              "360 2022-09-26  ...         -104860.482545\n",
              "361 2022-09-27  ...         -105427.074995\n",
              "362 2022-09-28  ...         -105808.175613\n",
              "363 2022-09-29  ...         -106385.293292\n",
              "\n",
              "[364 rows x 12 columns]"
            ]
          },
          "metadata": {},
          "execution_count": 358
        }
      ]
    },
    {
      "cell_type": "code",
      "metadata": {
        "id": "NySbWRomegWp",
        "colab": {
          "base_uri": "https://localhost:8080/",
          "height": 542
        },
        "outputId": "27b87ab7-64fe-433f-9b0a-cbad8c4a24f8"
      },
      "source": [
        "fig=go.Figure()\n",
        "fig.add_trace(go.Scatter(x=model_train.index, y=model_train[\"dead\"],\n",
        "                    mode='lines+markers',name=\"Death Cases\"))\n",
        "fig.update_layout(title=\"Death Cases\",\n",
        "                 xaxis_title=\"Date\",yaxis_title=\"Number of Death Cases\",legend=dict(x=0,y=1,traceorder=\"normal\"))\n",
        "fig.show()"
      ],
      "execution_count": 359,
      "outputs": [
        {
          "output_type": "display_data",
          "data": {
            "text/html": [
              "<html>\n",
              "<head><meta charset=\"utf-8\" /></head>\n",
              "<body>\n",
              "    <div>\n",
              "            <script src=\"https://cdnjs.cloudflare.com/ajax/libs/mathjax/2.7.5/MathJax.js?config=TeX-AMS-MML_SVG\"></script><script type=\"text/javascript\">if (window.MathJax) {MathJax.Hub.Config({SVG: {font: \"STIX-Web\"}});}</script>\n",
              "                <script type=\"text/javascript\">window.PlotlyConfig = {MathJaxConfig: 'local'};</script>\n",
              "        <script src=\"https://cdn.plot.ly/plotly-latest.min.js\"></script>    \n",
              "            <div id=\"d94f8fe3-f1c3-45fb-b5a1-c9b328ef8726\" class=\"plotly-graph-div\" style=\"height:525px; width:100%;\"></div>\n",
              "            <script type=\"text/javascript\">\n",
              "                \n",
              "                    window.PLOTLYENV=window.PLOTLYENV || {};\n",
              "                    \n",
              "                if (document.getElementById(\"d94f8fe3-f1c3-45fb-b5a1-c9b328ef8726\")) {\n",
              "                    Plotly.newPlot(\n",
              "                        'd94f8fe3-f1c3-45fb-b5a1-c9b328ef8726',\n",
              "                        [{\"mode\": \"lines+markers\", \"name\": \"Death Cases\", \"type\": \"scatter\", \"x\": [\"2021-04-01T00:00:00\", \"2021-04-02T00:00:00\", \"2021-04-03T00:00:00\", \"2021-04-04T00:00:00\", \"2021-04-05T00:00:00\", \"2021-04-06T00:00:00\", \"2021-04-07T00:00:00\", \"2021-04-08T00:00:00\", \"2021-04-09T00:00:00\", \"2021-04-10T00:00:00\", \"2021-04-11T00:00:00\", \"2021-04-12T00:00:00\", \"2021-04-13T00:00:00\", \"2021-04-14T00:00:00\", \"2021-04-15T00:00:00\", \"2021-04-16T00:00:00\", \"2021-04-17T00:00:00\", \"2021-04-18T00:00:00\", \"2021-04-19T00:00:00\", \"2021-04-20T00:00:00\", \"2021-04-21T00:00:00\", \"2021-04-22T00:00:00\", \"2021-04-23T00:00:00\", \"2021-04-24T00:00:00\", \"2021-04-25T00:00:00\", \"2021-04-26T00:00:00\", \"2021-04-27T00:00:00\", \"2021-04-28T00:00:00\", \"2021-04-29T00:00:00\", \"2021-04-30T00:00:00\", \"2021-05-01T00:00:00\", \"2021-05-02T00:00:00\", \"2021-05-03T00:00:00\", \"2021-05-04T00:00:00\", \"2021-05-05T00:00:00\", \"2021-05-06T00:00:00\", \"2021-05-07T00:00:00\", \"2021-05-08T00:00:00\", \"2021-05-09T00:00:00\", \"2021-05-10T00:00:00\", \"2021-05-11T00:00:00\", \"2021-05-12T00:00:00\", \"2021-05-13T00:00:00\", \"2021-05-14T00:00:00\", \"2021-05-15T00:00:00\", \"2021-05-16T00:00:00\", \"2021-05-17T00:00:00\", \"2021-05-18T00:00:00\", \"2021-05-19T00:00:00\", \"2021-05-20T00:00:00\", \"2021-05-21T00:00:00\", \"2021-05-22T00:00:00\", \"2021-05-23T00:00:00\", \"2021-05-24T00:00:00\", \"2021-05-25T00:00:00\", \"2021-05-26T00:00:00\", \"2021-05-27T00:00:00\", \"2021-05-28T00:00:00\", \"2021-05-29T00:00:00\", \"2021-05-30T00:00:00\", \"2021-05-31T00:00:00\", \"2021-06-01T00:00:00\", \"2021-06-02T00:00:00\", \"2021-06-03T00:00:00\", \"2021-06-04T00:00:00\", \"2021-06-05T00:00:00\", \"2021-06-06T00:00:00\", \"2021-06-07T00:00:00\", \"2021-06-08T00:00:00\", \"2021-06-09T00:00:00\", \"2021-06-10T00:00:00\", \"2021-06-11T00:00:00\", \"2021-06-12T00:00:00\", \"2021-06-13T00:00:00\", \"2021-06-14T00:00:00\", \"2021-06-15T00:00:00\", \"2021-06-16T00:00:00\", \"2021-06-17T00:00:00\", \"2021-06-18T00:00:00\", \"2021-06-19T00:00:00\", \"2021-06-20T00:00:00\", \"2021-06-21T00:00:00\", \"2021-06-22T00:00:00\", \"2021-06-23T00:00:00\", \"2021-06-24T00:00:00\", \"2021-06-25T00:00:00\", \"2021-06-26T00:00:00\", \"2021-06-27T00:00:00\", \"2021-06-28T00:00:00\", \"2021-06-29T00:00:00\", \"2021-06-30T00:00:00\", \"2021-07-01T00:00:00\", \"2021-07-02T00:00:00\", \"2021-07-03T00:00:00\", \"2021-07-04T00:00:00\", \"2021-07-05T00:00:00\", \"2021-07-06T00:00:00\", \"2021-07-07T00:00:00\", \"2021-07-08T00:00:00\", \"2021-07-09T00:00:00\", \"2021-07-10T00:00:00\", \"2021-07-11T00:00:00\", \"2021-07-12T00:00:00\", \"2021-07-13T00:00:00\", \"2021-07-14T00:00:00\", \"2021-07-15T00:00:00\", \"2021-07-16T00:00:00\", \"2021-07-17T00:00:00\", \"2021-07-18T00:00:00\", \"2021-07-19T00:00:00\", \"2021-07-20T00:00:00\", \"2021-07-21T00:00:00\", \"2021-07-22T00:00:00\", \"2021-07-23T00:00:00\", \"2021-07-24T00:00:00\", \"2021-07-25T00:00:00\", \"2021-07-26T00:00:00\", \"2021-07-27T00:00:00\", \"2021-07-28T00:00:00\", \"2021-07-29T00:00:00\", \"2021-07-30T00:00:00\", \"2021-07-31T00:00:00\", \"2021-08-01T00:00:00\", \"2021-08-02T00:00:00\", \"2021-08-03T00:00:00\", \"2021-08-04T00:00:00\", \"2021-08-05T00:00:00\", \"2021-08-06T00:00:00\", \"2021-08-07T00:00:00\", \"2021-08-08T00:00:00\", \"2021-08-09T00:00:00\", \"2021-08-10T00:00:00\", \"2021-08-11T00:00:00\", \"2021-08-12T00:00:00\", \"2021-08-13T00:00:00\", \"2021-08-14T00:00:00\", \"2021-08-15T00:00:00\", \"2021-08-16T00:00:00\", \"2021-08-17T00:00:00\", \"2021-08-18T00:00:00\", \"2021-08-19T00:00:00\", \"2021-08-20T00:00:00\", \"2021-08-21T00:00:00\", \"2021-08-22T00:00:00\", \"2021-08-23T00:00:00\", \"2021-08-24T00:00:00\", \"2021-08-25T00:00:00\", \"2021-08-26T00:00:00\", \"2021-08-27T00:00:00\", \"2021-08-28T00:00:00\", \"2021-08-29T00:00:00\", \"2021-08-30T00:00:00\", \"2021-08-31T00:00:00\", \"2021-09-01T00:00:00\", \"2021-09-02T00:00:00\", \"2021-09-03T00:00:00\", \"2021-09-04T00:00:00\", \"2021-09-05T00:00:00\", \"2021-09-06T00:00:00\", \"2021-09-07T00:00:00\", \"2021-09-08T00:00:00\", \"2021-09-09T00:00:00\", \"2021-09-10T00:00:00\", \"2021-09-11T00:00:00\", \"2021-09-12T00:00:00\", \"2021-09-13T00:00:00\", \"2021-09-14T00:00:00\", \"2021-09-15T00:00:00\", \"2021-09-16T00:00:00\", \"2021-09-17T00:00:00\", \"2021-09-18T00:00:00\", \"2021-09-19T00:00:00\", \"2021-09-20T00:00:00\"], \"y\": [12738, 12750, 12764, 12778, 12789, 12804, 12821, 12840, 12863, 12886, 12908, 12927, 12945, 12970, 12999, 13032, 13071, 13113, 13157, 13205, 13258, 13317, 13395, 13475, 13557, 13651, 13728, 13826, 13933, 14046, 14193, 14346, 14468, 14612, 14779, 14974, 15171, 15412, 15648, 15880, 16178, 16471, 16768, 17056, 17359, 17670, 18005, 18369, 18734, 19131, 19598, 20046, 20468, 20872, 21340, 21815, 22289, 22775, 23261, 23754, 24232, 24722, 25205, 25665, 26128, 26571, 27005, 27356, 27765, 28170, 28528, 28906, 29280, 29547, 29801, 30068, 30338, 30548, 30835, 31015, 31197, 31386, 31580, 31746, 31901, 32051, 32199, 32290, 32388, 32506, 32619, 32721, 32818, 32933, 33005, 33059, 33132, 33196, 33253, 33322, 33371, 33418, 33454, 33502, 33557, 33606, 33652, 33695, 33724, 33752, 33782, 33809, 33838, 33862, 33889, 33911, 33937, 33966, 33995, 34023, 34050, 34076, 34102, 34130, 34159, 34197, 34230, 34260, 34289, 34317, 34340, 34367, 34395, 34428, 34462, 34496, 34519, 34547, 34579, 34610, 34639, 34663, 34686, 34709, 34734, 34761, 34788, 34814, 34835, 34856, 34878, 34899, 34921, 34941, 34961, 34980, 35000, 35018, 35036, 35055, 35073, 35094, 35119, 35146, 35168, 35190, 35217, 35246, 35271, 35288, 35310, 35337, 35360]}],\n",
              "                        {\"legend\": {\"traceorder\": \"normal\", \"x\": 0, \"y\": 1}, \"template\": {\"data\": {\"bar\": [{\"error_x\": {\"color\": \"#2a3f5f\"}, \"error_y\": {\"color\": \"#2a3f5f\"}, \"marker\": {\"line\": {\"color\": \"#E5ECF6\", \"width\": 0.5}}, \"type\": \"bar\"}], \"barpolar\": [{\"marker\": {\"line\": {\"color\": \"#E5ECF6\", \"width\": 0.5}}, \"type\": \"barpolar\"}], \"carpet\": [{\"aaxis\": {\"endlinecolor\": \"#2a3f5f\", \"gridcolor\": \"white\", \"linecolor\": \"white\", \"minorgridcolor\": \"white\", \"startlinecolor\": \"#2a3f5f\"}, \"baxis\": {\"endlinecolor\": \"#2a3f5f\", \"gridcolor\": \"white\", \"linecolor\": \"white\", \"minorgridcolor\": \"white\", \"startlinecolor\": \"#2a3f5f\"}, \"type\": \"carpet\"}], \"choropleth\": [{\"colorbar\": {\"outlinewidth\": 0, \"ticks\": \"\"}, \"type\": \"choropleth\"}], \"contour\": [{\"colorbar\": {\"outlinewidth\": 0, \"ticks\": \"\"}, \"colorscale\": [[0.0, \"#0d0887\"], [0.1111111111111111, \"#46039f\"], [0.2222222222222222, \"#7201a8\"], [0.3333333333333333, \"#9c179e\"], [0.4444444444444444, \"#bd3786\"], [0.5555555555555556, \"#d8576b\"], [0.6666666666666666, \"#ed7953\"], [0.7777777777777778, \"#fb9f3a\"], [0.8888888888888888, \"#fdca26\"], [1.0, \"#f0f921\"]], \"type\": \"contour\"}], \"contourcarpet\": [{\"colorbar\": {\"outlinewidth\": 0, \"ticks\": \"\"}, \"type\": \"contourcarpet\"}], \"heatmap\": [{\"colorbar\": {\"outlinewidth\": 0, \"ticks\": \"\"}, \"colorscale\": [[0.0, \"#0d0887\"], [0.1111111111111111, \"#46039f\"], [0.2222222222222222, \"#7201a8\"], [0.3333333333333333, \"#9c179e\"], [0.4444444444444444, \"#bd3786\"], [0.5555555555555556, \"#d8576b\"], [0.6666666666666666, \"#ed7953\"], [0.7777777777777778, \"#fb9f3a\"], [0.8888888888888888, \"#fdca26\"], [1.0, \"#f0f921\"]], \"type\": \"heatmap\"}], \"heatmapgl\": [{\"colorbar\": {\"outlinewidth\": 0, \"ticks\": \"\"}, \"colorscale\": [[0.0, \"#0d0887\"], [0.1111111111111111, \"#46039f\"], [0.2222222222222222, \"#7201a8\"], [0.3333333333333333, \"#9c179e\"], [0.4444444444444444, \"#bd3786\"], [0.5555555555555556, \"#d8576b\"], [0.6666666666666666, \"#ed7953\"], [0.7777777777777778, \"#fb9f3a\"], [0.8888888888888888, \"#fdca26\"], [1.0, \"#f0f921\"]], \"type\": \"heatmapgl\"}], \"histogram\": [{\"marker\": {\"colorbar\": {\"outlinewidth\": 0, \"ticks\": \"\"}}, \"type\": \"histogram\"}], \"histogram2d\": [{\"colorbar\": {\"outlinewidth\": 0, \"ticks\": \"\"}, \"colorscale\": [[0.0, \"#0d0887\"], [0.1111111111111111, \"#46039f\"], [0.2222222222222222, \"#7201a8\"], [0.3333333333333333, \"#9c179e\"], [0.4444444444444444, \"#bd3786\"], [0.5555555555555556, \"#d8576b\"], [0.6666666666666666, \"#ed7953\"], [0.7777777777777778, \"#fb9f3a\"], [0.8888888888888888, \"#fdca26\"], [1.0, \"#f0f921\"]], \"type\": \"histogram2d\"}], \"histogram2dcontour\": [{\"colorbar\": {\"outlinewidth\": 0, \"ticks\": \"\"}, \"colorscale\": [[0.0, \"#0d0887\"], [0.1111111111111111, \"#46039f\"], [0.2222222222222222, \"#7201a8\"], [0.3333333333333333, \"#9c179e\"], [0.4444444444444444, \"#bd3786\"], [0.5555555555555556, \"#d8576b\"], [0.6666666666666666, \"#ed7953\"], [0.7777777777777778, \"#fb9f3a\"], [0.8888888888888888, \"#fdca26\"], [1.0, \"#f0f921\"]], \"type\": \"histogram2dcontour\"}], \"mesh3d\": [{\"colorbar\": {\"outlinewidth\": 0, \"ticks\": \"\"}, \"type\": \"mesh3d\"}], \"parcoords\": [{\"line\": {\"colorbar\": {\"outlinewidth\": 0, \"ticks\": \"\"}}, \"type\": \"parcoords\"}], \"pie\": [{\"automargin\": true, \"type\": \"pie\"}], \"scatter\": [{\"marker\": {\"colorbar\": {\"outlinewidth\": 0, \"ticks\": \"\"}}, \"type\": \"scatter\"}], \"scatter3d\": [{\"line\": {\"colorbar\": {\"outlinewidth\": 0, \"ticks\": \"\"}}, \"marker\": {\"colorbar\": {\"outlinewidth\": 0, \"ticks\": \"\"}}, \"type\": \"scatter3d\"}], \"scattercarpet\": [{\"marker\": {\"colorbar\": {\"outlinewidth\": 0, \"ticks\": \"\"}}, \"type\": \"scattercarpet\"}], \"scattergeo\": [{\"marker\": {\"colorbar\": {\"outlinewidth\": 0, \"ticks\": \"\"}}, \"type\": \"scattergeo\"}], \"scattergl\": [{\"marker\": {\"colorbar\": {\"outlinewidth\": 0, \"ticks\": \"\"}}, \"type\": \"scattergl\"}], \"scattermapbox\": [{\"marker\": {\"colorbar\": {\"outlinewidth\": 0, \"ticks\": \"\"}}, \"type\": \"scattermapbox\"}], \"scatterpolar\": [{\"marker\": {\"colorbar\": {\"outlinewidth\": 0, \"ticks\": \"\"}}, \"type\": \"scatterpolar\"}], \"scatterpolargl\": [{\"marker\": {\"colorbar\": {\"outlinewidth\": 0, \"ticks\": \"\"}}, \"type\": \"scatterpolargl\"}], \"scatterternary\": [{\"marker\": {\"colorbar\": {\"outlinewidth\": 0, \"ticks\": \"\"}}, \"type\": \"scatterternary\"}], \"surface\": [{\"colorbar\": {\"outlinewidth\": 0, \"ticks\": \"\"}, \"colorscale\": [[0.0, \"#0d0887\"], [0.1111111111111111, \"#46039f\"], [0.2222222222222222, \"#7201a8\"], [0.3333333333333333, \"#9c179e\"], [0.4444444444444444, \"#bd3786\"], [0.5555555555555556, \"#d8576b\"], [0.6666666666666666, \"#ed7953\"], [0.7777777777777778, \"#fb9f3a\"], [0.8888888888888888, \"#fdca26\"], [1.0, \"#f0f921\"]], \"type\": \"surface\"}], \"table\": [{\"cells\": {\"fill\": {\"color\": \"#EBF0F8\"}, \"line\": {\"color\": \"white\"}}, \"header\": {\"fill\": {\"color\": \"#C8D4E3\"}, \"line\": {\"color\": \"white\"}}, \"type\": \"table\"}]}, \"layout\": {\"annotationdefaults\": {\"arrowcolor\": \"#2a3f5f\", \"arrowhead\": 0, \"arrowwidth\": 1}, \"coloraxis\": {\"colorbar\": {\"outlinewidth\": 0, \"ticks\": \"\"}}, \"colorscale\": {\"diverging\": [[0, \"#8e0152\"], [0.1, \"#c51b7d\"], [0.2, \"#de77ae\"], [0.3, \"#f1b6da\"], [0.4, \"#fde0ef\"], [0.5, \"#f7f7f7\"], [0.6, \"#e6f5d0\"], [0.7, \"#b8e186\"], [0.8, \"#7fbc41\"], [0.9, \"#4d9221\"], [1, \"#276419\"]], \"sequential\": [[0.0, \"#0d0887\"], [0.1111111111111111, \"#46039f\"], [0.2222222222222222, \"#7201a8\"], [0.3333333333333333, \"#9c179e\"], [0.4444444444444444, \"#bd3786\"], [0.5555555555555556, \"#d8576b\"], [0.6666666666666666, \"#ed7953\"], [0.7777777777777778, \"#fb9f3a\"], [0.8888888888888888, \"#fdca26\"], [1.0, \"#f0f921\"]], \"sequentialminus\": [[0.0, \"#0d0887\"], [0.1111111111111111, \"#46039f\"], [0.2222222222222222, \"#7201a8\"], [0.3333333333333333, \"#9c179e\"], [0.4444444444444444, \"#bd3786\"], [0.5555555555555556, \"#d8576b\"], [0.6666666666666666, \"#ed7953\"], [0.7777777777777778, \"#fb9f3a\"], [0.8888888888888888, \"#fdca26\"], [1.0, \"#f0f921\"]]}, \"colorway\": [\"#636efa\", \"#EF553B\", \"#00cc96\", \"#ab63fa\", \"#FFA15A\", \"#19d3f3\", \"#FF6692\", \"#B6E880\", \"#FF97FF\", \"#FECB52\"], \"font\": {\"color\": \"#2a3f5f\"}, \"geo\": {\"bgcolor\": \"white\", \"lakecolor\": \"white\", \"landcolor\": \"#E5ECF6\", \"showlakes\": true, \"showland\": true, \"subunitcolor\": \"white\"}, \"hoverlabel\": {\"align\": \"left\"}, \"hovermode\": \"closest\", \"mapbox\": {\"style\": \"light\"}, \"paper_bgcolor\": \"white\", \"plot_bgcolor\": \"#E5ECF6\", \"polar\": {\"angularaxis\": {\"gridcolor\": \"white\", \"linecolor\": \"white\", \"ticks\": \"\"}, \"bgcolor\": \"#E5ECF6\", \"radialaxis\": {\"gridcolor\": \"white\", \"linecolor\": \"white\", \"ticks\": \"\"}}, \"scene\": {\"xaxis\": {\"backgroundcolor\": \"#E5ECF6\", \"gridcolor\": \"white\", \"gridwidth\": 2, \"linecolor\": \"white\", \"showbackground\": true, \"ticks\": \"\", \"zerolinecolor\": \"white\"}, \"yaxis\": {\"backgroundcolor\": \"#E5ECF6\", \"gridcolor\": \"white\", \"gridwidth\": 2, \"linecolor\": \"white\", \"showbackground\": true, \"ticks\": \"\", \"zerolinecolor\": \"white\"}, \"zaxis\": {\"backgroundcolor\": \"#E5ECF6\", \"gridcolor\": \"white\", \"gridwidth\": 2, \"linecolor\": \"white\", \"showbackground\": true, \"ticks\": \"\", \"zerolinecolor\": \"white\"}}, \"shapedefaults\": {\"line\": {\"color\": \"#2a3f5f\"}}, \"ternary\": {\"aaxis\": {\"gridcolor\": \"white\", \"linecolor\": \"white\", \"ticks\": \"\"}, \"baxis\": {\"gridcolor\": \"white\", \"linecolor\": \"white\", \"ticks\": \"\"}, \"bgcolor\": \"#E5ECF6\", \"caxis\": {\"gridcolor\": \"white\", \"linecolor\": \"white\", \"ticks\": \"\"}}, \"title\": {\"x\": 0.05}, \"xaxis\": {\"automargin\": true, \"gridcolor\": \"white\", \"linecolor\": \"white\", \"ticks\": \"\", \"title\": {\"standoff\": 15}, \"zerolinecolor\": \"white\", \"zerolinewidth\": 2}, \"yaxis\": {\"automargin\": true, \"gridcolor\": \"white\", \"linecolor\": \"white\", \"ticks\": \"\", \"title\": {\"standoff\": 15}, \"zerolinecolor\": \"white\", \"zerolinewidth\": 2}}}, \"title\": {\"text\": \"Death Cases\"}, \"xaxis\": {\"title\": {\"text\": \"Date\"}}, \"yaxis\": {\"title\": {\"text\": \"Number of Death Cases\"}}},\n",
              "                        {\"responsive\": true}\n",
              "                    ).then(function(){\n",
              "                            \n",
              "var gd = document.getElementById('d94f8fe3-f1c3-45fb-b5a1-c9b328ef8726');\n",
              "var x = new MutationObserver(function (mutations, observer) {{\n",
              "        var display = window.getComputedStyle(gd).display;\n",
              "        if (!display || display === 'none') {{\n",
              "            console.log([gd, 'removed!']);\n",
              "            Plotly.purge(gd);\n",
              "            observer.disconnect();\n",
              "        }}\n",
              "}});\n",
              "\n",
              "// Listen for the removal of the full notebook cells\n",
              "var notebookContainer = gd.closest('#notebook-container');\n",
              "if (notebookContainer) {{\n",
              "    x.observe(notebookContainer, {childList: true});\n",
              "}}\n",
              "\n",
              "// Listen for the clearing of the current output cell\n",
              "var outputEl = gd.closest('.output');\n",
              "if (outputEl) {{\n",
              "    x.observe(outputEl, {childList: true});\n",
              "}}\n",
              "\n",
              "                        })\n",
              "                };\n",
              "                \n",
              "            </script>\n",
              "        </div>\n",
              "</body>\n",
              "</html>"
            ]
          },
          "metadata": {}
        }
      ]
    },
    {
      "cell_type": "code",
      "metadata": {
        "id": "AmXkq_7DenMp"
      },
      "source": [
        "model_train=datewise.iloc[:int(datewise.shape[0]*0.95)]\n",
        "valid=datewise.iloc[int(datewise.shape[0]*0.95):]\n",
        "y_pred=valid.copy()"
      ],
      "execution_count": 360,
      "outputs": []
    },
    {
      "cell_type": "code",
      "metadata": {
        "id": "ODcawUczet8J",
        "colab": {
          "base_uri": "https://localhost:8080/"
        },
        "outputId": "d5698914-09f4-4470-97fe-b6006dd8ec45"
      },
      "source": [
        "model_arima_deaths=auto_arima(model_train[\"dead\"],trace=True, error_action='ignore', start_p=0,start_q=0,\n",
        "                              max_p=5,max_q=5,suppress_warnings=True,stepwise=False,seasonal=False)     \n",
        "model_arima_deaths.fit(model_train[\"dead\"])"
      ],
      "execution_count": 361,
      "outputs": [
        {
          "output_type": "stream",
          "name": "stdout",
          "text": [
            " ARIMA(0,2,0)(0,0,0)[0] intercept   : AIC=1545.291, Time=0.01 sec\n",
            " ARIMA(0,2,1)(0,0,0)[0] intercept   : AIC=1541.021, Time=0.07 sec\n",
            " ARIMA(0,2,2)(0,0,0)[0] intercept   : AIC=1542.334, Time=0.11 sec\n",
            " ARIMA(0,2,3)(0,0,0)[0] intercept   : AIC=1535.494, Time=0.16 sec\n",
            " ARIMA(0,2,4)(0,0,0)[0] intercept   : AIC=1532.634, Time=0.26 sec\n",
            " ARIMA(0,2,5)(0,0,0)[0] intercept   : AIC=1534.429, Time=0.40 sec\n",
            " ARIMA(1,2,0)(0,0,0)[0] intercept   : AIC=1541.115, Time=0.06 sec\n",
            " ARIMA(1,2,1)(0,0,0)[0] intercept   : AIC=1542.853, Time=0.09 sec\n",
            " ARIMA(1,2,2)(0,0,0)[0] intercept   : AIC=1510.147, Time=0.23 sec\n",
            " ARIMA(1,2,3)(0,0,0)[0] intercept   : AIC=1500.022, Time=0.37 sec\n",
            " ARIMA(1,2,4)(0,0,0)[0] intercept   : AIC=1501.498, Time=0.45 sec\n",
            " ARIMA(2,2,0)(0,0,0)[0] intercept   : AIC=1542.252, Time=0.09 sec\n",
            " ARIMA(2,2,1)(0,0,0)[0] intercept   : AIC=1543.580, Time=0.17 sec\n",
            " ARIMA(2,2,2)(0,0,0)[0] intercept   : AIC=1525.109, Time=0.51 sec\n",
            " ARIMA(2,2,3)(0,0,0)[0] intercept   : AIC=1500.738, Time=0.48 sec\n",
            " ARIMA(3,2,0)(0,0,0)[0] intercept   : AIC=1538.334, Time=0.11 sec\n",
            " ARIMA(3,2,1)(0,0,0)[0] intercept   : AIC=1516.635, Time=0.30 sec\n",
            " ARIMA(3,2,2)(0,0,0)[0] intercept   : AIC=1500.805, Time=0.40 sec\n",
            " ARIMA(4,2,0)(0,0,0)[0] intercept   : AIC=1523.487, Time=0.19 sec\n",
            " ARIMA(4,2,1)(0,0,0)[0] intercept   : AIC=1515.200, Time=0.40 sec\n",
            " ARIMA(5,2,0)(0,0,0)[0] intercept   : AIC=1525.479, Time=0.23 sec\n",
            "\n",
            "Best model:  ARIMA(1,2,3)(0,0,0)[0] intercept\n",
            "Total fit time: 5.130 seconds\n"
          ]
        },
        {
          "output_type": "execute_result",
          "data": {
            "text/plain": [
              "ARIMA(maxiter=50, method='lbfgs', order=(1, 2, 3), out_of_sample_size=0,\n",
              "      scoring='mse', scoring_args={}, seasonal_order=(0, 0, 0, 0),\n",
              "      start_params=None, suppress_warnings=True, trend=None,\n",
              "      with_intercept=True)"
            ]
          },
          "metadata": {},
          "execution_count": 361
        }
      ]
    },
    {
      "cell_type": "code",
      "metadata": {
        "id": "PvAqDDAIe64C"
      },
      "source": [
        "predictions_deaths=model_arima_deaths.predict(len(valid))\n",
        "y_pred[\"ARIMA Death Prediction\"]=predictions_deaths"
      ],
      "execution_count": 362,
      "outputs": []
    },
    {
      "cell_type": "code",
      "metadata": {
        "id": "jpg2igdofBBC",
        "colab": {
          "base_uri": "https://localhost:8080/"
        },
        "outputId": "2c4b955b-9a0e-4388-f1be-33f1144ab5d7"
      },
      "source": [
        "print(\"Root Mean Square Error: \",np.sqrt(mean_squared_error(valid[\"dead\"],predictions_deaths)))"
      ],
      "execution_count": 363,
      "outputs": [
        {
          "output_type": "stream",
          "name": "stdout",
          "text": [
            "Root Mean Square Error:  5.153643859454865\n"
          ]
        }
      ]
    },
    {
      "cell_type": "code",
      "metadata": {
        "id": "DyoQ-wPvfE6Y",
        "colab": {
          "base_uri": "https://localhost:8080/",
          "height": 542
        },
        "outputId": "50a7a900-2447-4e41-a174-d711db04ebb2"
      },
      "source": [
        "fig=go.Figure()\n",
        "fig.add_trace(go.Scatter(x=model_train.index, y=model_train[\"dead\"],\n",
        "                    mode='lines+markers',name=\"Train Data for Death Cases\"))\n",
        "fig.add_trace(go.Scatter(x=valid.index, y=valid[\"dead\"],\n",
        "                    mode='lines+markers',name=\"Validation Data for Death Cases\",))\n",
        "fig.add_trace(go.Scatter(x=valid.index, y=y_pred[\"ARIMA Death Prediction\"],\n",
        "                    mode='lines+markers',name=\"Prediction for Death Cases\",))\n",
        "fig.update_layout(title=\"Death Cases ARIMA Model Prediction\",\n",
        "                 xaxis_title=\"Date\",yaxis_title=\"Death Cases\",legend=dict(x=0,y=1,traceorder=\"normal\"))\n",
        "fig.show()"
      ],
      "execution_count": 364,
      "outputs": [
        {
          "output_type": "display_data",
          "data": {
            "text/html": [
              "<html>\n",
              "<head><meta charset=\"utf-8\" /></head>\n",
              "<body>\n",
              "    <div>\n",
              "            <script src=\"https://cdnjs.cloudflare.com/ajax/libs/mathjax/2.7.5/MathJax.js?config=TeX-AMS-MML_SVG\"></script><script type=\"text/javascript\">if (window.MathJax) {MathJax.Hub.Config({SVG: {font: \"STIX-Web\"}});}</script>\n",
              "                <script type=\"text/javascript\">window.PlotlyConfig = {MathJaxConfig: 'local'};</script>\n",
              "        <script src=\"https://cdn.plot.ly/plotly-latest.min.js\"></script>    \n",
              "            <div id=\"0efb8316-d2cb-4a62-bda9-9cd5f48ebe63\" class=\"plotly-graph-div\" style=\"height:525px; width:100%;\"></div>\n",
              "            <script type=\"text/javascript\">\n",
              "                \n",
              "                    window.PLOTLYENV=window.PLOTLYENV || {};\n",
              "                    \n",
              "                if (document.getElementById(\"0efb8316-d2cb-4a62-bda9-9cd5f48ebe63\")) {\n",
              "                    Plotly.newPlot(\n",
              "                        '0efb8316-d2cb-4a62-bda9-9cd5f48ebe63',\n",
              "                        [{\"mode\": \"lines+markers\", \"name\": \"Train Data for Death Cases\", \"type\": \"scatter\", \"x\": [\"2021-04-01T00:00:00\", \"2021-04-02T00:00:00\", \"2021-04-03T00:00:00\", \"2021-04-04T00:00:00\", \"2021-04-05T00:00:00\", \"2021-04-06T00:00:00\", \"2021-04-07T00:00:00\", \"2021-04-08T00:00:00\", \"2021-04-09T00:00:00\", \"2021-04-10T00:00:00\", \"2021-04-11T00:00:00\", \"2021-04-12T00:00:00\", \"2021-04-13T00:00:00\", \"2021-04-14T00:00:00\", \"2021-04-15T00:00:00\", \"2021-04-16T00:00:00\", \"2021-04-17T00:00:00\", \"2021-04-18T00:00:00\", \"2021-04-19T00:00:00\", \"2021-04-20T00:00:00\", \"2021-04-21T00:00:00\", \"2021-04-22T00:00:00\", \"2021-04-23T00:00:00\", \"2021-04-24T00:00:00\", \"2021-04-25T00:00:00\", \"2021-04-26T00:00:00\", \"2021-04-27T00:00:00\", \"2021-04-28T00:00:00\", \"2021-04-29T00:00:00\", \"2021-04-30T00:00:00\", \"2021-05-01T00:00:00\", \"2021-05-02T00:00:00\", \"2021-05-03T00:00:00\", \"2021-05-04T00:00:00\", \"2021-05-05T00:00:00\", \"2021-05-06T00:00:00\", \"2021-05-07T00:00:00\", \"2021-05-08T00:00:00\", \"2021-05-09T00:00:00\", \"2021-05-10T00:00:00\", \"2021-05-11T00:00:00\", \"2021-05-12T00:00:00\", \"2021-05-13T00:00:00\", \"2021-05-14T00:00:00\", \"2021-05-15T00:00:00\", \"2021-05-16T00:00:00\", \"2021-05-17T00:00:00\", \"2021-05-18T00:00:00\", \"2021-05-19T00:00:00\", \"2021-05-20T00:00:00\", \"2021-05-21T00:00:00\", \"2021-05-22T00:00:00\", \"2021-05-23T00:00:00\", \"2021-05-24T00:00:00\", \"2021-05-25T00:00:00\", \"2021-05-26T00:00:00\", \"2021-05-27T00:00:00\", \"2021-05-28T00:00:00\", \"2021-05-29T00:00:00\", \"2021-05-30T00:00:00\", \"2021-05-31T00:00:00\", \"2021-06-01T00:00:00\", \"2021-06-02T00:00:00\", \"2021-06-03T00:00:00\", \"2021-06-04T00:00:00\", \"2021-06-05T00:00:00\", \"2021-06-06T00:00:00\", \"2021-06-07T00:00:00\", \"2021-06-08T00:00:00\", \"2021-06-09T00:00:00\", \"2021-06-10T00:00:00\", \"2021-06-11T00:00:00\", \"2021-06-12T00:00:00\", \"2021-06-13T00:00:00\", \"2021-06-14T00:00:00\", \"2021-06-15T00:00:00\", \"2021-06-16T00:00:00\", \"2021-06-17T00:00:00\", \"2021-06-18T00:00:00\", \"2021-06-19T00:00:00\", \"2021-06-20T00:00:00\", \"2021-06-21T00:00:00\", \"2021-06-22T00:00:00\", \"2021-06-23T00:00:00\", \"2021-06-24T00:00:00\", \"2021-06-25T00:00:00\", \"2021-06-26T00:00:00\", \"2021-06-27T00:00:00\", \"2021-06-28T00:00:00\", \"2021-06-29T00:00:00\", \"2021-06-30T00:00:00\", \"2021-07-01T00:00:00\", \"2021-07-02T00:00:00\", \"2021-07-03T00:00:00\", \"2021-07-04T00:00:00\", \"2021-07-05T00:00:00\", \"2021-07-06T00:00:00\", \"2021-07-07T00:00:00\", \"2021-07-08T00:00:00\", \"2021-07-09T00:00:00\", \"2021-07-10T00:00:00\", \"2021-07-11T00:00:00\", \"2021-07-12T00:00:00\", \"2021-07-13T00:00:00\", \"2021-07-14T00:00:00\", \"2021-07-15T00:00:00\", \"2021-07-16T00:00:00\", \"2021-07-17T00:00:00\", \"2021-07-18T00:00:00\", \"2021-07-19T00:00:00\", \"2021-07-20T00:00:00\", \"2021-07-21T00:00:00\", \"2021-07-22T00:00:00\", \"2021-07-23T00:00:00\", \"2021-07-24T00:00:00\", \"2021-07-25T00:00:00\", \"2021-07-26T00:00:00\", \"2021-07-27T00:00:00\", \"2021-07-28T00:00:00\", \"2021-07-29T00:00:00\", \"2021-07-30T00:00:00\", \"2021-07-31T00:00:00\", \"2021-08-01T00:00:00\", \"2021-08-02T00:00:00\", \"2021-08-03T00:00:00\", \"2021-08-04T00:00:00\", \"2021-08-05T00:00:00\", \"2021-08-06T00:00:00\", \"2021-08-07T00:00:00\", \"2021-08-08T00:00:00\", \"2021-08-09T00:00:00\", \"2021-08-10T00:00:00\", \"2021-08-11T00:00:00\", \"2021-08-12T00:00:00\", \"2021-08-13T00:00:00\", \"2021-08-14T00:00:00\", \"2021-08-15T00:00:00\", \"2021-08-16T00:00:00\", \"2021-08-17T00:00:00\", \"2021-08-18T00:00:00\", \"2021-08-19T00:00:00\", \"2021-08-20T00:00:00\", \"2021-08-21T00:00:00\", \"2021-08-22T00:00:00\", \"2021-08-23T00:00:00\", \"2021-08-24T00:00:00\", \"2021-08-25T00:00:00\", \"2021-08-26T00:00:00\", \"2021-08-27T00:00:00\", \"2021-08-28T00:00:00\", \"2021-08-29T00:00:00\", \"2021-08-30T00:00:00\", \"2021-08-31T00:00:00\", \"2021-09-01T00:00:00\", \"2021-09-02T00:00:00\", \"2021-09-03T00:00:00\", \"2021-09-04T00:00:00\", \"2021-09-05T00:00:00\", \"2021-09-06T00:00:00\", \"2021-09-07T00:00:00\", \"2021-09-08T00:00:00\", \"2021-09-09T00:00:00\", \"2021-09-10T00:00:00\", \"2021-09-11T00:00:00\", \"2021-09-12T00:00:00\", \"2021-09-13T00:00:00\", \"2021-09-14T00:00:00\", \"2021-09-15T00:00:00\", \"2021-09-16T00:00:00\", \"2021-09-17T00:00:00\", \"2021-09-18T00:00:00\", \"2021-09-19T00:00:00\", \"2021-09-20T00:00:00\"], \"y\": [12738, 12750, 12764, 12778, 12789, 12804, 12821, 12840, 12863, 12886, 12908, 12927, 12945, 12970, 12999, 13032, 13071, 13113, 13157, 13205, 13258, 13317, 13395, 13475, 13557, 13651, 13728, 13826, 13933, 14046, 14193, 14346, 14468, 14612, 14779, 14974, 15171, 15412, 15648, 15880, 16178, 16471, 16768, 17056, 17359, 17670, 18005, 18369, 18734, 19131, 19598, 20046, 20468, 20872, 21340, 21815, 22289, 22775, 23261, 23754, 24232, 24722, 25205, 25665, 26128, 26571, 27005, 27356, 27765, 28170, 28528, 28906, 29280, 29547, 29801, 30068, 30338, 30548, 30835, 31015, 31197, 31386, 31580, 31746, 31901, 32051, 32199, 32290, 32388, 32506, 32619, 32721, 32818, 32933, 33005, 33059, 33132, 33196, 33253, 33322, 33371, 33418, 33454, 33502, 33557, 33606, 33652, 33695, 33724, 33752, 33782, 33809, 33838, 33862, 33889, 33911, 33937, 33966, 33995, 34023, 34050, 34076, 34102, 34130, 34159, 34197, 34230, 34260, 34289, 34317, 34340, 34367, 34395, 34428, 34462, 34496, 34519, 34547, 34579, 34610, 34639, 34663, 34686, 34709, 34734, 34761, 34788, 34814, 34835, 34856, 34878, 34899, 34921, 34941, 34961, 34980, 35000, 35018, 35036, 35055, 35073, 35094, 35119, 35146, 35168, 35190, 35217, 35246, 35271, 35288, 35310, 35337, 35360]}, {\"mode\": \"lines+markers\", \"name\": \"Validation Data for Death Cases\", \"type\": \"scatter\", \"x\": [\"2021-09-21T00:00:00\", \"2021-09-22T00:00:00\", \"2021-09-23T00:00:00\", \"2021-09-24T00:00:00\", \"2021-09-25T00:00:00\", \"2021-09-26T00:00:00\", \"2021-09-27T00:00:00\", \"2021-09-28T00:00:00\", \"2021-09-29T00:00:00\", \"2021-09-30T00:00:00\"], \"y\": [35379, 35400, 35427, 35454, 35476, 35490, 35509, 35526, 35550, 35578]}, {\"mode\": \"lines+markers\", \"name\": \"Prediction for Death Cases\", \"type\": \"scatter\", \"x\": [\"2021-09-21T00:00:00\", \"2021-09-22T00:00:00\", \"2021-09-23T00:00:00\", \"2021-09-24T00:00:00\", \"2021-09-25T00:00:00\", \"2021-09-26T00:00:00\", \"2021-09-27T00:00:00\", \"2021-09-28T00:00:00\", \"2021-09-29T00:00:00\", \"2021-09-30T00:00:00\"], \"y\": [35383.71724545602, 35407.48558402736, 35430.37851364523, 35452.442005205376, 35473.719804585366, 35494.253540336744, 35514.08282616487, 35533.24535844863, 35551.77700904015, 35569.711913572995]}],\n",
              "                        {\"legend\": {\"traceorder\": \"normal\", \"x\": 0, \"y\": 1}, \"template\": {\"data\": {\"bar\": [{\"error_x\": {\"color\": \"#2a3f5f\"}, \"error_y\": {\"color\": \"#2a3f5f\"}, \"marker\": {\"line\": {\"color\": \"#E5ECF6\", \"width\": 0.5}}, \"type\": \"bar\"}], \"barpolar\": [{\"marker\": {\"line\": {\"color\": \"#E5ECF6\", \"width\": 0.5}}, \"type\": \"barpolar\"}], \"carpet\": [{\"aaxis\": {\"endlinecolor\": \"#2a3f5f\", \"gridcolor\": \"white\", \"linecolor\": \"white\", \"minorgridcolor\": \"white\", \"startlinecolor\": \"#2a3f5f\"}, \"baxis\": {\"endlinecolor\": \"#2a3f5f\", \"gridcolor\": \"white\", \"linecolor\": \"white\", \"minorgridcolor\": \"white\", \"startlinecolor\": \"#2a3f5f\"}, \"type\": \"carpet\"}], \"choropleth\": [{\"colorbar\": {\"outlinewidth\": 0, \"ticks\": \"\"}, \"type\": \"choropleth\"}], \"contour\": [{\"colorbar\": {\"outlinewidth\": 0, \"ticks\": \"\"}, \"colorscale\": [[0.0, \"#0d0887\"], [0.1111111111111111, \"#46039f\"], [0.2222222222222222, \"#7201a8\"], [0.3333333333333333, \"#9c179e\"], [0.4444444444444444, \"#bd3786\"], [0.5555555555555556, \"#d8576b\"], [0.6666666666666666, \"#ed7953\"], [0.7777777777777778, \"#fb9f3a\"], [0.8888888888888888, \"#fdca26\"], [1.0, \"#f0f921\"]], \"type\": \"contour\"}], \"contourcarpet\": [{\"colorbar\": {\"outlinewidth\": 0, \"ticks\": \"\"}, \"type\": \"contourcarpet\"}], \"heatmap\": [{\"colorbar\": {\"outlinewidth\": 0, \"ticks\": \"\"}, \"colorscale\": [[0.0, \"#0d0887\"], [0.1111111111111111, \"#46039f\"], [0.2222222222222222, \"#7201a8\"], [0.3333333333333333, \"#9c179e\"], [0.4444444444444444, \"#bd3786\"], [0.5555555555555556, \"#d8576b\"], [0.6666666666666666, \"#ed7953\"], [0.7777777777777778, \"#fb9f3a\"], [0.8888888888888888, \"#fdca26\"], [1.0, \"#f0f921\"]], \"type\": \"heatmap\"}], \"heatmapgl\": [{\"colorbar\": {\"outlinewidth\": 0, \"ticks\": \"\"}, \"colorscale\": [[0.0, \"#0d0887\"], [0.1111111111111111, \"#46039f\"], [0.2222222222222222, \"#7201a8\"], [0.3333333333333333, \"#9c179e\"], [0.4444444444444444, \"#bd3786\"], [0.5555555555555556, \"#d8576b\"], [0.6666666666666666, \"#ed7953\"], [0.7777777777777778, \"#fb9f3a\"], [0.8888888888888888, \"#fdca26\"], [1.0, \"#f0f921\"]], \"type\": \"heatmapgl\"}], \"histogram\": [{\"marker\": {\"colorbar\": {\"outlinewidth\": 0, \"ticks\": \"\"}}, \"type\": \"histogram\"}], \"histogram2d\": [{\"colorbar\": {\"outlinewidth\": 0, \"ticks\": \"\"}, \"colorscale\": [[0.0, \"#0d0887\"], [0.1111111111111111, \"#46039f\"], [0.2222222222222222, \"#7201a8\"], [0.3333333333333333, \"#9c179e\"], [0.4444444444444444, \"#bd3786\"], [0.5555555555555556, \"#d8576b\"], [0.6666666666666666, \"#ed7953\"], [0.7777777777777778, \"#fb9f3a\"], [0.8888888888888888, \"#fdca26\"], [1.0, \"#f0f921\"]], \"type\": \"histogram2d\"}], \"histogram2dcontour\": [{\"colorbar\": {\"outlinewidth\": 0, \"ticks\": \"\"}, \"colorscale\": [[0.0, \"#0d0887\"], [0.1111111111111111, \"#46039f\"], [0.2222222222222222, \"#7201a8\"], [0.3333333333333333, \"#9c179e\"], [0.4444444444444444, \"#bd3786\"], [0.5555555555555556, \"#d8576b\"], [0.6666666666666666, \"#ed7953\"], [0.7777777777777778, \"#fb9f3a\"], [0.8888888888888888, \"#fdca26\"], [1.0, \"#f0f921\"]], \"type\": \"histogram2dcontour\"}], \"mesh3d\": [{\"colorbar\": {\"outlinewidth\": 0, \"ticks\": \"\"}, \"type\": \"mesh3d\"}], \"parcoords\": [{\"line\": {\"colorbar\": {\"outlinewidth\": 0, \"ticks\": \"\"}}, \"type\": \"parcoords\"}], \"pie\": [{\"automargin\": true, \"type\": \"pie\"}], \"scatter\": [{\"marker\": {\"colorbar\": {\"outlinewidth\": 0, \"ticks\": \"\"}}, \"type\": \"scatter\"}], \"scatter3d\": [{\"line\": {\"colorbar\": {\"outlinewidth\": 0, \"ticks\": \"\"}}, \"marker\": {\"colorbar\": {\"outlinewidth\": 0, \"ticks\": \"\"}}, \"type\": \"scatter3d\"}], \"scattercarpet\": [{\"marker\": {\"colorbar\": {\"outlinewidth\": 0, \"ticks\": \"\"}}, \"type\": \"scattercarpet\"}], \"scattergeo\": [{\"marker\": {\"colorbar\": {\"outlinewidth\": 0, \"ticks\": \"\"}}, \"type\": \"scattergeo\"}], \"scattergl\": [{\"marker\": {\"colorbar\": {\"outlinewidth\": 0, \"ticks\": \"\"}}, \"type\": \"scattergl\"}], \"scattermapbox\": [{\"marker\": {\"colorbar\": {\"outlinewidth\": 0, \"ticks\": \"\"}}, \"type\": \"scattermapbox\"}], \"scatterpolar\": [{\"marker\": {\"colorbar\": {\"outlinewidth\": 0, \"ticks\": \"\"}}, \"type\": \"scatterpolar\"}], \"scatterpolargl\": [{\"marker\": {\"colorbar\": {\"outlinewidth\": 0, \"ticks\": \"\"}}, \"type\": \"scatterpolargl\"}], \"scatterternary\": [{\"marker\": {\"colorbar\": {\"outlinewidth\": 0, \"ticks\": \"\"}}, \"type\": \"scatterternary\"}], \"surface\": [{\"colorbar\": {\"outlinewidth\": 0, \"ticks\": \"\"}, \"colorscale\": [[0.0, \"#0d0887\"], [0.1111111111111111, \"#46039f\"], [0.2222222222222222, \"#7201a8\"], [0.3333333333333333, \"#9c179e\"], [0.4444444444444444, \"#bd3786\"], [0.5555555555555556, \"#d8576b\"], [0.6666666666666666, \"#ed7953\"], [0.7777777777777778, \"#fb9f3a\"], [0.8888888888888888, \"#fdca26\"], [1.0, \"#f0f921\"]], \"type\": \"surface\"}], \"table\": [{\"cells\": {\"fill\": {\"color\": \"#EBF0F8\"}, \"line\": {\"color\": \"white\"}}, \"header\": {\"fill\": {\"color\": \"#C8D4E3\"}, \"line\": {\"color\": \"white\"}}, \"type\": \"table\"}]}, \"layout\": {\"annotationdefaults\": {\"arrowcolor\": \"#2a3f5f\", \"arrowhead\": 0, \"arrowwidth\": 1}, \"coloraxis\": {\"colorbar\": {\"outlinewidth\": 0, \"ticks\": \"\"}}, \"colorscale\": {\"diverging\": [[0, \"#8e0152\"], [0.1, \"#c51b7d\"], [0.2, \"#de77ae\"], [0.3, \"#f1b6da\"], [0.4, \"#fde0ef\"], [0.5, \"#f7f7f7\"], [0.6, \"#e6f5d0\"], [0.7, \"#b8e186\"], [0.8, \"#7fbc41\"], [0.9, \"#4d9221\"], [1, \"#276419\"]], \"sequential\": [[0.0, \"#0d0887\"], [0.1111111111111111, \"#46039f\"], [0.2222222222222222, \"#7201a8\"], [0.3333333333333333, \"#9c179e\"], [0.4444444444444444, \"#bd3786\"], [0.5555555555555556, \"#d8576b\"], [0.6666666666666666, \"#ed7953\"], [0.7777777777777778, \"#fb9f3a\"], [0.8888888888888888, \"#fdca26\"], [1.0, \"#f0f921\"]], \"sequentialminus\": [[0.0, \"#0d0887\"], [0.1111111111111111, \"#46039f\"], [0.2222222222222222, \"#7201a8\"], [0.3333333333333333, \"#9c179e\"], [0.4444444444444444, \"#bd3786\"], [0.5555555555555556, \"#d8576b\"], [0.6666666666666666, \"#ed7953\"], [0.7777777777777778, \"#fb9f3a\"], [0.8888888888888888, \"#fdca26\"], [1.0, \"#f0f921\"]]}, \"colorway\": [\"#636efa\", \"#EF553B\", \"#00cc96\", \"#ab63fa\", \"#FFA15A\", \"#19d3f3\", \"#FF6692\", \"#B6E880\", \"#FF97FF\", \"#FECB52\"], \"font\": {\"color\": \"#2a3f5f\"}, \"geo\": {\"bgcolor\": \"white\", \"lakecolor\": \"white\", \"landcolor\": \"#E5ECF6\", \"showlakes\": true, \"showland\": true, \"subunitcolor\": \"white\"}, \"hoverlabel\": {\"align\": \"left\"}, \"hovermode\": \"closest\", \"mapbox\": {\"style\": \"light\"}, \"paper_bgcolor\": \"white\", \"plot_bgcolor\": \"#E5ECF6\", \"polar\": {\"angularaxis\": {\"gridcolor\": \"white\", \"linecolor\": \"white\", \"ticks\": \"\"}, \"bgcolor\": \"#E5ECF6\", \"radialaxis\": {\"gridcolor\": \"white\", \"linecolor\": \"white\", \"ticks\": \"\"}}, \"scene\": {\"xaxis\": {\"backgroundcolor\": \"#E5ECF6\", \"gridcolor\": \"white\", \"gridwidth\": 2, \"linecolor\": \"white\", \"showbackground\": true, \"ticks\": \"\", \"zerolinecolor\": \"white\"}, \"yaxis\": {\"backgroundcolor\": \"#E5ECF6\", \"gridcolor\": \"white\", \"gridwidth\": 2, \"linecolor\": \"white\", \"showbackground\": true, \"ticks\": \"\", \"zerolinecolor\": \"white\"}, \"zaxis\": {\"backgroundcolor\": \"#E5ECF6\", \"gridcolor\": \"white\", \"gridwidth\": 2, \"linecolor\": \"white\", \"showbackground\": true, \"ticks\": \"\", \"zerolinecolor\": \"white\"}}, \"shapedefaults\": {\"line\": {\"color\": \"#2a3f5f\"}}, \"ternary\": {\"aaxis\": {\"gridcolor\": \"white\", \"linecolor\": \"white\", \"ticks\": \"\"}, \"baxis\": {\"gridcolor\": \"white\", \"linecolor\": \"white\", \"ticks\": \"\"}, \"bgcolor\": \"#E5ECF6\", \"caxis\": {\"gridcolor\": \"white\", \"linecolor\": \"white\", \"ticks\": \"\"}}, \"title\": {\"x\": 0.05}, \"xaxis\": {\"automargin\": true, \"gridcolor\": \"white\", \"linecolor\": \"white\", \"ticks\": \"\", \"title\": {\"standoff\": 15}, \"zerolinecolor\": \"white\", \"zerolinewidth\": 2}, \"yaxis\": {\"automargin\": true, \"gridcolor\": \"white\", \"linecolor\": \"white\", \"ticks\": \"\", \"title\": {\"standoff\": 15}, \"zerolinecolor\": \"white\", \"zerolinewidth\": 2}}}, \"title\": {\"text\": \"Death Cases ARIMA Model Prediction\"}, \"xaxis\": {\"title\": {\"text\": \"Date\"}}, \"yaxis\": {\"title\": {\"text\": \"Death Cases\"}}},\n",
              "                        {\"responsive\": true}\n",
              "                    ).then(function(){\n",
              "                            \n",
              "var gd = document.getElementById('0efb8316-d2cb-4a62-bda9-9cd5f48ebe63');\n",
              "var x = new MutationObserver(function (mutations, observer) {{\n",
              "        var display = window.getComputedStyle(gd).display;\n",
              "        if (!display || display === 'none') {{\n",
              "            console.log([gd, 'removed!']);\n",
              "            Plotly.purge(gd);\n",
              "            observer.disconnect();\n",
              "        }}\n",
              "}});\n",
              "\n",
              "// Listen for the removal of the full notebook cells\n",
              "var notebookContainer = gd.closest('#notebook-container');\n",
              "if (notebookContainer) {{\n",
              "    x.observe(notebookContainer, {childList: true});\n",
              "}}\n",
              "\n",
              "// Listen for the clearing of the current output cell\n",
              "var outputEl = gd.closest('.output');\n",
              "if (outputEl) {{\n",
              "    x.observe(outputEl, {childList: true});\n",
              "}}\n",
              "\n",
              "                        })\n",
              "                };\n",
              "                \n",
              "            </script>\n",
              "        </div>\n",
              "</body>\n",
              "</html>"
            ]
          },
          "metadata": {}
        }
      ]
    },
    {
      "cell_type": "code",
      "metadata": {
        "id": "oDLHEL5WfQDp"
      },
      "source": [
        "ARIMA_model_death_forecast=[]\n",
        "for i in range(1,365):\n",
        "    ARIMA_model_death_forecast.append(model_arima_deaths.predict(len(valid)+i)[-1])"
      ],
      "execution_count": 365,
      "outputs": []
    },
    {
      "cell_type": "code",
      "metadata": {
        "id": "fXBUEVKnfet5",
        "colab": {
          "base_uri": "https://localhost:8080/",
          "height": 204
        },
        "outputId": "a4af3c08-483c-48ef-aad9-9a0a42184a39"
      },
      "source": [
        "pd.DataFrame(zip(new_date,ARIMA_model_death_forecast),columns=[\"Deaths\",\"ARIMA Model Death Forecast\"]).head()"
      ],
      "execution_count": 366,
      "outputs": [
        {
          "output_type": "execute_result",
          "data": {
            "text/html": [
              "<div>\n",
              "<style scoped>\n",
              "    .dataframe tbody tr th:only-of-type {\n",
              "        vertical-align: middle;\n",
              "    }\n",
              "\n",
              "    .dataframe tbody tr th {\n",
              "        vertical-align: top;\n",
              "    }\n",
              "\n",
              "    .dataframe thead th {\n",
              "        text-align: right;\n",
              "    }\n",
              "</style>\n",
              "<table border=\"1\" class=\"dataframe\">\n",
              "  <thead>\n",
              "    <tr style=\"text-align: right;\">\n",
              "      <th></th>\n",
              "      <th>Deaths</th>\n",
              "      <th>ARIMA Model Death Forecast</th>\n",
              "    </tr>\n",
              "  </thead>\n",
              "  <tbody>\n",
              "    <tr>\n",
              "      <th>0</th>\n",
              "      <td>2021-10-01</td>\n",
              "      <td>35587.082555</td>\n",
              "    </tr>\n",
              "    <tr>\n",
              "      <th>1</th>\n",
              "      <td>2021-10-02</td>\n",
              "      <td>35603.919846</td>\n",
              "    </tr>\n",
              "    <tr>\n",
              "      <th>2</th>\n",
              "      <td>2021-10-03</td>\n",
              "      <td>35620.253200</td>\n",
              "    </tr>\n",
              "    <tr>\n",
              "      <th>3</th>\n",
              "      <td>2021-10-04</td>\n",
              "      <td>35636.110610</td>\n",
              "    </tr>\n",
              "    <tr>\n",
              "      <th>4</th>\n",
              "      <td>2021-10-05</td>\n",
              "      <td>35651.518711</td>\n",
              "    </tr>\n",
              "  </tbody>\n",
              "</table>\n",
              "</div>"
            ],
            "text/plain": [
              "      Deaths  ARIMA Model Death Forecast\n",
              "0 2021-10-01                35587.082555\n",
              "1 2021-10-02                35603.919846\n",
              "2 2021-10-03                35620.253200\n",
              "3 2021-10-04                35636.110610\n",
              "4 2021-10-05                35651.518711"
            ]
          },
          "metadata": {},
          "execution_count": 366
        }
      ]
    },
    {
      "cell_type": "code",
      "metadata": {
        "id": "fFRhP7D2q_jw",
        "colab": {
          "base_uri": "https://localhost:8080/",
          "height": 660
        },
        "outputId": "fa2642fd-8805-4c51-cf88-0e9ea4dd2bb0"
      },
      "source": [
        "model_predictions"
      ],
      "execution_count": 367,
      "outputs": [
        {
          "output_type": "execute_result",
          "data": {
            "text/html": [
              "<div>\n",
              "<style scoped>\n",
              "    .dataframe tbody tr th:only-of-type {\n",
              "        vertical-align: middle;\n",
              "    }\n",
              "\n",
              "    .dataframe tbody tr th {\n",
              "        vertical-align: top;\n",
              "    }\n",
              "\n",
              "    .dataframe thead th {\n",
              "        text-align: right;\n",
              "    }\n",
              "</style>\n",
              "<table border=\"1\" class=\"dataframe\">\n",
              "  <thead>\n",
              "    <tr style=\"text-align: right;\">\n",
              "      <th></th>\n",
              "      <th>date</th>\n",
              "      <th>Polynonmial Regression Prediction</th>\n",
              "      <th>SVM Prediction</th>\n",
              "      <th>Holt's Linear Model Prediction</th>\n",
              "      <th>Holt's Winter Model Prediction</th>\n",
              "      <th>AR Model Prediction</th>\n",
              "      <th>MA Model Prediction</th>\n",
              "      <th>ARIMA Model Prediction</th>\n",
              "      <th>SARIMA Model Prediction</th>\n",
              "      <th>Prophet's Prediction</th>\n",
              "      <th>Prophet's Upper Bound</th>\n",
              "      <th>Prophet's Lower Bound</th>\n",
              "    </tr>\n",
              "  </thead>\n",
              "  <tbody>\n",
              "    <tr>\n",
              "      <th>0</th>\n",
              "      <td>2021-10-01</td>\n",
              "      <td>44495.114581</td>\n",
              "      <td>45478.513196</td>\n",
              "      <td>35620.178009</td>\n",
              "      <td>35634.704262</td>\n",
              "      <td>35638.364946</td>\n",
              "      <td>35623.490061</td>\n",
              "      <td>35587.082555</td>\n",
              "      <td>35638.080888</td>\n",
              "      <td>35600.620359</td>\n",
              "      <td>35638.363181</td>\n",
              "      <td>35561.164857</td>\n",
              "    </tr>\n",
              "    <tr>\n",
              "      <th>1</th>\n",
              "      <td>2021-10-02</td>\n",
              "      <td>46155.767294</td>\n",
              "      <td>46043.686337</td>\n",
              "      <td>35643.738237</td>\n",
              "      <td>35665.496743</td>\n",
              "      <td>35664.528413</td>\n",
              "      <td>35647.841027</td>\n",
              "      <td>35603.919846</td>\n",
              "      <td>35663.579702</td>\n",
              "      <td>35628.698747</td>\n",
              "      <td>35702.034842</td>\n",
              "      <td>35556.301117</td>\n",
              "    </tr>\n",
              "    <tr>\n",
              "      <th>2</th>\n",
              "      <td>2021-10-03</td>\n",
              "      <td>48032.109538</td>\n",
              "      <td>46624.427899</td>\n",
              "      <td>35667.298466</td>\n",
              "      <td>35691.322765</td>\n",
              "      <td>35690.866893</td>\n",
              "      <td>35672.258215</td>\n",
              "      <td>35620.253200</td>\n",
              "      <td>35689.615096</td>\n",
              "      <td>35646.315452</td>\n",
              "      <td>35790.802041</td>\n",
              "      <td>35502.455503</td>\n",
              "    </tr>\n",
              "    <tr>\n",
              "      <th>3</th>\n",
              "      <td>2021-10-04</td>\n",
              "      <td>50144.602820</td>\n",
              "      <td>47221.079088</td>\n",
              "      <td>35690.858694</td>\n",
              "      <td>35705.972391</td>\n",
              "      <td>35717.197143</td>\n",
              "      <td>35696.741623</td>\n",
              "      <td>35636.110610</td>\n",
              "      <td>35714.792476</td>\n",
              "      <td>35656.483079</td>\n",
              "      <td>35871.707158</td>\n",
              "      <td>35416.820588</td>\n",
              "    </tr>\n",
              "    <tr>\n",
              "      <th>4</th>\n",
              "      <td>2021-10-05</td>\n",
              "      <td>52515.101177</td>\n",
              "      <td>47833.986692</td>\n",
              "      <td>35714.418923</td>\n",
              "      <td>35727.657946</td>\n",
              "      <td>35743.601788</td>\n",
              "      <td>35721.291252</td>\n",
              "      <td>35651.518711</td>\n",
              "      <td>35741.161430</td>\n",
              "      <td>35677.993204</td>\n",
              "      <td>35984.259192</td>\n",
              "      <td>35359.396179</td>\n",
              "    </tr>\n",
              "    <tr>\n",
              "      <th>...</th>\n",
              "      <td>...</td>\n",
              "      <td>...</td>\n",
              "      <td>...</td>\n",
              "      <td>...</td>\n",
              "      <td>...</td>\n",
              "      <td>...</td>\n",
              "      <td>...</td>\n",
              "      <td>...</td>\n",
              "      <td>...</td>\n",
              "      <td>...</td>\n",
              "      <td>...</td>\n",
              "      <td>...</td>\n",
              "    </tr>\n",
              "    <tr>\n",
              "      <th>359</th>\n",
              "      <td>2022-09-25</td>\n",
              "      <td>18495429363.409454</td>\n",
              "      <td>11505646.784762</td>\n",
              "      <td>44078.300028</td>\n",
              "      <td>44569.569764</td>\n",
              "      <td>50084.910092</td>\n",
              "      <td>48620.900397</td>\n",
              "      <td>42369.402948</td>\n",
              "      <td>45266.578737</td>\n",
              "      <td>43510.939809</td>\n",
              "      <td>193333.473248</td>\n",
              "      <td>-104301.411880</td>\n",
              "    </tr>\n",
              "    <tr>\n",
              "      <th>360</th>\n",
              "      <td>2022-09-26</td>\n",
              "      <td>18822763540.271004</td>\n",
              "      <td>11633287.834124</td>\n",
              "      <td>44101.860257</td>\n",
              "      <td>44581.474244</td>\n",
              "      <td>50139.236745</td>\n",
              "      <td>48669.024622</td>\n",
              "      <td>42400.998006</td>\n",
              "      <td>45293.474805</td>\n",
              "      <td>43521.107436</td>\n",
              "      <td>193840.390303</td>\n",
              "      <td>-104860.482545</td>\n",
              "    </tr>\n",
              "    <tr>\n",
              "      <th>361</th>\n",
              "      <td>2022-09-27</td>\n",
              "      <td>19155135402.187019</td>\n",
              "      <td>11762109.642338</td>\n",
              "      <td>44125.420485</td>\n",
              "      <td>44600.849145</td>\n",
              "      <td>50193.641647</td>\n",
              "      <td>48717.215069</td>\n",
              "      <td>42432.667455</td>\n",
              "      <td>45320.370872</td>\n",
              "      <td>43542.617561</td>\n",
              "      <td>194597.200499</td>\n",
              "      <td>-105427.074995</td>\n",
              "    </tr>\n",
              "    <tr>\n",
              "      <th>362</th>\n",
              "      <td>2022-09-28</td>\n",
              "      <td>19492610988.858364</td>\n",
              "      <td>11892120.931541</td>\n",
              "      <td>44148.980713</td>\n",
              "      <td>44628.621049</td>\n",
              "      <td>50248.124799</td>\n",
              "      <td>48765.471736</td>\n",
              "      <td>42464.411295</td>\n",
              "      <td>45347.266940</td>\n",
              "      <td>43568.986293</td>\n",
              "      <td>195401.211269</td>\n",
              "      <td>-105808.175613</td>\n",
              "    </tr>\n",
              "    <tr>\n",
              "      <th>363</th>\n",
              "      <td>2022-09-29</td>\n",
              "      <td>19835257056.886589</td>\n",
              "      <td>12023330.471999</td>\n",
              "      <td>44172.540942</td>\n",
              "      <td>44650.766014</td>\n",
              "      <td>50302.686200</td>\n",
              "      <td>48813.794623</td>\n",
              "      <td>42496.229528</td>\n",
              "      <td>45374.163008</td>\n",
              "      <td>43591.325721</td>\n",
              "      <td>196219.101179</td>\n",
              "      <td>-106385.293292</td>\n",
              "    </tr>\n",
              "  </tbody>\n",
              "</table>\n",
              "<p>364 rows × 12 columns</p>\n",
              "</div>"
            ],
            "text/plain": [
              "          date  ...  Prophet's Lower Bound\n",
              "0   2021-10-01  ...           35561.164857\n",
              "1   2021-10-02  ...           35556.301117\n",
              "2   2021-10-03  ...           35502.455503\n",
              "3   2021-10-04  ...           35416.820588\n",
              "4   2021-10-05  ...           35359.396179\n",
              "..         ...  ...                    ...\n",
              "359 2022-09-25  ...         -104301.411880\n",
              "360 2022-09-26  ...         -104860.482545\n",
              "361 2022-09-27  ...         -105427.074995\n",
              "362 2022-09-28  ...         -105808.175613\n",
              "363 2022-09-29  ...         -106385.293292\n",
              "\n",
              "[364 rows x 12 columns]"
            ]
          },
          "metadata": {},
          "execution_count": 367
        }
      ]
    },
    {
      "cell_type": "code",
      "metadata": {
        "colab": {
          "base_uri": "https://localhost:8080/",
          "height": 235
        },
        "id": "rdobaoW85hZ6",
        "outputId": "2fc29d06-8204-405b-c913-2d9032e0faa5"
      },
      "source": [
        "model_predictions=model_predictions.groupby([\"date\"]).agg({\"Holt's Linear Model Prediction\":'sum',\"MA Model Prediction\":'sum',\"ARIMA Model Prediction\":'sum',\"SARIMA Model Prediction\":'sum'})\n",
        "model_predictions=model_predictions[0:92]\n",
        "model_predictions.tail()"
      ],
      "execution_count": 368,
      "outputs": [
        {
          "output_type": "execute_result",
          "data": {
            "text/html": [
              "<div>\n",
              "<style scoped>\n",
              "    .dataframe tbody tr th:only-of-type {\n",
              "        vertical-align: middle;\n",
              "    }\n",
              "\n",
              "    .dataframe tbody tr th {\n",
              "        vertical-align: top;\n",
              "    }\n",
              "\n",
              "    .dataframe thead th {\n",
              "        text-align: right;\n",
              "    }\n",
              "</style>\n",
              "<table border=\"1\" class=\"dataframe\">\n",
              "  <thead>\n",
              "    <tr style=\"text-align: right;\">\n",
              "      <th></th>\n",
              "      <th>Holt's Linear Model Prediction</th>\n",
              "      <th>MA Model Prediction</th>\n",
              "      <th>ARIMA Model Prediction</th>\n",
              "      <th>SARIMA Model Prediction</th>\n",
              "    </tr>\n",
              "    <tr>\n",
              "      <th>date</th>\n",
              "      <th></th>\n",
              "      <th></th>\n",
              "      <th></th>\n",
              "      <th></th>\n",
              "    </tr>\n",
              "  </thead>\n",
              "  <tbody>\n",
              "    <tr>\n",
              "      <th>2021-12-27</th>\n",
              "      <td>37669.917885</td>\n",
              "      <td>37989.756077</td>\n",
              "      <td>36534.258414</td>\n",
              "      <td>37951.280070</td>\n",
              "    </tr>\n",
              "    <tr>\n",
              "      <th>2021-12-28</th>\n",
              "      <td>37693.478114</td>\n",
              "      <td>38019.868252</td>\n",
              "      <td>36545.778515</td>\n",
              "      <td>37978.166334</td>\n",
              "    </tr>\n",
              "    <tr>\n",
              "      <th>2021-12-29</th>\n",
              "      <td>37717.038342</td>\n",
              "      <td>38050.046646</td>\n",
              "      <td>36557.365286</td>\n",
              "      <td>38005.054655</td>\n",
              "    </tr>\n",
              "    <tr>\n",
              "      <th>2021-12-30</th>\n",
              "      <td>37740.598571</td>\n",
              "      <td>38080.291262</td>\n",
              "      <td>36569.019101</td>\n",
              "      <td>38031.935247</td>\n",
              "    </tr>\n",
              "    <tr>\n",
              "      <th>2021-12-31</th>\n",
              "      <td>37764.158799</td>\n",
              "      <td>38110.602099</td>\n",
              "      <td>36580.740316</td>\n",
              "      <td>38058.795413</td>\n",
              "    </tr>\n",
              "  </tbody>\n",
              "</table>\n",
              "</div>"
            ],
            "text/plain": [
              "            Holt's Linear Model Prediction  ...  SARIMA Model Prediction\n",
              "date                                        ...                         \n",
              "2021-12-27                    37669.917885  ...             37951.280070\n",
              "2021-12-28                    37693.478114  ...             37978.166334\n",
              "2021-12-29                    37717.038342  ...             38005.054655\n",
              "2021-12-30                    37740.598571  ...             38031.935247\n",
              "2021-12-31                    37764.158799  ...             38058.795413\n",
              "\n",
              "[5 rows x 4 columns]"
            ]
          },
          "metadata": {},
          "execution_count": 368
        }
      ]
    },
    {
      "cell_type": "code",
      "metadata": {
        "colab": {
          "base_uri": "https://localhost:8080/",
          "height": 542
        },
        "id": "gq48nG3p31RL",
        "outputId": "e15b290b-a8b5-4e1e-dc72-a1d5996620d4"
      },
      "source": [
        "fig=go.Figure()\n",
        "fig.add_trace(go.Scatter(x=model_predictions.index, y=model_predictions[\"Holt's Linear Model Prediction\"],\n",
        "                    mode='lines+markers',\n",
        "                    name=\"Holt's Linear Model Prediction\"))\n",
        "\n",
        "fig.add_trace(go.Scatter(x=model_predictions.index, y=model_predictions[\"ARIMA Model Prediction\"],\n",
        "                    mode='lines+markers',\n",
        "                    name='ARIMA Model Prediction'))\n",
        "\n",
        "fig.update_layout(title=\"Prediction of Death cases\",\n",
        "                 xaxis_title=\"Date\",yaxis_title=\"Number of cases\",legend=dict(x=0,y=1,traceorder=\"normal\"))\n",
        "fig.show()"
      ],
      "execution_count": 387,
      "outputs": [
        {
          "output_type": "display_data",
          "data": {
            "text/html": [
              "<html>\n",
              "<head><meta charset=\"utf-8\" /></head>\n",
              "<body>\n",
              "    <div>\n",
              "            <script src=\"https://cdnjs.cloudflare.com/ajax/libs/mathjax/2.7.5/MathJax.js?config=TeX-AMS-MML_SVG\"></script><script type=\"text/javascript\">if (window.MathJax) {MathJax.Hub.Config({SVG: {font: \"STIX-Web\"}});}</script>\n",
              "                <script type=\"text/javascript\">window.PlotlyConfig = {MathJaxConfig: 'local'};</script>\n",
              "        <script src=\"https://cdn.plot.ly/plotly-latest.min.js\"></script>    \n",
              "            <div id=\"17149bff-1ea8-409b-80be-701b912cdb1c\" class=\"plotly-graph-div\" style=\"height:525px; width:100%;\"></div>\n",
              "            <script type=\"text/javascript\">\n",
              "                \n",
              "                    window.PLOTLYENV=window.PLOTLYENV || {};\n",
              "                    \n",
              "                if (document.getElementById(\"17149bff-1ea8-409b-80be-701b912cdb1c\")) {\n",
              "                    Plotly.newPlot(\n",
              "                        '17149bff-1ea8-409b-80be-701b912cdb1c',\n",
              "                        [{\"mode\": \"lines+markers\", \"name\": \"Holt's Linear Model Prediction\", \"type\": \"scatter\", \"x\": [\"2021-10-01T00:00:00\", \"2021-10-02T00:00:00\", \"2021-10-03T00:00:00\", \"2021-10-04T00:00:00\", \"2021-10-05T00:00:00\", \"2021-10-06T00:00:00\", \"2021-10-07T00:00:00\", \"2021-10-08T00:00:00\", \"2021-10-09T00:00:00\", \"2021-10-10T00:00:00\", \"2021-10-11T00:00:00\", \"2021-10-12T00:00:00\", \"2021-10-13T00:00:00\", \"2021-10-14T00:00:00\", \"2021-10-15T00:00:00\", \"2021-10-16T00:00:00\", \"2021-10-17T00:00:00\", \"2021-10-18T00:00:00\", \"2021-10-19T00:00:00\", \"2021-10-20T00:00:00\", \"2021-10-21T00:00:00\", \"2021-10-22T00:00:00\", \"2021-10-23T00:00:00\", \"2021-10-24T00:00:00\", \"2021-10-25T00:00:00\", \"2021-10-26T00:00:00\", \"2021-10-27T00:00:00\", \"2021-10-28T00:00:00\", \"2021-10-29T00:00:00\", \"2021-10-30T00:00:00\", \"2021-10-31T00:00:00\", \"2021-11-01T00:00:00\", \"2021-11-02T00:00:00\", \"2021-11-03T00:00:00\", \"2021-11-04T00:00:00\", \"2021-11-05T00:00:00\", \"2021-11-06T00:00:00\", \"2021-11-07T00:00:00\", \"2021-11-08T00:00:00\", \"2021-11-09T00:00:00\", \"2021-11-10T00:00:00\", \"2021-11-11T00:00:00\", \"2021-11-12T00:00:00\", \"2021-11-13T00:00:00\", \"2021-11-14T00:00:00\", \"2021-11-15T00:00:00\", \"2021-11-16T00:00:00\", \"2021-11-17T00:00:00\", \"2021-11-18T00:00:00\", \"2021-11-19T00:00:00\", \"2021-11-20T00:00:00\", \"2021-11-21T00:00:00\", \"2021-11-22T00:00:00\", \"2021-11-23T00:00:00\", \"2021-11-24T00:00:00\", \"2021-11-25T00:00:00\", \"2021-11-26T00:00:00\", \"2021-11-27T00:00:00\", \"2021-11-28T00:00:00\", \"2021-11-29T00:00:00\", \"2021-11-30T00:00:00\", \"2021-12-01T00:00:00\", \"2021-12-02T00:00:00\", \"2021-12-03T00:00:00\", \"2021-12-04T00:00:00\", \"2021-12-05T00:00:00\", \"2021-12-06T00:00:00\", \"2021-12-07T00:00:00\", \"2021-12-08T00:00:00\", \"2021-12-09T00:00:00\", \"2021-12-10T00:00:00\", \"2021-12-11T00:00:00\", \"2021-12-12T00:00:00\", \"2021-12-13T00:00:00\", \"2021-12-14T00:00:00\", \"2021-12-15T00:00:00\", \"2021-12-16T00:00:00\", \"2021-12-17T00:00:00\", \"2021-12-18T00:00:00\", \"2021-12-19T00:00:00\", \"2021-12-20T00:00:00\", \"2021-12-21T00:00:00\", \"2021-12-22T00:00:00\", \"2021-12-23T00:00:00\", \"2021-12-24T00:00:00\", \"2021-12-25T00:00:00\", \"2021-12-26T00:00:00\", \"2021-12-27T00:00:00\", \"2021-12-28T00:00:00\", \"2021-12-29T00:00:00\", \"2021-12-30T00:00:00\", \"2021-12-31T00:00:00\"], \"y\": [35620.178008907664, 35643.738237373225, 35667.29846583879, 35690.85869430435, 35714.41892276991, 35737.97915123547, 35761.539379701026, 35785.09960816659, 35808.65983663215, 35832.22006509771, 35855.78029356327, 35879.34052202883, 35902.90075049439, 35926.46097895995, 35950.02120742551, 35973.58143589107, 35997.14166435663, 36020.701892822195, 36044.26212128776, 36067.82234975331, 36091.38257821887, 36114.942806684434, 36138.503035149995, 36162.06326361556, 36185.62349208112, 36209.18372054667, 36232.743949012234, 36256.304177477796, 36279.86440594336, 36303.42463440892, 36326.98486287448, 36350.54509134004, 36374.105319805596, 36397.66554827116, 36421.22577673672, 36444.78600520228, 36468.34623366784, 36491.906462133404, 36515.46669059896, 36539.02691906452, 36562.58714753008, 36586.14737599564, 36609.707604461204, 36633.267832926766, 36656.82806139233, 36680.38828985788, 36703.94851832344, 36727.508746789004, 36751.068975254566, 36774.62920372013, 36798.18943218569, 36821.74966065124, 36845.309889116805, 36868.870117582366, 36892.43034604793, 36915.99057451349, 36939.55080297905, 36963.111031444605, 36986.67125991017, 37010.23148837573, 37033.79171684129, 37057.35194530685, 37080.91217377241, 37104.472402237974, 37128.03263070353, 37151.59285916909, 37175.15308763465, 37198.71331610021, 37222.273544565775, 37245.833773031336, 37269.39400149689, 37292.95422996245, 37316.51445842801, 37340.074686893575, 37363.634915359136, 37387.1951438247, 37410.75537229026, 37434.315600755814, 37457.875829221375, 37481.43605768694, 37504.9962861525, 37528.55651461806, 37552.11674308362, 37575.676971549176, 37599.23720001474, 37622.7974284803, 37646.35765694586, 37669.91788541142, 37693.47811387698, 37717.03834234254, 37740.5985708081, 37764.15879927366]}, {\"mode\": \"lines+markers\", \"name\": \"ARIMA Model Prediction\", \"type\": \"scatter\", \"x\": [\"2021-10-01T00:00:00\", \"2021-10-02T00:00:00\", \"2021-10-03T00:00:00\", \"2021-10-04T00:00:00\", \"2021-10-05T00:00:00\", \"2021-10-06T00:00:00\", \"2021-10-07T00:00:00\", \"2021-10-08T00:00:00\", \"2021-10-09T00:00:00\", \"2021-10-10T00:00:00\", \"2021-10-11T00:00:00\", \"2021-10-12T00:00:00\", \"2021-10-13T00:00:00\", \"2021-10-14T00:00:00\", \"2021-10-15T00:00:00\", \"2021-10-16T00:00:00\", \"2021-10-17T00:00:00\", \"2021-10-18T00:00:00\", \"2021-10-19T00:00:00\", \"2021-10-20T00:00:00\", \"2021-10-21T00:00:00\", \"2021-10-22T00:00:00\", \"2021-10-23T00:00:00\", \"2021-10-24T00:00:00\", \"2021-10-25T00:00:00\", \"2021-10-26T00:00:00\", \"2021-10-27T00:00:00\", \"2021-10-28T00:00:00\", \"2021-10-29T00:00:00\", \"2021-10-30T00:00:00\", \"2021-10-31T00:00:00\", \"2021-11-01T00:00:00\", \"2021-11-02T00:00:00\", \"2021-11-03T00:00:00\", \"2021-11-04T00:00:00\", \"2021-11-05T00:00:00\", \"2021-11-06T00:00:00\", \"2021-11-07T00:00:00\", \"2021-11-08T00:00:00\", \"2021-11-09T00:00:00\", \"2021-11-10T00:00:00\", \"2021-11-11T00:00:00\", \"2021-11-12T00:00:00\", \"2021-11-13T00:00:00\", \"2021-11-14T00:00:00\", \"2021-11-15T00:00:00\", \"2021-11-16T00:00:00\", \"2021-11-17T00:00:00\", \"2021-11-18T00:00:00\", \"2021-11-19T00:00:00\", \"2021-11-20T00:00:00\", \"2021-11-21T00:00:00\", \"2021-11-22T00:00:00\", \"2021-11-23T00:00:00\", \"2021-11-24T00:00:00\", \"2021-11-25T00:00:00\", \"2021-11-26T00:00:00\", \"2021-11-27T00:00:00\", \"2021-11-28T00:00:00\", \"2021-11-29T00:00:00\", \"2021-11-30T00:00:00\", \"2021-12-01T00:00:00\", \"2021-12-02T00:00:00\", \"2021-12-03T00:00:00\", \"2021-12-04T00:00:00\", \"2021-12-05T00:00:00\", \"2021-12-06T00:00:00\", \"2021-12-07T00:00:00\", \"2021-12-08T00:00:00\", \"2021-12-09T00:00:00\", \"2021-12-10T00:00:00\", \"2021-12-11T00:00:00\", \"2021-12-12T00:00:00\", \"2021-12-13T00:00:00\", \"2021-12-14T00:00:00\", \"2021-12-15T00:00:00\", \"2021-12-16T00:00:00\", \"2021-12-17T00:00:00\", \"2021-12-18T00:00:00\", \"2021-12-19T00:00:00\", \"2021-12-20T00:00:00\", \"2021-12-21T00:00:00\", \"2021-12-22T00:00:00\", \"2021-12-23T00:00:00\", \"2021-12-24T00:00:00\", \"2021-12-25T00:00:00\", \"2021-12-26T00:00:00\", \"2021-12-27T00:00:00\", \"2021-12-28T00:00:00\", \"2021-12-29T00:00:00\", \"2021-12-30T00:00:00\", \"2021-12-31T00:00:00\"], \"y\": [35587.08255549612, 35603.919846040604, 35620.25320031587, 35636.11060972289, 35651.518710862496, 35666.50285110847, 35681.087151006905, 35695.2945636554, 35709.14693120821, 35722.665038646584, 35735.86866494654, 35748.77663177012, 35761.4068497999, 35773.77636283102, 35785.90138972894, 35797.79736435658, 35809.47897356887, 35820.9601933684, 35832.254323311085, 35843.37401924655, 35854.33132447392, 35865.1376993896, 35875.80404970013, 35886.34075326949, 35896.75768566698, 35907.06424447856, 35917.26937244158, 35927.38157945967, 35937.40896355212, 35947.359230789414, 35957.23971426369, 35967.057392141156, 35976.8189048407, 35986.53057138107, 35996.19840493679, 36005.82812764125, 36015.42518467325, 36024.994757661734, 36034.54177744179, 36044.0709361932, 36053.58669899154, 36063.09331480008, 36072.594826929795, 36082.095082993066, 36091.597744375584, 36101.106295249825, 36110.62405115229, 36120.15416714558, 36129.69964558541, 36139.26334351173, 36148.84797968211, 36158.45614126464, 36168.090290206994, 36177.7527692971, 36187.445807930606, 36197.171527599116, 36206.93194711279, 36216.7289875702, 36226.564477087624, 36236.44015529945, 36246.35767764075, 36256.31861942256, 36266.32447970994, 36276.37668501234, 36286.47659279532, 36296.6254948223, 36306.824620334606, 36317.07513907756, 36327.37816418014, 36337.73475489522, 36348.145919207214, 36358.61261631352, 36369.135758985794, 36379.71621581704, 36390.35481335983, 36401.05233816113, 36411.80953869855, 36422.62712722297, 36433.5057815119, 36444.44614653802, 36455.44883605697, 36466.51443411823, 36477.64349650298, 36488.83655209223, 36500.09410416888, 36511.41663165661, 36522.80459029894, 36534.258413781106, 36545.778514797756, 36557.36528606886, 36569.01910130653, 36580.740316134965]}],\n",
              "                        {\"legend\": {\"traceorder\": \"normal\", \"x\": 0, \"y\": 1}, \"template\": {\"data\": {\"bar\": [{\"error_x\": {\"color\": \"#2a3f5f\"}, \"error_y\": {\"color\": \"#2a3f5f\"}, \"marker\": {\"line\": {\"color\": \"#E5ECF6\", \"width\": 0.5}}, \"type\": \"bar\"}], \"barpolar\": [{\"marker\": {\"line\": {\"color\": \"#E5ECF6\", \"width\": 0.5}}, \"type\": \"barpolar\"}], \"carpet\": [{\"aaxis\": {\"endlinecolor\": \"#2a3f5f\", \"gridcolor\": \"white\", \"linecolor\": \"white\", \"minorgridcolor\": \"white\", \"startlinecolor\": \"#2a3f5f\"}, \"baxis\": {\"endlinecolor\": \"#2a3f5f\", \"gridcolor\": \"white\", \"linecolor\": \"white\", \"minorgridcolor\": \"white\", \"startlinecolor\": \"#2a3f5f\"}, \"type\": \"carpet\"}], \"choropleth\": [{\"colorbar\": {\"outlinewidth\": 0, \"ticks\": \"\"}, \"type\": \"choropleth\"}], \"contour\": [{\"colorbar\": {\"outlinewidth\": 0, \"ticks\": \"\"}, \"colorscale\": [[0.0, \"#0d0887\"], [0.1111111111111111, \"#46039f\"], [0.2222222222222222, \"#7201a8\"], [0.3333333333333333, \"#9c179e\"], [0.4444444444444444, \"#bd3786\"], [0.5555555555555556, \"#d8576b\"], [0.6666666666666666, \"#ed7953\"], [0.7777777777777778, \"#fb9f3a\"], [0.8888888888888888, \"#fdca26\"], [1.0, \"#f0f921\"]], \"type\": \"contour\"}], \"contourcarpet\": [{\"colorbar\": {\"outlinewidth\": 0, \"ticks\": \"\"}, \"type\": \"contourcarpet\"}], \"heatmap\": [{\"colorbar\": {\"outlinewidth\": 0, \"ticks\": \"\"}, \"colorscale\": [[0.0, \"#0d0887\"], [0.1111111111111111, \"#46039f\"], [0.2222222222222222, \"#7201a8\"], [0.3333333333333333, \"#9c179e\"], [0.4444444444444444, \"#bd3786\"], [0.5555555555555556, \"#d8576b\"], [0.6666666666666666, \"#ed7953\"], [0.7777777777777778, \"#fb9f3a\"], [0.8888888888888888, \"#fdca26\"], [1.0, \"#f0f921\"]], \"type\": \"heatmap\"}], \"heatmapgl\": [{\"colorbar\": {\"outlinewidth\": 0, \"ticks\": \"\"}, \"colorscale\": [[0.0, \"#0d0887\"], [0.1111111111111111, \"#46039f\"], [0.2222222222222222, \"#7201a8\"], [0.3333333333333333, \"#9c179e\"], [0.4444444444444444, \"#bd3786\"], [0.5555555555555556, \"#d8576b\"], [0.6666666666666666, \"#ed7953\"], [0.7777777777777778, \"#fb9f3a\"], [0.8888888888888888, \"#fdca26\"], [1.0, \"#f0f921\"]], \"type\": \"heatmapgl\"}], \"histogram\": [{\"marker\": {\"colorbar\": {\"outlinewidth\": 0, \"ticks\": \"\"}}, \"type\": \"histogram\"}], \"histogram2d\": [{\"colorbar\": {\"outlinewidth\": 0, \"ticks\": \"\"}, \"colorscale\": [[0.0, \"#0d0887\"], [0.1111111111111111, \"#46039f\"], [0.2222222222222222, \"#7201a8\"], [0.3333333333333333, \"#9c179e\"], [0.4444444444444444, \"#bd3786\"], [0.5555555555555556, \"#d8576b\"], [0.6666666666666666, \"#ed7953\"], [0.7777777777777778, \"#fb9f3a\"], [0.8888888888888888, \"#fdca26\"], [1.0, \"#f0f921\"]], \"type\": \"histogram2d\"}], \"histogram2dcontour\": [{\"colorbar\": {\"outlinewidth\": 0, \"ticks\": \"\"}, \"colorscale\": [[0.0, \"#0d0887\"], [0.1111111111111111, \"#46039f\"], [0.2222222222222222, \"#7201a8\"], [0.3333333333333333, \"#9c179e\"], [0.4444444444444444, \"#bd3786\"], [0.5555555555555556, \"#d8576b\"], [0.6666666666666666, \"#ed7953\"], [0.7777777777777778, \"#fb9f3a\"], [0.8888888888888888, \"#fdca26\"], [1.0, \"#f0f921\"]], \"type\": \"histogram2dcontour\"}], \"mesh3d\": [{\"colorbar\": {\"outlinewidth\": 0, \"ticks\": \"\"}, \"type\": \"mesh3d\"}], \"parcoords\": [{\"line\": {\"colorbar\": {\"outlinewidth\": 0, \"ticks\": \"\"}}, \"type\": \"parcoords\"}], \"pie\": [{\"automargin\": true, \"type\": \"pie\"}], \"scatter\": [{\"marker\": {\"colorbar\": {\"outlinewidth\": 0, \"ticks\": \"\"}}, \"type\": \"scatter\"}], \"scatter3d\": [{\"line\": {\"colorbar\": {\"outlinewidth\": 0, \"ticks\": \"\"}}, \"marker\": {\"colorbar\": {\"outlinewidth\": 0, \"ticks\": \"\"}}, \"type\": \"scatter3d\"}], \"scattercarpet\": [{\"marker\": {\"colorbar\": {\"outlinewidth\": 0, \"ticks\": \"\"}}, \"type\": \"scattercarpet\"}], \"scattergeo\": [{\"marker\": {\"colorbar\": {\"outlinewidth\": 0, \"ticks\": \"\"}}, \"type\": \"scattergeo\"}], \"scattergl\": [{\"marker\": {\"colorbar\": {\"outlinewidth\": 0, \"ticks\": \"\"}}, \"type\": \"scattergl\"}], \"scattermapbox\": [{\"marker\": {\"colorbar\": {\"outlinewidth\": 0, \"ticks\": \"\"}}, \"type\": \"scattermapbox\"}], \"scatterpolar\": [{\"marker\": {\"colorbar\": {\"outlinewidth\": 0, \"ticks\": \"\"}}, \"type\": \"scatterpolar\"}], \"scatterpolargl\": [{\"marker\": {\"colorbar\": {\"outlinewidth\": 0, \"ticks\": \"\"}}, \"type\": \"scatterpolargl\"}], \"scatterternary\": [{\"marker\": {\"colorbar\": {\"outlinewidth\": 0, \"ticks\": \"\"}}, \"type\": \"scatterternary\"}], \"surface\": [{\"colorbar\": {\"outlinewidth\": 0, \"ticks\": \"\"}, \"colorscale\": [[0.0, \"#0d0887\"], [0.1111111111111111, \"#46039f\"], [0.2222222222222222, \"#7201a8\"], [0.3333333333333333, \"#9c179e\"], [0.4444444444444444, \"#bd3786\"], [0.5555555555555556, \"#d8576b\"], [0.6666666666666666, \"#ed7953\"], [0.7777777777777778, \"#fb9f3a\"], [0.8888888888888888, \"#fdca26\"], [1.0, \"#f0f921\"]], \"type\": \"surface\"}], \"table\": [{\"cells\": {\"fill\": {\"color\": \"#EBF0F8\"}, \"line\": {\"color\": \"white\"}}, \"header\": {\"fill\": {\"color\": \"#C8D4E3\"}, \"line\": {\"color\": \"white\"}}, \"type\": \"table\"}]}, \"layout\": {\"annotationdefaults\": {\"arrowcolor\": \"#2a3f5f\", \"arrowhead\": 0, \"arrowwidth\": 1}, \"coloraxis\": {\"colorbar\": {\"outlinewidth\": 0, \"ticks\": \"\"}}, \"colorscale\": {\"diverging\": [[0, \"#8e0152\"], [0.1, \"#c51b7d\"], [0.2, \"#de77ae\"], [0.3, \"#f1b6da\"], [0.4, \"#fde0ef\"], [0.5, \"#f7f7f7\"], [0.6, \"#e6f5d0\"], [0.7, \"#b8e186\"], [0.8, \"#7fbc41\"], [0.9, \"#4d9221\"], [1, \"#276419\"]], \"sequential\": [[0.0, \"#0d0887\"], [0.1111111111111111, \"#46039f\"], [0.2222222222222222, \"#7201a8\"], [0.3333333333333333, \"#9c179e\"], [0.4444444444444444, \"#bd3786\"], [0.5555555555555556, \"#d8576b\"], [0.6666666666666666, \"#ed7953\"], [0.7777777777777778, \"#fb9f3a\"], [0.8888888888888888, \"#fdca26\"], [1.0, \"#f0f921\"]], \"sequentialminus\": [[0.0, \"#0d0887\"], [0.1111111111111111, \"#46039f\"], [0.2222222222222222, \"#7201a8\"], [0.3333333333333333, \"#9c179e\"], [0.4444444444444444, \"#bd3786\"], [0.5555555555555556, \"#d8576b\"], [0.6666666666666666, \"#ed7953\"], [0.7777777777777778, \"#fb9f3a\"], [0.8888888888888888, \"#fdca26\"], [1.0, \"#f0f921\"]]}, \"colorway\": [\"#636efa\", \"#EF553B\", \"#00cc96\", \"#ab63fa\", \"#FFA15A\", \"#19d3f3\", \"#FF6692\", \"#B6E880\", \"#FF97FF\", \"#FECB52\"], \"font\": {\"color\": \"#2a3f5f\"}, \"geo\": {\"bgcolor\": \"white\", \"lakecolor\": \"white\", \"landcolor\": \"#E5ECF6\", \"showlakes\": true, \"showland\": true, \"subunitcolor\": \"white\"}, \"hoverlabel\": {\"align\": \"left\"}, \"hovermode\": \"closest\", \"mapbox\": {\"style\": \"light\"}, \"paper_bgcolor\": \"white\", \"plot_bgcolor\": \"#E5ECF6\", \"polar\": {\"angularaxis\": {\"gridcolor\": \"white\", \"linecolor\": \"white\", \"ticks\": \"\"}, \"bgcolor\": \"#E5ECF6\", \"radialaxis\": {\"gridcolor\": \"white\", \"linecolor\": \"white\", \"ticks\": \"\"}}, \"scene\": {\"xaxis\": {\"backgroundcolor\": \"#E5ECF6\", \"gridcolor\": \"white\", \"gridwidth\": 2, \"linecolor\": \"white\", \"showbackground\": true, \"ticks\": \"\", \"zerolinecolor\": \"white\"}, \"yaxis\": {\"backgroundcolor\": \"#E5ECF6\", \"gridcolor\": \"white\", \"gridwidth\": 2, \"linecolor\": \"white\", \"showbackground\": true, \"ticks\": \"\", \"zerolinecolor\": \"white\"}, \"zaxis\": {\"backgroundcolor\": \"#E5ECF6\", \"gridcolor\": \"white\", \"gridwidth\": 2, \"linecolor\": \"white\", \"showbackground\": true, \"ticks\": \"\", \"zerolinecolor\": \"white\"}}, \"shapedefaults\": {\"line\": {\"color\": \"#2a3f5f\"}}, \"ternary\": {\"aaxis\": {\"gridcolor\": \"white\", \"linecolor\": \"white\", \"ticks\": \"\"}, \"baxis\": {\"gridcolor\": \"white\", \"linecolor\": \"white\", \"ticks\": \"\"}, \"bgcolor\": \"#E5ECF6\", \"caxis\": {\"gridcolor\": \"white\", \"linecolor\": \"white\", \"ticks\": \"\"}}, \"title\": {\"x\": 0.05}, \"xaxis\": {\"automargin\": true, \"gridcolor\": \"white\", \"linecolor\": \"white\", \"ticks\": \"\", \"title\": {\"standoff\": 15}, \"zerolinecolor\": \"white\", \"zerolinewidth\": 2}, \"yaxis\": {\"automargin\": true, \"gridcolor\": \"white\", \"linecolor\": \"white\", \"ticks\": \"\", \"title\": {\"standoff\": 15}, \"zerolinecolor\": \"white\", \"zerolinewidth\": 2}}}, \"title\": {\"text\": \"Prediction of Death cases\"}, \"xaxis\": {\"title\": {\"text\": \"Date\"}}, \"yaxis\": {\"title\": {\"text\": \"Number of cases\"}}},\n",
              "                        {\"responsive\": true}\n",
              "                    ).then(function(){\n",
              "                            \n",
              "var gd = document.getElementById('17149bff-1ea8-409b-80be-701b912cdb1c');\n",
              "var x = new MutationObserver(function (mutations, observer) {{\n",
              "        var display = window.getComputedStyle(gd).display;\n",
              "        if (!display || display === 'none') {{\n",
              "            console.log([gd, 'removed!']);\n",
              "            Plotly.purge(gd);\n",
              "            observer.disconnect();\n",
              "        }}\n",
              "}});\n",
              "\n",
              "// Listen for the removal of the full notebook cells\n",
              "var notebookContainer = gd.closest('#notebook-container');\n",
              "if (notebookContainer) {{\n",
              "    x.observe(notebookContainer, {childList: true});\n",
              "}}\n",
              "\n",
              "// Listen for the clearing of the current output cell\n",
              "var outputEl = gd.closest('.output');\n",
              "if (outputEl) {{\n",
              "    x.observe(outputEl, {childList: true});\n",
              "}}\n",
              "\n",
              "                        })\n",
              "                };\n",
              "                \n",
              "            </script>\n",
              "        </div>\n",
              "</body>\n",
              "</html>"
            ]
          },
          "metadata": {}
        }
      ]
    },
    {
      "cell_type": "code",
      "metadata": {
        "colab": {
          "base_uri": "https://localhost:8080/",
          "height": 542
        },
        "id": "ywRXQ066qcas",
        "outputId": "c45d1c47-2c58-4fde-98b7-403a9ece02e4"
      },
      "source": [
        "fig=go.Figure()\n",
        "fig.add_trace(go.Scatter(x=datewise.index, y=datewise[\"dead\"],\n",
        "                    mode='lines+markers',name=\"Train Data for Death Cases\"))\n",
        "\n",
        "fig.add_trace(go.Scatter(x=model_predictions.index, y=model_predictions[\"ARIMA Model Prediction\"],\n",
        "                    mode='lines+markers',name=\"Prediction for Death Cases\",))\n",
        "fig.update_layout(title=\"Death Cases ARIMA Model Prediction\",\n",
        "                 xaxis_title=\"Date\",yaxis_title=\"Death Cases\",legend=dict(x=0,y=1,traceorder=\"normal\"))\n",
        "fig.show()"
      ],
      "execution_count": 385,
      "outputs": [
        {
          "output_type": "display_data",
          "data": {
            "text/html": [
              "<html>\n",
              "<head><meta charset=\"utf-8\" /></head>\n",
              "<body>\n",
              "    <div>\n",
              "            <script src=\"https://cdnjs.cloudflare.com/ajax/libs/mathjax/2.7.5/MathJax.js?config=TeX-AMS-MML_SVG\"></script><script type=\"text/javascript\">if (window.MathJax) {MathJax.Hub.Config({SVG: {font: \"STIX-Web\"}});}</script>\n",
              "                <script type=\"text/javascript\">window.PlotlyConfig = {MathJaxConfig: 'local'};</script>\n",
              "        <script src=\"https://cdn.plot.ly/plotly-latest.min.js\"></script>    \n",
              "            <div id=\"50781b02-f0ee-487c-b337-688f63f8eac0\" class=\"plotly-graph-div\" style=\"height:525px; width:100%;\"></div>\n",
              "            <script type=\"text/javascript\">\n",
              "                \n",
              "                    window.PLOTLYENV=window.PLOTLYENV || {};\n",
              "                    \n",
              "                if (document.getElementById(\"50781b02-f0ee-487c-b337-688f63f8eac0\")) {\n",
              "                    Plotly.newPlot(\n",
              "                        '50781b02-f0ee-487c-b337-688f63f8eac0',\n",
              "                        [{\"mode\": \"lines+markers\", \"name\": \"Train Data for Death Cases\", \"type\": \"scatter\", \"x\": [\"2021-04-01T00:00:00\", \"2021-04-02T00:00:00\", \"2021-04-03T00:00:00\", \"2021-04-04T00:00:00\", \"2021-04-05T00:00:00\", \"2021-04-06T00:00:00\", \"2021-04-07T00:00:00\", \"2021-04-08T00:00:00\", \"2021-04-09T00:00:00\", \"2021-04-10T00:00:00\", \"2021-04-11T00:00:00\", \"2021-04-12T00:00:00\", \"2021-04-13T00:00:00\", \"2021-04-14T00:00:00\", \"2021-04-15T00:00:00\", \"2021-04-16T00:00:00\", \"2021-04-17T00:00:00\", \"2021-04-18T00:00:00\", \"2021-04-19T00:00:00\", \"2021-04-20T00:00:00\", \"2021-04-21T00:00:00\", \"2021-04-22T00:00:00\", \"2021-04-23T00:00:00\", \"2021-04-24T00:00:00\", \"2021-04-25T00:00:00\", \"2021-04-26T00:00:00\", \"2021-04-27T00:00:00\", \"2021-04-28T00:00:00\", \"2021-04-29T00:00:00\", \"2021-04-30T00:00:00\", \"2021-05-01T00:00:00\", \"2021-05-02T00:00:00\", \"2021-05-03T00:00:00\", \"2021-05-04T00:00:00\", \"2021-05-05T00:00:00\", \"2021-05-06T00:00:00\", \"2021-05-07T00:00:00\", \"2021-05-08T00:00:00\", \"2021-05-09T00:00:00\", \"2021-05-10T00:00:00\", \"2021-05-11T00:00:00\", \"2021-05-12T00:00:00\", \"2021-05-13T00:00:00\", \"2021-05-14T00:00:00\", \"2021-05-15T00:00:00\", \"2021-05-16T00:00:00\", \"2021-05-17T00:00:00\", \"2021-05-18T00:00:00\", \"2021-05-19T00:00:00\", \"2021-05-20T00:00:00\", \"2021-05-21T00:00:00\", \"2021-05-22T00:00:00\", \"2021-05-23T00:00:00\", \"2021-05-24T00:00:00\", \"2021-05-25T00:00:00\", \"2021-05-26T00:00:00\", \"2021-05-27T00:00:00\", \"2021-05-28T00:00:00\", \"2021-05-29T00:00:00\", \"2021-05-30T00:00:00\", \"2021-05-31T00:00:00\", \"2021-06-01T00:00:00\", \"2021-06-02T00:00:00\", \"2021-06-03T00:00:00\", \"2021-06-04T00:00:00\", \"2021-06-05T00:00:00\", \"2021-06-06T00:00:00\", \"2021-06-07T00:00:00\", \"2021-06-08T00:00:00\", \"2021-06-09T00:00:00\", \"2021-06-10T00:00:00\", \"2021-06-11T00:00:00\", \"2021-06-12T00:00:00\", \"2021-06-13T00:00:00\", \"2021-06-14T00:00:00\", \"2021-06-15T00:00:00\", \"2021-06-16T00:00:00\", \"2021-06-17T00:00:00\", \"2021-06-18T00:00:00\", \"2021-06-19T00:00:00\", \"2021-06-20T00:00:00\", \"2021-06-21T00:00:00\", \"2021-06-22T00:00:00\", \"2021-06-23T00:00:00\", \"2021-06-24T00:00:00\", \"2021-06-25T00:00:00\", \"2021-06-26T00:00:00\", \"2021-06-27T00:00:00\", \"2021-06-28T00:00:00\", \"2021-06-29T00:00:00\", \"2021-06-30T00:00:00\", \"2021-07-01T00:00:00\", \"2021-07-02T00:00:00\", \"2021-07-03T00:00:00\", \"2021-07-04T00:00:00\", \"2021-07-05T00:00:00\", \"2021-07-06T00:00:00\", \"2021-07-07T00:00:00\", \"2021-07-08T00:00:00\", \"2021-07-09T00:00:00\", \"2021-07-10T00:00:00\", \"2021-07-11T00:00:00\", \"2021-07-12T00:00:00\", \"2021-07-13T00:00:00\", \"2021-07-14T00:00:00\", \"2021-07-15T00:00:00\", \"2021-07-16T00:00:00\", \"2021-07-17T00:00:00\", \"2021-07-18T00:00:00\", \"2021-07-19T00:00:00\", \"2021-07-20T00:00:00\", \"2021-07-21T00:00:00\", \"2021-07-22T00:00:00\", \"2021-07-23T00:00:00\", \"2021-07-24T00:00:00\", \"2021-07-25T00:00:00\", \"2021-07-26T00:00:00\", \"2021-07-27T00:00:00\", \"2021-07-28T00:00:00\", \"2021-07-29T00:00:00\", \"2021-07-30T00:00:00\", \"2021-07-31T00:00:00\", \"2021-08-01T00:00:00\", \"2021-08-02T00:00:00\", \"2021-08-03T00:00:00\", \"2021-08-04T00:00:00\", \"2021-08-05T00:00:00\", \"2021-08-06T00:00:00\", \"2021-08-07T00:00:00\", \"2021-08-08T00:00:00\", \"2021-08-09T00:00:00\", \"2021-08-10T00:00:00\", \"2021-08-11T00:00:00\", \"2021-08-12T00:00:00\", \"2021-08-13T00:00:00\", \"2021-08-14T00:00:00\", \"2021-08-15T00:00:00\", \"2021-08-16T00:00:00\", \"2021-08-17T00:00:00\", \"2021-08-18T00:00:00\", \"2021-08-19T00:00:00\", \"2021-08-20T00:00:00\", \"2021-08-21T00:00:00\", \"2021-08-22T00:00:00\", \"2021-08-23T00:00:00\", \"2021-08-24T00:00:00\", \"2021-08-25T00:00:00\", \"2021-08-26T00:00:00\", \"2021-08-27T00:00:00\", \"2021-08-28T00:00:00\", \"2021-08-29T00:00:00\", \"2021-08-30T00:00:00\", \"2021-08-31T00:00:00\", \"2021-09-01T00:00:00\", \"2021-09-02T00:00:00\", \"2021-09-03T00:00:00\", \"2021-09-04T00:00:00\", \"2021-09-05T00:00:00\", \"2021-09-06T00:00:00\", \"2021-09-07T00:00:00\", \"2021-09-08T00:00:00\", \"2021-09-09T00:00:00\", \"2021-09-10T00:00:00\", \"2021-09-11T00:00:00\", \"2021-09-12T00:00:00\", \"2021-09-13T00:00:00\", \"2021-09-14T00:00:00\", \"2021-09-15T00:00:00\", \"2021-09-16T00:00:00\", \"2021-09-17T00:00:00\", \"2021-09-18T00:00:00\", \"2021-09-19T00:00:00\", \"2021-09-20T00:00:00\", \"2021-09-21T00:00:00\", \"2021-09-22T00:00:00\", \"2021-09-23T00:00:00\", \"2021-09-24T00:00:00\", \"2021-09-25T00:00:00\", \"2021-09-26T00:00:00\", \"2021-09-27T00:00:00\", \"2021-09-28T00:00:00\", \"2021-09-29T00:00:00\", \"2021-09-30T00:00:00\"], \"y\": [12738, 12750, 12764, 12778, 12789, 12804, 12821, 12840, 12863, 12886, 12908, 12927, 12945, 12970, 12999, 13032, 13071, 13113, 13157, 13205, 13258, 13317, 13395, 13475, 13557, 13651, 13728, 13826, 13933, 14046, 14193, 14346, 14468, 14612, 14779, 14974, 15171, 15412, 15648, 15880, 16178, 16471, 16768, 17056, 17359, 17670, 18005, 18369, 18734, 19131, 19598, 20046, 20468, 20872, 21340, 21815, 22289, 22775, 23261, 23754, 24232, 24722, 25205, 25665, 26128, 26571, 27005, 27356, 27765, 28170, 28528, 28906, 29280, 29547, 29801, 30068, 30338, 30548, 30835, 31015, 31197, 31386, 31580, 31746, 31901, 32051, 32199, 32290, 32388, 32506, 32619, 32721, 32818, 32933, 33005, 33059, 33132, 33196, 33253, 33322, 33371, 33418, 33454, 33502, 33557, 33606, 33652, 33695, 33724, 33752, 33782, 33809, 33838, 33862, 33889, 33911, 33937, 33966, 33995, 34023, 34050, 34076, 34102, 34130, 34159, 34197, 34230, 34260, 34289, 34317, 34340, 34367, 34395, 34428, 34462, 34496, 34519, 34547, 34579, 34610, 34639, 34663, 34686, 34709, 34734, 34761, 34788, 34814, 34835, 34856, 34878, 34899, 34921, 34941, 34961, 34980, 35000, 35018, 35036, 35055, 35073, 35094, 35119, 35146, 35168, 35190, 35217, 35246, 35271, 35288, 35310, 35337, 35360, 35379, 35400, 35427, 35454, 35476, 35490, 35509, 35526, 35550, 35578]}, {\"mode\": \"lines+markers\", \"name\": \"Prediction for Death Cases\", \"type\": \"scatter\", \"x\": [\"2021-10-01T00:00:00\", \"2021-10-02T00:00:00\", \"2021-10-03T00:00:00\", \"2021-10-04T00:00:00\", \"2021-10-05T00:00:00\", \"2021-10-06T00:00:00\", \"2021-10-07T00:00:00\", \"2021-10-08T00:00:00\", \"2021-10-09T00:00:00\", \"2021-10-10T00:00:00\", \"2021-10-11T00:00:00\", \"2021-10-12T00:00:00\", \"2021-10-13T00:00:00\", \"2021-10-14T00:00:00\", \"2021-10-15T00:00:00\", \"2021-10-16T00:00:00\", \"2021-10-17T00:00:00\", \"2021-10-18T00:00:00\", \"2021-10-19T00:00:00\", \"2021-10-20T00:00:00\", \"2021-10-21T00:00:00\", \"2021-10-22T00:00:00\", \"2021-10-23T00:00:00\", \"2021-10-24T00:00:00\", \"2021-10-25T00:00:00\", \"2021-10-26T00:00:00\", \"2021-10-27T00:00:00\", \"2021-10-28T00:00:00\", \"2021-10-29T00:00:00\", \"2021-10-30T00:00:00\", \"2021-10-31T00:00:00\", \"2021-11-01T00:00:00\", \"2021-11-02T00:00:00\", \"2021-11-03T00:00:00\", \"2021-11-04T00:00:00\", \"2021-11-05T00:00:00\", \"2021-11-06T00:00:00\", \"2021-11-07T00:00:00\", \"2021-11-08T00:00:00\", \"2021-11-09T00:00:00\", \"2021-11-10T00:00:00\", \"2021-11-11T00:00:00\", \"2021-11-12T00:00:00\", \"2021-11-13T00:00:00\", \"2021-11-14T00:00:00\", \"2021-11-15T00:00:00\", \"2021-11-16T00:00:00\", \"2021-11-17T00:00:00\", \"2021-11-18T00:00:00\", \"2021-11-19T00:00:00\", \"2021-11-20T00:00:00\", \"2021-11-21T00:00:00\", \"2021-11-22T00:00:00\", \"2021-11-23T00:00:00\", \"2021-11-24T00:00:00\", \"2021-11-25T00:00:00\", \"2021-11-26T00:00:00\", \"2021-11-27T00:00:00\", \"2021-11-28T00:00:00\", \"2021-11-29T00:00:00\", \"2021-11-30T00:00:00\", \"2021-12-01T00:00:00\", \"2021-12-02T00:00:00\", \"2021-12-03T00:00:00\", \"2021-12-04T00:00:00\", \"2021-12-05T00:00:00\", \"2021-12-06T00:00:00\", \"2021-12-07T00:00:00\", \"2021-12-08T00:00:00\", \"2021-12-09T00:00:00\", \"2021-12-10T00:00:00\", \"2021-12-11T00:00:00\", \"2021-12-12T00:00:00\", \"2021-12-13T00:00:00\", \"2021-12-14T00:00:00\", \"2021-12-15T00:00:00\", \"2021-12-16T00:00:00\", \"2021-12-17T00:00:00\", \"2021-12-18T00:00:00\", \"2021-12-19T00:00:00\", \"2021-12-20T00:00:00\", \"2021-12-21T00:00:00\", \"2021-12-22T00:00:00\", \"2021-12-23T00:00:00\", \"2021-12-24T00:00:00\", \"2021-12-25T00:00:00\", \"2021-12-26T00:00:00\", \"2021-12-27T00:00:00\", \"2021-12-28T00:00:00\", \"2021-12-29T00:00:00\", \"2021-12-30T00:00:00\", \"2021-12-31T00:00:00\"], \"y\": [35587.08255549612, 35603.919846040604, 35620.25320031587, 35636.11060972289, 35651.518710862496, 35666.50285110847, 35681.087151006905, 35695.2945636554, 35709.14693120821, 35722.665038646584, 35735.86866494654, 35748.77663177012, 35761.4068497999, 35773.77636283102, 35785.90138972894, 35797.79736435658, 35809.47897356887, 35820.9601933684, 35832.254323311085, 35843.37401924655, 35854.33132447392, 35865.1376993896, 35875.80404970013, 35886.34075326949, 35896.75768566698, 35907.06424447856, 35917.26937244158, 35927.38157945967, 35937.40896355212, 35947.359230789414, 35957.23971426369, 35967.057392141156, 35976.8189048407, 35986.53057138107, 35996.19840493679, 36005.82812764125, 36015.42518467325, 36024.994757661734, 36034.54177744179, 36044.0709361932, 36053.58669899154, 36063.09331480008, 36072.594826929795, 36082.095082993066, 36091.597744375584, 36101.106295249825, 36110.62405115229, 36120.15416714558, 36129.69964558541, 36139.26334351173, 36148.84797968211, 36158.45614126464, 36168.090290206994, 36177.7527692971, 36187.445807930606, 36197.171527599116, 36206.93194711279, 36216.7289875702, 36226.564477087624, 36236.44015529945, 36246.35767764075, 36256.31861942256, 36266.32447970994, 36276.37668501234, 36286.47659279532, 36296.6254948223, 36306.824620334606, 36317.07513907756, 36327.37816418014, 36337.73475489522, 36348.145919207214, 36358.61261631352, 36369.135758985794, 36379.71621581704, 36390.35481335983, 36401.05233816113, 36411.80953869855, 36422.62712722297, 36433.5057815119, 36444.44614653802, 36455.44883605697, 36466.51443411823, 36477.64349650298, 36488.83655209223, 36500.09410416888, 36511.41663165661, 36522.80459029894, 36534.258413781106, 36545.778514797756, 36557.36528606886, 36569.01910130653, 36580.740316134965]}],\n",
              "                        {\"legend\": {\"traceorder\": \"normal\", \"x\": 0, \"y\": 1}, \"template\": {\"data\": {\"bar\": [{\"error_x\": {\"color\": \"#2a3f5f\"}, \"error_y\": {\"color\": \"#2a3f5f\"}, \"marker\": {\"line\": {\"color\": \"#E5ECF6\", \"width\": 0.5}}, \"type\": \"bar\"}], \"barpolar\": [{\"marker\": {\"line\": {\"color\": \"#E5ECF6\", \"width\": 0.5}}, \"type\": \"barpolar\"}], \"carpet\": [{\"aaxis\": {\"endlinecolor\": \"#2a3f5f\", \"gridcolor\": \"white\", \"linecolor\": \"white\", \"minorgridcolor\": \"white\", \"startlinecolor\": \"#2a3f5f\"}, \"baxis\": {\"endlinecolor\": \"#2a3f5f\", \"gridcolor\": \"white\", \"linecolor\": \"white\", \"minorgridcolor\": \"white\", \"startlinecolor\": \"#2a3f5f\"}, \"type\": \"carpet\"}], \"choropleth\": [{\"colorbar\": {\"outlinewidth\": 0, \"ticks\": \"\"}, \"type\": \"choropleth\"}], \"contour\": [{\"colorbar\": {\"outlinewidth\": 0, \"ticks\": \"\"}, \"colorscale\": [[0.0, \"#0d0887\"], [0.1111111111111111, \"#46039f\"], [0.2222222222222222, \"#7201a8\"], [0.3333333333333333, \"#9c179e\"], [0.4444444444444444, \"#bd3786\"], [0.5555555555555556, \"#d8576b\"], [0.6666666666666666, \"#ed7953\"], [0.7777777777777778, \"#fb9f3a\"], [0.8888888888888888, \"#fdca26\"], [1.0, \"#f0f921\"]], \"type\": \"contour\"}], \"contourcarpet\": [{\"colorbar\": {\"outlinewidth\": 0, \"ticks\": \"\"}, \"type\": \"contourcarpet\"}], \"heatmap\": [{\"colorbar\": {\"outlinewidth\": 0, \"ticks\": \"\"}, \"colorscale\": [[0.0, \"#0d0887\"], [0.1111111111111111, \"#46039f\"], [0.2222222222222222, \"#7201a8\"], [0.3333333333333333, \"#9c179e\"], [0.4444444444444444, \"#bd3786\"], [0.5555555555555556, \"#d8576b\"], [0.6666666666666666, \"#ed7953\"], [0.7777777777777778, \"#fb9f3a\"], [0.8888888888888888, \"#fdca26\"], [1.0, \"#f0f921\"]], \"type\": \"heatmap\"}], \"heatmapgl\": [{\"colorbar\": {\"outlinewidth\": 0, \"ticks\": \"\"}, \"colorscale\": [[0.0, \"#0d0887\"], [0.1111111111111111, \"#46039f\"], [0.2222222222222222, \"#7201a8\"], [0.3333333333333333, \"#9c179e\"], [0.4444444444444444, \"#bd3786\"], [0.5555555555555556, \"#d8576b\"], [0.6666666666666666, \"#ed7953\"], [0.7777777777777778, \"#fb9f3a\"], [0.8888888888888888, \"#fdca26\"], [1.0, \"#f0f921\"]], \"type\": \"heatmapgl\"}], \"histogram\": [{\"marker\": {\"colorbar\": {\"outlinewidth\": 0, \"ticks\": \"\"}}, \"type\": \"histogram\"}], \"histogram2d\": [{\"colorbar\": {\"outlinewidth\": 0, \"ticks\": \"\"}, \"colorscale\": [[0.0, \"#0d0887\"], [0.1111111111111111, \"#46039f\"], [0.2222222222222222, \"#7201a8\"], [0.3333333333333333, \"#9c179e\"], [0.4444444444444444, \"#bd3786\"], [0.5555555555555556, \"#d8576b\"], [0.6666666666666666, \"#ed7953\"], [0.7777777777777778, \"#fb9f3a\"], [0.8888888888888888, \"#fdca26\"], [1.0, \"#f0f921\"]], \"type\": \"histogram2d\"}], \"histogram2dcontour\": [{\"colorbar\": {\"outlinewidth\": 0, \"ticks\": \"\"}, \"colorscale\": [[0.0, \"#0d0887\"], [0.1111111111111111, \"#46039f\"], [0.2222222222222222, \"#7201a8\"], [0.3333333333333333, \"#9c179e\"], [0.4444444444444444, \"#bd3786\"], [0.5555555555555556, \"#d8576b\"], [0.6666666666666666, \"#ed7953\"], [0.7777777777777778, \"#fb9f3a\"], [0.8888888888888888, \"#fdca26\"], [1.0, \"#f0f921\"]], \"type\": \"histogram2dcontour\"}], \"mesh3d\": [{\"colorbar\": {\"outlinewidth\": 0, \"ticks\": \"\"}, \"type\": \"mesh3d\"}], \"parcoords\": [{\"line\": {\"colorbar\": {\"outlinewidth\": 0, \"ticks\": \"\"}}, \"type\": \"parcoords\"}], \"pie\": [{\"automargin\": true, \"type\": \"pie\"}], \"scatter\": [{\"marker\": {\"colorbar\": {\"outlinewidth\": 0, \"ticks\": \"\"}}, \"type\": \"scatter\"}], \"scatter3d\": [{\"line\": {\"colorbar\": {\"outlinewidth\": 0, \"ticks\": \"\"}}, \"marker\": {\"colorbar\": {\"outlinewidth\": 0, \"ticks\": \"\"}}, \"type\": \"scatter3d\"}], \"scattercarpet\": [{\"marker\": {\"colorbar\": {\"outlinewidth\": 0, \"ticks\": \"\"}}, \"type\": \"scattercarpet\"}], \"scattergeo\": [{\"marker\": {\"colorbar\": {\"outlinewidth\": 0, \"ticks\": \"\"}}, \"type\": \"scattergeo\"}], \"scattergl\": [{\"marker\": {\"colorbar\": {\"outlinewidth\": 0, \"ticks\": \"\"}}, \"type\": \"scattergl\"}], \"scattermapbox\": [{\"marker\": {\"colorbar\": {\"outlinewidth\": 0, \"ticks\": \"\"}}, \"type\": \"scattermapbox\"}], \"scatterpolar\": [{\"marker\": {\"colorbar\": {\"outlinewidth\": 0, \"ticks\": \"\"}}, \"type\": \"scatterpolar\"}], \"scatterpolargl\": [{\"marker\": {\"colorbar\": {\"outlinewidth\": 0, \"ticks\": \"\"}}, \"type\": \"scatterpolargl\"}], \"scatterternary\": [{\"marker\": {\"colorbar\": {\"outlinewidth\": 0, \"ticks\": \"\"}}, \"type\": \"scatterternary\"}], \"surface\": [{\"colorbar\": {\"outlinewidth\": 0, \"ticks\": \"\"}, \"colorscale\": [[0.0, \"#0d0887\"], [0.1111111111111111, \"#46039f\"], [0.2222222222222222, \"#7201a8\"], [0.3333333333333333, \"#9c179e\"], [0.4444444444444444, \"#bd3786\"], [0.5555555555555556, \"#d8576b\"], [0.6666666666666666, \"#ed7953\"], [0.7777777777777778, \"#fb9f3a\"], [0.8888888888888888, \"#fdca26\"], [1.0, \"#f0f921\"]], \"type\": \"surface\"}], \"table\": [{\"cells\": {\"fill\": {\"color\": \"#EBF0F8\"}, \"line\": {\"color\": \"white\"}}, \"header\": {\"fill\": {\"color\": \"#C8D4E3\"}, \"line\": {\"color\": \"white\"}}, \"type\": \"table\"}]}, \"layout\": {\"annotationdefaults\": {\"arrowcolor\": \"#2a3f5f\", \"arrowhead\": 0, \"arrowwidth\": 1}, \"coloraxis\": {\"colorbar\": {\"outlinewidth\": 0, \"ticks\": \"\"}}, \"colorscale\": {\"diverging\": [[0, \"#8e0152\"], [0.1, \"#c51b7d\"], [0.2, \"#de77ae\"], [0.3, \"#f1b6da\"], [0.4, \"#fde0ef\"], [0.5, \"#f7f7f7\"], [0.6, \"#e6f5d0\"], [0.7, \"#b8e186\"], [0.8, \"#7fbc41\"], [0.9, \"#4d9221\"], [1, \"#276419\"]], \"sequential\": [[0.0, \"#0d0887\"], [0.1111111111111111, \"#46039f\"], [0.2222222222222222, \"#7201a8\"], [0.3333333333333333, \"#9c179e\"], [0.4444444444444444, \"#bd3786\"], [0.5555555555555556, \"#d8576b\"], [0.6666666666666666, \"#ed7953\"], [0.7777777777777778, \"#fb9f3a\"], [0.8888888888888888, \"#fdca26\"], [1.0, \"#f0f921\"]], \"sequentialminus\": [[0.0, \"#0d0887\"], [0.1111111111111111, \"#46039f\"], [0.2222222222222222, \"#7201a8\"], [0.3333333333333333, \"#9c179e\"], [0.4444444444444444, \"#bd3786\"], [0.5555555555555556, \"#d8576b\"], [0.6666666666666666, \"#ed7953\"], [0.7777777777777778, \"#fb9f3a\"], [0.8888888888888888, \"#fdca26\"], [1.0, \"#f0f921\"]]}, \"colorway\": [\"#636efa\", \"#EF553B\", \"#00cc96\", \"#ab63fa\", \"#FFA15A\", \"#19d3f3\", \"#FF6692\", \"#B6E880\", \"#FF97FF\", \"#FECB52\"], \"font\": {\"color\": \"#2a3f5f\"}, \"geo\": {\"bgcolor\": \"white\", \"lakecolor\": \"white\", \"landcolor\": \"#E5ECF6\", \"showlakes\": true, \"showland\": true, \"subunitcolor\": \"white\"}, \"hoverlabel\": {\"align\": \"left\"}, \"hovermode\": \"closest\", \"mapbox\": {\"style\": \"light\"}, \"paper_bgcolor\": \"white\", \"plot_bgcolor\": \"#E5ECF6\", \"polar\": {\"angularaxis\": {\"gridcolor\": \"white\", \"linecolor\": \"white\", \"ticks\": \"\"}, \"bgcolor\": \"#E5ECF6\", \"radialaxis\": {\"gridcolor\": \"white\", \"linecolor\": \"white\", \"ticks\": \"\"}}, \"scene\": {\"xaxis\": {\"backgroundcolor\": \"#E5ECF6\", \"gridcolor\": \"white\", \"gridwidth\": 2, \"linecolor\": \"white\", \"showbackground\": true, \"ticks\": \"\", \"zerolinecolor\": \"white\"}, \"yaxis\": {\"backgroundcolor\": \"#E5ECF6\", \"gridcolor\": \"white\", \"gridwidth\": 2, \"linecolor\": \"white\", \"showbackground\": true, \"ticks\": \"\", \"zerolinecolor\": \"white\"}, \"zaxis\": {\"backgroundcolor\": \"#E5ECF6\", \"gridcolor\": \"white\", \"gridwidth\": 2, \"linecolor\": \"white\", \"showbackground\": true, \"ticks\": \"\", \"zerolinecolor\": \"white\"}}, \"shapedefaults\": {\"line\": {\"color\": \"#2a3f5f\"}}, \"ternary\": {\"aaxis\": {\"gridcolor\": \"white\", \"linecolor\": \"white\", \"ticks\": \"\"}, \"baxis\": {\"gridcolor\": \"white\", \"linecolor\": \"white\", \"ticks\": \"\"}, \"bgcolor\": \"#E5ECF6\", \"caxis\": {\"gridcolor\": \"white\", \"linecolor\": \"white\", \"ticks\": \"\"}}, \"title\": {\"x\": 0.05}, \"xaxis\": {\"automargin\": true, \"gridcolor\": \"white\", \"linecolor\": \"white\", \"ticks\": \"\", \"title\": {\"standoff\": 15}, \"zerolinecolor\": \"white\", \"zerolinewidth\": 2}, \"yaxis\": {\"automargin\": true, \"gridcolor\": \"white\", \"linecolor\": \"white\", \"ticks\": \"\", \"title\": {\"standoff\": 15}, \"zerolinecolor\": \"white\", \"zerolinewidth\": 2}}}, \"title\": {\"text\": \"Death Cases ARIMA Model Prediction\"}, \"xaxis\": {\"title\": {\"text\": \"Date\"}}, \"yaxis\": {\"title\": {\"text\": \"Death Cases\"}}},\n",
              "                        {\"responsive\": true}\n",
              "                    ).then(function(){\n",
              "                            \n",
              "var gd = document.getElementById('50781b02-f0ee-487c-b337-688f63f8eac0');\n",
              "var x = new MutationObserver(function (mutations, observer) {{\n",
              "        var display = window.getComputedStyle(gd).display;\n",
              "        if (!display || display === 'none') {{\n",
              "            console.log([gd, 'removed!']);\n",
              "            Plotly.purge(gd);\n",
              "            observer.disconnect();\n",
              "        }}\n",
              "}});\n",
              "\n",
              "// Listen for the removal of the full notebook cells\n",
              "var notebookContainer = gd.closest('#notebook-container');\n",
              "if (notebookContainer) {{\n",
              "    x.observe(notebookContainer, {childList: true});\n",
              "}}\n",
              "\n",
              "// Listen for the clearing of the current output cell\n",
              "var outputEl = gd.closest('.output');\n",
              "if (outputEl) {{\n",
              "    x.observe(outputEl, {childList: true});\n",
              "}}\n",
              "\n",
              "                        })\n",
              "                };\n",
              "                \n",
              "            </script>\n",
              "        </div>\n",
              "</body>\n",
              "</html>"
            ]
          },
          "metadata": {}
        }
      ]
    },
    {
      "cell_type": "code",
      "metadata": {
        "colab": {
          "base_uri": "https://localhost:8080/",
          "height": 542
        },
        "id": "QPQ0kjOcskJH",
        "outputId": "71704ada-2407-41ca-bb6d-5f236eb246d8"
      },
      "source": [
        "fig=go.Figure()\n",
        "fig.add_trace(go.Scatter(x=datewise.index, y=datewise[\"dead\"],\n",
        "                    mode='lines+markers',name=\"Train Data for Death Cases\"))\n",
        "\n",
        "fig.add_trace(go.Scatter(x=model_predictions.index, y=model_predictions[\"Holt's Linear Model Prediction\"],\n",
        "                    mode='lines+markers',name=\"Prediction for Death Cases\",))\n",
        "fig.update_layout(title=\"Death Cases ARIMA Model Prediction\",\n",
        "                 xaxis_title=\"Date\",yaxis_title=\"Death Cases\",legend=dict(x=0,y=1,traceorder=\"normal\"))\n",
        "fig.show()"
      ],
      "execution_count": 386,
      "outputs": [
        {
          "output_type": "display_data",
          "data": {
            "text/html": [
              "<html>\n",
              "<head><meta charset=\"utf-8\" /></head>\n",
              "<body>\n",
              "    <div>\n",
              "            <script src=\"https://cdnjs.cloudflare.com/ajax/libs/mathjax/2.7.5/MathJax.js?config=TeX-AMS-MML_SVG\"></script><script type=\"text/javascript\">if (window.MathJax) {MathJax.Hub.Config({SVG: {font: \"STIX-Web\"}});}</script>\n",
              "                <script type=\"text/javascript\">window.PlotlyConfig = {MathJaxConfig: 'local'};</script>\n",
              "        <script src=\"https://cdn.plot.ly/plotly-latest.min.js\"></script>    \n",
              "            <div id=\"738791b3-0824-4f49-9ef6-a1e5a56b4290\" class=\"plotly-graph-div\" style=\"height:525px; width:100%;\"></div>\n",
              "            <script type=\"text/javascript\">\n",
              "                \n",
              "                    window.PLOTLYENV=window.PLOTLYENV || {};\n",
              "                    \n",
              "                if (document.getElementById(\"738791b3-0824-4f49-9ef6-a1e5a56b4290\")) {\n",
              "                    Plotly.newPlot(\n",
              "                        '738791b3-0824-4f49-9ef6-a1e5a56b4290',\n",
              "                        [{\"mode\": \"lines+markers\", \"name\": \"Train Data for Death Cases\", \"type\": \"scatter\", \"x\": [\"2021-04-01T00:00:00\", \"2021-04-02T00:00:00\", \"2021-04-03T00:00:00\", \"2021-04-04T00:00:00\", \"2021-04-05T00:00:00\", \"2021-04-06T00:00:00\", \"2021-04-07T00:00:00\", \"2021-04-08T00:00:00\", \"2021-04-09T00:00:00\", \"2021-04-10T00:00:00\", \"2021-04-11T00:00:00\", \"2021-04-12T00:00:00\", \"2021-04-13T00:00:00\", \"2021-04-14T00:00:00\", \"2021-04-15T00:00:00\", \"2021-04-16T00:00:00\", \"2021-04-17T00:00:00\", \"2021-04-18T00:00:00\", \"2021-04-19T00:00:00\", \"2021-04-20T00:00:00\", \"2021-04-21T00:00:00\", \"2021-04-22T00:00:00\", \"2021-04-23T00:00:00\", \"2021-04-24T00:00:00\", \"2021-04-25T00:00:00\", \"2021-04-26T00:00:00\", \"2021-04-27T00:00:00\", \"2021-04-28T00:00:00\", \"2021-04-29T00:00:00\", \"2021-04-30T00:00:00\", \"2021-05-01T00:00:00\", \"2021-05-02T00:00:00\", \"2021-05-03T00:00:00\", \"2021-05-04T00:00:00\", \"2021-05-05T00:00:00\", \"2021-05-06T00:00:00\", \"2021-05-07T00:00:00\", \"2021-05-08T00:00:00\", \"2021-05-09T00:00:00\", \"2021-05-10T00:00:00\", \"2021-05-11T00:00:00\", \"2021-05-12T00:00:00\", \"2021-05-13T00:00:00\", \"2021-05-14T00:00:00\", \"2021-05-15T00:00:00\", \"2021-05-16T00:00:00\", \"2021-05-17T00:00:00\", \"2021-05-18T00:00:00\", \"2021-05-19T00:00:00\", \"2021-05-20T00:00:00\", \"2021-05-21T00:00:00\", \"2021-05-22T00:00:00\", \"2021-05-23T00:00:00\", \"2021-05-24T00:00:00\", \"2021-05-25T00:00:00\", \"2021-05-26T00:00:00\", \"2021-05-27T00:00:00\", \"2021-05-28T00:00:00\", \"2021-05-29T00:00:00\", \"2021-05-30T00:00:00\", \"2021-05-31T00:00:00\", \"2021-06-01T00:00:00\", \"2021-06-02T00:00:00\", \"2021-06-03T00:00:00\", \"2021-06-04T00:00:00\", \"2021-06-05T00:00:00\", \"2021-06-06T00:00:00\", \"2021-06-07T00:00:00\", \"2021-06-08T00:00:00\", \"2021-06-09T00:00:00\", \"2021-06-10T00:00:00\", \"2021-06-11T00:00:00\", \"2021-06-12T00:00:00\", \"2021-06-13T00:00:00\", \"2021-06-14T00:00:00\", \"2021-06-15T00:00:00\", \"2021-06-16T00:00:00\", \"2021-06-17T00:00:00\", \"2021-06-18T00:00:00\", \"2021-06-19T00:00:00\", \"2021-06-20T00:00:00\", \"2021-06-21T00:00:00\", \"2021-06-22T00:00:00\", \"2021-06-23T00:00:00\", \"2021-06-24T00:00:00\", \"2021-06-25T00:00:00\", \"2021-06-26T00:00:00\", \"2021-06-27T00:00:00\", \"2021-06-28T00:00:00\", \"2021-06-29T00:00:00\", \"2021-06-30T00:00:00\", \"2021-07-01T00:00:00\", \"2021-07-02T00:00:00\", \"2021-07-03T00:00:00\", \"2021-07-04T00:00:00\", \"2021-07-05T00:00:00\", \"2021-07-06T00:00:00\", \"2021-07-07T00:00:00\", \"2021-07-08T00:00:00\", \"2021-07-09T00:00:00\", \"2021-07-10T00:00:00\", \"2021-07-11T00:00:00\", \"2021-07-12T00:00:00\", \"2021-07-13T00:00:00\", \"2021-07-14T00:00:00\", \"2021-07-15T00:00:00\", \"2021-07-16T00:00:00\", \"2021-07-17T00:00:00\", \"2021-07-18T00:00:00\", \"2021-07-19T00:00:00\", \"2021-07-20T00:00:00\", \"2021-07-21T00:00:00\", \"2021-07-22T00:00:00\", \"2021-07-23T00:00:00\", \"2021-07-24T00:00:00\", \"2021-07-25T00:00:00\", \"2021-07-26T00:00:00\", \"2021-07-27T00:00:00\", \"2021-07-28T00:00:00\", \"2021-07-29T00:00:00\", \"2021-07-30T00:00:00\", \"2021-07-31T00:00:00\", \"2021-08-01T00:00:00\", \"2021-08-02T00:00:00\", \"2021-08-03T00:00:00\", \"2021-08-04T00:00:00\", \"2021-08-05T00:00:00\", \"2021-08-06T00:00:00\", \"2021-08-07T00:00:00\", \"2021-08-08T00:00:00\", \"2021-08-09T00:00:00\", \"2021-08-10T00:00:00\", \"2021-08-11T00:00:00\", \"2021-08-12T00:00:00\", \"2021-08-13T00:00:00\", \"2021-08-14T00:00:00\", \"2021-08-15T00:00:00\", \"2021-08-16T00:00:00\", \"2021-08-17T00:00:00\", \"2021-08-18T00:00:00\", \"2021-08-19T00:00:00\", \"2021-08-20T00:00:00\", \"2021-08-21T00:00:00\", \"2021-08-22T00:00:00\", \"2021-08-23T00:00:00\", \"2021-08-24T00:00:00\", \"2021-08-25T00:00:00\", \"2021-08-26T00:00:00\", \"2021-08-27T00:00:00\", \"2021-08-28T00:00:00\", \"2021-08-29T00:00:00\", \"2021-08-30T00:00:00\", \"2021-08-31T00:00:00\", \"2021-09-01T00:00:00\", \"2021-09-02T00:00:00\", \"2021-09-03T00:00:00\", \"2021-09-04T00:00:00\", \"2021-09-05T00:00:00\", \"2021-09-06T00:00:00\", \"2021-09-07T00:00:00\", \"2021-09-08T00:00:00\", \"2021-09-09T00:00:00\", \"2021-09-10T00:00:00\", \"2021-09-11T00:00:00\", \"2021-09-12T00:00:00\", \"2021-09-13T00:00:00\", \"2021-09-14T00:00:00\", \"2021-09-15T00:00:00\", \"2021-09-16T00:00:00\", \"2021-09-17T00:00:00\", \"2021-09-18T00:00:00\", \"2021-09-19T00:00:00\", \"2021-09-20T00:00:00\", \"2021-09-21T00:00:00\", \"2021-09-22T00:00:00\", \"2021-09-23T00:00:00\", \"2021-09-24T00:00:00\", \"2021-09-25T00:00:00\", \"2021-09-26T00:00:00\", \"2021-09-27T00:00:00\", \"2021-09-28T00:00:00\", \"2021-09-29T00:00:00\", \"2021-09-30T00:00:00\"], \"y\": [12738, 12750, 12764, 12778, 12789, 12804, 12821, 12840, 12863, 12886, 12908, 12927, 12945, 12970, 12999, 13032, 13071, 13113, 13157, 13205, 13258, 13317, 13395, 13475, 13557, 13651, 13728, 13826, 13933, 14046, 14193, 14346, 14468, 14612, 14779, 14974, 15171, 15412, 15648, 15880, 16178, 16471, 16768, 17056, 17359, 17670, 18005, 18369, 18734, 19131, 19598, 20046, 20468, 20872, 21340, 21815, 22289, 22775, 23261, 23754, 24232, 24722, 25205, 25665, 26128, 26571, 27005, 27356, 27765, 28170, 28528, 28906, 29280, 29547, 29801, 30068, 30338, 30548, 30835, 31015, 31197, 31386, 31580, 31746, 31901, 32051, 32199, 32290, 32388, 32506, 32619, 32721, 32818, 32933, 33005, 33059, 33132, 33196, 33253, 33322, 33371, 33418, 33454, 33502, 33557, 33606, 33652, 33695, 33724, 33752, 33782, 33809, 33838, 33862, 33889, 33911, 33937, 33966, 33995, 34023, 34050, 34076, 34102, 34130, 34159, 34197, 34230, 34260, 34289, 34317, 34340, 34367, 34395, 34428, 34462, 34496, 34519, 34547, 34579, 34610, 34639, 34663, 34686, 34709, 34734, 34761, 34788, 34814, 34835, 34856, 34878, 34899, 34921, 34941, 34961, 34980, 35000, 35018, 35036, 35055, 35073, 35094, 35119, 35146, 35168, 35190, 35217, 35246, 35271, 35288, 35310, 35337, 35360, 35379, 35400, 35427, 35454, 35476, 35490, 35509, 35526, 35550, 35578]}, {\"mode\": \"lines+markers\", \"name\": \"Prediction for Death Cases\", \"type\": \"scatter\", \"x\": [\"2021-10-01T00:00:00\", \"2021-10-02T00:00:00\", \"2021-10-03T00:00:00\", \"2021-10-04T00:00:00\", \"2021-10-05T00:00:00\", \"2021-10-06T00:00:00\", \"2021-10-07T00:00:00\", \"2021-10-08T00:00:00\", \"2021-10-09T00:00:00\", \"2021-10-10T00:00:00\", \"2021-10-11T00:00:00\", \"2021-10-12T00:00:00\", \"2021-10-13T00:00:00\", \"2021-10-14T00:00:00\", \"2021-10-15T00:00:00\", \"2021-10-16T00:00:00\", \"2021-10-17T00:00:00\", \"2021-10-18T00:00:00\", \"2021-10-19T00:00:00\", \"2021-10-20T00:00:00\", \"2021-10-21T00:00:00\", \"2021-10-22T00:00:00\", \"2021-10-23T00:00:00\", \"2021-10-24T00:00:00\", \"2021-10-25T00:00:00\", \"2021-10-26T00:00:00\", \"2021-10-27T00:00:00\", \"2021-10-28T00:00:00\", \"2021-10-29T00:00:00\", \"2021-10-30T00:00:00\", \"2021-10-31T00:00:00\", \"2021-11-01T00:00:00\", \"2021-11-02T00:00:00\", \"2021-11-03T00:00:00\", \"2021-11-04T00:00:00\", \"2021-11-05T00:00:00\", \"2021-11-06T00:00:00\", \"2021-11-07T00:00:00\", \"2021-11-08T00:00:00\", \"2021-11-09T00:00:00\", \"2021-11-10T00:00:00\", \"2021-11-11T00:00:00\", \"2021-11-12T00:00:00\", \"2021-11-13T00:00:00\", \"2021-11-14T00:00:00\", \"2021-11-15T00:00:00\", \"2021-11-16T00:00:00\", \"2021-11-17T00:00:00\", \"2021-11-18T00:00:00\", \"2021-11-19T00:00:00\", \"2021-11-20T00:00:00\", \"2021-11-21T00:00:00\", \"2021-11-22T00:00:00\", \"2021-11-23T00:00:00\", \"2021-11-24T00:00:00\", \"2021-11-25T00:00:00\", \"2021-11-26T00:00:00\", \"2021-11-27T00:00:00\", \"2021-11-28T00:00:00\", \"2021-11-29T00:00:00\", \"2021-11-30T00:00:00\", \"2021-12-01T00:00:00\", \"2021-12-02T00:00:00\", \"2021-12-03T00:00:00\", \"2021-12-04T00:00:00\", \"2021-12-05T00:00:00\", \"2021-12-06T00:00:00\", \"2021-12-07T00:00:00\", \"2021-12-08T00:00:00\", \"2021-12-09T00:00:00\", \"2021-12-10T00:00:00\", \"2021-12-11T00:00:00\", \"2021-12-12T00:00:00\", \"2021-12-13T00:00:00\", \"2021-12-14T00:00:00\", \"2021-12-15T00:00:00\", \"2021-12-16T00:00:00\", \"2021-12-17T00:00:00\", \"2021-12-18T00:00:00\", \"2021-12-19T00:00:00\", \"2021-12-20T00:00:00\", \"2021-12-21T00:00:00\", \"2021-12-22T00:00:00\", \"2021-12-23T00:00:00\", \"2021-12-24T00:00:00\", \"2021-12-25T00:00:00\", \"2021-12-26T00:00:00\", \"2021-12-27T00:00:00\", \"2021-12-28T00:00:00\", \"2021-12-29T00:00:00\", \"2021-12-30T00:00:00\", \"2021-12-31T00:00:00\"], \"y\": [35620.178008907664, 35643.738237373225, 35667.29846583879, 35690.85869430435, 35714.41892276991, 35737.97915123547, 35761.539379701026, 35785.09960816659, 35808.65983663215, 35832.22006509771, 35855.78029356327, 35879.34052202883, 35902.90075049439, 35926.46097895995, 35950.02120742551, 35973.58143589107, 35997.14166435663, 36020.701892822195, 36044.26212128776, 36067.82234975331, 36091.38257821887, 36114.942806684434, 36138.503035149995, 36162.06326361556, 36185.62349208112, 36209.18372054667, 36232.743949012234, 36256.304177477796, 36279.86440594336, 36303.42463440892, 36326.98486287448, 36350.54509134004, 36374.105319805596, 36397.66554827116, 36421.22577673672, 36444.78600520228, 36468.34623366784, 36491.906462133404, 36515.46669059896, 36539.02691906452, 36562.58714753008, 36586.14737599564, 36609.707604461204, 36633.267832926766, 36656.82806139233, 36680.38828985788, 36703.94851832344, 36727.508746789004, 36751.068975254566, 36774.62920372013, 36798.18943218569, 36821.74966065124, 36845.309889116805, 36868.870117582366, 36892.43034604793, 36915.99057451349, 36939.55080297905, 36963.111031444605, 36986.67125991017, 37010.23148837573, 37033.79171684129, 37057.35194530685, 37080.91217377241, 37104.472402237974, 37128.03263070353, 37151.59285916909, 37175.15308763465, 37198.71331610021, 37222.273544565775, 37245.833773031336, 37269.39400149689, 37292.95422996245, 37316.51445842801, 37340.074686893575, 37363.634915359136, 37387.1951438247, 37410.75537229026, 37434.315600755814, 37457.875829221375, 37481.43605768694, 37504.9962861525, 37528.55651461806, 37552.11674308362, 37575.676971549176, 37599.23720001474, 37622.7974284803, 37646.35765694586, 37669.91788541142, 37693.47811387698, 37717.03834234254, 37740.5985708081, 37764.15879927366]}],\n",
              "                        {\"legend\": {\"traceorder\": \"normal\", \"x\": 0, \"y\": 1}, \"template\": {\"data\": {\"bar\": [{\"error_x\": {\"color\": \"#2a3f5f\"}, \"error_y\": {\"color\": \"#2a3f5f\"}, \"marker\": {\"line\": {\"color\": \"#E5ECF6\", \"width\": 0.5}}, \"type\": \"bar\"}], \"barpolar\": [{\"marker\": {\"line\": {\"color\": \"#E5ECF6\", \"width\": 0.5}}, \"type\": \"barpolar\"}], \"carpet\": [{\"aaxis\": {\"endlinecolor\": \"#2a3f5f\", \"gridcolor\": \"white\", \"linecolor\": \"white\", \"minorgridcolor\": \"white\", \"startlinecolor\": \"#2a3f5f\"}, \"baxis\": {\"endlinecolor\": \"#2a3f5f\", \"gridcolor\": \"white\", \"linecolor\": \"white\", \"minorgridcolor\": \"white\", \"startlinecolor\": \"#2a3f5f\"}, \"type\": \"carpet\"}], \"choropleth\": [{\"colorbar\": {\"outlinewidth\": 0, \"ticks\": \"\"}, \"type\": \"choropleth\"}], \"contour\": [{\"colorbar\": {\"outlinewidth\": 0, \"ticks\": \"\"}, \"colorscale\": [[0.0, \"#0d0887\"], [0.1111111111111111, \"#46039f\"], [0.2222222222222222, \"#7201a8\"], [0.3333333333333333, \"#9c179e\"], [0.4444444444444444, \"#bd3786\"], [0.5555555555555556, \"#d8576b\"], [0.6666666666666666, \"#ed7953\"], [0.7777777777777778, \"#fb9f3a\"], [0.8888888888888888, \"#fdca26\"], [1.0, \"#f0f921\"]], \"type\": \"contour\"}], \"contourcarpet\": [{\"colorbar\": {\"outlinewidth\": 0, \"ticks\": \"\"}, \"type\": \"contourcarpet\"}], \"heatmap\": [{\"colorbar\": {\"outlinewidth\": 0, \"ticks\": \"\"}, \"colorscale\": [[0.0, \"#0d0887\"], [0.1111111111111111, \"#46039f\"], [0.2222222222222222, \"#7201a8\"], [0.3333333333333333, \"#9c179e\"], [0.4444444444444444, \"#bd3786\"], [0.5555555555555556, \"#d8576b\"], [0.6666666666666666, \"#ed7953\"], [0.7777777777777778, \"#fb9f3a\"], [0.8888888888888888, \"#fdca26\"], [1.0, \"#f0f921\"]], \"type\": \"heatmap\"}], \"heatmapgl\": [{\"colorbar\": {\"outlinewidth\": 0, \"ticks\": \"\"}, \"colorscale\": [[0.0, \"#0d0887\"], [0.1111111111111111, \"#46039f\"], [0.2222222222222222, \"#7201a8\"], [0.3333333333333333, \"#9c179e\"], [0.4444444444444444, \"#bd3786\"], [0.5555555555555556, \"#d8576b\"], [0.6666666666666666, \"#ed7953\"], [0.7777777777777778, \"#fb9f3a\"], [0.8888888888888888, \"#fdca26\"], [1.0, \"#f0f921\"]], \"type\": \"heatmapgl\"}], \"histogram\": [{\"marker\": {\"colorbar\": {\"outlinewidth\": 0, \"ticks\": \"\"}}, \"type\": \"histogram\"}], \"histogram2d\": [{\"colorbar\": {\"outlinewidth\": 0, \"ticks\": \"\"}, \"colorscale\": [[0.0, \"#0d0887\"], [0.1111111111111111, \"#46039f\"], [0.2222222222222222, \"#7201a8\"], [0.3333333333333333, \"#9c179e\"], [0.4444444444444444, \"#bd3786\"], [0.5555555555555556, \"#d8576b\"], [0.6666666666666666, \"#ed7953\"], [0.7777777777777778, \"#fb9f3a\"], [0.8888888888888888, \"#fdca26\"], [1.0, \"#f0f921\"]], \"type\": \"histogram2d\"}], \"histogram2dcontour\": [{\"colorbar\": {\"outlinewidth\": 0, \"ticks\": \"\"}, \"colorscale\": [[0.0, \"#0d0887\"], [0.1111111111111111, \"#46039f\"], [0.2222222222222222, \"#7201a8\"], [0.3333333333333333, \"#9c179e\"], [0.4444444444444444, \"#bd3786\"], [0.5555555555555556, \"#d8576b\"], [0.6666666666666666, \"#ed7953\"], [0.7777777777777778, \"#fb9f3a\"], [0.8888888888888888, \"#fdca26\"], [1.0, \"#f0f921\"]], \"type\": \"histogram2dcontour\"}], \"mesh3d\": [{\"colorbar\": {\"outlinewidth\": 0, \"ticks\": \"\"}, \"type\": \"mesh3d\"}], \"parcoords\": [{\"line\": {\"colorbar\": {\"outlinewidth\": 0, \"ticks\": \"\"}}, \"type\": \"parcoords\"}], \"pie\": [{\"automargin\": true, \"type\": \"pie\"}], \"scatter\": [{\"marker\": {\"colorbar\": {\"outlinewidth\": 0, \"ticks\": \"\"}}, \"type\": \"scatter\"}], \"scatter3d\": [{\"line\": {\"colorbar\": {\"outlinewidth\": 0, \"ticks\": \"\"}}, \"marker\": {\"colorbar\": {\"outlinewidth\": 0, \"ticks\": \"\"}}, \"type\": \"scatter3d\"}], \"scattercarpet\": [{\"marker\": {\"colorbar\": {\"outlinewidth\": 0, \"ticks\": \"\"}}, \"type\": \"scattercarpet\"}], \"scattergeo\": [{\"marker\": {\"colorbar\": {\"outlinewidth\": 0, \"ticks\": \"\"}}, \"type\": \"scattergeo\"}], \"scattergl\": [{\"marker\": {\"colorbar\": {\"outlinewidth\": 0, \"ticks\": \"\"}}, \"type\": \"scattergl\"}], \"scattermapbox\": [{\"marker\": {\"colorbar\": {\"outlinewidth\": 0, \"ticks\": \"\"}}, \"type\": \"scattermapbox\"}], \"scatterpolar\": [{\"marker\": {\"colorbar\": {\"outlinewidth\": 0, \"ticks\": \"\"}}, \"type\": \"scatterpolar\"}], \"scatterpolargl\": [{\"marker\": {\"colorbar\": {\"outlinewidth\": 0, \"ticks\": \"\"}}, \"type\": \"scatterpolargl\"}], \"scatterternary\": [{\"marker\": {\"colorbar\": {\"outlinewidth\": 0, \"ticks\": \"\"}}, \"type\": \"scatterternary\"}], \"surface\": [{\"colorbar\": {\"outlinewidth\": 0, \"ticks\": \"\"}, \"colorscale\": [[0.0, \"#0d0887\"], [0.1111111111111111, \"#46039f\"], [0.2222222222222222, \"#7201a8\"], [0.3333333333333333, \"#9c179e\"], [0.4444444444444444, \"#bd3786\"], [0.5555555555555556, \"#d8576b\"], [0.6666666666666666, \"#ed7953\"], [0.7777777777777778, \"#fb9f3a\"], [0.8888888888888888, \"#fdca26\"], [1.0, \"#f0f921\"]], \"type\": \"surface\"}], \"table\": [{\"cells\": {\"fill\": {\"color\": \"#EBF0F8\"}, \"line\": {\"color\": \"white\"}}, \"header\": {\"fill\": {\"color\": \"#C8D4E3\"}, \"line\": {\"color\": \"white\"}}, \"type\": \"table\"}]}, \"layout\": {\"annotationdefaults\": {\"arrowcolor\": \"#2a3f5f\", \"arrowhead\": 0, \"arrowwidth\": 1}, \"coloraxis\": {\"colorbar\": {\"outlinewidth\": 0, \"ticks\": \"\"}}, \"colorscale\": {\"diverging\": [[0, \"#8e0152\"], [0.1, \"#c51b7d\"], [0.2, \"#de77ae\"], [0.3, \"#f1b6da\"], [0.4, \"#fde0ef\"], [0.5, \"#f7f7f7\"], [0.6, \"#e6f5d0\"], [0.7, \"#b8e186\"], [0.8, \"#7fbc41\"], [0.9, \"#4d9221\"], [1, \"#276419\"]], \"sequential\": [[0.0, \"#0d0887\"], [0.1111111111111111, \"#46039f\"], [0.2222222222222222, \"#7201a8\"], [0.3333333333333333, \"#9c179e\"], [0.4444444444444444, \"#bd3786\"], [0.5555555555555556, \"#d8576b\"], [0.6666666666666666, \"#ed7953\"], [0.7777777777777778, \"#fb9f3a\"], [0.8888888888888888, \"#fdca26\"], [1.0, \"#f0f921\"]], \"sequentialminus\": [[0.0, \"#0d0887\"], [0.1111111111111111, \"#46039f\"], [0.2222222222222222, \"#7201a8\"], [0.3333333333333333, \"#9c179e\"], [0.4444444444444444, \"#bd3786\"], [0.5555555555555556, \"#d8576b\"], [0.6666666666666666, \"#ed7953\"], [0.7777777777777778, \"#fb9f3a\"], [0.8888888888888888, \"#fdca26\"], [1.0, \"#f0f921\"]]}, \"colorway\": [\"#636efa\", \"#EF553B\", \"#00cc96\", \"#ab63fa\", \"#FFA15A\", \"#19d3f3\", \"#FF6692\", \"#B6E880\", \"#FF97FF\", \"#FECB52\"], \"font\": {\"color\": \"#2a3f5f\"}, \"geo\": {\"bgcolor\": \"white\", \"lakecolor\": \"white\", \"landcolor\": \"#E5ECF6\", \"showlakes\": true, \"showland\": true, \"subunitcolor\": \"white\"}, \"hoverlabel\": {\"align\": \"left\"}, \"hovermode\": \"closest\", \"mapbox\": {\"style\": \"light\"}, \"paper_bgcolor\": \"white\", \"plot_bgcolor\": \"#E5ECF6\", \"polar\": {\"angularaxis\": {\"gridcolor\": \"white\", \"linecolor\": \"white\", \"ticks\": \"\"}, \"bgcolor\": \"#E5ECF6\", \"radialaxis\": {\"gridcolor\": \"white\", \"linecolor\": \"white\", \"ticks\": \"\"}}, \"scene\": {\"xaxis\": {\"backgroundcolor\": \"#E5ECF6\", \"gridcolor\": \"white\", \"gridwidth\": 2, \"linecolor\": \"white\", \"showbackground\": true, \"ticks\": \"\", \"zerolinecolor\": \"white\"}, \"yaxis\": {\"backgroundcolor\": \"#E5ECF6\", \"gridcolor\": \"white\", \"gridwidth\": 2, \"linecolor\": \"white\", \"showbackground\": true, \"ticks\": \"\", \"zerolinecolor\": \"white\"}, \"zaxis\": {\"backgroundcolor\": \"#E5ECF6\", \"gridcolor\": \"white\", \"gridwidth\": 2, \"linecolor\": \"white\", \"showbackground\": true, \"ticks\": \"\", \"zerolinecolor\": \"white\"}}, \"shapedefaults\": {\"line\": {\"color\": \"#2a3f5f\"}}, \"ternary\": {\"aaxis\": {\"gridcolor\": \"white\", \"linecolor\": \"white\", \"ticks\": \"\"}, \"baxis\": {\"gridcolor\": \"white\", \"linecolor\": \"white\", \"ticks\": \"\"}, \"bgcolor\": \"#E5ECF6\", \"caxis\": {\"gridcolor\": \"white\", \"linecolor\": \"white\", \"ticks\": \"\"}}, \"title\": {\"x\": 0.05}, \"xaxis\": {\"automargin\": true, \"gridcolor\": \"white\", \"linecolor\": \"white\", \"ticks\": \"\", \"title\": {\"standoff\": 15}, \"zerolinecolor\": \"white\", \"zerolinewidth\": 2}, \"yaxis\": {\"automargin\": true, \"gridcolor\": \"white\", \"linecolor\": \"white\", \"ticks\": \"\", \"title\": {\"standoff\": 15}, \"zerolinecolor\": \"white\", \"zerolinewidth\": 2}}}, \"title\": {\"text\": \"Death Cases ARIMA Model Prediction\"}, \"xaxis\": {\"title\": {\"text\": \"Date\"}}, \"yaxis\": {\"title\": {\"text\": \"Death Cases\"}}},\n",
              "                        {\"responsive\": true}\n",
              "                    ).then(function(){\n",
              "                            \n",
              "var gd = document.getElementById('738791b3-0824-4f49-9ef6-a1e5a56b4290');\n",
              "var x = new MutationObserver(function (mutations, observer) {{\n",
              "        var display = window.getComputedStyle(gd).display;\n",
              "        if (!display || display === 'none') {{\n",
              "            console.log([gd, 'removed!']);\n",
              "            Plotly.purge(gd);\n",
              "            observer.disconnect();\n",
              "        }}\n",
              "}});\n",
              "\n",
              "// Listen for the removal of the full notebook cells\n",
              "var notebookContainer = gd.closest('#notebook-container');\n",
              "if (notebookContainer) {{\n",
              "    x.observe(notebookContainer, {childList: true});\n",
              "}}\n",
              "\n",
              "// Listen for the clearing of the current output cell\n",
              "var outputEl = gd.closest('.output');\n",
              "if (outputEl) {{\n",
              "    x.observe(outputEl, {childList: true});\n",
              "}}\n",
              "\n",
              "                        })\n",
              "                };\n",
              "                \n",
              "            </script>\n",
              "        </div>\n",
              "</body>\n",
              "</html>"
            ]
          },
          "metadata": {}
        }
      ]
    }
  ]
}